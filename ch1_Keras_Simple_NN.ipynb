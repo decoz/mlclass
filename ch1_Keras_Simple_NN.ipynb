{
  "nbformat": 4,
  "nbformat_minor": 0,
  "metadata": {
    "kernelspec": {
      "display_name": "Python 3",
      "language": "python",
      "name": "python3"
    },
    "language_info": {
      "codemirror_mode": {
        "name": "ipython",
        "version": 3
      },
      "file_extension": ".py",
      "mimetype": "text/x-python",
      "name": "python",
      "nbconvert_exporter": "python",
      "pygments_lexer": "ipython3",
      "version": "3.5.2"
    },
    "colab": {
      "name": "ch1 Keras_Simple_NN.ipynb",
      "provenance": [],
      "toc_visible": true
    }
  },
  "cells": [
    {
      "cell_type": "markdown",
      "metadata": {
        "id": "NkpPJSx74Ylq",
        "colab_type": "text"
      },
      "source": [
        "# 케라스로 신경망 작성하기\n",
        "\n",
        "케라스의 신경망 학습은 크게 두단계로 이뤄진다. \n",
        "\n",
        "- 모델 생성\n",
        "- 모델 학습 / 검증\n",
        "\n",
        "모델이란 신경망의 구성을 의미한다. 일반적인 입력층, 은닉층, 출력층등의 각각의 계층과 이것을 학습하기 위한 파라미터등이 이 모델에 포함된다. \n",
        "\n",
        "<hr style=\"height:2px\" > \n",
        "\n",
        "## 가장 심플한 신경망\n",
        "\n",
        "다음은 가장 간단한 2x2 신경망의 예를 하나 생성해 보았다. \n"
      ]
    },
    {
      "cell_type": "code",
      "metadata": {
        "id": "OtnadGos4Yls",
        "colab_type": "code",
        "colab": {}
      },
      "source": [
        "import tensorflow as tf\n",
        "from tensorflow import keras\n",
        "from tensorflow.keras import layers\n",
        "\n",
        "#keras.backend.clear_session()\n",
        "model = keras.models.Sequential()\n",
        "model.add(layers.Dense(2, activation = 'sigmoid', input_shape = (2,))) \n",
        "model.add(layers.Dense(2, activation = 'softmax'))\n",
        "model.compile(optimizer = 'rmsprop', loss = 'categorical_crossentropy', metrics = ['acc', 'mae'])      \n"
      ],
      "execution_count": 0,
      "outputs": []
    },
    {
      "cell_type": "markdown",
      "metadata": {
        "id": "41d_KSbw4Ylw",
        "colab_type": "text"
      },
      "source": [
        "다음은 이를 학습하는 예이다. "
      ]
    },
    {
      "cell_type": "code",
      "metadata": {
        "id": "Is1eUw3i4Ylx",
        "colab_type": "code",
        "outputId": "38c9951b-6f70-4149-e024-e686fcdc3c8e",
        "colab": {
          "base_uri": "https://localhost:8080/",
          "height": 1000
        }
      },
      "source": [
        "import numpy as np\n",
        "x = np.array([[0,1],[1,0]]).astype(\"float32\")\n",
        "y = np.array([[1,0],[0,1]]).astype(\"float32\")\n",
        "hist = model.fit(x,y, epochs = 100, batch_size = 3)"
      ],
      "execution_count": 10,
      "outputs": [
        {
          "output_type": "stream",
          "text": [
            "Epoch 1/100\n",
            "1/1 [==============================] - 0s 2ms/step - loss: 0.8971 - acc: 0.5000 - mae: 0.4653\n",
            "Epoch 2/100\n",
            "1/1 [==============================] - 0s 3ms/step - loss: 0.8913 - acc: 0.5000 - mae: 0.4648\n",
            "Epoch 3/100\n",
            "1/1 [==============================] - 0s 4ms/step - loss: 0.8871 - acc: 0.5000 - mae: 0.4644\n",
            "Epoch 4/100\n",
            "1/1 [==============================] - 0s 2ms/step - loss: 0.8837 - acc: 0.5000 - mae: 0.4641\n",
            "Epoch 5/100\n",
            "1/1 [==============================] - 0s 2ms/step - loss: 0.8806 - acc: 0.5000 - mae: 0.4638\n",
            "Epoch 6/100\n",
            "1/1 [==============================] - 0s 5ms/step - loss: 0.8778 - acc: 0.5000 - mae: 0.4635\n",
            "Epoch 7/100\n",
            "1/1 [==============================] - 0s 2ms/step - loss: 0.8752 - acc: 0.5000 - mae: 0.4633\n",
            "Epoch 8/100\n",
            "1/1 [==============================] - 0s 3ms/step - loss: 0.8728 - acc: 0.5000 - mae: 0.4630\n",
            "Epoch 9/100\n",
            "1/1 [==============================] - 0s 3ms/step - loss: 0.8705 - acc: 0.5000 - mae: 0.4628\n",
            "Epoch 10/100\n",
            "1/1 [==============================] - 0s 2ms/step - loss: 0.8682 - acc: 0.5000 - mae: 0.4626\n",
            "Epoch 11/100\n",
            "1/1 [==============================] - 0s 5ms/step - loss: 0.8661 - acc: 0.5000 - mae: 0.4624\n",
            "Epoch 12/100\n",
            "1/1 [==============================] - 0s 3ms/step - loss: 0.8640 - acc: 0.5000 - mae: 0.4622\n",
            "Epoch 13/100\n",
            "1/1 [==============================] - 0s 2ms/step - loss: 0.8620 - acc: 0.5000 - mae: 0.4620\n",
            "Epoch 14/100\n",
            "1/1 [==============================] - 0s 2ms/step - loss: 0.8600 - acc: 0.5000 - mae: 0.4618\n",
            "Epoch 15/100\n",
            "1/1 [==============================] - 0s 3ms/step - loss: 0.8580 - acc: 0.5000 - mae: 0.4616\n",
            "Epoch 16/100\n",
            "1/1 [==============================] - 0s 3ms/step - loss: 0.8561 - acc: 0.5000 - mae: 0.4614\n",
            "Epoch 17/100\n",
            "1/1 [==============================] - 0s 3ms/step - loss: 0.8542 - acc: 0.5000 - mae: 0.4612\n",
            "Epoch 18/100\n",
            "1/1 [==============================] - 0s 3ms/step - loss: 0.8523 - acc: 0.5000 - mae: 0.4610\n",
            "Epoch 19/100\n",
            "1/1 [==============================] - 0s 2ms/step - loss: 0.8505 - acc: 0.5000 - mae: 0.4608\n",
            "Epoch 20/100\n",
            "1/1 [==============================] - 0s 3ms/step - loss: 0.8487 - acc: 0.5000 - mae: 0.4607\n",
            "Epoch 21/100\n",
            "1/1 [==============================] - 0s 3ms/step - loss: 0.8469 - acc: 0.5000 - mae: 0.4605\n",
            "Epoch 22/100\n",
            "1/1 [==============================] - 0s 3ms/step - loss: 0.8451 - acc: 0.5000 - mae: 0.4603\n",
            "Epoch 23/100\n",
            "1/1 [==============================] - 0s 2ms/step - loss: 0.8434 - acc: 0.5000 - mae: 0.4601\n",
            "Epoch 24/100\n",
            "1/1 [==============================] - 0s 4ms/step - loss: 0.8416 - acc: 0.5000 - mae: 0.4599\n",
            "Epoch 25/100\n",
            "1/1 [==============================] - 0s 2ms/step - loss: 0.8399 - acc: 0.5000 - mae: 0.4598\n",
            "Epoch 26/100\n",
            "1/1 [==============================] - 0s 3ms/step - loss: 0.8382 - acc: 0.5000 - mae: 0.4596\n",
            "Epoch 27/100\n",
            "1/1 [==============================] - 0s 2ms/step - loss: 0.8365 - acc: 0.5000 - mae: 0.4594\n",
            "Epoch 28/100\n",
            "1/1 [==============================] - 0s 5ms/step - loss: 0.8348 - acc: 0.5000 - mae: 0.4592\n",
            "Epoch 29/100\n",
            "1/1 [==============================] - 0s 3ms/step - loss: 0.8331 - acc: 0.5000 - mae: 0.4591\n",
            "Epoch 30/100\n",
            "1/1 [==============================] - 0s 3ms/step - loss: 0.8314 - acc: 0.5000 - mae: 0.4589\n",
            "Epoch 31/100\n",
            "1/1 [==============================] - 0s 3ms/step - loss: 0.8298 - acc: 0.5000 - mae: 0.4587\n",
            "Epoch 32/100\n",
            "1/1 [==============================] - 0s 2ms/step - loss: 0.8281 - acc: 0.5000 - mae: 0.4585\n",
            "Epoch 33/100\n",
            "1/1 [==============================] - 0s 4ms/step - loss: 0.8265 - acc: 0.5000 - mae: 0.4584\n",
            "Epoch 34/100\n",
            "1/1 [==============================] - 0s 4ms/step - loss: 0.8248 - acc: 0.5000 - mae: 0.4582\n",
            "Epoch 35/100\n",
            "1/1 [==============================] - 0s 4ms/step - loss: 0.8232 - acc: 0.5000 - mae: 0.4580\n",
            "Epoch 36/100\n",
            "1/1 [==============================] - 0s 4ms/step - loss: 0.8216 - acc: 0.5000 - mae: 0.4578\n",
            "Epoch 37/100\n",
            "1/1 [==============================] - 0s 3ms/step - loss: 0.8200 - acc: 0.5000 - mae: 0.4577\n",
            "Epoch 38/100\n",
            "1/1 [==============================] - 0s 3ms/step - loss: 0.8184 - acc: 0.5000 - mae: 0.4575\n",
            "Epoch 39/100\n",
            "1/1 [==============================] - 0s 3ms/step - loss: 0.8168 - acc: 0.5000 - mae: 0.4573\n",
            "Epoch 40/100\n",
            "1/1 [==============================] - 0s 2ms/step - loss: 0.8152 - acc: 0.5000 - mae: 0.4571\n",
            "Epoch 41/100\n",
            "1/1 [==============================] - 0s 3ms/step - loss: 0.8136 - acc: 0.5000 - mae: 0.4570\n",
            "Epoch 42/100\n",
            "1/1 [==============================] - 0s 3ms/step - loss: 0.8120 - acc: 0.5000 - mae: 0.4568\n",
            "Epoch 43/100\n",
            "1/1 [==============================] - 0s 3ms/step - loss: 0.8104 - acc: 0.5000 - mae: 0.4566\n",
            "Epoch 44/100\n",
            "1/1 [==============================] - 0s 3ms/step - loss: 0.8088 - acc: 0.5000 - mae: 0.4564\n",
            "Epoch 45/100\n",
            "1/1 [==============================] - 0s 2ms/step - loss: 0.8073 - acc: 0.5000 - mae: 0.4563\n",
            "Epoch 46/100\n",
            "1/1 [==============================] - 0s 3ms/step - loss: 0.8057 - acc: 0.5000 - mae: 0.4561\n",
            "Epoch 47/100\n",
            "1/1 [==============================] - 0s 3ms/step - loss: 0.8042 - acc: 0.5000 - mae: 0.4559\n",
            "Epoch 48/100\n",
            "1/1 [==============================] - 0s 3ms/step - loss: 0.8026 - acc: 0.5000 - mae: 0.4557\n",
            "Epoch 49/100\n",
            "1/1 [==============================] - 0s 4ms/step - loss: 0.8011 - acc: 0.5000 - mae: 0.4556\n",
            "Epoch 50/100\n",
            "1/1 [==============================] - 0s 3ms/step - loss: 0.7995 - acc: 0.5000 - mae: 0.4554\n",
            "Epoch 51/100\n",
            "1/1 [==============================] - 0s 3ms/step - loss: 0.7980 - acc: 0.5000 - mae: 0.4552\n",
            "Epoch 52/100\n",
            "1/1 [==============================] - 0s 3ms/step - loss: 0.7965 - acc: 0.5000 - mae: 0.4551\n",
            "Epoch 53/100\n",
            "1/1 [==============================] - 0s 3ms/step - loss: 0.7949 - acc: 0.5000 - mae: 0.4549\n",
            "Epoch 54/100\n",
            "1/1 [==============================] - 0s 3ms/step - loss: 0.7934 - acc: 0.5000 - mae: 0.4547\n",
            "Epoch 55/100\n",
            "1/1 [==============================] - 0s 3ms/step - loss: 0.7919 - acc: 0.5000 - mae: 0.4545\n",
            "Epoch 56/100\n",
            "1/1 [==============================] - 0s 2ms/step - loss: 0.7904 - acc: 0.5000 - mae: 0.4544\n",
            "Epoch 57/100\n",
            "1/1 [==============================] - 0s 2ms/step - loss: 0.7889 - acc: 0.5000 - mae: 0.4542\n",
            "Epoch 58/100\n",
            "1/1 [==============================] - 0s 2ms/step - loss: 0.7874 - acc: 0.5000 - mae: 0.4540\n",
            "Epoch 59/100\n",
            "1/1 [==============================] - 0s 3ms/step - loss: 0.7859 - acc: 0.5000 - mae: 0.4538\n",
            "Epoch 60/100\n",
            "1/1 [==============================] - 0s 3ms/step - loss: 0.7844 - acc: 0.5000 - mae: 0.4537\n",
            "Epoch 61/100\n",
            "1/1 [==============================] - 0s 3ms/step - loss: 0.7829 - acc: 0.5000 - mae: 0.4535\n",
            "Epoch 62/100\n",
            "1/1 [==============================] - 0s 2ms/step - loss: 0.7815 - acc: 0.5000 - mae: 0.4533\n",
            "Epoch 63/100\n",
            "1/1 [==============================] - 0s 3ms/step - loss: 0.7800 - acc: 0.5000 - mae: 0.4532\n",
            "Epoch 64/100\n",
            "1/1 [==============================] - 0s 2ms/step - loss: 0.7785 - acc: 0.5000 - mae: 0.4530\n",
            "Epoch 65/100\n",
            "1/1 [==============================] - 0s 2ms/step - loss: 0.7771 - acc: 0.5000 - mae: 0.4528\n",
            "Epoch 66/100\n",
            "1/1 [==============================] - 0s 3ms/step - loss: 0.7756 - acc: 0.5000 - mae: 0.4526\n",
            "Epoch 67/100\n",
            "1/1 [==============================] - 0s 3ms/step - loss: 0.7742 - acc: 0.5000 - mae: 0.4525\n",
            "Epoch 68/100\n",
            "1/1 [==============================] - 0s 3ms/step - loss: 0.7727 - acc: 0.5000 - mae: 0.4523\n",
            "Epoch 69/100\n",
            "1/1 [==============================] - 0s 3ms/step - loss: 0.7713 - acc: 0.5000 - mae: 0.4521\n",
            "Epoch 70/100\n",
            "1/1 [==============================] - 0s 3ms/step - loss: 0.7698 - acc: 0.5000 - mae: 0.4520\n",
            "Epoch 71/100\n",
            "1/1 [==============================] - 0s 2ms/step - loss: 0.7684 - acc: 0.5000 - mae: 0.4518\n",
            "Epoch 72/100\n",
            "1/1 [==============================] - 0s 2ms/step - loss: 0.7670 - acc: 0.5000 - mae: 0.4516\n",
            "Epoch 73/100\n",
            "1/1 [==============================] - 0s 3ms/step - loss: 0.7655 - acc: 0.5000 - mae: 0.4514\n",
            "Epoch 74/100\n",
            "1/1 [==============================] - 0s 2ms/step - loss: 0.7641 - acc: 0.5000 - mae: 0.4513\n",
            "Epoch 75/100\n",
            "1/1 [==============================] - 0s 2ms/step - loss: 0.7627 - acc: 0.5000 - mae: 0.4511\n",
            "Epoch 76/100\n",
            "1/1 [==============================] - 0s 3ms/step - loss: 0.7613 - acc: 0.5000 - mae: 0.4509\n",
            "Epoch 77/100\n",
            "1/1 [==============================] - 0s 3ms/step - loss: 0.7599 - acc: 0.5000 - mae: 0.4508\n",
            "Epoch 78/100\n",
            "1/1 [==============================] - 0s 3ms/step - loss: 0.7585 - acc: 0.5000 - mae: 0.4506\n",
            "Epoch 79/100\n",
            "1/1 [==============================] - 0s 3ms/step - loss: 0.7571 - acc: 0.5000 - mae: 0.4504\n",
            "Epoch 80/100\n",
            "1/1 [==============================] - 0s 4ms/step - loss: 0.7557 - acc: 0.5000 - mae: 0.4503\n",
            "Epoch 81/100\n",
            "1/1 [==============================] - 0s 3ms/step - loss: 0.7543 - acc: 0.5000 - mae: 0.4501\n",
            "Epoch 82/100\n",
            "1/1 [==============================] - 0s 2ms/step - loss: 0.7530 - acc: 0.5000 - mae: 0.4499\n",
            "Epoch 83/100\n",
            "1/1 [==============================] - 0s 3ms/step - loss: 0.7516 - acc: 0.5000 - mae: 0.4497\n",
            "Epoch 84/100\n",
            "1/1 [==============================] - 0s 2ms/step - loss: 0.7502 - acc: 0.5000 - mae: 0.4496\n",
            "Epoch 85/100\n",
            "1/1 [==============================] - 0s 2ms/step - loss: 0.7489 - acc: 0.5000 - mae: 0.4494\n",
            "Epoch 86/100\n",
            "1/1 [==============================] - 0s 2ms/step - loss: 0.7475 - acc: 0.5000 - mae: 0.4492\n",
            "Epoch 87/100\n",
            "1/1 [==============================] - 0s 3ms/step - loss: 0.7461 - acc: 0.5000 - mae: 0.4491\n",
            "Epoch 88/100\n",
            "1/1 [==============================] - 0s 2ms/step - loss: 0.7448 - acc: 0.5000 - mae: 0.4489\n",
            "Epoch 89/100\n",
            "1/1 [==============================] - 0s 3ms/step - loss: 0.7434 - acc: 0.5000 - mae: 0.4487\n",
            "Epoch 90/100\n",
            "1/1 [==============================] - 0s 3ms/step - loss: 0.7421 - acc: 0.5000 - mae: 0.4486\n",
            "Epoch 91/100\n",
            "1/1 [==============================] - 0s 4ms/step - loss: 0.7408 - acc: 0.5000 - mae: 0.4484\n",
            "Epoch 92/100\n",
            "1/1 [==============================] - 0s 3ms/step - loss: 0.7394 - acc: 0.5000 - mae: 0.4482\n",
            "Epoch 93/100\n",
            "1/1 [==============================] - 0s 3ms/step - loss: 0.7381 - acc: 0.5000 - mae: 0.4481\n",
            "Epoch 94/100\n",
            "1/1 [==============================] - 0s 10ms/step - loss: 0.7368 - acc: 0.5000 - mae: 0.4479\n",
            "Epoch 95/100\n",
            "1/1 [==============================] - 0s 3ms/step - loss: 0.7355 - acc: 0.5000 - mae: 0.4477\n",
            "Epoch 96/100\n",
            "1/1 [==============================] - 0s 3ms/step - loss: 0.7342 - acc: 0.5000 - mae: 0.4475\n",
            "Epoch 97/100\n",
            "1/1 [==============================] - 0s 2ms/step - loss: 0.7329 - acc: 0.5000 - mae: 0.4474\n",
            "Epoch 98/100\n",
            "1/1 [==============================] - 0s 2ms/step - loss: 0.7316 - acc: 0.5000 - mae: 0.4472\n",
            "Epoch 99/100\n",
            "1/1 [==============================] - 0s 3ms/step - loss: 0.7303 - acc: 0.5000 - mae: 0.4470\n",
            "Epoch 100/100\n",
            "1/1 [==============================] - 0s 2ms/step - loss: 0.7290 - acc: 0.5000 - mae: 0.4469\n"
          ],
          "name": "stdout"
        }
      ]
    },
    {
      "cell_type": "markdown",
      "metadata": {
        "id": "rwwBr_Lk4Ylz",
        "colab_type": "text"
      },
      "source": [
        "이제 위의 예제를 하나씩 분석해서 신경망 학습의 절차를 보도록 하자. "
      ]
    },
    {
      "cell_type": "markdown",
      "metadata": {
        "id": "CRGMaTGP4Yl0",
        "colab_type": "text"
      },
      "source": [
        "<hr>\n",
        "\n",
        "# 모델 생성\n",
        "\n",
        "케라스의 모델 생성은 기본적으로 다음과 같은 과정을 거친다. \n",
        "\n",
        "1. 모델을 선언\n",
        "2. 모델에 레이어를 추가 \n",
        "3. 모델 컴파일\n",
        "\n",
        "\n",
        "### keras 라이브러리 불러오기\n",
        "\n",
        "layer는 여러번 쓰게 되므로 keras.layers  를 쓰기 귀찮아서 직접 임포트하였다. "
      ]
    },
    {
      "cell_type": "code",
      "metadata": {
        "id": "F3S2o5BD4Yl1",
        "colab_type": "code",
        "colab": {}
      },
      "source": [
        "import keras \n",
        "from keras import layers"
      ],
      "execution_count": 0,
      "outputs": []
    },
    {
      "cell_type": "markdown",
      "metadata": {
        "id": "3tdb1N1V4Yl4",
        "colab_type": "text"
      },
      "source": [
        "### 간단한 순차 모델 선언\n",
        "\n",
        "신경망의 가장 기본이 되는 구조는 순차적으로 레이어를 배치하고 역전파 모델로 이를 학습하는 방법이다. 사실 현대에는 다양한 파생구조가 존재하지만 우선은 이러한 순차모델부터 익혀보자. "
      ]
    },
    {
      "cell_type": "code",
      "metadata": {
        "id": "GchYbQF94Yl5",
        "colab_type": "code",
        "colab": {}
      },
      "source": [
        "model = keras.models.Sequential() "
      ],
      "execution_count": 0,
      "outputs": []
    },
    {
      "cell_type": "markdown",
      "metadata": {
        "id": "iqFLAm684Yl7",
        "colab_type": "text"
      },
      "source": [
        "이제  model 이라는 변수가 신경망을 의미하게된다."
      ]
    },
    {
      "cell_type": "markdown",
      "metadata": {
        "id": "ZAZx87yt4Yl8",
        "colab_type": "text"
      },
      "source": [
        "### 입력 레이어 추가 \n",
        "\n",
        "가장 간단한 모델로 입력값 두개를 받는 입력 레이어를 생성한다. 이는 model.add 를 이용해 층을 추가함으로서 이루어진다. \n",
        "\n",
        "가장 초기부터 널리 사용되는 층은 입력값을 가중치를 곱해 합산후에 필터를 거치는 방식이다. 이러한 층을 케라스에서는 \n",
        "layers.Dense 로 정의한다. Dense 계층은 기본적으로 node 숫자를 요구한다. \n",
        "\n",
        "    layers.Dense([노드숫자],.. 옵션들)\n",
        "\n",
        "단 중간계층은 전층의 출력에 의해 자동으로 입력이 주어지지만 입력계층은 입력값의 형태를 같이 옵션으로 넣어줘야한다. 이는 다음과 같은 옵션을 사용한다. 아래의 옵션은 2개의 값으로 이뤄진 1차원 배열 형태로 입력값을 끊어서 입력받음을 의미한다. \n",
        "\n",
        "    input_shape = (2,)\n",
        "\n",
        "activation 옵션은 합산된 입력값을 다시 출력값으로 전환하는 과정에서 사용하는 함수로서 이를 활성함수라고 한다. 가장 유명한 함수로 sigmoid 가 있지만 속도등의 이유로 relu 가 기본값으로 입력되어있다. \n",
        "\n",
        "    activation = 'relu' \n",
        "\n",
        "이제 위의 예에서 사용된 입력 계층을 한번 살펴보자.     "
      ]
    },
    {
      "cell_type": "code",
      "metadata": {
        "id": "atyWctFu4Yl9",
        "colab_type": "code",
        "colab": {}
      },
      "source": [
        "model.add(layers.Dense(2, activation = 'sigmoid', input_shape = (2,))) "
      ],
      "execution_count": 0,
      "outputs": []
    },
    {
      "cell_type": "markdown",
      "metadata": {
        "id": "fMKgWjwT4Yl_",
        "colab_type": "text"
      },
      "source": [
        "### 출력 레이어 추가 \n",
        "\n",
        "출력이나 은닉레이어는 자동으로 input_shape 가 결정되므로 input_shape 옵션은 필요로 하지 안는다. 대신 활성화 함수로서 softmax 를 주로 사용하는데 softmax 는 출력값에서 강한 출력값을 더 강화해주고 작은 출력값은 더 작게 만들어준다. 예를 들어 [0.2, 0.7] 을 [0.1, 0.9] 정도로 차이를 강화하는 효과가 있다. \n",
        "\n",
        "위의 예에서는 2x2 의 신경망이므로 다음과 같이 출력층을 정의하였다. "
      ]
    },
    {
      "cell_type": "code",
      "metadata": {
        "id": "vvGeWiJJ4YmA",
        "colab_type": "code",
        "colab": {}
      },
      "source": [
        "model.add(layers.Dense(2, activation = 'softmax'))"
      ],
      "execution_count": 0,
      "outputs": []
    },
    {
      "cell_type": "markdown",
      "metadata": {
        "id": "a9Js6-7c4YmC",
        "colab_type": "text"
      },
      "source": [
        "### 모델 컴파일 \n",
        "\n",
        "모델을 컴파일하는 이유는 정의된 신경망의 학습 옵션을을 정의하고, 가중치의 초기화를 수행하기 위해서이다.이 모델 컴파일에 필수적인 옵션 요소는 다음과 같다. \n",
        "\n",
        "    optimizer : 가중치를 업데이트하는 방식으로 경사하강법(sgd),adam, rmsprop 등등이 있음\n",
        "    loss : 오차를 계산하는 방식 'categorical_crossentropy' ,'squared_mean_error' 등등이 있음\n",
        "    metircs : loss 이외에 성능 평가를 위한 지표 'acc', 'mae'  등이 있음\n",
        "  \n",
        "metrics 는 여러 지표를 선택하기 위해 배열형태로 입력하여야한다. (예: metrics = ['acc', 'mae'] )\n",
        "    \n"
      ]
    },
    {
      "cell_type": "code",
      "metadata": {
        "id": "evZjyzGi4YmD",
        "colab_type": "code",
        "colab": {}
      },
      "source": [
        "model.compile(optimizer = 'rmsprop', loss = 'categorical_crossentropy', metrics = ['acc'])"
      ],
      "execution_count": 0,
      "outputs": []
    },
    {
      "cell_type": "markdown",
      "metadata": {
        "id": "baptm9CX4YmF",
        "colab_type": "text"
      },
      "source": [
        "### 모델 요약 및 초기화 \n",
        "\n",
        "생성된 모델 정보를 검색하기 위해서는 다음과 같은 함수를 호출하면 된다. \n",
        "\n"
      ]
    },
    {
      "cell_type": "code",
      "metadata": {
        "id": "rdvqKeYD4YmG",
        "colab_type": "code",
        "outputId": "fc7cf039-cec4-4c89-9b3e-cb973f77b5b4",
        "colab": {}
      },
      "source": [
        "model.summary() "
      ],
      "execution_count": 0,
      "outputs": [
        {
          "output_type": "stream",
          "text": [
            "_________________________________________________________________\n",
            "Layer (type)                 Output Shape              Param #   \n",
            "=================================================================\n",
            "dense_1 (Dense)              (None, 2)                 6         \n",
            "_________________________________________________________________\n",
            "dense_2 (Dense)              (None, 2)                 6         \n",
            "_________________________________________________________________\n",
            "dense_3 (Dense)              (None, 2)                 6         \n",
            "=================================================================\n",
            "Total params: 12\n",
            "Trainable params: 12\n",
            "Non-trainable params: 0\n",
            "_________________________________________________________________\n"
          ],
          "name": "stdout"
        },
        {
          "output_type": "stream",
          "text": [
            "/usr/local/lib/python3.5/dist-packages/keras/engine/training.py:490: UserWarning: Discrepancy between trainable weights and collected trainable weights, did you set `model.trainable` without calling `model.compile` after ?\n",
            "  'Discrepancy between trainable weights and collected trainable'\n"
          ],
          "name": "stderr"
        }
      ]
    },
    {
      "cell_type": "markdown",
      "metadata": {
        "id": "3q98f_b54YmJ",
        "colab_type": "text"
      },
      "source": [
        "그런데 주피터에서 작업을 많이 하다보면 모델생성코드를 재실행시 dense 값들이 계속 올라가는 것을 볼 수 있을것이다. 이는 keras 의 밑단이 되는 tensorflow 구조가 계속 누적된다는 의미이며 이것이 학습에 영향을 주는 경우도 있기 때문에 이를 초기화시키려면 다음과 같은 코드를 실행하면 된다. "
      ]
    },
    {
      "cell_type": "code",
      "metadata": {
        "id": "1haal0uX4YmK",
        "colab_type": "code",
        "colab": {}
      },
      "source": [
        "keras.backend.clear_session()"
      ],
      "execution_count": 0,
      "outputs": []
    },
    {
      "cell_type": "markdown",
      "metadata": {
        "id": "vAxeXtOI4YmM",
        "colab_type": "text"
      },
      "source": [
        "\n",
        "<hr> \n",
        "\n",
        "# 데이터 입력 및 학습 실행\n",
        "\n",
        "데이터의 학습은 생각보다 간단하다. model.fit 함수에 입력, 예상 출력 값을 넣어주고 반복시행시 필요한 옵션을 입력하면 된다. \n",
        "\n",
        "    model.fit( [x], [y], 반복 옵션.. ) \n",
        "    \n",
        "\n",
        "### 입력데이터(x)의 생성\n",
        "\n",
        "대부분 파이썬 학습이 그러하듯 케라스도 numpy 데이터를 입력으로 사용한다. 그리고 역시 대부분이 그러하듯 표준데이터는 다음과 같이 전체케이스를  2차원 배열로 한방에 넣는 것을 선호한다. \n",
        "\n",
        "만일 다음과 같은 케이스가 있다고 가정하자. \n",
        "\n",
        "    x : [0,1]  => y : 0\n",
        "    x : [1,0]  => y : 1 \n",
        "\n",
        "이때의 입력데이터 x 는 다음과 같이 정의하면 된다. \n",
        "\n",
        "    np.array( [[0,1], [1,0]] ) \n",
        "  \n",
        "만일 입력값이 3개라면 [[0,0,1], [0,1,0], .. ] 형태가 된다. 그리고 대부분의 x 데이터는 실수값이어야 하므로 최종적으로 x 의 형태는 다음과 같다. "
      ]
    },
    {
      "cell_type": "code",
      "metadata": {
        "id": "1ghAA0Mm4YmN",
        "colab_type": "code",
        "colab": {}
      },
      "source": [
        "x = np.array( [[0,1], [1,0]] ).astype('float32')"
      ],
      "execution_count": 0,
      "outputs": []
    },
    {
      "cell_type": "markdown",
      "metadata": {
        "id": "mwDGM8Se4YmP",
        "colab_type": "text"
      },
      "source": [
        "   \n",
        "### 출력 기대값(y)의 생성\n",
        "\n",
        "분류(classification) 문제의 경우 출력 값은 해당 클래스를 의미하 경우가 많다.  이런 경우 y를 범주형으로 간주하는데 이 경우는 y값이 0과 1으로 표현되었지만 이를 각각 두개의 서로 다른 노드의 출력으로 유도하기 위해 [0,1] [1,0] 으로 표현한다. 이 역시 되도록이면 실수로 표현하는게 좋으므로 다음과 같이 표현한다. \n",
        "       "
      ]
    },
    {
      "cell_type": "code",
      "metadata": {
        "id": "PuctmRYD4YmQ",
        "colab_type": "code",
        "colab": {}
      },
      "source": [
        "y = np.array( [[0,1], [1,0]] ).astype('float32')"
      ],
      "execution_count": 0,
      "outputs": []
    },
    {
      "cell_type": "markdown",
      "metadata": {
        "id": "GcPOmz0x4YmT",
        "colab_type": "text"
      },
      "source": [
        "### 학습 실행 \n",
        "\n",
        "이제 학습을 위해 model.fit을 실행하기 위한 데이터의 준비가 끝났다. 단 실행시 두가지 반복옵션이 필요하다. \n",
        "\n",
        "    epochs : 전체 반복횟수\n",
        "    batch_size : 한번 반복시 읽어들이는 데이터량 \n",
        "    \n",
        "batch_size 는 병렬로 처리되는 케이스 크기로서 작은 입력케이스의 경우 케이스 전체숫자를 한기준으로 하는 경우가 많다. 실제 학습횟수는 케이스의 양은 batch_size * epochs 가 된다.  위의 예제에서는 케이스가 2개이므로 batch_size를 2로 설정하였다.    \n",
        "    "
      ]
    },
    {
      "cell_type": "code",
      "metadata": {
        "id": "UkIVxcn04YmT",
        "colab_type": "code",
        "colab": {}
      },
      "source": [
        "hist = model.fit(x,y, epochs = 1000, batch_size = 2)"
      ],
      "execution_count": 0,
      "outputs": []
    },
    {
      "cell_type": "markdown",
      "metadata": {
        "id": "7tHPfVBv4YmV",
        "colab_type": "text"
      },
      "source": [
        "### <font color = 'red'> 연습문제 1-1 : 다음의 데이터를 학습해보세요\n",
        "    \n",
        "    x : 0,0,1 -> 1\n",
        "    x : 1,0,0 -> 2\n",
        "    x : 0,1,0 -> 3\n",
        "    \n",
        "    "
      ]
    },
    {
      "cell_type": "code",
      "metadata": {
        "id": "saCeuXdH4YmW",
        "colab_type": "code",
        "colab": {}
      },
      "source": [
        "## 연습문제 1-1 코드를 여기서 작성해보세요 "
      ],
      "execution_count": 0,
      "outputs": []
    },
    {
      "cell_type": "markdown",
      "metadata": {
        "id": "voAV5E-54YmZ",
        "colab_type": "text"
      },
      "source": [
        "<hr style=\"height:2px\" > \n",
        "\n",
        "# 은닉층과 xor 문제의 해결\n",
        "\n",
        "xor 문제는 다층신경망 - 역전파 모델을 탄생시킨 모티브가 된 유명한 문제이다. 이는 입력 x 출력 으로 구성되는 단층 신경망으로는 해결이 불가능하며 이를 위해 다층 신경망이 필요하다. \n",
        "\n",
        "이번에는 먼저 문제의 데이터를 정의히자. \n",
        "\n",
        "###  xor문제의 입력데이터 "
      ]
    },
    {
      "cell_type": "code",
      "metadata": {
        "id": "zjz1Xod54Yma",
        "colab_type": "code",
        "colab": {}
      },
      "source": [
        "import numpy as np\n",
        "\n",
        "x = np.array([[0,0], [0,1], [1,0], [1,1]]).astype(\"float32\")\n",
        "y = np.array([[0,1], [1,0], [1,0], [0,1]]).astype(\"float32\")\n"
      ],
      "execution_count": 0,
      "outputs": []
    },
    {
      "cell_type": "markdown",
      "metadata": {
        "id": "mL7tPQyW4Ymc",
        "colab_type": "text"
      },
      "source": [
        "### 은닉층을 포함한 신경망 구성 "
      ]
    },
    {
      "cell_type": "code",
      "metadata": {
        "id": "fjbMMCzt4Ymc",
        "colab_type": "code",
        "colab": {}
      },
      "source": [
        "from keras import models\n",
        "from keras import layers\n",
        "keras.backend.clear_session\n",
        "model = models.Sequential() \n",
        "model.add(layers.Dense(2, activation = 'sigmoid', input_shape = (2,)))\n",
        "model.add(layers.Dense(4))\n",
        "model.add(layers.Dense(2, activation ='softmax'))\n",
        "model.compile(optimizer = 'rmsprop', loss = 'categorical_crossentropy', metrics = ['acc'])"
      ],
      "execution_count": 0,
      "outputs": []
    },
    {
      "cell_type": "markdown",
      "metadata": {
        "id": "JOpQeuzL4Ymf",
        "colab_type": "text"
      },
      "source": [
        "### 학습 실행 \n",
        "\n",
        "xor는 보기보다 난이도가 있는 문제이다. 그러므로 생각보다 많은 epoch를 요구한다. "
      ]
    },
    {
      "cell_type": "code",
      "metadata": {
        "id": "glRMCPsy4Ymg",
        "colab_type": "code",
        "outputId": "661ad9a2-1c4c-413b-a6ec-827a7b9a5783",
        "colab": {}
      },
      "source": [
        "model.fit(x,y, epochs = 1000, batch_size = 4)"
      ],
      "execution_count": 0,
      "outputs": [
        {
          "output_type": "stream",
          "text": [
            "Epoch 1/1000\n",
            "2500/2500 [==============================] - 2s 642us/step - loss: 0.7009 - acc: 0.1880\n",
            "Epoch 2/1000\n",
            "2500/2500 [==============================] - 1s 504us/step - loss: 0.6921 - acc: 0.3384\n",
            "Epoch 3/1000\n",
            "2500/2500 [==============================] - 1s 511us/step - loss: 0.6891 - acc: 0.5020\n",
            "Epoch 4/1000\n",
            "2500/2500 [==============================] - 1s 504us/step - loss: 0.6860 - acc: 0.5732\n",
            "Epoch 5/1000\n",
            "2500/2500 [==============================] - 1s 505us/step - loss: 0.6837 - acc: 0.6116\n",
            "Epoch 6/1000\n",
            "2500/2500 [==============================] - 1s 512us/step - loss: 0.6824 - acc: 0.6400\n",
            "Epoch 7/1000\n",
            "2500/2500 [==============================] - 1s 508us/step - loss: 0.6817 - acc: 0.6480\n",
            "Epoch 8/1000\n",
            "2500/2500 [==============================] - 1s 514us/step - loss: 0.6811 - acc: 0.6536\n",
            "Epoch 9/1000\n",
            "2500/2500 [==============================] - 1s 515us/step - loss: 0.6806 - acc: 0.6620\n",
            "Epoch 10/1000\n",
            "2500/2500 [==============================] - 1s 510us/step - loss: 0.6800 - acc: 0.6684\n",
            "Epoch 11/1000\n",
            "2500/2500 [==============================] - 1s 502us/step - loss: 0.6793 - acc: 0.6720\n",
            "Epoch 12/1000\n",
            "2500/2500 [==============================] - 1s 503us/step - loss: 0.6785 - acc: 0.6804\n",
            "Epoch 13/1000\n",
            "2500/2500 [==============================] - 1s 510us/step - loss: 0.6778 - acc: 0.6760\n",
            "Epoch 14/1000\n",
            "2500/2500 [==============================] - 1s 505us/step - loss: 0.6769 - acc: 0.6864\n",
            "Epoch 15/1000\n",
            "2500/2500 [==============================] - 1s 505us/step - loss: 0.6758 - acc: 0.6852\n",
            "Epoch 16/1000\n",
            "2500/2500 [==============================] - 1s 520us/step - loss: 0.6746 - acc: 0.7024\n",
            "Epoch 17/1000\n",
            "2500/2500 [==============================] - 1s 510us/step - loss: 0.6734 - acc: 0.6988\n",
            "Epoch 18/1000\n",
            "2500/2500 [==============================] - 1s 509us/step - loss: 0.6720 - acc: 0.7072\n",
            "Epoch 19/1000\n",
            "2500/2500 [==============================] - 1s 517us/step - loss: 0.6707 - acc: 0.7116\n",
            "Epoch 20/1000\n",
            "2500/2500 [==============================] - 1s 506us/step - loss: 0.6692 - acc: 0.7176\n",
            "Epoch 21/1000\n",
            "2500/2500 [==============================] - 1s 522us/step - loss: 0.6677 - acc: 0.7240\n",
            "Epoch 22/1000\n",
            "2500/2500 [==============================] - 1s 512us/step - loss: 0.6662 - acc: 0.7296\n",
            "Epoch 23/1000\n",
            "2500/2500 [==============================] - 1s 519us/step - loss: 0.6647 - acc: 0.7316\n",
            "Epoch 24/1000\n",
            "2500/2500 [==============================] - 1s 508us/step - loss: 0.6632 - acc: 0.7400\n",
            "Epoch 25/1000\n",
            "2500/2500 [==============================] - 1s 505us/step - loss: 0.6618 - acc: 0.7356\n",
            "Epoch 26/1000\n",
            "2500/2500 [==============================] - 1s 514us/step - loss: 0.6604 - acc: 0.7544\n",
            "Epoch 27/1000\n",
            "2500/2500 [==============================] - 1s 509us/step - loss: 0.6590 - acc: 0.7544\n",
            "Epoch 28/1000\n",
            "2500/2500 [==============================] - 1s 516us/step - loss: 0.6577 - acc: 0.7644\n",
            "Epoch 29/1000\n",
            "2500/2500 [==============================] - 1s 510us/step - loss: 0.6564 - acc: 0.7700\n",
            "Epoch 30/1000\n",
            "2500/2500 [==============================] - 1s 511us/step - loss: 0.6552 - acc: 0.7740\n",
            "Epoch 31/1000\n",
            "2500/2500 [==============================] - 1s 503us/step - loss: 0.6540 - acc: 0.7676\n",
            "Epoch 32/1000\n",
            "2500/2500 [==============================] - 1s 514us/step - loss: 0.6529 - acc: 0.7740\n",
            "Epoch 33/1000\n",
            "2500/2500 [==============================] - 1s 507us/step - loss: 0.6518 - acc: 0.7704\n",
            "Epoch 34/1000\n",
            "2500/2500 [==============================] - 1s 505us/step - loss: 0.6508 - acc: 0.7904\n",
            "Epoch 35/1000\n",
            "2500/2500 [==============================] - 1s 513us/step - loss: 0.6499 - acc: 0.7860\n",
            "Epoch 36/1000\n",
            "2500/2500 [==============================] - 1s 510us/step - loss: 0.6490 - acc: 0.7976\n",
            "Epoch 37/1000\n",
            "2500/2500 [==============================] - 1s 506us/step - loss: 0.6481 - acc: 0.7980\n",
            "Epoch 38/1000\n",
            "2500/2500 [==============================] - 1s 505us/step - loss: 0.6473 - acc: 0.7988\n",
            "Epoch 39/1000\n",
            "2500/2500 [==============================] - 1s 516us/step - loss: 0.6466 - acc: 0.8096\n",
            "Epoch 40/1000\n",
            "2500/2500 [==============================] - 1s 505us/step - loss: 0.6459 - acc: 0.8008\n",
            "Epoch 41/1000\n",
            "2500/2500 [==============================] - 1s 523us/step - loss: 0.6452 - acc: 0.8112\n",
            "Epoch 42/1000\n",
            "2500/2500 [==============================] - 1s 522us/step - loss: 0.6446 - acc: 0.8124\n",
            "Epoch 43/1000\n",
            "2500/2500 [==============================] - 1s 505us/step - loss: 0.6440 - acc: 0.8176\n",
            "Epoch 44/1000\n",
            "2500/2500 [==============================] - 1s 506us/step - loss: 0.6435 - acc: 0.8180\n",
            "Epoch 45/1000\n",
            "2500/2500 [==============================] - 1s 508us/step - loss: 0.6429 - acc: 0.8160\n",
            "Epoch 46/1000\n",
            "2500/2500 [==============================] - 1s 525us/step - loss: 0.6424 - acc: 0.8328\n",
            "Epoch 47/1000\n",
            "2500/2500 [==============================] - 1s 507us/step - loss: 0.6420 - acc: 0.8272\n",
            "Epoch 48/1000\n",
            "2500/2500 [==============================] - 1s 505us/step - loss: 0.6416 - acc: 0.8420\n",
            "Epoch 49/1000\n",
            "2500/2500 [==============================] - 1s 512us/step - loss: 0.6411 - acc: 0.8348\n",
            "Epoch 50/1000\n",
            "2500/2500 [==============================] - 1s 509us/step - loss: 0.6407 - acc: 0.8388\n",
            "Epoch 51/1000\n",
            "2500/2500 [==============================] - 1s 511us/step - loss: 0.6404 - acc: 0.8396\n",
            "Epoch 52/1000\n",
            "2500/2500 [==============================] - 1s 504us/step - loss: 0.6400 - acc: 0.8384\n",
            "Epoch 53/1000\n",
            "2500/2500 [==============================] - 1s 507us/step - loss: 0.6397 - acc: 0.8576\n",
            "Epoch 54/1000\n",
            "2500/2500 [==============================] - 1s 511us/step - loss: 0.6393 - acc: 0.8256\n",
            "Epoch 55/1000\n",
            "2500/2500 [==============================] - 1s 510us/step - loss: 0.6391 - acc: 0.8492\n",
            "Epoch 56/1000\n",
            "2500/2500 [==============================] - 1s 513us/step - loss: 0.6388 - acc: 0.8372\n",
            "Epoch 57/1000\n",
            "2500/2500 [==============================] - 1s 509us/step - loss: 0.6386 - acc: 0.8460\n",
            "Epoch 58/1000\n",
            "2500/2500 [==============================] - 1s 511us/step - loss: 0.6384 - acc: 0.8528\n",
            "Epoch 59/1000\n",
            "2500/2500 [==============================] - 1s 515us/step - loss: 0.6381 - acc: 0.8660\n",
            "Epoch 60/1000\n",
            "2500/2500 [==============================] - 1s 515us/step - loss: 0.6379 - acc: 0.8552\n",
            "Epoch 61/1000\n",
            "2500/2500 [==============================] - 1s 512us/step - loss: 0.6377 - acc: 0.8696\n",
            "Epoch 62/1000\n",
            "2500/2500 [==============================] - 1s 508us/step - loss: 0.6375 - acc: 0.8620\n",
            "Epoch 63/1000\n",
            "2500/2500 [==============================] - 1s 520us/step - loss: 0.6374 - acc: 0.8644\n",
            "Epoch 64/1000\n",
            "2500/2500 [==============================] - 1s 514us/step - loss: 0.6372 - acc: 0.8596\n",
            "Epoch 65/1000\n",
            "2500/2500 [==============================] - 1s 512us/step - loss: 0.6370 - acc: 0.8616\n",
            "Epoch 66/1000\n",
            "2500/2500 [==============================] - 1s 513us/step - loss: 0.6369 - acc: 0.8592\n",
            "Epoch 67/1000\n",
            "2500/2500 [==============================] - 1s 501us/step - loss: 0.6368 - acc: 0.8692\n",
            "Epoch 68/1000\n",
            "2500/2500 [==============================] - 1s 511us/step - loss: 0.6366 - acc: 0.8668\n",
            "Epoch 69/1000\n",
            "2500/2500 [==============================] - 1s 502us/step - loss: 0.6365 - acc: 0.8712\n",
            "Epoch 70/1000\n",
            "2500/2500 [==============================] - 1s 512us/step - loss: 0.6364 - acc: 0.8656\n",
            "Epoch 71/1000\n",
            "2500/2500 [==============================] - 1s 510us/step - loss: 0.6363 - acc: 0.8756\n",
            "Epoch 72/1000\n",
            "2500/2500 [==============================] - 1s 509us/step - loss: 0.6362 - acc: 0.8700\n",
            "Epoch 73/1000\n",
            "2500/2500 [==============================] - 1s 510us/step - loss: 0.6361 - acc: 0.8712\n",
            "Epoch 74/1000\n",
            "2500/2500 [==============================] - 1s 517us/step - loss: 0.6360 - acc: 0.8776\n",
            "Epoch 75/1000\n",
            "2500/2500 [==============================] - 1s 513us/step - loss: 0.6360 - acc: 0.8844\n",
            "Epoch 76/1000\n",
            "2500/2500 [==============================] - 1s 505us/step - loss: 0.6359 - acc: 0.8848\n",
            "Epoch 77/1000\n",
            "2500/2500 [==============================] - 1s 515us/step - loss: 0.6358 - acc: 0.8840\n",
            "Epoch 78/1000\n",
            "2500/2500 [==============================] - 1s 519us/step - loss: 0.6358 - acc: 0.8796\n",
            "Epoch 79/1000\n",
            "2500/2500 [==============================] - 1s 510us/step - loss: 0.6357 - acc: 0.8888\n",
            "Epoch 80/1000\n",
            "2500/2500 [==============================] - 1s 509us/step - loss: 0.6356 - acc: 0.8764\n",
            "Epoch 81/1000\n"
          ],
          "name": "stdout"
        },
        {
          "output_type": "stream",
          "text": [
            "2500/2500 [==============================] - 1s 517us/step - loss: 0.6356 - acc: 0.8840\n",
            "Epoch 82/1000\n",
            "2500/2500 [==============================] - 1s 513us/step - loss: 0.6355 - acc: 0.8868\n",
            "Epoch 83/1000\n",
            "2500/2500 [==============================] - 1s 507us/step - loss: 0.6355 - acc: 0.8804\n",
            "Epoch 84/1000\n",
            "2500/2500 [==============================] - 1s 508us/step - loss: 0.6354 - acc: 0.8732\n",
            "Epoch 85/1000\n",
            "2500/2500 [==============================] - 1s 515us/step - loss: 0.6354 - acc: 0.8816\n",
            "Epoch 86/1000\n",
            "2500/2500 [==============================] - 1s 518us/step - loss: 0.6354 - acc: 0.8876\n",
            "Epoch 87/1000\n",
            "2500/2500 [==============================] - 1s 516us/step - loss: 0.6354 - acc: 0.8828\n",
            "Epoch 88/1000\n",
            "2500/2500 [==============================] - 1s 523us/step - loss: 0.6353 - acc: 0.8788\n",
            "Epoch 89/1000\n",
            "2500/2500 [==============================] - 1s 518us/step - loss: 0.6353 - acc: 0.8804\n",
            "Epoch 90/1000\n",
            "2500/2500 [==============================] - 1s 510us/step - loss: 0.6353 - acc: 0.8828\n",
            "Epoch 91/1000\n",
            "2500/2500 [==============================] - 1s 505us/step - loss: 0.6352 - acc: 0.8904\n",
            "Epoch 92/1000\n",
            "2500/2500 [==============================] - 1s 521us/step - loss: 0.6352 - acc: 0.8920\n",
            "Epoch 93/1000\n",
            "2500/2500 [==============================] - 1s 507us/step - loss: 0.6352 - acc: 0.8836\n",
            "Epoch 94/1000\n",
            "2500/2500 [==============================] - 1s 509us/step - loss: 0.6352 - acc: 0.8880\n",
            "Epoch 95/1000\n",
            "2500/2500 [==============================] - 1s 507us/step - loss: 0.6351 - acc: 0.8880\n",
            "Epoch 96/1000\n",
            "2500/2500 [==============================] - 1s 509us/step - loss: 0.6351 - acc: 0.8860\n",
            "Epoch 97/1000\n",
            "2500/2500 [==============================] - 1s 505us/step - loss: 0.6351 - acc: 0.8832\n",
            "Epoch 98/1000\n",
            "2500/2500 [==============================] - 1s 515us/step - loss: 0.6351 - acc: 0.8792\n",
            "Epoch 99/1000\n",
            "2500/2500 [==============================] - 1s 501us/step - loss: 0.6351 - acc: 0.8968\n",
            "Epoch 100/1000\n",
            "2500/2500 [==============================] - 1s 509us/step - loss: 0.6351 - acc: 0.8852\n",
            "Epoch 101/1000\n",
            "2500/2500 [==============================] - 1s 503us/step - loss: 0.6351 - acc: 0.8960\n",
            "Epoch 102/1000\n",
            "2500/2500 [==============================] - 1s 506us/step - loss: 0.6350 - acc: 0.8928\n",
            "Epoch 103/1000\n",
            "2500/2500 [==============================] - 1s 516us/step - loss: 0.6350 - acc: 0.8780\n",
            "Epoch 104/1000\n",
            "2500/2500 [==============================] - 1s 502us/step - loss: 0.6350 - acc: 0.8952\n",
            "Epoch 105/1000\n",
            "2500/2500 [==============================] - 1s 508us/step - loss: 0.6350 - acc: 0.8892\n",
            "Epoch 106/1000\n",
            "2500/2500 [==============================] - 1s 513us/step - loss: 0.6350 - acc: 0.8964\n",
            "Epoch 107/1000\n",
            "2500/2500 [==============================] - 1s 501us/step - loss: 0.6350 - acc: 0.8980\n",
            "Epoch 108/1000\n",
            "2500/2500 [==============================] - 1s 507us/step - loss: 0.6350 - acc: 0.8916\n",
            "Epoch 109/1000\n",
            "2500/2500 [==============================] - 1s 511us/step - loss: 0.6350 - acc: 0.8944\n",
            "Epoch 110/1000\n",
            "2500/2500 [==============================] - 1s 506us/step - loss: 0.6350 - acc: 0.8840\n",
            "Epoch 111/1000\n",
            "2500/2500 [==============================] - 1s 514us/step - loss: 0.6350 - acc: 0.8948\n",
            "Epoch 112/1000\n",
            "2500/2500 [==============================] - 1s 518us/step - loss: 0.6350 - acc: 0.9044\n",
            "Epoch 113/1000\n",
            "2500/2500 [==============================] - 1s 504us/step - loss: 0.6349 - acc: 0.8972\n",
            "Epoch 114/1000\n",
            "2500/2500 [==============================] - 1s 517us/step - loss: 0.6349 - acc: 0.8868\n",
            "Epoch 115/1000\n",
            "2500/2500 [==============================] - 1s 515us/step - loss: 0.6349 - acc: 0.8780\n",
            "Epoch 116/1000\n",
            "2500/2500 [==============================] - 1s 506us/step - loss: 0.6349 - acc: 0.8948\n",
            "Epoch 117/1000\n",
            "2500/2500 [==============================] - 1s 508us/step - loss: 0.6349 - acc: 0.8924\n",
            "Epoch 118/1000\n",
            "2500/2500 [==============================] - 1s 510us/step - loss: 0.6349 - acc: 0.8880\n",
            "Epoch 119/1000\n",
            "2500/2500 [==============================] - 1s 513us/step - loss: 0.6349 - acc: 0.9028\n",
            "Epoch 120/1000\n",
            "2500/2500 [==============================] - 1s 517us/step - loss: 0.6349 - acc: 0.8884\n",
            "Epoch 121/1000\n",
            "2500/2500 [==============================] - 1s 504us/step - loss: 0.6349 - acc: 0.9024\n",
            "Epoch 122/1000\n",
            "2500/2500 [==============================] - 1s 506us/step - loss: 0.6349 - acc: 0.8964\n",
            "Epoch 123/1000\n",
            "2500/2500 [==============================] - 1s 515us/step - loss: 0.6349 - acc: 0.8964\n",
            "Epoch 124/1000\n",
            "2500/2500 [==============================] - 1s 505us/step - loss: 0.6349 - acc: 0.8860\n",
            "Epoch 125/1000\n",
            "2500/2500 [==============================] - 1s 514us/step - loss: 0.6349 - acc: 0.8932\n",
            "Epoch 126/1000\n",
            "2500/2500 [==============================] - 1s 508us/step - loss: 0.6349 - acc: 0.8952\n",
            "Epoch 127/1000\n",
            "2500/2500 [==============================] - 1s 518us/step - loss: 0.6349 - acc: 0.8956\n",
            "Epoch 128/1000\n",
            "2500/2500 [==============================] - 1s 519us/step - loss: 0.6349 - acc: 0.8888\n",
            "Epoch 129/1000\n",
            "2500/2500 [==============================] - 1s 511us/step - loss: 0.6349 - acc: 0.9064\n",
            "Epoch 130/1000\n",
            "2500/2500 [==============================] - 1s 505us/step - loss: 0.6349 - acc: 0.8964\n",
            "Epoch 131/1000\n",
            "2500/2500 [==============================] - 1s 505us/step - loss: 0.6349 - acc: 0.8988\n",
            "Epoch 132/1000\n",
            "2500/2500 [==============================] - 1s 500us/step - loss: 0.6348 - acc: 0.8884\n",
            "Epoch 133/1000\n",
            "2500/2500 [==============================] - 1s 514us/step - loss: 0.6348 - acc: 0.8960\n",
            "Epoch 134/1000\n",
            "2500/2500 [==============================] - 1s 509us/step - loss: 0.6348 - acc: 0.9028\n",
            "Epoch 135/1000\n",
            "2500/2500 [==============================] - 1s 499us/step - loss: 0.6348 - acc: 0.8868\n",
            "Epoch 136/1000\n",
            "2500/2500 [==============================] - 1s 505us/step - loss: 0.6348 - acc: 0.8972\n",
            "Epoch 137/1000\n",
            "2500/2500 [==============================] - 1s 507us/step - loss: 0.6348 - acc: 0.8964\n",
            "Epoch 138/1000\n",
            "2500/2500 [==============================] - 1s 517us/step - loss: 0.6348 - acc: 0.9016\n",
            "Epoch 139/1000\n",
            "2500/2500 [==============================] - 1s 508us/step - loss: 0.6348 - acc: 0.9040\n",
            "Epoch 140/1000\n",
            "2500/2500 [==============================] - 1s 506us/step - loss: 0.6348 - acc: 0.8956\n",
            "Epoch 141/1000\n",
            "2500/2500 [==============================] - 1s 503us/step - loss: 0.6348 - acc: 0.8932\n",
            "Epoch 142/1000\n",
            "2500/2500 [==============================] - 1s 507us/step - loss: 0.6348 - acc: 0.8988\n",
            "Epoch 143/1000\n",
            "2500/2500 [==============================] - 1s 515us/step - loss: 0.6348 - acc: 0.9020\n",
            "Epoch 144/1000\n",
            "2500/2500 [==============================] - 1s 519us/step - loss: 0.6348 - acc: 0.8988\n",
            "Epoch 145/1000\n",
            "2500/2500 [==============================] - 1s 503us/step - loss: 0.6348 - acc: 0.8956\n",
            "Epoch 146/1000\n",
            "2500/2500 [==============================] - 1s 504us/step - loss: 0.6348 - acc: 0.8992\n",
            "Epoch 147/1000\n",
            "2500/2500 [==============================] - 1s 507us/step - loss: 0.6348 - acc: 0.8928\n",
            "Epoch 148/1000\n",
            "2500/2500 [==============================] - 1s 501us/step - loss: 0.6348 - acc: 0.8856\n",
            "Epoch 149/1000\n",
            "2500/2500 [==============================] - 1s 516us/step - loss: 0.6348 - acc: 0.9040\n",
            "Epoch 150/1000\n",
            "2500/2500 [==============================] - 1s 510us/step - loss: 0.6348 - acc: 0.9104\n",
            "Epoch 151/1000\n",
            "2500/2500 [==============================] - 1s 506us/step - loss: 0.6348 - acc: 0.9036\n",
            "Epoch 152/1000\n",
            "2500/2500 [==============================] - 1s 510us/step - loss: 0.6348 - acc: 0.9000\n",
            "Epoch 153/1000\n",
            "2500/2500 [==============================] - 1s 514us/step - loss: 0.6348 - acc: 0.9020\n",
            "Epoch 154/1000\n",
            "2500/2500 [==============================] - 1s 510us/step - loss: 0.6348 - acc: 0.8920\n",
            "Epoch 155/1000\n",
            "2500/2500 [==============================] - 1s 515us/step - loss: 0.6348 - acc: 0.9016\n",
            "Epoch 156/1000\n",
            "2500/2500 [==============================] - 1s 502us/step - loss: 0.6348 - acc: 0.9044\n",
            "Epoch 157/1000\n",
            "2500/2500 [==============================] - 1s 500us/step - loss: 0.6348 - acc: 0.9072\n",
            "Epoch 158/1000\n",
            "2500/2500 [==============================] - 1s 508us/step - loss: 0.6347 - acc: 0.8992\n",
            "Epoch 159/1000\n",
            "2500/2500 [==============================] - 1s 506us/step - loss: 0.6348 - acc: 0.8960\n",
            "Epoch 160/1000\n"
          ],
          "name": "stdout"
        },
        {
          "output_type": "stream",
          "text": [
            "2500/2500 [==============================] - 1s 501us/step - loss: 0.6347 - acc: 0.8952\n",
            "Epoch 161/1000\n",
            "2500/2500 [==============================] - 1s 517us/step - loss: 0.6347 - acc: 0.9140\n",
            "Epoch 162/1000\n",
            "2500/2500 [==============================] - 1s 510us/step - loss: 0.6347 - acc: 0.9056\n",
            "Epoch 163/1000\n",
            "2500/2500 [==============================] - 1s 511us/step - loss: 0.6347 - acc: 0.9036\n",
            "Epoch 164/1000\n",
            "2500/2500 [==============================] - 1s 508us/step - loss: 0.6347 - acc: 0.8988\n",
            "Epoch 165/1000\n",
            "2500/2500 [==============================] - 1s 514us/step - loss: 0.6347 - acc: 0.9016\n",
            "Epoch 166/1000\n",
            "2500/2500 [==============================] - 1s 511us/step - loss: 0.6347 - acc: 0.9064\n",
            "Epoch 167/1000\n",
            "2500/2500 [==============================] - 1s 510us/step - loss: 0.6347 - acc: 0.9020\n",
            "Epoch 168/1000\n",
            "2500/2500 [==============================] - 1s 514us/step - loss: 0.6347 - acc: 0.9032\n",
            "Epoch 169/1000\n",
            "2500/2500 [==============================] - 1s 512us/step - loss: 0.6347 - acc: 0.9048\n",
            "Epoch 170/1000\n",
            "2500/2500 [==============================] - 1s 504us/step - loss: 0.6347 - acc: 0.9020\n",
            "Epoch 171/1000\n",
            "2500/2500 [==============================] - 1s 514us/step - loss: 0.6347 - acc: 0.9072\n",
            "Epoch 172/1000\n",
            "2500/2500 [==============================] - 1s 513us/step - loss: 0.6347 - acc: 0.9032\n",
            "Epoch 173/1000\n",
            "2500/2500 [==============================] - 1s 508us/step - loss: 0.6347 - acc: 0.9048\n",
            "Epoch 174/1000\n",
            "2500/2500 [==============================] - 1s 509us/step - loss: 0.6347 - acc: 0.8976\n",
            "Epoch 175/1000\n",
            "2500/2500 [==============================] - 1s 510us/step - loss: 0.6347 - acc: 0.9100\n",
            "Epoch 176/1000\n",
            "2500/2500 [==============================] - 1s 510us/step - loss: 0.6347 - acc: 0.8984\n",
            "Epoch 177/1000\n",
            "2500/2500 [==============================] - 1s 507us/step - loss: 0.6347 - acc: 0.9044\n",
            "Epoch 178/1000\n",
            "2500/2500 [==============================] - 1s 509us/step - loss: 0.6347 - acc: 0.9044\n",
            "Epoch 179/1000\n",
            "2500/2500 [==============================] - 1s 511us/step - loss: 0.6347 - acc: 0.9056\n",
            "Epoch 180/1000\n",
            "2500/2500 [==============================] - 1s 513us/step - loss: 0.6347 - acc: 0.9016\n",
            "Epoch 181/1000\n",
            "2500/2500 [==============================] - 1s 515us/step - loss: 0.6347 - acc: 0.8952\n",
            "Epoch 182/1000\n",
            " 412/2500 [===>..........................] - ETA: 1s - loss: 0.6401 - acc: 0.9126"
          ],
          "name": "stdout"
        }
      ]
    },
    {
      "cell_type": "markdown",
      "metadata": {
        "id": "3-6D2wqP4Ymi",
        "colab_type": "text"
      },
      "source": [
        "### 그래프로 모니터링 하기 \n",
        "\n",
        "반복횟수(epochs)가 1000회가 넘어가면 사실 이 학습이 제대로 이뤄지고 있는지 확인하는 것도 만만한 일이 아니다. 그리고 눈으로 스크롤하며 변화치를 봐서는 이게 제대로 학습이 이루어지고 있는지 확인하기도 어렵다. 이제 이 loss 변화를 직접 눈으로 확인할 수 있는 방법을 알아보자. \n",
        "\n",
        "model.fit 은 각 epoch 당 학습의 결과값들을 history형태로 리턴한다. 간단하게 history 의 형태를 보자. \n",
        "\n"
      ]
    },
    {
      "cell_type": "code",
      "metadata": {
        "id": "f3v_TOcm4Ymj",
        "colab_type": "code",
        "outputId": "40c10f31-4844-49fa-9780-1f225dbc54a7",
        "colab": {
          "base_uri": "https://localhost:8080/",
          "height": 415
        }
      },
      "source": [
        "hist = model.fit(x,y, epochs = 10, batch_size = 40)\n",
        "print( hist.history )"
      ],
      "execution_count": 11,
      "outputs": [
        {
          "output_type": "stream",
          "text": [
            "Epoch 1/10\n",
            "1/1 [==============================] - 0s 4ms/step - loss: 0.7277 - acc: 0.5000 - mae: 0.4467\n",
            "Epoch 2/10\n",
            "1/1 [==============================] - 0s 3ms/step - loss: 0.7264 - acc: 0.5000 - mae: 0.4465\n",
            "Epoch 3/10\n",
            "1/1 [==============================] - 0s 4ms/step - loss: 0.7251 - acc: 0.5000 - mae: 0.4464\n",
            "Epoch 4/10\n",
            "1/1 [==============================] - 0s 3ms/step - loss: 0.7239 - acc: 0.5000 - mae: 0.4462\n",
            "Epoch 5/10\n",
            "1/1 [==============================] - 0s 4ms/step - loss: 0.7226 - acc: 0.5000 - mae: 0.4460\n",
            "Epoch 6/10\n",
            "1/1 [==============================] - 0s 1ms/step - loss: 0.7213 - acc: 0.5000 - mae: 0.4459\n",
            "Epoch 7/10\n",
            "1/1 [==============================] - 0s 3ms/step - loss: 0.7201 - acc: 0.5000 - mae: 0.4457\n",
            "Epoch 8/10\n",
            "1/1 [==============================] - 0s 3ms/step - loss: 0.7188 - acc: 0.5000 - mae: 0.4456\n",
            "Epoch 9/10\n",
            "1/1 [==============================] - 0s 5ms/step - loss: 0.7176 - acc: 0.5000 - mae: 0.4454\n",
            "Epoch 10/10\n",
            "1/1 [==============================] - 0s 4ms/step - loss: 0.7163 - acc: 0.5000 - mae: 0.4452\n",
            "{'loss': [0.7276813387870789, 0.7263997197151184, 0.72512286901474, 0.7238509654998779, 0.7225839495658875, 0.7213218212127686, 0.7200645208358765, 0.7188121676445007, 0.7175647020339966, 0.7163220643997192], 'acc': [0.5, 0.5, 0.5, 0.5, 0.5, 0.5, 0.5, 0.5, 0.5, 0.5], 'mae': [0.4467126131057739, 0.4465462565422058, 0.44637998938560486, 0.4462139904499054, 0.44604822993278503, 0.4458826780319214, 0.44571733474731445, 0.4455522894859314, 0.44538745284080505, 0.4452228546142578]}\n"
          ],
          "name": "stdout"
        }
      ]
    },
    {
      "cell_type": "markdown",
      "metadata": {
        "id": "A6Q-Z1Vg4Yml",
        "colab_type": "text"
      },
      "source": [
        "tuple 형태로 'loss' 와 'acc' 가 전달된 것을 볼 수 있을 것이다. 이제 이것을 그래프로 표현해보도록 하겠다. \n"
      ]
    },
    {
      "cell_type": "code",
      "metadata": {
        "id": "x2utvw0E4Ymm",
        "colab_type": "code",
        "outputId": "156ac42c-1713-4cd5-f188-2250249dd59d",
        "colab": {
          "base_uri": "https://localhost:8080/",
          "height": 265
        }
      },
      "source": [
        "import matplotlib.pyplot as plt \n",
        "plt.plot(hist.history['loss'])\n",
        "plt.show()"
      ],
      "execution_count": 12,
      "outputs": [
        {
          "output_type": "display_data",
          "data": {
            "image/png": "[encoded data removed]",
            "text/plain": [
              "<Figure size 432x288 with 1 Axes>"
            ]
          },
          "metadata": {
            "tags": []
          }
        }
      ]
    },
    {
      "cell_type": "markdown",
      "metadata": {
        "id": "QK9ZUQ-e4Ymo",
        "colab_type": "text"
      },
      "source": [
        "이제 학습이 이뤄진 loss 의 변화 과정을 그래프로 한눈에 볼수 있게 되었다. 그런데 학습 결과를 아래로 한참 스크롤 하여 그래프 결과를 보는 것도 상당히 귀찮은 일이다.  이를 위해서 학습 과정시 나오는 바와, 수치 출력을 제거할 수 있는 옵션이 있다. \n",
        "\n",
        "    model.fit( ... verbose = 0 )\n",
        " \n",
        "이제 위의 xor 학습을 메시지 없이 그래프 형태로 모니터링하도록 바꿔보자. \n"
      ]
    },
    {
      "cell_type": "code",
      "metadata": {
        "id": "0zkd42Kq4Ymp",
        "colab_type": "code",
        "outputId": "9b6b4d99-cd44-46a5-f3a4-ac4d992fbc8f",
        "colab": {
          "base_uri": "https://localhost:8080/",
          "height": 283
        }
      },
      "source": [
        "import matplotlib.pyplot as plt \n",
        "hist = model.fit(x,y, epochs = 1000, batch_size = 4, verbose  = 0)\n",
        "plt.plot(hist.history['loss'])\n",
        "plt.show()\n",
        "print(\"last acc :\", hist.history['acc'][-1])\n"
      ],
      "execution_count": 13,
      "outputs": [
        {
          "output_type": "display_data",
          "data": {
            "image/png": "[encoded data removed]",
            "text/plain": [
              "<Figure size 432x288 with 1 Axes>"
            ]
          },
          "metadata": {
            "tags": []
          }
        },
        {
          "output_type": "stream",
          "text": [
            "last acc : 1.0\n"
          ],
          "name": "stdout"
        }
      ]
    },
    {
      "cell_type": "markdown",
      "metadata": {
        "id": "T1QwPyUp4Ymr",
        "colab_type": "text"
      },
      "source": [
        " <font color = 'red'> \n",
        "### 연습문제 1-2 : xor epoch 최소화 \n",
        "acc 가  1.0 에 도달한 최초 epoch 를 찾고 batch_size 를 바꾸며 이를 최소화할 수 있게 실행해보자. \n",
        "    \n",
        "    \n",
        "    "
      ]
    },
    {
      "cell_type": "code",
      "metadata": {
        "scrolled": true,
        "id": "SVr9IdF-4Yms",
        "colab_type": "code",
        "outputId": "cbadaa83-7962-4f92-fab1-f108ded7a39c",
        "colab": {
          "base_uri": "https://localhost:8080/",
          "height": 303
        }
      },
      "source": [
        "## 연습문제 1-2 코드를 여기에 작성해서 돌려보세요 \n",
        "import matplotlib.pyplot as plt \n",
        "hist = model.fit(x,y, epochs = 4000, batch_size = 4, verbose  = 0)\n",
        "plt.plot(hist.history['loss'])\n",
        "plt.show()\n",
        "print(\"last acc :\", hist.history['acc'][-1])\n",
        "print( len( hist.history['acc']) )"
      ],
      "execution_count": 14,
      "outputs": [
        {
          "output_type": "display_data",
          "data": {
            "image/png": "[encoded data removed]",
            "text/plain": [
              "<Figure size 432x288 with 1 Axes>"
            ]
          },
          "metadata": {
            "tags": []
          }
        },
        {
          "output_type": "stream",
          "text": [
            "last acc : 1.0\n",
            "4000\n"
          ],
          "name": "stdout"
        }
      ]
    },
    {
      "cell_type": "markdown",
      "metadata": {
        "id": "beBzw2aA4Ymu",
        "colab_type": "text"
      },
      "source": [
        "<hr style=\"height:2px\" > \n",
        "\n",
        "#  학습 모델 공간 분포 시각화 \n",
        "\n",
        "### 학습 결과 활용 하기 \n",
        "\n",
        "신경망으로 생성된 분류기는 실제 데이터를 판별하기 위해 적용될 수 있다. 학습된 망에 직접 커스텀 데이터를 넣어서 확인하는 방법은 다음과 같다. \n"
      ]
    },
    {
      "cell_type": "code",
      "metadata": {
        "id": "mhZGA-Ru4Ymv",
        "colab_type": "code",
        "outputId": "3ff4a799-5023-49b8-dea3-2c0229f8e84b",
        "colab": {}
      },
      "source": [
        "print(model.predict( np.array([[0,1]])))"
      ],
      "execution_count": 0,
      "outputs": [
        {
          "output_type": "stream",
          "text": [
            "[[0.49112567 0.5088743 ]]\n"
          ],
          "name": "stdout"
        }
      ]
    },
    {
      "cell_type": "markdown",
      "metadata": {
        "id": "sVlf4KQt4Ymx",
        "colab_type": "text"
      },
      "source": [
        "학습은 0과 1로 이뤄졌지만 신경망은 수학적 실수연산의 네트워크이므로 그 중간값에 대해서도 출력이 가능하다. 당연히 0.5,0.5 도 그 결과값을 리턴한다. "
      ]
    },
    {
      "cell_type": "code",
      "metadata": {
        "id": "14Vm8cOZ4Ymz",
        "colab_type": "code",
        "outputId": "518cf784-34e6-4597-df4e-fc780cc72220",
        "colab": {}
      },
      "source": [
        "print(model.predict( np.array([[0.5,0.5]])))"
      ],
      "execution_count": 0,
      "outputs": [
        {
          "output_type": "stream",
          "text": [
            "[[0.49142715 0.5085728 ]]\n"
          ],
          "name": "stdout"
        }
      ]
    },
    {
      "cell_type": "markdown",
      "metadata": {
        "id": "mUZjR2L84Ym1",
        "colab_type": "text"
      },
      "source": [
        "그렇다면 신경망이 학습한 상태공간은 어떻게 구성되어있을까? 직접 보고싶은 생각이 들것이다.  이는 간단하다. x,y 0부터 1까지의 공간의 점을 모두 신경망에 넣어보면 된다. \n",
        "\n",
        "물론 평면의 점의 갯수는 무한개지만 일정 간격으로 점을 추출하면 유한개의 점이 추출된다. 하지만 이런 점들의 집합을 어떻게 생성할까? 물론 이중 루프를 돌려서 생성하는 방법도 있다. 하지만 numpy는 좀더 간단한 방법으로 meshgrid 라는 방법을 제공한다. \n"
      ]
    },
    {
      "cell_type": "code",
      "metadata": {
        "id": "ZU-NpuwB4Ym2",
        "colab_type": "code",
        "outputId": "f10cf26e-a845-4f42-dd65-c80590e95008",
        "colab": {
          "base_uri": "https://localhost:8080/",
          "height": 1000
        }
      },
      "source": [
        "import matplotlib.pyplot as plt \n",
        "\n",
        "x = np.mgrid[0:1:0.1, 0:1:0.1].reshape(2,-1).T\n",
        "print(x)\n",
        "plt.scatter(x[:,0], x[:,1])\n",
        "plt.show()"
      ],
      "execution_count": 15,
      "outputs": [
        {
          "output_type": "stream",
          "text": [
            "[[0.  0. ]\n",
            " [0.  0.1]\n",
            " [0.  0.2]\n",
            " [0.  0.3]\n",
            " [0.  0.4]\n",
            " [0.  0.5]\n",
            " [0.  0.6]\n",
            " [0.  0.7]\n",
            " [0.  0.8]\n",
            " [0.  0.9]\n",
            " [0.1 0. ]\n",
            " [0.1 0.1]\n",
            " [0.1 0.2]\n",
            " [0.1 0.3]\n",
            " [0.1 0.4]\n",
            " [0.1 0.5]\n",
            " [0.1 0.6]\n",
            " [0.1 0.7]\n",
            " [0.1 0.8]\n",
            " [0.1 0.9]\n",
            " [0.2 0. ]\n",
            " [0.2 0.1]\n",
            " [0.2 0.2]\n",
            " [0.2 0.3]\n",
            " [0.2 0.4]\n",
            " [0.2 0.5]\n",
            " [0.2 0.6]\n",
            " [0.2 0.7]\n",
            " [0.2 0.8]\n",
            " [0.2 0.9]\n",
            " [0.3 0. ]\n",
            " [0.3 0.1]\n",
            " [0.3 0.2]\n",
            " [0.3 0.3]\n",
            " [0.3 0.4]\n",
            " [0.3 0.5]\n",
            " [0.3 0.6]\n",
            " [0.3 0.7]\n",
            " [0.3 0.8]\n",
            " [0.3 0.9]\n",
            " [0.4 0. ]\n",
            " [0.4 0.1]\n",
            " [0.4 0.2]\n",
            " [0.4 0.3]\n",
            " [0.4 0.4]\n",
            " [0.4 0.5]\n",
            " [0.4 0.6]\n",
            " [0.4 0.7]\n",
            " [0.4 0.8]\n",
            " [0.4 0.9]\n",
            " [0.5 0. ]\n",
            " [0.5 0.1]\n",
            " [0.5 0.2]\n",
            " [0.5 0.3]\n",
            " [0.5 0.4]\n",
            " [0.5 0.5]\n",
            " [0.5 0.6]\n",
            " [0.5 0.7]\n",
            " [0.5 0.8]\n",
            " [0.5 0.9]\n",
            " [0.6 0. ]\n",
            " [0.6 0.1]\n",
            " [0.6 0.2]\n",
            " [0.6 0.3]\n",
            " [0.6 0.4]\n",
            " [0.6 0.5]\n",
            " [0.6 0.6]\n",
            " [0.6 0.7]\n",
            " [0.6 0.8]\n",
            " [0.6 0.9]\n",
            " [0.7 0. ]\n",
            " [0.7 0.1]\n",
            " [0.7 0.2]\n",
            " [0.7 0.3]\n",
            " [0.7 0.4]\n",
            " [0.7 0.5]\n",
            " [0.7 0.6]\n",
            " [0.7 0.7]\n",
            " [0.7 0.8]\n",
            " [0.7 0.9]\n",
            " [0.8 0. ]\n",
            " [0.8 0.1]\n",
            " [0.8 0.2]\n",
            " [0.8 0.3]\n",
            " [0.8 0.4]\n",
            " [0.8 0.5]\n",
            " [0.8 0.6]\n",
            " [0.8 0.7]\n",
            " [0.8 0.8]\n",
            " [0.8 0.9]\n",
            " [0.9 0. ]\n",
            " [0.9 0.1]\n",
            " [0.9 0.2]\n",
            " [0.9 0.3]\n",
            " [0.9 0.4]\n",
            " [0.9 0.5]\n",
            " [0.9 0.6]\n",
            " [0.9 0.7]\n",
            " [0.9 0.8]\n",
            " [0.9 0.9]]\n"
          ],
          "name": "stdout"
        },
        {
          "output_type": "display_data",
          "data": {
            "image/png": "[encoded data removed]",
            "text/plain": [
              "<Figure size 432x288 with 1 Axes>"
            ]
          },
          "metadata": {
            "tags": []
          }
        }
      ]
    },
    {
      "cell_type": "markdown",
      "metadata": {
        "id": "c9XL1EMk4Ym6",
        "colab_type": "text"
      },
      "source": [
        "이번에는 x를 model에 입력한 결과값을 한번 보자. "
      ]
    },
    {
      "cell_type": "code",
      "metadata": {
        "id": "Kx6J_fLd4Ym7",
        "colab_type": "code",
        "outputId": "f90112d1-5344-48b0-db94-ced35cdd3d1b",
        "colab": {
          "base_uri": "https://localhost:8080/",
          "height": 1000
        }
      },
      "source": [
        "y = model.predict(x)\n",
        "print(y)"
      ],
      "execution_count": 16,
      "outputs": [
        {
          "output_type": "stream",
          "text": [
            "[[9.36872065e-02 9.06312764e-01]\n",
            " [5.93204975e-01 4.06794995e-01]\n",
            " [9.55867052e-01 4.41329069e-02]\n",
            " [9.95947301e-01 4.05269954e-03]\n",
            " [9.99415994e-01 5.84069348e-04]\n",
            " [9.99855876e-01 1.44062738e-04]\n",
            " [9.99943376e-01 5.65681221e-05]\n",
            " [9.99968648e-01 3.13058699e-05]\n",
            " [9.99978185e-01 2.18020195e-05]\n",
            " [9.99982476e-01 1.75550158e-05]\n",
            " [9.69810225e-03 9.90301907e-01]\n",
            " [9.21799764e-02 9.07819986e-01]\n",
            " [6.00140631e-01 3.99859369e-01]\n",
            " [9.58682299e-01 4.13176715e-02]\n",
            " [9.96272802e-01 3.72722046e-03]\n",
            " [9.99458253e-01 5.41733985e-04]\n",
            " [9.99863744e-01 1.36263800e-04]\n",
            " [9.99945402e-01 5.45471230e-05]\n",
            " [9.99969363e-01 3.06251713e-05]\n",
            " [9.99978423e-01 2.15284290e-05]\n",
            " [1.51313795e-03 9.98486876e-01]\n",
            " [9.37439594e-03 9.90625620e-01]\n",
            " [9.16036963e-02 9.08396363e-01]\n",
            " [6.07541442e-01 3.92458618e-01]\n",
            " [9.61024702e-01 3.89752313e-02]\n",
            " [9.96521473e-01 3.47849657e-03]\n",
            " [9.99489427e-01 5.10544691e-04]\n",
            " [9.99869347e-01 1.30625107e-04]\n",
            " [9.99946833e-01 5.31097103e-05]\n",
            " [9.99969840e-01 3.01512482e-05]\n",
            " [4.02138539e-04 9.99597847e-01]\n",
            " [1.47030863e-03 9.98529673e-01]\n",
            " [9.20290221e-03 9.90797043e-01]\n",
            " [9.19589922e-02 9.08041000e-01]\n",
            " [6.15291655e-01 3.84708405e-01]\n",
            " [9.62924480e-01 3.70755382e-02]\n",
            " [9.96703684e-01 3.29633662e-03]\n",
            " [9.99511003e-01 4.88966762e-04]\n",
            " [9.99873042e-01 1.26892424e-04]\n",
            " [9.99947786e-01 5.22026639e-05]\n",
            " [1.68271246e-04 9.99831676e-01]\n",
            " [3.95711744e-04 9.99604285e-01]\n",
            " [1.45097205e-03 9.98549044e-01]\n",
            " [9.17880330e-03 9.90821183e-01]\n",
            " [9.32583809e-02 9.06741679e-01]\n",
            " [6.23267472e-01 3.76732498e-01]\n",
            " [9.64408696e-01 3.55913416e-02]\n",
            " [9.96826828e-01 3.17318831e-03]\n",
            " [9.99524117e-01 4.75931913e-04]\n",
            " [9.99875069e-01 1.24895130e-04]\n",
            " [9.76342853e-05 9.99902368e-01]\n",
            " [1.67314327e-04 9.99832630e-01]\n",
            " [3.94275587e-04 9.99605715e-01]\n",
            " [1.45460921e-03 9.98545408e-01]\n",
            " [9.30270180e-03 9.90697384e-01]\n",
            " [9.55263525e-02 9.04473662e-01]\n",
            " [6.31340146e-01 3.68659765e-01]\n",
            " [9.65500832e-01 3.44992019e-02]\n",
            " [9.96896267e-01 3.10378429e-03]\n",
            " [9.99529243e-01 4.70773288e-04]\n",
            " [7.01742611e-05 9.99929786e-01]\n",
            " [9.76582087e-05 9.99902368e-01]\n",
            " [1.67845326e-04 9.99832153e-01]\n",
            " [3.97849595e-04 9.99602139e-01]\n",
            " [1.48166879e-03 9.98518288e-01]\n",
            " [9.58083291e-03 9.90419209e-01]\n",
            " [9.87984017e-02 9.01201606e-01]\n",
            " [6.39380157e-01 3.60619873e-01]\n",
            " [9.66219902e-01 3.37801203e-02]\n",
            " [9.96914983e-01 3.08501045e-03]\n",
            " [5.76107122e-05 9.99942422e-01]\n",
            " [7.03673868e-05 9.99929667e-01]\n",
            " [9.82572528e-05 9.99901772e-01]\n",
            " [1.69903986e-04 9.99830008e-01]\n",
            " [4.06642270e-04 9.99593318e-01]\n",
            " [1.53362507e-03 9.98466372e-01]\n",
            " [1.00253811e-02 9.89974558e-01]\n",
            " [1.03119425e-01 8.96880567e-01]\n",
            " [6.47264302e-01 3.52735728e-01]\n",
            " [9.66579735e-01 3.34202386e-02]\n",
            " [5.12487095e-05 9.99948740e-01]\n",
            " [5.78014951e-05 9.99942183e-01]\n",
            " [7.08248990e-05 9.99929190e-01]\n",
            " [9.94546208e-05 9.99900579e-01]\n",
            " [1.73575594e-04 9.99826491e-01]\n",
            " [4.21066419e-04 9.99578893e-01]\n",
            " [1.61306444e-03 9.98386979e-01]\n",
            " [1.06549682e-02 9.89345014e-01]\n",
            " [1.08541504e-01 8.91458452e-01]\n",
            " [6.54873967e-01 3.45126092e-01]\n",
            " [4.78189868e-05 9.99952197e-01]\n",
            " [5.14022031e-05 9.99948621e-01]\n",
            " [5.81276217e-05 9.99941826e-01]\n",
            " [7.15589704e-05 9.99928474e-01]\n",
            " [1.01287435e-04 9.99898672e-01]\n",
            " [1.78998103e-04 9.99821007e-01]\n",
            " [4.41770419e-04 9.99558270e-01]\n",
            " [1.72389112e-03 9.98276114e-01]\n",
            " [1.14956303e-02 9.88504350e-01]\n",
            " [1.15120545e-01 8.84879470e-01]]\n"
          ],
          "name": "stdout"
        }
      ]
    },
    {
      "cell_type": "markdown",
      "metadata": {
        "id": "f1hZlaUK4Ym9",
        "colab_type": "text"
      },
      "source": [
        "위의 결과는 단순한 신경망의 출력값이다. 물론 이 값에서 앞의 값이 더 크면 0, 뒤의 값이 더 크면 1로 간주해도 좋을 것이다. 그렇지만 이것을 시각화하려면 0,1.. 등의 값이 필요하다. 어떻게 해야할까?  \n",
        "\n",
        "물론 모든것이 그러하듯 하드코딩해도 상관은 없을 테지만.. 코드가 복잡해지는걸 막기위해서 여기서는 해 배열중에 가장 큰 배열의 인덱스 값을 출력하는 numpy 함수인 argmax 를 이용하도록 하겠다. 단 가로축(axis=1) 기준으로 큰 값의 인덱스를 생성하도록 다음과 같이 사용한다. "
      ]
    },
    {
      "cell_type": "code",
      "metadata": {
        "id": "Mye2xllR4Ym-",
        "colab_type": "code",
        "outputId": "9f561437-c031-4b81-fc16-d98f8b46a438",
        "colab": {
          "base_uri": "https://localhost:8080/",
          "height": 71
        }
      },
      "source": [
        "print(np.argmax(y, axis = 1 ))"
      ],
      "execution_count": 17,
      "outputs": [
        {
          "output_type": "stream",
          "text": [
            "[1 0 0 0 0 0 0 0 0 0 1 1 0 0 0 0 0 0 0 0 1 1 1 0 0 0 0 0 0 0 1 1 1 1 0 0 0\n",
            " 0 0 0 1 1 1 1 1 0 0 0 0 0 1 1 1 1 1 1 0 0 0 0 1 1 1 1 1 1 1 0 0 0 1 1 1 1\n",
            " 1 1 1 1 0 0 1 1 1 1 1 1 1 1 1 0 1 1 1 1 1 1 1 1 1 1]\n"
          ],
          "name": "stdout"
        }
      ]
    },
    {
      "cell_type": "markdown",
      "metadata": {
        "id": "DI_dypth4Ym_",
        "colab_type": "text"
      },
      "source": [
        "이제 준비가 다 되었다. xor 신경망이 생성한 상태공간의 모습을 직접 보는 전체 코드를 보자. "
      ]
    },
    {
      "cell_type": "code",
      "metadata": {
        "id": "gUKkelgg4YnA",
        "colab_type": "code",
        "outputId": "d64a1991-60f0-42bf-cdb7-ef676430b264",
        "colab": {
          "base_uri": "https://localhost:8080/",
          "height": 265
        }
      },
      "source": [
        "import matplotlib.pyplot as plt \n",
        "\n",
        "x = np.mgrid[0:1:0.02, 0:1:0.02].reshape(2,-1).T\n",
        "y = model.predict(x)\n",
        "plt.scatter(x[:,0], x[:,1], marker = '.', c = np.argmax(y, axis = 1))\n",
        "plt.show()"
      ],
      "execution_count": 18,
      "outputs": [
        {
          "output_type": "display_data",
          "data": {
            "image/png": "[encoded data removed]",
            "text/plain": [
              "<Figure size 432x288 with 1 Axes>"
            ]
          },
          "metadata": {
            "tags": []
          }
        }
      ]
    },
    {
      "cell_type": "markdown",
      "metadata": {
        "id": "qYE-CpGK4YnC",
        "colab_type": "text"
      },
      "source": [
        " <font color = 'red'> \n",
        "### 연습문제 1-3 : 신경망으로 그림 그리기 \n",
        "신경망의 학습 샘플을 생성해 다양한 형태의 상태공간모양을 만들어보자. \n",
        "    \n",
        "    \n",
        "    "
      ]
    },
    {
      "cell_type": "code",
      "metadata": {
        "id": "Xl4comGa4YnC",
        "colab_type": "code",
        "colab": {}
      },
      "source": [
        ""
      ],
      "execution_count": 0,
      "outputs": []
    },
    {
      "cell_type": "code",
      "metadata": {
        "id": "uj5kkKzr4YnE",
        "colab_type": "code",
        "colab": {}
      },
      "source": [
        ""
      ],
      "execution_count": 0,
      "outputs": []
    }
  ]
}