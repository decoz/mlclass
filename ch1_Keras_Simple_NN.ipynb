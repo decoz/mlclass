{
  "nbformat": 4,
  "nbformat_minor": 0,
  "metadata": {
    "kernelspec": {
      "display_name": "Python 3",
      "language": "python",
      "name": "python3"
    },
    "language_info": {
      "codemirror_mode": {
        "name": "ipython",
        "version": 3
      },
      "file_extension": ".py",
      "mimetype": "text/x-python",
      "name": "python",
      "nbconvert_exporter": "python",
      "pygments_lexer": "ipython3",
      "version": "3.5.2"
    },
    "colab": {
      "name": "ch1 Keras_Simple_NN.ipynb",
      "provenance": [],
      "toc_visible": true
    }
  },
  "cells": [
    {
      "cell_type": "markdown",
      "metadata": {
        "id": "NkpPJSx74Ylq",
        "colab_type": "text"
      },
      "source": [
        "# 케라스로 신경망 작성하기\n",
        "\n",
        "케라스의 신경망 학습은 크게 두단계로 이뤄진다. \n",
        "\n",
        "- 모델 생성\n",
        "- 모델 학습 / 검증\n",
        "\n",
        "모델이란 신경망의 구성을 의미한다. 일반적인 입력층, 은닉층, 출력층등의 각각의 계층과 이것을 학습하기 위한 파라미터등이 이 모델에 포함된다. \n",
        "\n",
        "<hr style=\"height:2px\" > \n",
        "\n",
        "## 가장 심플한 신경망\n",
        "\n",
        "다음은 가장 간단한 2x2 신경망의 예를 하나 생성해 보았다. \n"
      ]
    },
    {
      "cell_type": "code",
      "metadata": {
        "id": "OtnadGos4Yls",
        "colab_type": "code",
        "colab": {}
      },
      "source": [
        "import tensorflow as tf\n",
        "from tensorflow import keras\n",
        "from tensorflow.keras import layers\n",
        "\n",
        "#keras.backend.clear_session()\n",
        "model = keras.models.Sequential()\n",
        "model.add(layers.Dense(2, activation = 'sigmoid', input_shape = (2,))) \n",
        "model.add(layers.Dense(2, activation = 'softmax'))\n",
        "model.compile(optimizer = 'rmsprop', loss = 'categorical_crossentropy', metrics = ['acc', 'mae'])      \n"
      ],
      "execution_count": 0,
      "outputs": []
    },
    {
      "cell_type": "markdown",
      "metadata": {
        "id": "41d_KSbw4Ylw",
        "colab_type": "text"
      },
      "source": [
        "다음은 이를 학습하는 예이다. "
      ]
    },
    {
      "cell_type": "code",
      "metadata": {
        "id": "Is1eUw3i4Ylx",
        "colab_type": "code",
        "colab": {}
      },
      "source": [
        "import numpy as np\n",
        "x = np.array([[0,1],[1,0]]).astype(\"float32\")\n",
        "y = np.array([[1,0],[0,1]]).astype(\"float32\")\n",
        "hist = model.fit(x,y, epochs = 100, batch_size = 3)"
      ],
      "execution_count": 0,
      "outputs": []
    },
    {
      "cell_type": "markdown",
      "metadata": {
        "id": "rwwBr_Lk4Ylz",
        "colab_type": "text"
      },
      "source": [
        "이제 위의 예제를 하나씩 분석해서 신경망 학습의 절차를 보도록 하자. "
      ]
    },
    {
      "cell_type": "markdown",
      "metadata": {
        "id": "CRGMaTGP4Yl0",
        "colab_type": "text"
      },
      "source": [
        "<hr>\n",
        "\n",
        "# 모델 생성\n",
        "\n",
        "케라스의 모델 생성은 기본적으로 다음과 같은 과정을 거친다. \n",
        "\n",
        "1. 모델을 선언\n",
        "2. 모델에 레이어를 추가 \n",
        "3. 모델 컴파일\n",
        "\n",
        "\n",
        "### keras 라이브러리 불러오기\n",
        "\n",
        "layer는 여러번 쓰게 되므로 keras.layers  를 쓰기 귀찮아서 직접 임포트하였다. "
      ]
    },
    {
      "cell_type": "code",
      "metadata": {
        "id": "F3S2o5BD4Yl1",
        "colab_type": "code",
        "colab": {}
      },
      "source": [
        "import keras \n",
        "from keras import layers"
      ],
      "execution_count": 0,
      "outputs": []
    },
    {
      "cell_type": "markdown",
      "metadata": {
        "id": "3tdb1N1V4Yl4",
        "colab_type": "text"
      },
      "source": [
        "### 간단한 순차 모델 선언\n",
        "\n",
        "신경망의 가장 기본이 되는 구조는 순차적으로 레이어를 배치하고 역전파 모델로 이를 학습하는 방법이다. 사실 현대에는 다양한 파생구조가 존재하지만 우선은 이러한 순차모델부터 익혀보자. "
      ]
    },
    {
      "cell_type": "code",
      "metadata": {
        "id": "GchYbQF94Yl5",
        "colab_type": "code",
        "colab": {}
      },
      "source": [
        "model = keras.models.Sequential() "
      ],
      "execution_count": 0,
      "outputs": []
    },
    {
      "cell_type": "markdown",
      "metadata": {
        "id": "iqFLAm684Yl7",
        "colab_type": "text"
      },
      "source": [
        "이제  model 이라는 변수가 신경망을 의미하게된다."
      ]
    },
    {
      "cell_type": "markdown",
      "metadata": {
        "id": "ZAZx87yt4Yl8",
        "colab_type": "text"
      },
      "source": [
        "### 입력 레이어 추가 \n",
        "\n",
        "가장 간단한 모델로 입력값 두개를 받는 입력 레이어를 생성한다. 이는 model.add 를 이용해 층을 추가함으로서 이루어진다. \n",
        "\n",
        "가장 초기부터 널리 사용되는 층은 입력값을 가중치를 곱해 합산후에 필터를 거치는 방식이다. 이러한 층을 케라스에서는 \n",
        "layers.Dense 로 정의한다. Dense 계층은 기본적으로 node 숫자를 요구한다. \n",
        "\n",
        "    layers.Dense([노드숫자],.. 옵션들)\n",
        "\n",
        "단 중간계층은 전층의 출력에 의해 자동으로 입력이 주어지지만 입력계층은 입력값의 형태를 같이 옵션으로 넣어줘야한다. 이는 다음과 같은 옵션을 사용한다. 아래의 옵션은 2개의 값으로 이뤄진 1차원 배열 형태로 입력값을 끊어서 입력받음을 의미한다. \n",
        "\n",
        "    input_shape = (2,)\n",
        "\n",
        "activation 옵션은 합산된 입력값을 다시 출력값으로 전환하는 과정에서 사용하는 함수로서 이를 활성함수라고 한다. 가장 유명한 함수로 sigmoid 가 있지만 속도등의 이유로 relu 가 기본값으로 입력되어있다. \n",
        "\n",
        "    activation = 'relu' \n",
        "\n",
        "이제 위의 예에서 사용된 입력 계층을 한번 살펴보자.     "
      ]
    },
    {
      "cell_type": "code",
      "metadata": {
        "id": "atyWctFu4Yl9",
        "colab_type": "code",
        "colab": {}
      },
      "source": [
        "model.add(layers.Dense(2, activation = 'sigmoid', input_shape = (2,))) "
      ],
      "execution_count": 0,
      "outputs": []
    },
    {
      "cell_type": "markdown",
      "metadata": {
        "id": "fMKgWjwT4Yl_",
        "colab_type": "text"
      },
      "source": [
        "### 출력 레이어 추가 \n",
        "\n",
        "출력이나 은닉레이어는 자동으로 input_shape 가 결정되므로 input_shape 옵션은 필요로 하지 안는다. 대신 활성화 함수로서 softmax 를 주로 사용하는데 softmax 는 출력값에서 강한 출력값을 더 강화해주고 작은 출력값은 더 작게 만들어준다. 예를 들어 [0.2, 0.7] 을 [0.1, 0.9] 정도로 차이를 강화하는 효과가 있다. \n",
        "\n",
        "위의 예에서는 2x2 의 신경망이므로 다음과 같이 출력층을 정의하였다. "
      ]
    },
    {
      "cell_type": "code",
      "metadata": {
        "id": "vvGeWiJJ4YmA",
        "colab_type": "code",
        "colab": {}
      },
      "source": [
        "model.add(layers.Dense(2, activation = 'softmax'))"
      ],
      "execution_count": 0,
      "outputs": []
    },
    {
      "cell_type": "markdown",
      "metadata": {
        "id": "a9Js6-7c4YmC",
        "colab_type": "text"
      },
      "source": [
        "### 모델 컴파일 \n",
        "\n",
        "모델을 컴파일하는 이유는 정의된 신경망의 학습 옵션을을 정의하고, 가중치의 초기화를 수행하기 위해서이다.이 모델 컴파일에 필수적인 옵션 요소는 다음과 같다. \n",
        "\n",
        "    optimizer : 가중치를 업데이트하는 방식으로 경사하강법(sgd),adam, rmsprop 등등이 있음\n",
        "    loss : 오차를 계산하는 방식 'categorical_crossentropy' ,'squared_mean_error' 등등이 있음\n",
        "    metircs : loss 이외에 성능 평가를 위한 지표 'acc', 'mae'  등이 있음\n",
        "  \n",
        "metrics 는 여러 지표를 선택하기 위해 배열형태로 입력하여야한다. (예: metrics = ['acc', 'mae'] )\n",
        "    \n"
      ]
    },
    {
      "cell_type": "code",
      "metadata": {
        "id": "evZjyzGi4YmD",
        "colab_type": "code",
        "colab": {}
      },
      "source": [
        "model.compile(optimizer = 'rmsprop', loss = 'categorical_crossentropy', metrics = ['acc'])"
      ],
      "execution_count": 0,
      "outputs": []
    },
    {
      "cell_type": "markdown",
      "metadata": {
        "id": "baptm9CX4YmF",
        "colab_type": "text"
      },
      "source": [
        "### 모델 요약 및 초기화 \n",
        "\n",
        "생성된 모델 정보를 검색하기 위해서는 다음과 같은 함수를 호출하면 된다. \n",
        "\n"
      ]
    },
    {
      "cell_type": "code",
      "metadata": {
        "id": "rdvqKeYD4YmG",
        "colab_type": "code",
        "colab": {}
      },
      "source": [
        "model.summary() "
      ],
      "execution_count": 0,
      "outputs": []
    },
    {
      "cell_type": "markdown",
      "metadata": {
        "id": "3q98f_b54YmJ",
        "colab_type": "text"
      },
      "source": [
        "그런데 주피터에서 작업을 많이 하다보면 모델생성코드를 재실행시 dense 값들이 계속 올라가는 것을 볼 수 있을것이다. 이는 keras 의 밑단이 되는 tensorflow 구조가 계속 누적된다는 의미이며 이것이 학습에 영향을 주는 경우도 있기 때문에 이를 초기화시키려면 다음과 같은 코드를 실행하면 된다. "
      ]
    },
    {
      "cell_type": "code",
      "metadata": {
        "id": "1haal0uX4YmK",
        "colab_type": "code",
        "colab": {}
      },
      "source": [
        "keras.backend.clear_session()"
      ],
      "execution_count": 0,
      "outputs": []
    },
    {
      "cell_type": "markdown",
      "metadata": {
        "id": "vAxeXtOI4YmM",
        "colab_type": "text"
      },
      "source": [
        "\n",
        "<hr> \n",
        "\n",
        "# 데이터 입력 및 학습 실행\n",
        "\n",
        "데이터의 학습은 생각보다 간단하다. model.fit 함수에 입력, 예상 출력 값을 넣어주고 반복시행시 필요한 옵션을 입력하면 된다. \n",
        "\n",
        "    model.fit( [x], [y], 반복 옵션.. ) \n",
        "    \n",
        "\n",
        "### 입력데이터(x)의 생성\n",
        "\n",
        "대부분 파이썬 학습이 그러하듯 케라스도 numpy 데이터를 입력으로 사용한다. 그리고 역시 대부분이 그러하듯 표준데이터는 다음과 같이 전체케이스를  2차원 배열로 한방에 넣는 것을 선호한다. \n",
        "\n",
        "만일 다음과 같은 케이스가 있다고 가정하자. \n",
        "\n",
        "    x : [0,1]  => y : 0\n",
        "    x : [1,0]  => y : 1 \n",
        "\n",
        "이때의 입력데이터 x 는 다음과 같이 정의하면 된다. \n",
        "\n",
        "    np.array( [[0,1], [1,0]] ) \n",
        "  \n",
        "만일 입력값이 3개라면 [[0,0,1], [0,1,0], .. ] 형태가 된다. 그리고 대부분의 x 데이터는 실수값이어야 하므로 최종적으로 x 의 형태는 다음과 같다. "
      ]
    },
    {
      "cell_type": "code",
      "metadata": {
        "id": "1ghAA0Mm4YmN",
        "colab_type": "code",
        "colab": {}
      },
      "source": [
        "x = np.array( [[0,1], [1,0]] ).astype('float32')"
      ],
      "execution_count": 0,
      "outputs": []
    },
    {
      "cell_type": "markdown",
      "metadata": {
        "id": "mwDGM8Se4YmP",
        "colab_type": "text"
      },
      "source": [
        "   \n",
        "### 출력 기대값(y)의 생성\n",
        "\n",
        "분류(classification) 문제의 경우 출력 값은 해당 클래스를 의미하 경우가 많다.  이런 경우 y를 범주형으로 간주하는데 이 경우는 y값이 0과 1으로 표현되었지만 이를 각각 두개의 서로 다른 노드의 출력으로 유도하기 위해 [0,1] [1,0] 으로 표현한다. 이 역시 되도록이면 실수로 표현하는게 좋으므로 다음과 같이 표현한다. \n",
        "       "
      ]
    },
    {
      "cell_type": "code",
      "metadata": {
        "id": "PuctmRYD4YmQ",
        "colab_type": "code",
        "colab": {}
      },
      "source": [
        "y = np.array( [[0,1], [1,0]] ).astype('float32')"
      ],
      "execution_count": 0,
      "outputs": []
    },
    {
      "cell_type": "markdown",
      "metadata": {
        "id": "GcPOmz0x4YmT",
        "colab_type": "text"
      },
      "source": [
        "### 학습 실행 \n",
        "\n",
        "이제 학습을 위해 model.fit을 실행하기 위한 데이터의 준비가 끝났다. 단 실행시 두가지 반복옵션이 필요하다. \n",
        "\n",
        "    epochs : 전체 반복횟수\n",
        "    batch_size : 한번 반복시 읽어들이는 데이터량 \n",
        "    \n",
        "batch_size 는 병렬로 처리되는 케이스 크기로서 작은 입력케이스의 경우 케이스 전체숫자를 한기준으로 하는 경우가 많다. 실제 학습횟수는 케이스의 양은 batch_size * epochs 가 된다.  위의 예제에서는 케이스가 2개이므로 batch_size를 2로 설정하였다.    \n",
        "    "
      ]
    },
    {
      "cell_type": "code",
      "metadata": {
        "id": "UkIVxcn04YmT",
        "colab_type": "code",
        "colab": {}
      },
      "source": [
        "hist = model.fit(x,y, epochs = 1000, batch_size = 2)"
      ],
      "execution_count": 0,
      "outputs": []
    },
    {
      "cell_type": "markdown",
      "metadata": {
        "id": "7tHPfVBv4YmV",
        "colab_type": "text"
      },
      "source": [
        "### <font color = 'red'> 연습문제 1-1 : 다음의 데이터를 학습해보세요\n",
        "    \n",
        "    x : 0,0,1 -> 1\n",
        "    x : 1,0,0 -> 2\n",
        "    x : 0,1,0 -> 3\n",
        "    \n",
        "    "
      ]
    },
    {
      "cell_type": "code",
      "metadata": {
        "id": "saCeuXdH4YmW",
        "colab_type": "code",
        "colab": {}
      },
      "source": [
        "## 연습문제 1-1 코드를 여기서 작성해보세요 "
      ],
      "execution_count": 0,
      "outputs": []
    },
    {
      "cell_type": "markdown",
      "metadata": {
        "id": "voAV5E-54YmZ",
        "colab_type": "text"
      },
      "source": [
        "<hr style=\"height:2px\" > \n",
        "\n",
        "# 은닉층과 xor 문제의 해결\n",
        "\n",
        "xor 문제는 다층신경망 - 역전파 모델을 탄생시킨 모티브가 된 유명한 문제이다. 이는 입력 x 출력 으로 구성되는 단층 신경망으로는 해결이 불가능하며 이를 위해 다층 신경망이 필요하다. \n",
        "\n",
        "이번에는 먼저 문제의 데이터를 정의히자. \n",
        "\n",
        "###  xor문제의 입력데이터 "
      ]
    },
    {
      "cell_type": "code",
      "metadata": {
        "id": "zjz1Xod54Yma",
        "colab_type": "code",
        "colab": {}
      },
      "source": [
        "import numpy as np\n",
        "\n",
        "x = np.array([[0,0], [0,1], [1,0], [1,1]]).astype(\"float32\")\n",
        "y = np.array([[0,1], [1,0], [1,0], [0,1]]).astype(\"float32\")\n"
      ],
      "execution_count": 0,
      "outputs": []
    },
    {
      "cell_type": "markdown",
      "metadata": {
        "id": "mL7tPQyW4Ymc",
        "colab_type": "text"
      },
      "source": [
        "### 은닉층을 포함한 신경망 구성 "
      ]
    },
    {
      "cell_type": "code",
      "metadata": {
        "id": "fjbMMCzt4Ymc",
        "colab_type": "code",
        "colab": {}
      },
      "source": [
        "from keras import models\n",
        "from keras import layers\n",
        "keras.backend.clear_session\n",
        "model = models.Sequential() \n",
        "model.add(layers.Dense(2, activation = 'sigmoid', input_shape = (2,)))\n",
        "model.add(layers.Dense(4))\n",
        "model.add(layers.Dense(2, activation ='softmax'))\n",
        "model.compile(optimizer = 'rmsprop', loss = 'categorical_crossentropy', metrics = ['acc'])"
      ],
      "execution_count": 0,
      "outputs": []
    },
    {
      "cell_type": "markdown",
      "metadata": {
        "id": "JOpQeuzL4Ymf",
        "colab_type": "text"
      },
      "source": [
        "### 학습 실행 \n",
        "\n",
        "xor는 보기보다 난이도가 있는 문제이다. 그러므로 생각보다 많은 epoch를 요구한다. "
      ]
    },
    {
      "cell_type": "code",
      "metadata": {
        "id": "glRMCPsy4Ymg",
        "colab_type": "code",
        "colab": {}
      },
      "source": [
        "model.fit(x,y, epochs = 1000, batch_size = 4)"
      ],
      "execution_count": 0,
      "outputs": []
    },
    {
      "cell_type": "markdown",
      "metadata": {
        "id": "3-6D2wqP4Ymi",
        "colab_type": "text"
      },
      "source": [
        "### 그래프로 모니터링 하기 \n",
        "\n",
        "반복횟수(epochs)가 1000회가 넘어가면 사실 이 학습이 제대로 이뤄지고 있는지 확인하는 것도 만만한 일이 아니다. 그리고 눈으로 스크롤하며 변화치를 봐서는 이게 제대로 학습이 이루어지고 있는지 확인하기도 어렵다. 이제 이 loss 변화를 직접 눈으로 확인할 수 있는 방법을 알아보자. \n",
        "\n",
        "model.fit 은 각 epoch 당 학습의 결과값들을 history형태로 리턴한다. 간단하게 history 의 형태를 보자. \n",
        "\n"
      ]
    },
    {
      "cell_type": "code",
      "metadata": {
        "id": "f3v_TOcm4Ymj",
        "colab_type": "code",
        "colab": {}
      },
      "source": [
        "hist = model.fit(x,y, epochs = 10, batch_size = 40)\n",
        "print( hist.history )"
      ],
      "execution_count": 0,
      "outputs": []
    },
    {
      "cell_type": "markdown",
      "metadata": {
        "id": "A6Q-Z1Vg4Yml",
        "colab_type": "text"
      },
      "source": [
        "tuple 형태로 'loss' 와 'acc' 가 전달된 것을 볼 수 있을 것이다. 이제 이것을 그래프로 표현해보도록 하겠다. \n"
      ]
    },
    {
      "cell_type": "code",
      "metadata": {
        "id": "x2utvw0E4Ymm",
        "colab_type": "code",
        "colab": {}
      },
      "source": [
        "import matplotlib.pyplot as plt \n",
        "plt.plot(hist.history['loss'])\n",
        "plt.show()"
      ],
      "execution_count": 0,
      "outputs": []
    },
    {
      "cell_type": "markdown",
      "metadata": {
        "id": "QK9ZUQ-e4Ymo",
        "colab_type": "text"
      },
      "source": [
        "이제 학습이 이뤄진 loss 의 변화 과정을 그래프로 한눈에 볼수 있게 되었다. 그런데 학습 결과를 아래로 한참 스크롤 하여 그래프 결과를 보는 것도 상당히 귀찮은 일이다.  이를 위해서 학습 과정시 나오는 바와, 수치 출력을 제거할 수 있는 옵션이 있다. \n",
        "\n",
        "    model.fit( ... verbose = 0 )\n",
        " \n",
        "이제 위의 xor 학습을 메시지 없이 그래프 형태로 모니터링하도록 바꿔보자. \n"
      ]
    },
    {
      "cell_type": "code",
      "metadata": {
        "id": "0zkd42Kq4Ymp",
        "colab_type": "code",
        "colab": {}
      },
      "source": [
        "import matplotlib.pyplot as plt \n",
        "hist = model.fit(x,y, epochs = 1000, batch_size = 4, verbose  = 0)\n",
        "plt.plot(hist.history['loss'])\n",
        "plt.show()\n",
        "print(\"last acc :\", hist.history['acc'][-1])\n"
      ],
      "execution_count": 0,
      "outputs": []
    },
    {
      "cell_type": "markdown",
      "metadata": {
        "id": "T1QwPyUp4Ymr",
        "colab_type": "text"
      },
      "source": [
        " <font color = 'red'> \n",
        "### 연습문제 1-2 : xor epoch 최소화 \n",
        "acc 가  1.0 에 도달한 최초 epoch 를 찾고 batch_size 를 바꾸며 이를 최소화할 수 있게 실행해보자. \n",
        "    \n",
        "    \n",
        "    "
      ]
    },
    {
      "cell_type": "code",
      "metadata": {
        "scrolled": true,
        "id": "SVr9IdF-4Yms",
        "colab_type": "code",
        "colab": {}
      },
      "source": [
        "## 연습문제 1-2 코드를 여기에 작성해서 돌려보세요 \n",
        "import matplotlib.pyplot as plt \n",
        "hist = model.fit(x,y, epochs = 4000, batch_size = 4, verbose  = 0)\n",
        "plt.plot(hist.history['loss'])\n",
        "plt.show()\n",
        "print(\"last acc :\", hist.history['acc'][-1])\n",
        "print( len( hist.history['acc']) )"
      ],
      "execution_count": 0,
      "outputs": []
    },
    {
      "cell_type": "markdown",
      "metadata": {
        "id": "beBzw2aA4Ymu",
        "colab_type": "text"
      },
      "source": [
        "<hr style=\"height:2px\" > \n",
        "\n",
        "#  학습 모델 공간 분포 시각화 \n",
        "\n",
        "### 학습 결과 활용 하기 \n",
        "\n",
        "신경망으로 생성된 분류기는 실제 데이터를 판별하기 위해 적용될 수 있다. 학습된 망에 직접 커스텀 데이터를 넣어서 확인하는 방법은 다음과 같다. \n"
      ]
    },
    {
      "cell_type": "code",
      "metadata": {
        "id": "mhZGA-Ru4Ymv",
        "colab_type": "code",
        "colab": {}
      },
      "source": [
        "print(model.predict( np.array([[0,1]])))"
      ],
      "execution_count": 0,
      "outputs": []
    },
    {
      "cell_type": "markdown",
      "metadata": {
        "id": "sVlf4KQt4Ymx",
        "colab_type": "text"
      },
      "source": [
        "학습은 0과 1로 이뤄졌지만 신경망은 수학적 실수연산의 네트워크이므로 그 중간값에 대해서도 출력이 가능하다. 당연히 0.5,0.5 도 그 결과값을 리턴한다. "
      ]
    },
    {
      "cell_type": "code",
      "metadata": {
        "id": "14Vm8cOZ4Ymz",
        "colab_type": "code",
        "colab": {}
      },
      "source": [
        "print(model.predict( np.array([[0.5,0.5]])))"
      ],
      "execution_count": 0,
      "outputs": []
    },
    {
      "cell_type": "markdown",
      "metadata": {
        "id": "mUZjR2L84Ym1",
        "colab_type": "text"
      },
      "source": [
        "그렇다면 신경망이 학습한 상태공간은 어떻게 구성되어있을까? 직접 보고싶은 생각이 들것이다.  이는 간단하다. x,y 0부터 1까지의 공간의 점을 모두 신경망에 넣어보면 된다. \n",
        "\n",
        "물론 평면의 점의 갯수는 무한개지만 일정 간격으로 점을 추출하면 유한개의 점이 추출된다. 하지만 이런 점들의 집합을 어떻게 생성할까? 물론 이중 루프를 돌려서 생성하는 방법도 있다. 하지만 numpy는 좀더 간단한 방법으로 meshgrid 라는 방법을 제공한다. \n"
      ]
    },
    {
      "cell_type": "code",
      "metadata": {
        "id": "ZU-NpuwB4Ym2",
        "colab_type": "code",
        "colab": {}
      },
      "source": [
        "import matplotlib.pyplot as plt \n",
        "\n",
        "x = np.mgrid[0:1:0.1, 0:1:0.1].reshape(2,-1).T\n",
        "print(x)\n",
        "plt.scatter(x[:,0], x[:,1])\n",
        "plt.show()"
      ],
      "execution_count": 0,
      "outputs": []
    },
    {
      "cell_type": "markdown",
      "metadata": {
        "id": "c9XL1EMk4Ym6",
        "colab_type": "text"
      },
      "source": [
        "이번에는 x를 model에 입력한 결과값을 한번 보자. "
      ]
    },
    {
      "cell_type": "code",
      "metadata": {
        "id": "Kx6J_fLd4Ym7",
        "colab_type": "code",
        "colab": {}
      },
      "source": [
        "y = model.predict(x)\n",
        "print(y)"
      ],
      "execution_count": 0,
      "outputs": []
    },
    {
      "cell_type": "markdown",
      "metadata": {
        "id": "f1hZlaUK4Ym9",
        "colab_type": "text"
      },
      "source": [
        "위의 결과는 단순한 신경망의 출력값이다. 물론 이 값에서 앞의 값이 더 크면 0, 뒤의 값이 더 크면 1로 간주해도 좋을 것이다. 그렇지만 이것을 시각화하려면 0,1.. 등의 값이 필요하다. 어떻게 해야할까?  \n",
        "\n",
        "물론 모든것이 그러하듯 하드코딩해도 상관은 없을 테지만.. 코드가 복잡해지는걸 막기위해서 여기서는 해 배열중에 가장 큰 배열의 인덱스 값을 출력하는 numpy 함수인 argmax 를 이용하도록 하겠다. 단 가로축(axis=1) 기준으로 큰 값의 인덱스를 생성하도록 다음과 같이 사용한다. "
      ]
    },
    {
      "cell_type": "code",
      "metadata": {
        "id": "Mye2xllR4Ym-",
        "colab_type": "code",
        "colab": {}
      },
      "source": [
        "print(np.argmax(y, axis = 1 ))"
      ],
      "execution_count": 0,
      "outputs": []
    },
    {
      "cell_type": "markdown",
      "metadata": {
        "id": "DI_dypth4Ym_",
        "colab_type": "text"
      },
      "source": [
        "이제 준비가 다 되었다. xor 신경망이 생성한 상태공간의 모습을 직접 보는 전체 코드를 보자. "
      ]
    },
    {
      "cell_type": "code",
      "metadata": {
        "id": "gUKkelgg4YnA",
        "colab_type": "code",
        "colab": {}
      },
      "source": [
        "import matplotlib.pyplot as plt \n",
        "\n",
        "x = np.mgrid[0:1:0.02, 0:1:0.02].reshape(2,-1).T\n",
        "y = model.predict(x)\n",
        "plt.scatter(x[:,0], x[:,1], marker = '.', c = np.argmax(y, axis = 1))\n",
        "plt.show()"
      ],
      "execution_count": 0,
      "outputs": []
    },
    {
      "cell_type": "markdown",
      "metadata": {
        "id": "qYE-CpGK4YnC",
        "colab_type": "text"
      },
      "source": [
        " <font color = 'red'> \n",
        "### 연습문제 1-3 : 신경망으로 그림 그리기 \n",
        "신경망의 학습 샘플을 생성해 다양한 형태의 상태공간모양을 만들어보자. \n",
        "    \n",
        "    \n",
        "    "
      ]
    },
    {
      "cell_type": "code",
      "metadata": {
        "id": "Xl4comGa4YnC",
        "colab_type": "code",
        "colab": {}
      },
      "source": [
        ""
      ],
      "execution_count": 0,
      "outputs": []
    },
    {
      "cell_type": "code",
      "metadata": {
        "id": "uj5kkKzr4YnE",
        "colab_type": "code",
        "colab": {}
      },
      "source": [
        ""
      ],
      "execution_count": 0,
      "outputs": []
    }
  ]
}