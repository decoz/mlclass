{
  "nbformat": 4,
  "nbformat_minor": 0,
  "metadata": {
    "colab": {
      "name": "ch7 rcnn.ipynb",
      "provenance": [],
      "authorship_tag": "ABX9TyNGngnx6HzC/6JZx2o9/Scr",
      "include_colab_link": true
    },
    "kernelspec": {
      "name": "python3",
      "display_name": "Python 3"
    },
    "accelerator": "GPU"
  },
  "cells": [
    {
      "cell_type": "markdown",
      "metadata": {
        "id": "view-in-github",
        "colab_type": "text"
      },
      "source": [
        "<a href=\"https://colab.research.google.com/github/decoz/mlclass/blob/master/ch7_rcnn.ipynb\" target=\"_parent\"><img src=\"https://colab.research.google.com/assets/colab-badge.svg\" alt=\"Open In Colab\"/></a>"
      ]
    },
    {
      "cell_type": "markdown",
      "metadata": {
        "id": "GfZQXUdYHtaq",
        "colab_type": "text"
      },
      "source": [
        "## Mask RCNN \n",
        "\n",
        "RCNN중에 가장 발전된 형태인 Mask-RCNN은 네트워크의 구조가 복잡해서 아직 케라스 내부 라이브러리에서 지원하지 안는다. 또한 동시에 엄청난 학습 시간을 필요로 하니 이번 시간엔 이를 구현한 외부코드를 이용해 사용하는 방법을 한번 체험해본다. \n",
        "\n",
        "먼저 가장 널리 알려진 Keras RCNN 코드는 https://github.com/matterport/Mask_RCNN.git 에 존재한다. 이 소스를 카피하는 git 명령어를 실행시켜보자 \n",
        "\n"
      ]
    },
    {
      "cell_type": "markdown",
      "metadata": {
        "id": "_eqjwJuLM8W9",
        "colab_type": "text"
      },
      "source": [
        "### 설치 (matterport 버젼)"
      ]
    },
    {
      "cell_type": "code",
      "metadata": {
        "id": "DB_mligpHnQr",
        "colab_type": "code",
        "colab": {}
      },
      "source": [
        "!git clone https://github.com/matterport/Mask_RCNN.git"
      ],
      "execution_count": null,
      "outputs": []
    },
    {
      "cell_type": "markdown",
      "metadata": {
        "id": "HUf2hALxIcfk",
        "colab_type": "text"
      },
      "source": [
        "이 코드를 실행하기 위해서 필요한 패키지는 다음과 같다. 특히 텐서플로우의 하위버젼이 필요한데 이럴땐 colab 의 가상 환경이 도움이 되니 부담없이 다운그래이드를 해준다. "
      ]
    },
    {
      "cell_type": "code",
      "metadata": {
        "id": "4VQ4890hIM9i",
        "colab_type": "code",
        "colab": {}
      },
      "source": [
        "!pip install pycocotools\n",
        "!pip install mrcnn|\n",
        "!pip install tensorflow==1.9.0\n",
        "!pip install keras==2.2.0\n",
        "print(\"Installed packages\")"
      ],
      "execution_count": null,
      "outputs": []
    },
    {
      "cell_type": "markdown",
      "metadata": {
        "id": "vyAk6Q9eLsmD",
        "colab_type": "text"
      },
      "source": [
        "작업을 원할하게 하기 위해 현재 디렉토리를 위에서 다운받은 폴더로 이동해준다. "
      ]
    },
    {
      "cell_type": "code",
      "metadata": {
        "id": "uB3Hlt97IgKQ",
        "colab_type": "code",
        "colab": {}
      },
      "source": [
        "import os\n",
        "os.chdir('/content/Mask_RCNN/')"
      ],
      "execution_count": null,
      "outputs": []
    },
    {
      "cell_type": "markdown",
      "metadata": {
        "id": "k4GvZ32ZMjT_",
        "colab_type": "text"
      },
      "source": [
        "파이썬 소스에 setup.cfg 와 setup.py 가 있을 경우는 대부분 이 코드를 인스톨이 가능하다. 이를 인스톨 하는 명령은 다음과 같다. "
      ]
    },
    {
      "cell_type": "code",
      "metadata": {
        "id": "3DeWFQpEIvRA",
        "colab_type": "code",
        "colab": {}
      },
      "source": [
        "!python setup.py install "
      ],
      "execution_count": null,
      "outputs": []
    },
    {
      "cell_type": "markdown",
      "metadata": {
        "id": "KvbnA-x2NCSX",
        "colab_type": "text"
      },
      "source": [
        "### 모델 로딩 \n",
        "\n",
        "다음은 모델을 로딩하기 위한 준비단계이다.  먼저 모델을 파일로 다운로드 받도록 하겠다. "
      ]
    },
    {
      "cell_type": "code",
      "metadata": {
        "id": "Hyqdfn6YNaN1",
        "colab_type": "code",
        "colab": {}
      },
      "source": [
        "\n",
        "from mrcnn import utils\n",
        "utils.download_trained_weights(\"mask_rcnn_coco.h5\")\n"
      ],
      "execution_count": null,
      "outputs": []
    },
    {
      "cell_type": "markdown",
      "metadata": {
        "id": "g8oiskvuUwBu",
        "colab_type": "text"
      },
      "source": [
        "이제 좌측 파일 탭을 보면 Mask_RCNN 폴더에 mask_rcnn_coco.h5 파일이 생긴 것을 볼 수 있다.\n",
        "\n",
        "mrcnn 은 모델을 생성시 config 가 필요한데  coco 데이터에 맞게 model 생성하기 위해 coco 모듈을 import 하고 이를 이용해 config 를 상속받아 설정한다. "
      ]
    },
    {
      "cell_type": "code",
      "metadata": {
        "id": "2NeeACSKTXn7",
        "colab_type": "code",
        "colab": {}
      },
      "source": [
        "import sys \n",
        "sys.path.append(\"/content/Mask_RCNN/samples/coco/\") \n",
        "\n",
        "import coco\n",
        "class InferenceConfig(coco.CocoConfig):\n",
        "    GPU_COUNT = 1\n",
        "    IMAGES_PER_GPU = 1\n",
        "\n",
        "config = InferenceConfig()\n",
        "config.display()"
      ],
      "execution_count": null,
      "outputs": []
    },
    {
      "cell_type": "markdown",
      "metadata": {
        "id": "iFydnb1rOIpz",
        "colab_type": "text"
      },
      "source": [
        " 간단하게 load_model 하면 되는 다른 모델과 달리 mrcnn 은 망구조와 weight 를 따로 로딩한다. config 가 생성되었으니 이제 이 config를 통해 모델을 생성하고 weight를 읽어들인다.  "
      ]
    },
    {
      "cell_type": "code",
      "metadata": {
        "id": "hZjm9S2HOC3N",
        "colab_type": "code",
        "colab": {}
      },
      "source": [
        "import mrcnn.model as modellib\n",
        "model = modellib.MaskRCNN(mode=\"inference\", config=config, model_dir=\"/content/Mask_RCNN/\")\n",
        "model.load_weights(\"mask_rcnn_coco.h5\", by_name=True)"
      ],
      "execution_count": null,
      "outputs": []
    },
    {
      "cell_type": "markdown",
      "metadata": {
        "id": "jclcbqW9PAE-",
        "colab_type": "text"
      },
      "source": [
        "\n",
        "### 모델 테스트 \n",
        "\n",
        "이제 모델로 이미지를 테스트 하기전에 각 클래스별 레이블이 필요하다. 이는 학습한 데이터에 따라 다른데 우리가 로딩한 데이터의 레이블은 다음과 같다. \n"
      ]
    },
    {
      "cell_type": "code",
      "metadata": {
        "id": "dEUMgf0tPO4k",
        "colab_type": "code",
        "colab": {}
      },
      "source": [
        "class_names = ['BG', 'person', 'bicycle', 'car', 'motorcycle', 'airplane',\n",
        "               'bus', 'train', 'truck', 'boat', 'traffic light',\n",
        "               'fire hydrant', 'stop sign', 'parking meter', 'bench', 'bird',\n",
        "               'cat', 'dog', 'horse', 'sheep', 'cow', 'elephant', 'bear',\n",
        "               'zebra', 'giraffe', 'backpack', 'umbrella', 'handbag', 'tie',\n",
        "               'suitcase', 'frisbee', 'skis', 'snowboard', 'sports ball',\n",
        "               'kite', 'baseball bat', 'baseball glove', 'skateboard',\n",
        "               'surfboard', 'tennis racket', 'bottle', 'wine glass', 'cup',\n",
        "               'fork', 'knife', 'spoon', 'bowl', 'banana', 'apple',\n",
        "               'sandwich', 'orange', 'broccoli', 'carrot', 'hot dog', 'pizza',\n",
        "               'donut', 'cake', 'chair', 'couch', 'potted plant', 'bed',\n",
        "               'dining table', 'toilet', 'tv', 'laptop', 'mouse', 'remote',\n",
        "               'keyboard', 'cell phone', 'microwave', 'oven', 'toaster',\n",
        "               'sink', 'refrigerator', 'book', 'clock', 'vase', 'scissors',\n",
        "               'teddy bear', 'hair drier', 'toothbrush']"
      ],
      "execution_count": null,
      "outputs": []
    },
    {
      "cell_type": "markdown",
      "metadata": {
        "id": "LxgFdvJAQuJo",
        "colab_type": "text"
      },
      "source": [
        "일반적인 케라스 모델과는 달리 커스텀 모델을 정의해 쓰기 때문에 predict 대신 detect 를 사용한다. 그러면 먼저 이미지 디렉토리에 있는 샘플 이미지중에 랜덤 이미지를 읽어서 시각화 하는 코드를 보도록 하겠다. \n",
        "\n"
      ]
    },
    {
      "cell_type": "code",
      "metadata": {
        "id": "1PVGPzhNRUnZ",
        "colab_type": "code",
        "colab": {}
      },
      "source": [
        "from mrcnn import visualize\n",
        "import os \n",
        "import skimage\n",
        "import random \n",
        "\n",
        "IMAGE_DIR = \"/content/Mask_RCNN//images\"\n",
        "# Load a random image from the images folder\n",
        "file_names = next(os.walk(IMAGE_DIR))[2]\n",
        "image = skimage.io.imread(os.path.join(IMAGE_DIR, random.choice(file_names)))\n",
        "\n",
        "# Run detection\n",
        "results = model.detect([image], verbose=1)\n",
        "\n",
        "# Visualize results\n",
        "r = results[0]\n",
        "visualize.display_instances(image, r['rois'], r['masks'], r['class_ids'], \n",
        "                            class_names, r['scores'])"
      ],
      "execution_count": null,
      "outputs": []
    },
    {
      "cell_type": "markdown",
      "metadata": {
        "id": "4Ww63dEuRX_7",
        "colab_type": "text"
      },
      "source": [
        "result 값 역시 일반적인 모델과 달리 dictionary 형태로 리턴되며 시각화 역시 mrcnn 에서 자체적으로 지원된다. \n",
        "\n",
        "### <font color = 'red'> 연습문제 7-1 : 직접 이미지를 다운 받아 테스트하기 \n",
        "위의 클래스에 해당하는 사진이 있는 이미지를 받아 직접 업로드해서 테스트해보자. \n",
        "</font>"
      ]
    },
    {
      "cell_type": "code",
      "metadata": {
        "id": "-X1BKDD6W6jK",
        "colab_type": "code",
        "colab": {}
      },
      "source": [
        ""
      ],
      "execution_count": null,
      "outputs": []
    }
  ]
}