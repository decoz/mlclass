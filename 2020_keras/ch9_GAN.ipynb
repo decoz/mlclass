{
  "nbformat": 4,
  "nbformat_minor": 0,
  "metadata": {
    "colab": {
      "name": "ch9 GAN.ipynb",
      "provenance": [],
      "collapsed_sections": [],
      "toc_visible": true,
      "authorship_tag": "ABX9TyOEXRi/lGie1uF5OuaM6jUT",
      "include_colab_link": true
    },
    "kernelspec": {
      "name": "python3",
      "display_name": "Python 3"
    },
    "accelerator": "GPU"
  },
  "cells": [
    {
      "cell_type": "markdown",
      "metadata": {
        "id": "view-in-github",
        "colab_type": "text"
      },
      "source": [
        "<a href=\"https://colab.research.google.com/github/decoz/mlclass/blob/master/ch9_GAN.ipynb\" target=\"_parent\"><img src=\"https://colab.research.google.com/assets/colab-badge.svg\" alt=\"Open In Colab\"/></a>"
      ]
    },
    {
      "cell_type": "code",
      "metadata": {
        "id": "iTnAZbGDaFPV"
      },
      "source": [
        "import numpy as np \n",
        "import matplotlib.pyplot as plt \n",
        "from keras.models import Sequential\n",
        "from keras.layers import Dense"
      ],
      "execution_count": 1,
      "outputs": []
    },
    {
      "cell_type": "markdown",
      "metadata": {
        "id": "Fba5rEkXaGvY"
      },
      "source": [
        "# GAN\n",
        "\n",
        "GAN은 생산적 적대 신경망 ( Generative Adversarial Network ) 의 약자로서 다양한 딥 페이크 기술에 쓰인다. GAN은  진짜와 그럴듯이 보이는 가짜를 만들어내는  네트워크로서 경쟁 학습이라는 독특한 시스템을 사용한다. \n",
        "\n",
        "GAN에 필요한 요소는 다음과 같다. \n",
        "\n",
        "- 진짜 데이터 \n",
        "- 가짜 데이터를 만드는 모방 신경망\n",
        "- 생성된 데이터 진위 판별 신경망\n",
        "\n",
        "GAN은 다음과 같은 과정을 세번의 과정을 통해 학습된다. \n",
        "\n",
        "1. 모방 신경망(generator)를 통해 가짜 데이터 생성 \n",
        "2. 진짜 데이터와 가짜 데이터를 번갈아 진위판별망(discriminator)에 입력해 학습\n",
        "3. 랜덤 데이터로 모방 신경망 학습 \n",
        "\n",
        "\n",
        "\n",
        "\n",
        "\n"
      ]
    },
    {
      "cell_type": "markdown",
      "metadata": {
        "id": "GKZzPmqXcSU0"
      },
      "source": [
        "\n",
        "<hr> \n",
        "\n",
        "## 가장 단순한 GAN 구성\n",
        "\n",
        "이런 구조의 네트워크를 어떻게 구성해야 하는지 처음에는 언뜻 이해가 가지 안을 것이다.  이제부터 이것이 어떻게 작동하는 지 원리를 알아보기 위해 가장 단순한 형태의 GAN을 하나를 만들어보도록 하겠다. \n",
        "\n",
        "\n",
        "\n"
      ]
    },
    {
      "cell_type": "markdown",
      "metadata": {
        "id": "sDHNgyL_dns_"
      },
      "source": [
        "### 1. 모방할 데이터 모델\n",
        "\n",
        "다음은 흔한 numpy 의 sin 관계를 갖는 데이터 생성코드이다.  \n"
      ]
    },
    {
      "cell_type": "code",
      "metadata": {
        "colab": {
          "base_uri": "https://localhost:8080/",
          "height": 265
        },
        "id": "40tfvkboc3bp",
        "outputId": "cd979f7f-05eb-41ab-965b-f198ea852e95"
      },
      "source": [
        "import numpy as np \n",
        "import matplotlib.pyplot as plt \n",
        "\n",
        "x = (np.random.rand(30,1) - 0.5)*2.*np.pi # -pi ~ pi 까지 랜덤 생성\n",
        "y = np.sin(x)    # y 는 x의 sin 함수 값\n",
        "\n",
        "plt.plot(x,y,'.')\n",
        "plt.show()\n"
      ],
      "execution_count": 2,
      "outputs": [
        {
          "output_type": "display_data",
          "data": {
            "image/png": "[encoded data removed]",
            "text/plain": [
              "<Figure size 432x288 with 1 Axes>"
            ]
          },
          "metadata": {
            "tags": [],
            "needs_background": "light"
          }
        }
      ]
    },
    {
      "cell_type": "markdown",
      "metadata": {
        "id": "-rAg3LR6dlNd"
      },
      "source": [
        "이제 위의 곡선이 우리가 모방하고 싶은 x,y 의 모임이라고 가정해보자. 이제 위의 곡선을 통해 모방 데이터를 생성하는 함수를 하나 정의하도록 하겠다.  아래의 함수 real 은 n개의 sin 에 위치한 점을 생성한다. \n",
        "\n",
        "주의할 점은 x 와 sin(x)가 같이 2차원 배열로 리턴되고 y 는 real 데이터를 의미하는 1 값으로 채워진다.  이것은 점 -> 진짜 or 가짜 판별을 위한 판별망에 학습데이터로 사용하기 위해서이다. \n",
        "\n"
      ]
    },
    {
      "cell_type": "code",
      "metadata": {
        "colab": {
          "base_uri": "https://localhost:8080/",
          "height": 607
        },
        "id": "R_8ZDXlWdcq9",
        "outputId": "de2bef69-f90b-42a4-fb6d-6849796d05a6"
      },
      "source": [
        "def real(n):   \n",
        "    x = (np.random.rand(n,1) - 0.5)*2.*np.pi\n",
        "    x = np.hstack((x, np.sin(x)))\n",
        "    y = np.ones((n, 1))\n",
        "    return x,y\n",
        "\n",
        "x,y = real(10)\n",
        "plt.plot(x[:,0], x[:,1],'.')\n",
        "plt.show()\n",
        "print(x,y)"
      ],
      "execution_count": 3,
      "outputs": [
        {
          "output_type": "display_data",
          "data": {
            "image/png": "[encoded data removed]",
            "text/plain": [
              "<Figure size 432x288 with 1 Axes>"
            ]
          },
          "metadata": {
            "tags": [],
            "needs_background": "light"
          }
        },
        {
          "output_type": "stream",
          "text": [
            "[[-1.94432444 -0.93104572]\n",
            " [ 0.11861465  0.11833671]\n",
            " [ 1.52886952  0.9991212 ]\n",
            " [ 0.18322966  0.18220611]\n",
            " [ 2.09657676  0.86493252]\n",
            " [ 2.86330942  0.27470533]\n",
            " [ 0.70315386  0.64662669]\n",
            " [ 2.82688879  0.30953489]\n",
            " [ 0.65393867  0.60831721]\n",
            " [ 2.96690702  0.17379856]] [[1.]\n",
            " [1.]\n",
            " [1.]\n",
            " [1.]\n",
            " [1.]\n",
            " [1.]\n",
            " [1.]\n",
            " [1.]\n",
            " [1.]\n",
            " [1.]]\n"
          ],
          "name": "stdout"
        }
      ]
    },
    {
      "cell_type": "markdown",
      "metadata": {
        "id": "nvjALbRXfEK7"
      },
      "source": [
        "### 2. 모방 신경망 (generator)\n",
        "\n",
        " 우리의 목표는 이 데이터를 만들어주는 모방 신경망(generator)이다.  이 망에서 입력은 어디까지나 데이터를 생성하기 위한 시드값일 뿐이며 타겟 데이터와는 연관이 없는 랜덤값을 사용한다. 요컨데 우리가 원하는 것은 \n",
        "\n",
        "\"아무 값이나 넣어도 sin 곡선안에 있는 한점을 만들어주는 신경망 \"\n",
        "\n",
        "이다. 점을 만들어주기 때문에 출력은 2차원이여야 하며 입력은 일종의 더미 데이터이기 때문에 임의의 크기로 자유롭게 구성할 수 있다. \n",
        "\n",
        "\n"
      ]
    },
    {
      "cell_type": "code",
      "metadata": {
        "id": "okWrpXmOhpQV"
      },
      "source": [
        "from keras.models import Sequential\n",
        "from keras.layers import Dense\n",
        "import tensorflow as tf\n",
        "\n",
        "# keras 모델 리셋\n",
        "tf.keras.backend.clear_session()\n",
        "\n",
        "\n",
        "x_dim = 3 # 더미 입력값 크기\n",
        "\n",
        "# 모방 신경망 정의 \n",
        "generator = Sequential() \n",
        "generator.add(Dense(15, activation='relu', input_dim=x_dim))\n",
        "generator.add(Dense(2, activation='linear'))\n",
        " \n",
        "    \n"
      ],
      "execution_count": 4,
      "outputs": []
    },
    {
      "cell_type": "markdown",
      "metadata": {
        "id": "C9L4Nu4_jr35"
      },
      "source": [
        "이제 generator 를 이용해 모방 데이터를 생성하는 함수를 정의하도록 하겠다.  create_x 는 n개의 랜덤한 더미 입력값을 만들어주며, fake 는 generator 를 이용해 모방 데이터를 생성한다. \n"
      ]
    },
    {
      "cell_type": "code",
      "metadata": {
        "colab": {
          "base_uri": "https://localhost:8080/",
          "height": 283
        },
        "id": "gttim5YbjtYS",
        "outputId": "9e37419a-7cd5-4efa-de67-ce42d529ab49"
      },
      "source": [
        "\n",
        "def create_x(x_dim,n):\n",
        "    return np.random.randn(n,x_dim)\n",
        "\n",
        "def fake(x_dim, n, generator):\n",
        "    x = create_x(x_dim, n)   \n",
        "    y = generator.predict(x)       \n",
        "    return y,np.zeros((n,1))\n",
        "\n",
        "x,y = fake(x_dim, 10, generator)\n",
        "plt.plot(x[:,0], x[:,1],'.')"
      ],
      "execution_count": 5,
      "outputs": [
        {
          "output_type": "execute_result",
          "data": {
            "text/plain": [
              "[<matplotlib.lines.Line2D at 0x7f2d3216f358>]"
            ]
          },
          "metadata": {
            "tags": []
          },
          "execution_count": 5
        },
        {
          "output_type": "display_data",
          "data": {
            "image/png": "[encoded data removed]",
            "text/plain": [
              "<Figure size 432x288 with 1 Axes>"
            ]
          },
          "metadata": {
            "tags": [],
            "needs_background": "light"
          }
        }
      ]
    },
    {
      "cell_type": "markdown",
      "metadata": {
        "id": "_-4rd3EUk-mw"
      },
      "source": [
        "위의 코드를 실행해보면 생성된 초기 모방데이터가 얼마나 엉망인지 알 수 있다. \n",
        "<br><br>\n",
        "### 3. 판별 신경망 (discriminator) \n",
        "\n",
        "판별 신경망은 실제데이터 및 모방데이터를 입력으로 받은 후에 어느쪽이 진짜인지를 판별하는 기능을 갖는다. 위의 예제의 경우 가장 단순한 형태의 신경망으로도 이것이 구성 가능하다. \n",
        "\n",
        "이때 입력은 x,y 의 좌표값이므로 2 가 되며 출력은 이것이 진짜인지 아닌지 0,1 로 판별하는 단일 값을 갖는다. \n",
        "\n"
      ]
    },
    {
      "cell_type": "code",
      "metadata": {
        "id": "VqTc7bkZk3B0"
      },
      "source": [
        "discriminator = Sequential()\n",
        "discriminator.add(Dense(25, activation='relu', input_dim=2))\n",
        "discriminator.add(Dense(1, activation='sigmoid'))\n",
        "discriminator.compile(loss='binary_crossentropy', optimizer='adam', metrics=['accuracy'])\n"
      ],
      "execution_count": 6,
      "outputs": []
    },
    {
      "cell_type": "markdown",
      "metadata": {
        "id": "Z_N67GYWmP4d"
      },
      "source": [
        "### 4. 전체 망(GAN) 과 학습 과정\n",
        "\n",
        "GAN은 모방신경망 -> 판별 신경망을 순차적으로 이어서 생성한다. \n",
        "\n"
      ]
    },
    {
      "cell_type": "code",
      "metadata": {
        "id": "IC6K9P79mlrx"
      },
      "source": [
        "discriminator.trainable = False\n",
        "model = Sequential()\n",
        "model.add(generator)    \n",
        "model.add(discriminator)\n",
        "model.compile(loss='binary_crossentropy', optimizer='adam')\n",
        "\n",
        "model.summary()"
      ],
      "execution_count": 7,
      "outputs": []
    },
    {
      "cell_type": "markdown",
      "metadata": {
        "id": "rjsnpi9TnGSC"
      },
      "source": [
        "이제 단일 학습이 어떤 식으로 이루어지는지 간단히 살펴보도록 하겠다. \n",
        "\n"
      ]
    },
    {
      "cell_type": "code",
      "metadata": {
        "colab": {
          "base_uri": "https://localhost:8080/",
          "height": 265
        },
        "id": "DP7TbJCgnWLi",
        "outputId": "d3e3f2bf-b6d4-4236-addf-81ef1ea13c92"
      },
      "source": [
        "n = 30\n",
        "\n",
        "# 실제와 모방 데이터 생성\n",
        "rx,ry = real(n)\n",
        "fx,fy = fake(x_dim, n, generator)\n",
        "\n",
        "plt.plot(rx[:,0],rx[:,1],'.')\n",
        "plt.plot(fx[:,0],fx[:,1],'.')\n",
        "\n",
        "# 판별망 학습\n",
        "discriminator.train_on_batch(rx,ry)\n",
        "discriminator.train_on_batch(fx[:,:2],fy)\n",
        "    \n",
        "x = create_x(x_dim,n)\n",
        "y = np.ones((n,1))\n",
        "\n",
        "# 전체 신경망 학습 = 모방신경망 학습\n",
        "model.train_on_batch(x,y)\n",
        "plt.show()"
      ],
      "execution_count": 8,
      "outputs": [
        {
          "output_type": "display_data",
          "data": {
            "image/png": "[encoded data removed]",
            "text/plain": [
              "<Figure size 432x288 with 1 Axes>"
            ]
          },
          "metadata": {
            "tags": [],
            "needs_background": "light"
          }
        }
      ]
    },
    {
      "cell_type": "markdown",
      "metadata": {
        "id": "mT3N3Rn1oH_f"
      },
      "source": [
        "판별망 학습 -> 모방 신경망 학습으로 반복된다. 전체 학습시 위에서 discriminator.trainable = False 코드를 통해 판별망의 학습을 꺼두었으므로 개별 학습이 아닌 전체 학습에서는 판별신경망이 아닌 모방신경망의 학습이 이뤄지게 된다. \n",
        "\n",
        "이제 이것을 반복함으로서 모방 데이터의 변화를 보도록 하겠다. "
      ]
    },
    {
      "cell_type": "code",
      "metadata": {
        "colab": {
          "base_uri": "https://localhost:8080/",
          "height": 1000
        },
        "id": "QVn5vZgknrA0",
        "outputId": "27169362-c87b-48db-b151-c82c22cb0bde"
      },
      "source": [
        "epochs , n = 10000, 30\n",
        "\n",
        "for i in range(epochs):\n",
        "  # 실제와 모방 데이터 생성\n",
        "  rx,ry = real(n)\n",
        "  fx,fy = fake(x_dim, n, generator)\n",
        "\n",
        "  # 시각화는 1000 번마다 \n",
        "  if i % 1000 == 0 : \n",
        "    plt.plot(rx[:,0],rx[:,1],'.')\n",
        "    plt.plot(fx[:,0],fx[:,1],'.')\n",
        "    plt.show()\n",
        "\n",
        "\n",
        "  # 판별망 학습\n",
        "  discriminator.train_on_batch(rx,ry)\n",
        "  discriminator.train_on_batch(fx[:,:2],fy)\n",
        "      \n",
        "  x = create_x(x_dim,n)\n",
        "  y = np.ones((n,1))\n",
        "\n",
        "  # 전체 신경망 학습 = 모방신경망 학습\n",
        "  model.train_on_batch(x,y)\n"
      ],
      "execution_count": 9,
      "outputs": [
        {
          "output_type": "display_data",
          "data": {
            "image/png": "[encoded data removed]",
            "text/plain": [
              "<Figure size 432x288 with 1 Axes>"
            ]
          },
          "metadata": {
            "tags": [],
            "needs_background": "light"
          }
        },
        {
          "output_type": "display_data",
          "data": {
            "image/png": "[encoded data removed]",
            "text/plain": [
              "<Figure size 432x288 with 1 Axes>"
            ]
          },
          "metadata": {
            "tags": [],
            "needs_background": "light"
          }
        },
        {
          "output_type": "display_data",
          "data": {
            "image/png": "[encoded data removed]",
            "text/plain": [
              "<Figure size 432x288 with 1 Axes>"
            ]
          },
          "metadata": {
            "tags": [],
            "needs_background": "light"
          }
        },
        {
          "output_type": "display_data",
          "data": {
            "image/png": "[encoded data removed]",
            "text/plain": [
              "<Figure size 432x288 with 1 Axes>"
            ]
          },
          "metadata": {
            "tags": [],
            "needs_background": "light"
          }
        },
        {
          "output_type": "display_data",
          "data": {
            "image/png": "[encoded data removed]",
            "text/plain": [
              "<Figure size 432x288 with 1 Axes>"
            ]
          },
          "metadata": {
            "tags": [],
            "needs_background": "light"
          }
        },
        {
          "output_type": "display_data",
          "data": {
            "image/png": "[encoded data removed]",
            "text/plain": [
              "<Figure size 432x288 with 1 Axes>"
            ]
          },
          "metadata": {
            "tags": [],
            "needs_background": "light"
          }
        },
        {
          "output_type": "display_data",
          "data": {
            "image/png": "[encoded data removed]",
            "text/plain": [
              "<Figure size 432x288 with 1 Axes>"
            ]
          },
          "metadata": {
            "tags": [],
            "needs_background": "light"
          }
        },
        {
          "output_type": "display_data",
          "data": {
            "image/png": "[encoded data removed]",
            "text/plain": [
              "<Figure size 432x288 with 1 Axes>"
            ]
          },
          "metadata": {
            "tags": [],
            "needs_background": "light"
          }
        },
        {
          "output_type": "display_data",
          "data": {
            "image/png": "[encoded data removed]",
            "text/plain": [
              "<Figure size 432x288 with 1 Axes>"
            ]
          },
          "metadata": {
            "tags": [],
            "needs_background": "light"
          }
        },
        {
          "output_type": "display_data",
          "data": {
            "image/png": "[encoded data removed]",
            "text/plain": [
              "<Figure size 432x288 with 1 Axes>"
            ]
          },
          "metadata": {
            "tags": [],
            "needs_background": "light"
          }
        }
      ]
    },
    {
      "cell_type": "code",
      "metadata": {
        "id": "mzNAu-ZppDFk"
      },
      "source": [
        ""
      ],
      "execution_count": null,
      "outputs": []
    },
    {
      "cell_type": "markdown",
      "metadata": {
        "id": "-sxsijhG5czj"
      },
      "source": [
        "<br><br><hr>\n",
        "\n",
        "## Mnist Dataset 모방\n",
        "\n",
        "이번에는 GAN을 이용한 이미지 모방의 가장 단순한 예제로 Mnist Data 모델을 모방해보도록 하겠다.  \n"
      ]
    },
    {
      "cell_type": "markdown",
      "metadata": {
        "id": "1Mup4neX6alf"
      },
      "source": [
        "\n",
        "### 1. Mnist Data 읽어오기 \n",
        "\n",
        "Mnist 데이터는 Keras 에서 기본으로 제공하기 때문에 다음과 같이 간단히 읽어올 수 있다.  하지만 전체 이미지 60000 개는 수업시간에 학습하기에는 지나치게 크기 때문에 정확성을 희생하더라도 과감하게 100개만 사용하기로 하겠다. \n"
      ]
    },
    {
      "cell_type": "code",
      "metadata": {
        "colab": {
          "base_uri": "https://localhost:8080/",
          "height": 283
        },
        "id": "4_W4Od4j5fBV",
        "outputId": "516cc8aa-e036-4cf5-f29a-1b067f9b8043"
      },
      "source": [
        "import keras\n",
        "import tensorflow as tf\n",
        "import matplotlib.pyplot as plt\n",
        "\n",
        "(train_images, train_labels), (_, _) = keras.datasets.mnist.load_data()\n",
        "train_images = train_images.reshape(train_images.shape[0], 28, 28, 1).astype('float32')\n",
        "train_images = (train_images - 127.5) / 127.5 # 이미지를 [-1, 1]로 정규화합니다.\n",
        "\n",
        "train_images = train_images[:100]\n",
        "train_labels = train_labels[:100]\n",
        "\n",
        "BUFFER_SIZE = 100\n",
        "BATCH_SIZE = 16\n",
        "train_dataset = tf.data.Dataset.from_tensor_slices(train_images).shuffle(BUFFER_SIZE).batch(BATCH_SIZE)\n",
        "\n",
        "\n",
        "plt.imshow(train_images[0][:,:,0], cmap = 'gray')\n",
        "plt.show()\n",
        "print(train_images.shape, \"image size:\", train_images.shape[0])"
      ],
      "execution_count": 21,
      "outputs": [
        {
          "output_type": "display_data",
          "data": {
            "image/png": "[encoded data removed]",
            "text/plain": [
              "<Figure size 432x288 with 1 Axes>"
            ]
          },
          "metadata": {
            "tags": [],
            "needs_background": "light"
          }
        },
        {
          "output_type": "stream",
          "text": [
            "(100, 28, 28, 1) image size: 100\n"
          ],
          "name": "stdout"
        }
      ]
    },
    {
      "cell_type": "markdown",
      "metadata": {
        "id": "kjfMde9P9Xdx"
      },
      "source": [
        "### 2. Generator 생성\n",
        "\n",
        "이미지를 생성할 경우 Conv2DTranpose 라는 레이어를 사용하는데 이는 Conv2D의 역 형태로 노드로부터 이미지로 데이터를 크게해주는 upscaling 효과를 갖고 있으며 필터의 가중치로 피드백을 받는다. 현재 Mnist 데이터에 효율적으로 알려진 Generator 하나를 사용해 보도록 하겠다. \n"
      ]
    },
    {
      "cell_type": "code",
      "metadata": {
        "colab": {
          "base_uri": "https://localhost:8080/",
          "height": 283
        },
        "id": "sxUcFJn06mV3",
        "outputId": "b93876f0-f896-4f25-d226-45c4b530e51d"
      },
      "source": [
        "from keras import layers \n",
        "import tensorflow as tf\n",
        "tf.keras.backend.clear_session()\n",
        "\n",
        "# Generator 정의\n",
        "def make_generator_model():\n",
        "    model = tf.keras.Sequential()\n",
        "    model.add(layers.Dense(7*7*256, use_bias=False, input_shape=(100,)))\n",
        "    model.add(layers.BatchNormalization())\n",
        "    model.add(layers.LeakyReLU())\n",
        "\n",
        "    model.add(layers.Reshape((7, 7, 256)))\n",
        "    assert model.output_shape == (None, 7, 7, 256) # 주목: 배치사이즈로 None이 주어집니다.\n",
        "\n",
        "    model.add(layers.Conv2DTranspose(128, (5, 5), strides=(1, 1), padding='same', use_bias=False))\n",
        "    assert model.output_shape == (None, 7, 7, 128)\n",
        "    model.add(layers.BatchNormalization())\n",
        "    model.add(layers.LeakyReLU())\n",
        "\n",
        "    model.add(layers.Conv2DTranspose(64, (5, 5), strides=(2, 2), padding='same', use_bias=False))\n",
        "    assert model.output_shape == (None, 14, 14, 64)\n",
        "    model.add(layers.BatchNormalization())\n",
        "    model.add(layers.LeakyReLU())\n",
        "\n",
        "    model.add(layers.Conv2DTranspose(1, (5, 5), strides=(2, 2), padding='same', use_bias=False, activation='tanh'))\n",
        "    assert model.output_shape == (None, 28, 28, 1)\n",
        "\n",
        "    return model\n",
        "\n",
        "\n",
        "generator = make_generator_model()\n",
        "\n",
        "# 더미 입력값\n",
        "noise = tf.random.normal([1, 100])\n",
        "\n",
        "# 이미지 실제로 생성해보기 \n",
        "img = generator(noise, training=False)\n",
        "plt.imshow(img[0, :, :, 0], cmap='gray')"
      ],
      "execution_count": 24,
      "outputs": [
        {
          "output_type": "execute_result",
          "data": {
            "text/plain": [
              "<matplotlib.image.AxesImage at 0x7f380fcdbe80>"
            ]
          },
          "metadata": {
            "tags": []
          },
          "execution_count": 24
        },
        {
          "output_type": "display_data",
          "data": {
            "image/png": "[encoded data removed]",
            "text/plain": [
              "<Figure size 432x288 with 1 Axes>"
            ]
          },
          "metadata": {
            "tags": [],
            "needs_background": "light"
          }
        }
      ]
    },
    {
      "cell_type": "markdown",
      "metadata": {
        "id": "KTX24fIn-tu-"
      },
      "source": [
        "### 3. Discriminator 생성\n",
        "\n",
        "Discriminator 는 사실 대부분 지금까지 수업시간에 학습해온 분류기와 동일하다. 위의 sin(x)의 예에서는 가장 단순한 순차신경망이 사용되었고 이번에는 입력이 이미지가 되므로 역시 간단한 합성곱 신경망(Conv2D)를 사용하면 된다. "
      ]
    },
    {
      "cell_type": "code",
      "metadata": {
        "colab": {
          "base_uri": "https://localhost:8080/"
        },
        "id": "YHhWoaIp7N8X",
        "outputId": "2fe4b343-4076-4531-dd4e-44db218cc565"
      },
      "source": [
        "def make_discriminator_model():\n",
        "    model = tf.keras.Sequential()\n",
        "    model.add(layers.Conv2D(64, (5, 5), strides=(2, 2), padding='same',\n",
        "                                     input_shape=[28, 28, 1]))\n",
        "    model.add(layers.LeakyReLU())\n",
        "    model.add(layers.Dropout(0.3))\n",
        "\n",
        "    model.add(layers.Conv2D(128, (5, 5), strides=(2, 2), padding='same'))\n",
        "    model.add(layers.LeakyReLU())\n",
        "    model.add(layers.Dropout(0.3))\n",
        "\n",
        "    model.add(layers.Flatten())\n",
        "    model.add(layers.Dense(1))\n",
        "\n",
        "    return model\n",
        "\n",
        "discriminator = make_discriminator_model()\n",
        "decision = discriminator(img)\n",
        "print (decision)"
      ],
      "execution_count": 31,
      "outputs": [
        {
          "output_type": "stream",
          "text": [
            "tf.Tensor([[0.00118784]], shape=(1, 1), dtype=float32)\n"
          ],
          "name": "stdout"
        }
      ]
    },
    {
      "cell_type": "markdown",
      "metadata": {
        "id": "tiCqyDvv_fVz"
      },
      "source": [
        "### 4. loss function 정의 \n",
        "\n",
        "이 예제에서는 loss function을 따로 정의해 사용한다.  실제이미지는 tf.ones_like 으로 모방 이미지는 tf.zeros_like 으로 텐서를 만들어 사용하는데 원 소스가 tensorflow 쪽 개발자라 그런듯 하다. \n",
        "\n"
      ]
    },
    {
      "cell_type": "code",
      "metadata": {
        "id": "m2X12MEuAUXf"
      },
      "source": [
        "def discriminator_loss(real_output, fake_output):\n",
        "    real_loss = cross_entropy(tf.ones_like(real_output), real_output)\n",
        "    fake_loss = cross_entropy(tf.zeros_like(fake_output), fake_output)\n",
        "    total_loss = real_loss + fake_loss\n",
        "    return total_loss\n",
        "\n",
        "def generator_loss(fake_output):\n",
        "    return cross_entropy(tf.ones_like(fake_output), fake_output)\n",
        "\n",
        "cross_entropy = tf.keras.losses.BinaryCrossentropy(from_logits=True)\n",
        "generator_optimizer = tf.keras.optimizers.Adam(1e-4)\n",
        "discriminator_optimizer = tf.keras.optimizers.Adam(1e-4)"
      ],
      "execution_count": 25,
      "outputs": []
    },
    {
      "cell_type": "markdown",
      "metadata": {
        "id": "upTSxXvHAZUG"
      },
      "source": [
        "### 5. train step 과 train 정의 \n",
        "\n",
        "Train은 학습의 코어부분과 시각화 부분으로 나뉘는데 train_step 은 학습을, generate_images 는 결과를 이미지화시키는 코드이다. \n"
      ]
    },
    {
      "cell_type": "code",
      "metadata": {
        "id": "rEy1NvX9AWEi"
      },
      "source": [
        "from IPython import display\n",
        "\n",
        "@tf.function\n",
        "def train_step(images):\n",
        "    noise = tf.random.normal([BATCH_SIZE, noise_dim])\n",
        "\n",
        "    with tf.GradientTape() as gen_tape, tf.GradientTape() as disc_tape:\n",
        "        generated_images = generator(noise, training=True)\n",
        "\n",
        "        real_output = discriminator(images, training=True)\n",
        "        fake_output = discriminator(generated_images, training=True)\n",
        "\n",
        "        gen_loss = generator_loss(fake_output)\n",
        "        disc_loss = discriminator_loss(real_output, fake_output)\n",
        "\n",
        "    gradients_of_generator = gen_tape.gradient(gen_loss, generator.trainable_variables)\n",
        "    gradients_of_discriminator = disc_tape.gradient(disc_loss, discriminator.trainable_variables)\n",
        "\n",
        "    generator_optimizer.apply_gradients(zip(gradients_of_generator, generator.trainable_variables))\n",
        "    discriminator_optimizer.apply_gradients(zip(gradients_of_discriminator, discriminator.trainable_variables))\n",
        "\n",
        "\n",
        "def generate_images(model, epoch, test_input):\n",
        "  # `training`이 False로 맞춰진 것을 주목하세요.\n",
        "  # 이렇게 하면 (배치정규화를 포함하여) 모든 층들이 추론 모드로 실행됩니다. \n",
        "    predictions = model(test_input, training=False)\n",
        "\n",
        "    fig = plt.figure(figsize=(4,4))\n",
        "\n",
        "    for i in range(predictions.shape[0]):\n",
        "        plt.subplot(4, 4, i+1)\n",
        "        plt.imshow(predictions[i, :, :, 0] * 127.5 + 127.5, cmap='gray')\n",
        "        plt.axis('off')\n",
        "\n",
        "    #plt.savefig('image_at_epoch_{:04d}.png'.format(epoch))\n",
        "    plt.show()"
      ],
      "execution_count": 42,
      "outputs": []
    },
    {
      "cell_type": "markdown",
      "metadata": {
        "id": "dRT1A01VBmcv"
      },
      "source": [
        "\n",
        "위에서 @tf.function 이라는 특수 구문을 사용하는데 조사결과 이는 다음 function 을 컴파일해서 최적화 시키는 구문이라고 한다. Train_step이 가장 부하가 큰 부분이라 최적화시키는 코드가 들어간다고 보면 된다.  이제 이 둘을 조합한 전체 트레이닝 코드는 다음과 같다. \n"
      ]
    },
    {
      "cell_type": "code",
      "metadata": {
        "id": "9HRWgDjGBvIy"
      },
      "source": [
        "import time\n",
        "def train(dataset, epochs):\n",
        "    for epoch in range(epochs):\n",
        "        start = time.time()\n",
        "\n",
        "        for image_batch in dataset:            \n",
        "            train_step(image_batch)\n",
        "\n",
        "        # GIF를 위한 이미지를 바로 생성합니다.\n",
        "        display.clear_output(wait=True)\n",
        "        generate_images(generator, epoch + 1, seed)\n",
        "\n",
        "        print (' 에포크 {} 에서 걸린 시간은 {} 초 입니다'.format(epoch +1, time.time()-start))\n",
        "        print ('Time for epoch {} is {} sec'.format(epoch + 1, time.time()-start))\n",
        "\n",
        "    # 마지막 에포크가 끝난 후 생성합니다.\n",
        "    display.clear_output(wait=True)\n",
        "    generate_images(generator, epochs, seed)"
      ],
      "execution_count": 44,
      "outputs": []
    },
    {
      "cell_type": "markdown",
      "metadata": {
        "id": "-G6zzwjVCKoL"
      },
      "source": [
        "### 6. 학습 실행해보기 \n",
        "\n",
        "이제 이를 실행하면 모방이미지가 생성되어 가는 과정을 볼 수 있을 것이다. nose_dim은 더미 입력값의 크기이며 , num_exam 은 랜덤생성되는 이미지의 갯수이다. 여기서 학습데이터는 학습후에 같은 더미입력을 통해 모방넷이 변하는 과정을 출력하기 위해 seed 라는 고정 더미 입력값을 사용한다. "
      ]
    },
    {
      "cell_type": "code",
      "metadata": {
        "colab": {
          "base_uri": "https://localhost:8080/",
          "height": 284
        },
        "id": "dFahCxsYCG8K",
        "outputId": "a6f58bd8-e573-44ae-9ecb-07bdfd246535"
      },
      "source": [
        "EPOCHS = 1000\n",
        "noise_dim = 100\n",
        "ex_num = 16\n",
        "\n",
        "seed = tf.random.normal([ex_num, noise_dim])\n",
        "\n",
        "train(train_dataset, EPOCHS)\n"
      ],
      "execution_count": null,
      "outputs": [
        {
          "output_type": "display_data",
          "data": {
            "image/png": "[encoded data removed]",
            "text/plain": [
              "<Figure size 288x288 with 16 Axes>"
            ]
          },
          "metadata": {
            "tags": [],
            "needs_background": "light"
          }
        },
        {
          "output_type": "stream",
          "text": [
            " 에포크 67 에서 걸린 시간은 0.45471930503845215 초 입니다\n",
            "Time for epoch 67 is 0.4547853469848633 sec\n"
          ],
          "name": "stdout"
        }
      ]
    },
    {
      "cell_type": "code",
      "metadata": {
        "id": "X_aOyczSDVch"
      },
      "source": [
        ""
      ],
      "execution_count": null,
      "outputs": []
    }
  ]
}