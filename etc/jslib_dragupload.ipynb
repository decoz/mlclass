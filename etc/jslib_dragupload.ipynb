{
  "nbformat": 4,
  "nbformat_minor": 0,
  "metadata": {
    "colab": {
      "name": "jslib_dragupload.ipynb",
      "provenance": [],
      "authorship_tag": "ABX9TyNrIsDlfbHEZ4l2pbCdaghz",
      "include_colab_link": true
    },
    "kernelspec": {
      "name": "python3",
      "display_name": "Python 3"
    }
  },
  "cells": [
    {
      "cell_type": "markdown",
      "metadata": {
        "id": "view-in-github",
        "colab_type": "text"
      },
      "source": [
        "<a href=\"https://colab.research.google.com/github/decoz/mlclass/blob/master/etc/jslib_dragupload.ipynb\" target=\"_parent\"><img src=\"https://colab.research.google.com/assets/colab-badge.svg\" alt=\"Open In Colab\"/></a>"
      ]
    },
    {
      "cell_type": "markdown",
      "metadata": {
        "id": "1Jpxco4feE22"
      },
      "source": [
        "# 간단한 파일 드래그 업로드 라이브러리 dragupload.js\n",
        "\n",
        "다음 js 파일은 드래그 영역을 만든 후에 업로드를 가능하도록 하는 js 이다. \n",
        "\n",
        "https://github.com/decoz/html_lib/blob/master/test_custom/dragupload.js\n",
        "\n",
        "이 파일을 다룬로드 한 후에 원하는 웹 페이지에 카피한다. \n",
        "이 파일은 js 모듈 형태로 제공되며 html 에서 이 파일을 사용하려면 다음과 같은 import 코드가 필요하다. \n",
        "\n",
        "```\n",
        "<script type = 'module'>\n",
        "import dragUpload from './dragupload.js'\n",
        "customElements.define(\"drag-upload\", dragUpload)\n",
        "</script>\n",
        "\n",
        "```\n",
        "이 스크립트가 작성되었다면 이제 drag-upload 라는 tag 를 사용할 수 있다. \n",
        "\n",
        "```\n",
        "<drag-upload> drag image file here  </drag-upload>\n",
        "```\n",
        "\n",
        "특정 url 로 파일을 POST 하고 싶다면 다음과 같이 사용할 수 있다. \n",
        "```\n",
        "<drag-upload id = mydrag uploadurl = 'http://127.0.0.1:5000/img/'> \n",
        "```\n",
        "\n",
        "만일 업로드 후에 발생한 결과를 받아서 처리하고 싶다면 다음 코드를 사용할 수 있다. \n",
        "\n",
        "```\n",
        "mydrag.onUploadResponse = function(r){\n",
        "    alert(r)\n",
        "}\n",
        "```\n",
        "\n",
        "파일을 업로드 하기 전에 파일에 대한 전처리를 하고 싶다면 \n",
        "```\n",
        "mydrag.onFileDrop = function(file){\n",
        "...\n",
        "}\n",
        "\n",
        "```\n",
        "이런 형태로 처리할 수 있으며 아래는 업로드한 이미지를 화면에 표시하는 간단한 예이다. \n",
        "\n",
        "```\n",
        "<drag-upload id = mydrag uploadurl = 'http://127.0.0.1:5000/img/'> \n",
        "<table id=\"gallery\"></table>\n",
        "</center>\n",
        "\n",
        "<template id = 't_img'>\n",
        "  <tr id = '_' >\n",
        "    <td id = td_img > <img id = img name = 'img'> </td>\n",
        "    <td id = td_desc > <div id = desc name = 'desc'> </td>\n",
        "    </tr>\n",
        "</template>\n",
        "\n",
        "<script type = 'module'>\n",
        "import dragUpload from './dragupload.js'\n",
        "customElements.define(\"drag-upload\", dragUpload)\n",
        "\n",
        "let lastDesc = null\n",
        "\n",
        "tallRange.addEventListener('input', function(e){\n",
        "  tall.innerText = this.value\n",
        "  mydrag.uploadValue('tall', this.value)\n",
        "})\n",
        "\n",
        "mydrag.onUploadResponse = function(r){\n",
        "    gallery.lastElementChild.querySelector('#desc').innerText = r\n",
        "}\n",
        "\n",
        "mydrag.onFileDrop = function(file) {\n",
        "  let reader = new FileReader()\n",
        "  reader.readAsDataURL(file)\n",
        "  reader.onloadend = function() {\n",
        "    let itr = document.importNode(t_img.content, true)\n",
        "    itr.querySelector('#img').src = reader.result\n",
        "    gallery.appendChild(itr)\n",
        "  }\n",
        "}\n",
        "</script>\n",
        "\n",
        "\n",
        "```\n",
        "\n"
      ]
    },
    {
      "cell_type": "code",
      "metadata": {
        "id": "tPSZdKDrd8xB"
      },
      "source": [
        "\n"
      ],
      "execution_count": null,
      "outputs": []
    }
  ]
}