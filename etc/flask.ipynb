{
  "nbformat": 4,
  "nbformat_minor": 0,
  "metadata": {
    "colab": {
      "name": "flask.ipynb",
      "provenance": [],
      "collapsed_sections": [],
      "toc_visible": true,
      "authorship_tag": "ABX9TyMXYrHE1g2/NcJ1xm78P/at",
      "include_colab_link": true
    },
    "kernelspec": {
      "name": "python3",
      "display_name": "Python 3"
    }
  },
  "cells": [
    {
      "cell_type": "markdown",
      "metadata": {
        "id": "view-in-github",
        "colab_type": "text"
      },
      "source": [
        "<a href=\"https://colab.research.google.com/github/decoz/mlclass/blob/master/etc/flask.ipynb\" target=\"_parent\"><img src=\"https://colab.research.google.com/assets/colab-badge.svg\" alt=\"Open In Colab\"/></a>"
      ]
    },
    {
      "cell_type": "markdown",
      "metadata": {
        "id": "KnZp4kgeDR3h",
        "colab_type": "text"
      },
      "source": [
        "# Flask 패키지를 사용해서 간단한 웹 사이트 만들어보기 \n",
        "\n",
        "웹 서버의 원리는 기본적으로 간단하다. 인터넷 특정 포트(기본은 80번)로 들어오는 연결 요청을 서버가 수락하고 주소 뒤 경로에 대응하여 답변으로 데이터를 전송한다. 이 답변 텍스트를 받은웹브라우저는  http 라고 하는 문서 규약에 맞춰 화면에 뿌려준다. \n"
      ]
    },
    {
      "cell_type": "markdown",
      "metadata": {
        "id": "FoK77cej958X",
        "colab_type": "text"
      },
      "source": [
        "\n",
        "## 0.Flask 소개\n",
        "\n",
        "이 답변 텍스트를 주로 html 파일 형식으로 저장한 후에 그 파일내용을 전달하는 경우가 가장 보편적이지만 반드시 그래야 할 이유는 없다. \n",
        "\n",
        "hello window 라는 텍스트를 전송하면 웹 브라우저는 저 글자를 그냥 보여준다. \n",
        "\n",
        "복잡한 웹의 요청을 효율적으로 관리하기 위해 html파일을 사용하고 대규모의 html 파일을 효율적 보여주기 위해 스프링같은 프레임워크가 널리 알려져 있을뿐 원리는 간단하며 이런 원리에 입각해 굳이 html 파일이나 db등의 복잡한 형식 없이 print문처럼 웹의 출력을 구현해주는 패키지가 바로 Flask 이다. \n",
        "\n",
        "다음의 코드를 보자. \n",
        "\n",
        "```\n",
        "\n",
        "from flask import Flask\n",
        "app = Flask(__name__)\n",
        "\n",
        "@app.route(\"/\")\n",
        "def home():\n",
        "    return \"<h1>Welcome to Flask</h1>\"\n",
        "  \n",
        "app.run()\n",
        "```\n",
        "\n",
        "위의 파이썬 코드를 본인 pc 에서 실행하고 웹 브라우저에 https://127.0.0.1:5000  이라고  연결하면 브라우저에 'Welcome to Flask' 라는 글씨가 \\<h1\\> 태그에 맞춰 크게 출력 될 것이다.  \n",
        "\n"
      ]
    },
    {
      "cell_type": "markdown",
      "metadata": {
        "id": "vVyTMztvDeBd",
        "colab_type": "text"
      },
      "source": [
        "\n",
        "## 1. Colab에서 Flask 사용법\n",
        "\n",
        "하지만 만일 Colab 에서 이를 실행한다면 웹서버는 본인의 컴이 아닌 구글의 가상머신에서 실행되기 때문에 ( Colab 서버와는 또 다른 가상의 컴퓨터 ) 위에처럼은 되지 안는다.  이때 이러한 가상 머신을 기반으로 한 서버에 접속하기 위해서 가상머신망을 밖으로 연결해주기 위한 터널링을 지원해야 하는데 이 패키지 이름이 \n",
        "\n",
        "<h3> flask-ngrok </h3> 이다.  \n",
        "\n",
        "colab에는 기본으로 flask는 설치되어 있지만 ngrok 는 빠져있기 때문에 다음 쉘 명령으로 이를 설치해준다. \n"
      ]
    },
    {
      "cell_type": "code",
      "metadata": {
        "id": "qBWWnX2iwRRa",
        "colab_type": "code",
        "colab": {}
      },
      "source": [
        "!pip install flask-ngrok\n"
      ],
      "execution_count": null,
      "outputs": []
    },
    {
      "cell_type": "markdown",
      "metadata": {
        "id": "q_G1Sdo8Bmrl",
        "colab_type": "text"
      },
      "source": [
        "\n",
        "설치가 성공적으로 끝났다면 이제 이를 이용해 colab에서 간단한 웹 서비스를 만들어보자.  이 터널링을 사용하여 flask를 사용할때도 기본적으론 flask와 같다. 다만 \n",
        "\n",
        "```\n",
        "from flask_ngrok import run_with_ngrok\n",
        "...\n",
        "run_with_ngrok(app)   \n",
        "\n",
        "```\n",
        "위의 두 구문을 추가해주면 된다.  나머지는 기본 flask와 같다. 이제 이를 추가한 아래의 코드를 보자. 실행하면 colab 상에서 웹 서버가 터널링을 통해 열리게 된다. \n"
      ]
    },
    {
      "cell_type": "code",
      "metadata": {
        "id": "x12j83_CwMgp",
        "colab_type": "code",
        "colab": {}
      },
      "source": [
        "from flask_ngrok import run_with_ngrok\n",
        "from flask import Flask\n",
        "app = Flask(__name__)\n",
        "run_with_ngrok(app)   #starts ngrok when the app is run\n",
        "@app.route(\"/\")\n",
        "def home():\n",
        "    return \"<h1>Greeting on Google Colab!</h1>\"\n",
        "  \n",
        "app.run()"
      ],
      "execution_count": null,
      "outputs": []
    },
    {
      "cell_type": "markdown",
      "metadata": {
        "id": "_P53ECDHCNlQ",
        "colab_type": "text"
      },
      "source": [
        "그런데 가상머신 주소를 어떻게 알고 접속하냐고?  실행을 하면 출력에 \n",
        "\n",
        "http://b19d198e8bc2.ngrok.io\n",
        "\n",
        "같은 요상한 링크가 출력될 것이다. 이것이 임시로 할당된 터널링용 url 이다. 이를 통해 일종의 프록시처럼 접속을 가능하게 해준다. (앞에 요상한 코드는 매번 랜덤으로 할당된다. 매번 주소가 바뀌니 이것으로 안정적인 서비스는 어렵지만 개발용 테스트에는 문제가 없다. 정식으로 호스팅 할때는 자기 컴퓨터나 호스팅 서버를 사용하자. ) \n",
        "\n",
        "이제 링크를 클릭하면 웹 브라우저가 가상머신의 웹서버에 접속하고 Greeting on Google Colab! 이란 메시지를 출력할 것이다. \n",
        "\n"
      ]
    },
    {
      "cell_type": "markdown",
      "metadata": {
        "id": "bC5ij19KEF2w",
        "colab_type": "text"
      },
      "source": [
        "## 2.flask 에서 여러 요청을 처리하기 \n",
        "\n",
        "실제 서비스에 활용하기 위해서 매번 Greeting 만 출력할 수는 없다. 다양한 기능들을 표현해줘야 하는데 이는 url 의 뒤에 경로로 구분이 가능하다. \n",
        "\n",
        "예를 들어 \n",
        "```\n",
        "https://{ip}/\n",
        "```\n",
        "\n",
        "만 치면 기본 화면이 뜨지만 \n",
        "\n",
        "```\n",
        "https://{ip}/abcd \n",
        "```\n",
        "\n",
        "이렇게 접속하면 다른 출력을 보여주게 하려면 어떻게 해야할까? 위의 코드에서\n",
        "\n",
        "```\n",
        "@app.route('/')\n",
        "def hello():\n",
        "    return \"Hello World!\"\n",
        "```\n",
        "\n",
        "이 부분은 루트경로의 요청에 대한 처리 코드이다. 만일 /abcd 는 다른 방식의 출력을 해주고 싶다면 \n",
        "```\n",
        "@app.route('/abcd/')\n",
        "def process_abcd():\n",
        "    return \"abcdefghijk...\"\n",
        "```\n",
        "라는 내용을 추가해주면 / 경로와 /abcd 경로의 출력을 다르게 줄 수 있다.  아예 고정경로가 아니라 그 경로값을 파라미터처럼 받을 수도 있는데 \n",
        "\n",
        "```\n",
        "@app.route('/<name>')\n",
        "def hello_name(name):\n",
        "  .. \n",
        "\n",
        "```\n",
        "라고 치면 /jhon , /marry , /samson  등등의 경로값이 name이라는 파라미로 전달되서 일괄 처리가 된다. \n",
        "\n",
        "이를 응용해서 만일 여러 게시판을 관리할때는 \n",
        "\n",
        "@app.route('/bbs/\\<id\\>') 이런식으로 게시판 id 값을 url로 받아서 해당 게시판을 출력할 수도 있다.  이번에는 아래 서버를 실행해서 접속해보고 url 뒤에 /아무거나 를 붙여서 접속해보자. "
      ]
    },
    {
      "cell_type": "code",
      "metadata": {
        "id": "QMEEHIMmwNwY",
        "colab_type": "code",
        "colab": {}
      },
      "source": [
        "from flask import Flask\n",
        "from flask_ngrok import run_with_ngrok\n",
        "app = Flask(__name__)\n",
        "run_with_ngrok(app)\n",
        "\n",
        "@app.route('/')\n",
        "def hello():\n",
        "    return \"Hello World!\"\n",
        "\n",
        "@app.route('/<name>')\n",
        "def hello_name(name):\n",
        "    return \"Hello {}!\".format(name)\n",
        "\n",
        "if __name__ == '__main__':\n",
        "    app.run()"
      ],
      "execution_count": null,
      "outputs": []
    },
    {
      "cell_type": "markdown",
      "metadata": {
        "id": "PjkE_jBYHTLe",
        "colab_type": "text"
      },
      "source": [
        "<br>\n",
        "\n",
        "## 3.사용자의 입력을 처리하는 페이지 만들기 \n",
        "\n",
        "딥러닝등 파이썬으로 작성된코드를 flask를 통해 웹으로 서비스할 수 있다. 일단 간단한 text 입력을 받아서 처리하는 서비스를 생각해보자. \n",
        "\n",
        "이를 위한 html 화면은 다음과 같이 구성한다. \n",
        "\n",
        "```\n",
        "main_page = \"\"\"\n",
        "  <form action = '{url}/show' name = 'msg' method = \"post\">\n",
        "  <input name = 'txt'>\n",
        "  <input type = \"submit\"/>\n",
        "  </form>\n",
        "\"\"\"\n",
        "```\n",
        "\n",
        "간단한 입력창을 만들어서 버튼을 누르면 그것을 처리하는 화면이다.  / 로 접속하면 위의 입력폼이 뜨고 입력후 버튼을 누르면 /show 쪽 서비스에 입력된 값을 post 메시지로 던지는 html 코드이다. \n"
      ]
    },
    {
      "cell_type": "markdown",
      "metadata": {
        "id": "gLl7whnqK-Ul",
        "colab_type": "text"
      },
      "source": [
        "\n",
        "단 이때 첫번째 문제가 생긴다. ngrok 패키지를 사용하기 때문에 url이 서버 실행마다 바뀌어서 위의 {url} 부분이 바뀌어야 한다. (고정url 서버라면 문제가 없다. ) \n",
        "\n",
        "<br>\n",
        "\n",
        "### 3.1 NGROK url 을 얻어서 교체해주기 \n",
        "\n",
        "다행히 url 을 얻는 함수가 아래에 있다. (웹을 통해 서버자신의 api를 호출해서 url을 얻어오는 코드인듯 하다.) \n"
      ]
    },
    {
      "cell_type": "code",
      "metadata": {
        "id": "GqQvUHPt1p9Y",
        "colab_type": "code",
        "colab": {}
      },
      "source": [
        "import requests\n",
        "import json\n",
        "def get_ngrok_url():\n",
        "    url = \"http://localhost:4040/api/tunnels/\"\n",
        "    res = requests.get(url)\n",
        "    res_unicode = res.content.decode(\"utf-8\")\n",
        "    res_json = json.loads(res_unicode)\n",
        "    for i in res_json[\"tunnels\"]:\n",
        "        if i['name'] == 'command_line':\n",
        "            return i['public_url']\n",
        "            break\n",
        "\n"
      ],
      "execution_count": null,
      "outputs": []
    },
    {
      "cell_type": "markdown",
      "metadata": {
        "id": "sSV-f256Jpln",
        "colab_type": "text"
      },
      "source": [
        "위의 함수를 통해 서버 url을 가져오면 위의 html 의 {url} 부분을 다음코드를 통해 실제 url 로 교체시켜 주면 된다. \n",
        "\n",
        "```\n",
        "main_page.replace(\"{url}\", get_ngrok_url() )\n",
        "```\n",
        "\n"
      ]
    },
    {
      "cell_type": "markdown",
      "metadata": {
        "id": "HQX7UXaPLkX2",
        "colab_type": "text"
      },
      "source": [
        "그리고 form의 값을 전송하는 경우는 특별히 route 에 다음과같이 method 를 추가해줘야 한다. \n",
        "```\n",
        "@app.route('/show/', methods = ['POST'] )\n",
        "```\n",
        "\n",
        "이제 메인페이지에서 /show 페이지로 링크되는 서비스를 한번 런칭해보면 버튼클릭시 show 페이지로 링크가 되는 것을 볼 수 있을 것이다. \n"
      ]
    },
    {
      "cell_type": "code",
      "metadata": {
        "id": "MOMh0lxwyA9J",
        "colab_type": "code",
        "colab": {}
      },
      "source": [
        "from flask import Flask\n",
        "from flask_ngrok import run_with_ngrok\n",
        "app = Flask(__name__)\n",
        "run_with_ngrok(app)\n",
        "\n",
        "main_page = \"\"\"\n",
        "  <form action = '{url}/show' name = 'msg' method = \"post\">\n",
        "  <input name = 'txt'>\n",
        "  <input type = \"submit\"/>\n",
        "  </form>\n",
        "\"\"\"\n",
        "\n",
        "@app.route('/')\n",
        "def hello():  \n",
        "    url = get_ngrok_url()    \n",
        "    return main_page.replace(\"{url}\", url)\n",
        "    \n",
        "@app.route('/show/', methods = ['POST'] )\n",
        "def show_txt():\n",
        "    return \"show!\"\n",
        "\n",
        "if __name__ == '__main__':\n",
        "    app.run()\n"
      ],
      "execution_count": null,
      "outputs": []
    },
    {
      "cell_type": "markdown",
      "metadata": {
        "id": "4mA6J2tvNz19",
        "colab_type": "text"
      },
      "source": [
        "### 3.2 POST 로 전송된 텍스트 추출\n",
        "\n",
        "이제 사용자가 입력한 txt 메시지를 뽑아내보자. \n",
        "```\n",
        " <input name = 'txt'>\n",
        "```\n",
        "로 입력폼을 만들었으므로 /show 처리 코드에서 다음 구문을 통해 간단하게 txt 값을 추출할 수 있다. \n",
        "\n",
        "```\n",
        "from flask import request\n",
        "txt = request.form.get('txt')\n",
        "```\n"
      ]
    },
    {
      "cell_type": "code",
      "metadata": {
        "id": "UJgMj9E3OnHb",
        "colab_type": "code",
        "colab": {}
      },
      "source": [
        "from flask import Flask\n",
        "from flask_ngrok import run_with_ngrok\n",
        "app = Flask(__name__)\n",
        "run_with_ngrok(app)\n",
        "\n",
        "main_page = \"\"\"\n",
        "  <form action = '{url}/show' name = 'msg' method = \"post\">\n",
        "  <input name = 'txt'>\n",
        "  <input type = \"submit\"/>\n",
        "  </form>\n",
        "\"\"\"\n",
        "\n",
        "@app.route('/')\n",
        "def hello():  \n",
        "    url = get_ngrok_url()    \n",
        "    return main_page.replace(\"{url}\", url)\n",
        "    \n",
        "@app.route('/show/', methods = ['POST'] )\n",
        "def show_txt():\n",
        "  txt = request.form.get('txt')\n",
        "  return \"show! : \" + txt\n",
        "\n",
        "if __name__ == '__main__':\n",
        "    app.run()"
      ],
      "execution_count": null,
      "outputs": []
    },
    {
      "cell_type": "markdown",
      "metadata": {
        "id": "guJ2laSWPIeW",
        "colab_type": "text"
      },
      "source": [
        "### 3.3 page 를 html파일로부터 열기 \n",
        "\n",
        "위에서 입력 인터페이스는 4줄짜리 최소한으로 구성되었기 때문에 바로 main_page 라는 문자열로 구성할 수 있었지만 시각적인 효과등이 필요할 경우 이를 문자열로 코드에 넣는 것은 너무나 비효율 적이다. \n",
        "\n",
        "이제 \n",
        "```\n",
        "main_page = \"\"\" \n",
        "  <form action ...   \n",
        "```\n",
        "위의 form 부분을 form.html 파일로 만들어colab에 업로드 해서 파일로부터 처리하는 코드로 변경한다. \n",
        "\n",
        "```\n",
        "f = open('form.html', mode = 'r')\n",
        "main_page = f.read() \n",
        "```\n"
      ]
    },
    {
      "cell_type": "code",
      "metadata": {
        "id": "KMETFpHn1opx",
        "colab_type": "code",
        "colab": {}
      },
      "source": [
        "from flask import Flask, request\n",
        "from flask_ngrok import run_with_ngrok\n",
        "app = Flask(__name__)\n",
        "run_with_ngrok(app)\n",
        "\n",
        "\n",
        "@app.route('/')\n",
        "def hello():\n",
        "    f = open('form.html', mode = 'r')\n",
        "    main_page = f.read() \n",
        "    url = get_ngrok_url()    \n",
        "    return main_page.replace('{url}', url)\n",
        "\n",
        "@app.route('/show/', methods = ['POST','GET'])\n",
        "def show_txt():    \n",
        "    return \"got message\" + request.form.get('txt')\n",
        "    \n",
        "if __name__ == '__main__':\n",
        "    app.run()\n"
      ],
      "execution_count": 55,
      "outputs": []
    },
    {
      "cell_type": "markdown",
      "metadata": {
        "id": "xGUAD7ifTMoq",
        "colab_type": "text"
      },
      "source": [
        "### 3.4 페이지 전환 없이 결과만 가져오기 \n",
        "\n",
        "파이썬 코드가 데이터를 처리해서 그 결과를 리턴하는 거라면 굳이 그 결과를 출력하는 페이지를 따로 보여줘야 할까? 사실 요즘 대세는 왠만하면 페이지 전환을 하지 안는다. \n",
        "\n",
        "대신 실제 페이지 전환 없이 내부적으로 url을 요청해서 결과만 가져오는 방식을 사용한다.  이 부분은 web 과 자바스크립트에 대한 깊이있는 이해가 필요하므로 여기선 생략하고 그 코드만 참조하자. \n",
        "\n",
        "```\n",
        "document.forms[0].onsubmit = async(e) => {\n",
        "  e.preventDefault();\n",
        "  const params = new URLSearchParams([...new FormData(e.target).entries()]);\n",
        "  // fetch(\"/path/to/server\", {method:\"POST\", body:params})\n",
        "  const response = await new Response(params).text();\n",
        "  console.log(response);\n",
        "  alert(response)\n",
        "}\n",
        "\n",
        "```\n",
        "이 코드에서 document.forms[0] 는 페이지에서 입력폼이 하나인 경우이며 여러 폼이 존재할 경우는 document.getElementByID('{form_id}') 로 하는 것이 더 안전하다. 여튼 위의 코드를 form.html 에 붙이면 버튼을 눌렀을 경우 페이지 전환이 없이 결과만 메시지창에 뜬다. \n",
        "\n",
        "이 방식을 사용하면 flask를 사용해 어떤 기능을 구현해 놓아도 form과 url을 통해 간단하게 억세스 할 수 있다. \n"
      ]
    }
  ]
}