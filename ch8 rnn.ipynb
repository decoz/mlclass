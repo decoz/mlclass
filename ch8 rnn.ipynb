{
  "nbformat": 4,
  "nbformat_minor": 0,
  "metadata": {
    "accelerator": "GPU",
    "colab": {
      "name": "ch7 rnn.ipynb",
      "provenance": [],
      "toc_visible": true
    },
    "kernelspec": {
      "display_name": "Python 3",
      "language": "python",
      "name": "python3"
    },
    "language_info": {
      "codemirror_mode": {
        "name": "ipython",
        "version": 3
      },
      "file_extension": ".py",
      "mimetype": "text/x-python",
      "name": "python",
      "nbconvert_exporter": "python",
      "pygments_lexer": "ipython3",
      "version": "3.5.2"
    }
  },
  "cells": [
    {
      "cell_type": "markdown",
      "metadata": {
        "colab_type": "text",
        "id": "MCst6NYVkZY6"
      },
      "source": [
        "<hr style = \"height:2px\">\n",
        "\n",
        "# **RNN** \n",
        "\n",
        "rnn 이란 매번 입력값을 독립적으로 처리하는 일반 신경망과 달리 데이터의 시간적인 순서를 고려하여 학습하기 위해 개발되었다.\n",
        "\n",
        "\n",
        "## RNN 전파과정\n",
        "\n",
        "\n",
        "이것은 '이전의 결과가 그 후의 학습에 영향을 미친다' 라는 발상으로부터 시간적으로 보면 다음과 같은 연산과정을 거친다. \n",
        "\n",
        "![대체 텍스트](https://drive.google.com/uc?id=1fe-oK42UPdEW5AJ1Rqt1kXTFsZXCw2v3)\n",
        "\n",
        "실제로는 어떤 레이어의 출력이 다시 다음 입력과 함께 입력되므로 인해 일종의 재귀 순환 구조를 거침으로서 Recurrent Neural Network 라고 표현한다.  이를 간단한 슈도코드로 작성해 보면 다음과 같은 연산과정을 거친다. \n",
        "\n"
      ]
    },
    {
      "cell_type": "code",
      "metadata": {
        "colab_type": "code",
        "id": "xzSJFrFJdRq4",
        "colab": {
          "base_uri": "https://localhost:8080/",
          "height": 143
        },
        "outputId": "e765b07a-a629-42ee-a84a-ac267a66da50"
      },
      "source": [
        "import numpy as np\n",
        "output_features, input_features = 2,4 \n",
        "inputs, outputs = [[0,1,1,1],[1,1,0,0]], []\n",
        "state_t = [0,0]\n",
        "\n",
        "W = np.random.random((output_features, input_features))\n",
        "U = np.random.random((output_features, output_features))\n",
        "b = np.random.random((output_features,))\n",
        "print(W, \"\\n\\n\", U, \"\\n\\n\", b )"
      ],
      "execution_count": 1,
      "outputs": [
        {
          "output_type": "stream",
          "text": [
            "[[0.35466281 0.94335815 0.08948496 0.78110623]\n",
            " [0.80567143 0.76920609 0.01541975 0.21070466]] \n",
            "\n",
            " [[0.18032566 0.013528  ]\n",
            " [0.90742226 0.89773446]] \n",
            "\n",
            " [0.06733877 0.8601898 ]\n"
          ],
          "name": "stdout"
        }
      ]
    },
    {
      "cell_type": "code",
      "metadata": {
        "colab_type": "code",
        "id": "Cx7yX37Fd2ma",
        "colab": {
          "base_uri": "https://localhost:8080/",
          "height": 269
        },
        "outputId": "794d4baf-0d60-4bc3-a181-93db03f5bf83"
      },
      "source": [
        "\n",
        "for input_t in inputs : \n",
        "  iw = np.dot(W, input_t)\n",
        "  us = np.dot(U, state_t)\n",
        "  \n",
        "  out_t = np.tanh( iw + us + b)\n",
        "  print(\"iw:\\n\",iw,\"\\nus:\\n\",us, \"\\nout_t:\\n\", out_t, \"\\n\")\n",
        "\n",
        "  outputs.append(out_t)\n",
        "  state_t = out_t\n"
      ],
      "execution_count": 2,
      "outputs": [
        {
          "output_type": "stream",
          "text": [
            "iw:\n",
            " [1.81394934 0.9953305 ] \n",
            "us:\n",
            " [0. 0.] \n",
            "out_t:\n",
            " [0.95460654 0.95226313] \n",
            "\n",
            "iw:\n",
            " [1.29802095 1.57487752] \n",
            "us:\n",
            " [0.18502227 1.72111066] \n",
            "out_t:\n",
            " [0.9138485  0.99950919] \n",
            "\n"
          ],
          "name": "stdout"
        }
      ]
    },
    {
      "cell_type": "code",
      "metadata": {
        "colab_type": "code",
        "id": "5bYVl4ZDgZxP",
        "colab": {
          "base_uri": "https://localhost:8080/",
          "height": 71
        },
        "outputId": "ebb386e4-5eab-4a5e-d071-a882234fe808"
      },
      "source": [
        "final = np.stack(outputs, axis=0)\n",
        "print(final)"
      ],
      "execution_count": null,
      "outputs": [
        {
          "output_type": "stream",
          "text": [
            "[[0.73010601 0.74151561]\n",
            " [0.93388332 0.9678555 ]\n",
            " [0.97612968 0.99548766]]\n"
          ],
          "name": "stdout"
        }
      ]
    },
    {
      "cell_type": "markdown",
      "metadata": {
        "colab_type": "text",
        "id": "NBjlUcpsRGp8"
      },
      "source": [
        "## RNN 피드백\n",
        "\n",
        "### BPTT\n",
        "\n",
        "RNN의 피드백 과정은 그 원리는 일반 신경망과 유사하지만 모든 과정상에서 책임을 묻기 위해서 시간을 거슬러 지속적으로 이뤄진다. 이는 첫 입력 데이터는 한번의 피드백이 발생하지만 2번째 데이터는 2번, 3번째 데이터에 대해서는 3번.. 이런식으로 지속적으로 피드백 과정이 증가한다.  이를 Backpropagation Through Time (BPTT) 라고 명명한다. \n",
        "\n",
        "![대체 텍스트](https://img1.daumcdn.net/thumb/R1280x0/?scode=mtistory2&fname=http%3A%2F%2Fcfile23.uf.tistory.com%2Fimage%2F99DB59465BD2ACC420D345)\n",
        "\n",
        "\n",
        "\n",
        "\n",
        "### Truncated BPTT\n",
        "\n",
        "BPTT 는 연속적인 입력값이 매우 거대할 경우 그 피드백과정이 기하급수적으로 증가하기 때문에 한계를 갖고 있었다. 그래서 절충으로 과거의 n 단계까지만 피드백을 수행하는 방법이 나왔는데 이를 Truncated BPTT 라고 칭하며 실제로는 이 경우를 더 자주 사용한다.  다음의 그림은 2단계까지만 피드백을 지속하는 Truncated BPTT 의 예이다. \n",
        "\n",
        "![대체 텍스트](https://img1.daumcdn.net/thumb/R1280x0/?scode=mtistory2&fname=http%3A%2F%2Fcfile9.uf.tistory.com%2Fimage%2F99C0F9475BD2ACDB23A93B)"
      ]
    },
    {
      "cell_type": "markdown",
      "metadata": {
        "colab_type": "text",
        "id": "U6vZzoJpS0BS"
      },
      "source": [
        "## RNN in Keras\n",
        "\n",
        "RNN 이라고 해도 그 출력이 다음 학습에 입력으로 영향을 미친다는 것을 제외하면 일반적인 Dense 레이어와 크게 다르지 안다. 그러므로 케라스에서 이를 사용하는 것도 Dense layer 와 유사하게 사용된다. "
      ]
    },
    {
      "cell_type": "code",
      "metadata": {
        "colab_type": "code",
        "id": "d1O8q4HshE0I",
        "colab": {
          "base_uri": "https://localhost:8080/",
          "height": 251
        },
        "outputId": "0662b437-439a-46fa-c502-31385c816232"
      },
      "source": [
        "from keras.models import Sequential\n",
        "from keras.layers import Dense, SimpleRNN\n",
        "\n",
        "model = Sequential()\n",
        "model.add(SimpleRNN(2, input_shape = (1,1)))\n",
        "model.add(Dense(1, activation = \"linear\"))\n",
        "model.summary()\n"
      ],
      "execution_count": 3,
      "outputs": [
        {
          "output_type": "stream",
          "text": [
            "Using TensorFlow backend.\n"
          ],
          "name": "stderr"
        },
        {
          "output_type": "stream",
          "text": [
            "Model: \"sequential_1\"\n",
            "_________________________________________________________________\n",
            "Layer (type)                 Output Shape              Param #   \n",
            "=================================================================\n",
            "simple_rnn_1 (SimpleRNN)     (None, 2)                 8         \n",
            "_________________________________________________________________\n",
            "dense_1 (Dense)              (None, 1)                 3         \n",
            "=================================================================\n",
            "Total params: 11\n",
            "Trainable params: 11\n",
            "Non-trainable params: 0\n",
            "_________________________________________________________________\n"
          ],
          "name": "stdout"
        }
      ]
    },
    {
      "cell_type": "markdown",
      "metadata": {
        "colab_type": "text",
        "id": "g7hdwgLRS8eI"
      },
      "source": [
        "## RNN 으로 시계열 예측 예제\n",
        "\n",
        "이제 가장 기초적인 RNN 하나를 작성해보도록 하자.  시계열 데이터를 위해서 회귀 분석에서 사용하던 간단한 그래프 하나를 사용하도록 하겠다.\n",
        "\n",
        "RNN의 입력은 기본적으로 2차원 구조로 지원된다. 그러므로 아무리 간단한 1차원 입력이라도 (1,1) 형태가 되어야 하며 이들의 연속입력은 (n,1,1) 구조가 되어야 한다. "
      ]
    },
    {
      "cell_type": "code",
      "metadata": {
        "colab_type": "code",
        "id": "VSxFUZPtTFFi",
        "colab": {
          "base_uri": "https://localhost:8080/",
          "height": 301
        },
        "outputId": "f2469832-8d22-4a9c-9e31-2948a07c274b"
      },
      "source": [
        "import numpy as np \n",
        "import matplotlib.pyplot as plt \n",
        "\n",
        "n = 100\n",
        "x = np.linspace(0, np.pi * 4 ,  n) \n",
        "y = np.sin(x) * 3 + x + np.random.normal(0,0.2,n)\n",
        "\n",
        "plt.plot(x,y,'.')\n",
        "\n",
        "x = y[ :99, np.newaxis, np.newaxis]\n",
        "y = y[1:]\n",
        "print(x.shape, y.shape)\n",
        "print( x[0][0][:5], y[:5])"
      ],
      "execution_count": 4,
      "outputs": [
        {
          "output_type": "stream",
          "text": [
            "(99, 1, 1) (99,)\n",
            "[0.05146715] [0.33202147 1.11114771 1.41220874 1.86211004 2.34299022]\n"
          ],
          "name": "stdout"
        },
        {
          "output_type": "display_data",
          "data": {
            "image/png": "[encoded data removed]",
            "text/plain": [
              "<Figure size 432x288 with 1 Axes>"
            ]
          },
          "metadata": {
            "tags": [],
            "needs_background": "light"
          }
        }
      ]
    },
    {
      "cell_type": "markdown",
      "metadata": {
        "colab_type": "text",
        "id": "LxqpQCL9rjwj"
      },
      "source": [
        "모델은 가장 원시적인 형태의 노드 1개짜리 RNN 으로 구성해 보았다. 이를 900회 반복시행하면 다음과 같은 결과가 나온다. "
      ]
    },
    {
      "cell_type": "code",
      "metadata": {
        "colab_type": "code",
        "id": "aOSWtVbRUAQI",
        "colab": {
          "base_uri": "https://localhost:8080/",
          "height": 269
        },
        "outputId": "2c9d592d-e657-45c1-e418-48469c592954"
      },
      "source": [
        "import keras\n",
        "from keras.models import Sequential\n",
        "from keras.layers import  SimpleRNN, Dense\n",
        "keras.backend.clear_session()\n",
        "model = Sequential()\n",
        "model.add(SimpleRNN(3, input_shape = (1,1)))\n",
        "model.add(Dense(3))\n",
        "model.add(Dense(1, activation=\"linear\"))\n",
        "model.compile(loss='mse', optimizer='sgd')\n",
        "model.summary()\n"
      ],
      "execution_count": 23,
      "outputs": [
        {
          "output_type": "stream",
          "text": [
            "Model: \"sequential_1\"\n",
            "_________________________________________________________________\n",
            "Layer (type)                 Output Shape              Param #   \n",
            "=================================================================\n",
            "simple_rnn_1 (SimpleRNN)     (None, 3)                 15        \n",
            "_________________________________________________________________\n",
            "dense_1 (Dense)              (None, 3)                 12        \n",
            "_________________________________________________________________\n",
            "dense_2 (Dense)              (None, 1)                 4         \n",
            "=================================================================\n",
            "Total params: 31\n",
            "Trainable params: 31\n",
            "Non-trainable params: 0\n",
            "_________________________________________________________________\n"
          ],
          "name": "stdout"
        }
      ]
    },
    {
      "cell_type": "code",
      "metadata": {
        "colab_type": "code",
        "id": "HNBmz4pGcwDy",
        "colab": {
          "base_uri": "https://localhost:8080/",
          "height": 1000
        },
        "outputId": "6c522eac-3a6a-4243-c204-0f770400d2e2"
      },
      "source": [
        "history = model.fit(x, y, steps_per_epoch = 50, epochs = 100).history"
      ],
      "execution_count": 27,
      "outputs": [
        {
          "output_type": "stream",
          "text": [
            "Epoch 1/100\n",
            "50/50 [==============================] - 0s 3ms/step - loss: 0.3582\n",
            "Epoch 2/100\n",
            "50/50 [==============================] - 0s 3ms/step - loss: 0.3555\n",
            "Epoch 3/100\n",
            "50/50 [==============================] - 0s 3ms/step - loss: 0.3528\n",
            "Epoch 4/100\n",
            "50/50 [==============================] - 0s 3ms/step - loss: 0.3501\n",
            "Epoch 5/100\n",
            "50/50 [==============================] - 0s 3ms/step - loss: 0.3475\n",
            "Epoch 6/100\n",
            "50/50 [==============================] - 0s 3ms/step - loss: 0.3450\n",
            "Epoch 7/100\n",
            "50/50 [==============================] - 0s 2ms/step - loss: 0.3426\n",
            "Epoch 8/100\n",
            "50/50 [==============================] - 0s 3ms/step - loss: 0.3402\n",
            "Epoch 9/100\n",
            "50/50 [==============================] - 0s 3ms/step - loss: 0.3378\n",
            "Epoch 10/100\n",
            "50/50 [==============================] - 0s 3ms/step - loss: 0.3356\n",
            "Epoch 11/100\n",
            "50/50 [==============================] - 0s 3ms/step - loss: 0.3333\n",
            "Epoch 12/100\n",
            "50/50 [==============================] - 0s 2ms/step - loss: 0.3312\n",
            "Epoch 13/100\n",
            "50/50 [==============================] - 0s 3ms/step - loss: 0.3291\n",
            "Epoch 14/100\n",
            "50/50 [==============================] - 0s 3ms/step - loss: 0.3270\n",
            "Epoch 15/100\n",
            "50/50 [==============================] - 0s 3ms/step - loss: 0.3250\n",
            "Epoch 16/100\n",
            "50/50 [==============================] - 0s 3ms/step - loss: 0.3231\n",
            "Epoch 17/100\n",
            "50/50 [==============================] - 0s 2ms/step - loss: 0.3212\n",
            "Epoch 18/100\n",
            "50/50 [==============================] - 0s 3ms/step - loss: 0.3193\n",
            "Epoch 19/100\n",
            "50/50 [==============================] - 0s 2ms/step - loss: 0.3175\n",
            "Epoch 20/100\n",
            "50/50 [==============================] - 0s 3ms/step - loss: 0.3158\n",
            "Epoch 21/100\n",
            "50/50 [==============================] - 0s 3ms/step - loss: 0.3140\n",
            "Epoch 22/100\n",
            "50/50 [==============================] - 0s 3ms/step - loss: 0.3124\n",
            "Epoch 23/100\n",
            "50/50 [==============================] - 0s 3ms/step - loss: 0.3107\n",
            "Epoch 24/100\n",
            "50/50 [==============================] - 0s 3ms/step - loss: 0.3092\n",
            "Epoch 25/100\n",
            "50/50 [==============================] - 0s 3ms/step - loss: 0.3076\n",
            "Epoch 26/100\n",
            "50/50 [==============================] - 0s 3ms/step - loss: 0.3061\n",
            "Epoch 27/100\n",
            "50/50 [==============================] - 0s 3ms/step - loss: 0.3046\n",
            "Epoch 28/100\n",
            "50/50 [==============================] - 0s 3ms/step - loss: 0.3032\n",
            "Epoch 29/100\n",
            "50/50 [==============================] - 0s 3ms/step - loss: 0.3018\n",
            "Epoch 30/100\n",
            "50/50 [==============================] - 0s 3ms/step - loss: 0.3004\n",
            "Epoch 31/100\n",
            "50/50 [==============================] - 0s 3ms/step - loss: 0.2991\n",
            "Epoch 32/100\n",
            "50/50 [==============================] - 0s 3ms/step - loss: 0.2978\n",
            "Epoch 33/100\n",
            "50/50 [==============================] - 0s 3ms/step - loss: 0.2965\n",
            "Epoch 34/100\n",
            "50/50 [==============================] - 0s 3ms/step - loss: 0.2953\n",
            "Epoch 35/100\n",
            "50/50 [==============================] - 0s 3ms/step - loss: 0.2941\n",
            "Epoch 36/100\n",
            "50/50 [==============================] - 0s 3ms/step - loss: 0.2929\n",
            "Epoch 37/100\n",
            "50/50 [==============================] - 0s 3ms/step - loss: 0.2917\n",
            "Epoch 38/100\n",
            "50/50 [==============================] - 0s 2ms/step - loss: 0.2906\n",
            "Epoch 39/100\n",
            "50/50 [==============================] - 0s 3ms/step - loss: 0.2895\n",
            "Epoch 40/100\n",
            "50/50 [==============================] - 0s 3ms/step - loss: 0.2884\n",
            "Epoch 41/100\n",
            "50/50 [==============================] - 0s 3ms/step - loss: 0.2873\n",
            "Epoch 42/100\n",
            "50/50 [==============================] - 0s 3ms/step - loss: 0.2863\n",
            "Epoch 43/100\n",
            "50/50 [==============================] - 0s 3ms/step - loss: 0.2853\n",
            "Epoch 44/100\n",
            "50/50 [==============================] - 0s 2ms/step - loss: 0.2843\n",
            "Epoch 45/100\n",
            "50/50 [==============================] - 0s 3ms/step - loss: 0.2833\n",
            "Epoch 46/100\n",
            "50/50 [==============================] - 0s 2ms/step - loss: 0.2823\n",
            "Epoch 47/100\n",
            "50/50 [==============================] - 0s 3ms/step - loss: 0.2814\n",
            "Epoch 48/100\n",
            "50/50 [==============================] - 0s 3ms/step - loss: 0.2805\n",
            "Epoch 49/100\n",
            "50/50 [==============================] - 0s 3ms/step - loss: 0.2796\n",
            "Epoch 50/100\n",
            "50/50 [==============================] - 0s 3ms/step - loss: 0.2787\n",
            "Epoch 51/100\n",
            "50/50 [==============================] - 0s 2ms/step - loss: 0.2778\n",
            "Epoch 52/100\n",
            "50/50 [==============================] - 0s 3ms/step - loss: 0.2770\n",
            "Epoch 53/100\n",
            "50/50 [==============================] - 0s 3ms/step - loss: 0.2761\n",
            "Epoch 54/100\n",
            "50/50 [==============================] - 0s 3ms/step - loss: 0.2753\n",
            "Epoch 55/100\n",
            "50/50 [==============================] - 0s 3ms/step - loss: 0.2745\n",
            "Epoch 56/100\n",
            "50/50 [==============================] - 0s 2ms/step - loss: 0.2737\n",
            "Epoch 57/100\n",
            "50/50 [==============================] - 0s 3ms/step - loss: 0.2729\n",
            "Epoch 58/100\n",
            "50/50 [==============================] - 0s 2ms/step - loss: 0.2722\n",
            "Epoch 59/100\n",
            "50/50 [==============================] - 0s 2ms/step - loss: 0.2714\n",
            "Epoch 60/100\n",
            "50/50 [==============================] - 0s 2ms/step - loss: 0.2707\n",
            "Epoch 61/100\n",
            "50/50 [==============================] - 0s 2ms/step - loss: 0.2699\n",
            "Epoch 62/100\n",
            "50/50 [==============================] - 0s 3ms/step - loss: 0.2692\n",
            "Epoch 63/100\n",
            "50/50 [==============================] - 0s 3ms/step - loss: 0.2685\n",
            "Epoch 64/100\n",
            "50/50 [==============================] - 0s 3ms/step - loss: 0.2678\n",
            "Epoch 65/100\n",
            "50/50 [==============================] - 0s 3ms/step - loss: 0.2671\n",
            "Epoch 66/100\n",
            "50/50 [==============================] - 0s 3ms/step - loss: 0.2664\n",
            "Epoch 67/100\n",
            "50/50 [==============================] - 0s 3ms/step - loss: 0.2657\n",
            "Epoch 68/100\n",
            "50/50 [==============================] - 0s 3ms/step - loss: 0.2651\n",
            "Epoch 69/100\n",
            "50/50 [==============================] - 0s 3ms/step - loss: 0.2644\n",
            "Epoch 70/100\n",
            "50/50 [==============================] - 0s 3ms/step - loss: 0.2638\n",
            "Epoch 71/100\n",
            "50/50 [==============================] - 0s 3ms/step - loss: 0.2631\n",
            "Epoch 72/100\n",
            "50/50 [==============================] - 0s 3ms/step - loss: 0.2625\n",
            "Epoch 73/100\n",
            "50/50 [==============================] - 0s 2ms/step - loss: 0.2618\n",
            "Epoch 74/100\n",
            "50/50 [==============================] - 0s 2ms/step - loss: 0.2612\n",
            "Epoch 75/100\n",
            "50/50 [==============================] - 0s 2ms/step - loss: 0.2606\n",
            "Epoch 76/100\n",
            "50/50 [==============================] - 0s 3ms/step - loss: 0.2600\n",
            "Epoch 77/100\n",
            "50/50 [==============================] - 0s 3ms/step - loss: 0.2594\n",
            "Epoch 78/100\n",
            "50/50 [==============================] - 0s 3ms/step - loss: 0.2588\n",
            "Epoch 79/100\n",
            "50/50 [==============================] - 0s 3ms/step - loss: 0.2581\n",
            "Epoch 80/100\n",
            "50/50 [==============================] - 0s 3ms/step - loss: 0.2575\n",
            "Epoch 81/100\n",
            "50/50 [==============================] - 0s 3ms/step - loss: 0.2569\n",
            "Epoch 82/100\n",
            "50/50 [==============================] - 0s 3ms/step - loss: 0.2563\n",
            "Epoch 83/100\n",
            "50/50 [==============================] - 0s 3ms/step - loss: 0.2558\n",
            "Epoch 84/100\n",
            "50/50 [==============================] - 0s 3ms/step - loss: 0.2552\n",
            "Epoch 85/100\n",
            "50/50 [==============================] - 0s 3ms/step - loss: 0.2546\n",
            "Epoch 86/100\n",
            "50/50 [==============================] - 0s 3ms/step - loss: 0.2540\n",
            "Epoch 87/100\n",
            "50/50 [==============================] - 0s 3ms/step - loss: 0.2534\n",
            "Epoch 88/100\n",
            "50/50 [==============================] - 0s 3ms/step - loss: 0.2528\n",
            "Epoch 89/100\n",
            "50/50 [==============================] - 0s 3ms/step - loss: 0.2522\n",
            "Epoch 90/100\n",
            "50/50 [==============================] - 0s 3ms/step - loss: 0.2516\n",
            "Epoch 91/100\n",
            "50/50 [==============================] - 0s 3ms/step - loss: 0.2511\n",
            "Epoch 92/100\n",
            "50/50 [==============================] - 0s 3ms/step - loss: 0.2505\n",
            "Epoch 93/100\n",
            "50/50 [==============================] - 0s 3ms/step - loss: 0.2499\n",
            "Epoch 94/100\n",
            "50/50 [==============================] - 0s 2ms/step - loss: 0.2493\n",
            "Epoch 95/100\n",
            "50/50 [==============================] - 0s 3ms/step - loss: 0.2487\n",
            "Epoch 96/100\n",
            "50/50 [==============================] - 0s 3ms/step - loss: 0.2481\n",
            "Epoch 97/100\n",
            "50/50 [==============================] - 0s 2ms/step - loss: 0.2475\n",
            "Epoch 98/100\n",
            "50/50 [==============================] - 0s 3ms/step - loss: 0.2470\n",
            "Epoch 99/100\n",
            "50/50 [==============================] - 0s 2ms/step - loss: 0.2464\n",
            "Epoch 100/100\n",
            "50/50 [==============================] - 0s 3ms/step - loss: 0.2458\n"
          ],
          "name": "stdout"
        }
      ]
    },
    {
      "cell_type": "code",
      "metadata": {
        "colab_type": "code",
        "id": "aeSZqX6MfOT3",
        "colab": {
          "base_uri": "https://localhost:8080/",
          "height": 281
        },
        "outputId": "72556b19-121c-4280-c2b9-9e1e90510b3a"
      },
      "source": [
        "plt.plot(history[\"loss\"])\n",
        "plt.title(\"Loss\")\n",
        "plt.show()"
      ],
      "execution_count": 28,
      "outputs": [
        {
          "output_type": "display_data",
          "data": {
            "image/png": "[encoded data removed]",
            "text/plain": [
              "<Figure size 432x288 with 1 Axes>"
            ]
          },
          "metadata": {
            "tags": [],
            "needs_background": "light"
          }
        }
      ]
    },
    {
      "cell_type": "code",
      "metadata": {
        "colab_type": "code",
        "id": "qNREMb16kJVa",
        "colab": {
          "base_uri": "https://localhost:8080/",
          "height": 265
        },
        "outputId": "d3f03a76-b536-4ea1-f620-b59cb00ff46a"
      },
      "source": [
        "plt.plot(model.predict(x),'.')\n",
        "plt.plot(y,'.')\n",
        "plt.show()"
      ],
      "execution_count": 29,
      "outputs": [
        {
          "output_type": "display_data",
          "data": {
            "image/png": "[encoded data removed]",
            "text/plain": [
              "<Figure size 432x288 with 1 Axes>"
            ]
          },
          "metadata": {
            "tags": [],
            "needs_background": "light"
          }
        }
      ]
    },
    {
      "cell_type": "markdown",
      "metadata": {
        "colab_type": "text",
        "id": "kmU8oWBpsl_P"
      },
      "source": [
        "### <font color = 'red'> 연습문제 7-1 : RNN 조작해보기\n",
        "\n",
        "위의 예제는 학습시 로스의 수렴값이나 출력 그래프를 보면 입력데이터의 예측오차가 좀 발생하고 있음을 알 수 있다. 위의 네트워크를 조작해서 정확도를 높이는 방법이 있는지 찾아보자"
      ]
    },
    {
      "cell_type": "markdown",
      "metadata": {
        "colab_type": "text",
        "id": "leEWES-Dyc6q"
      },
      "source": [
        "<hr style=\"height:2px\" >\n",
        "\n",
        "# LSTM \n",
        "\n",
        "RNN의 문제는 바로 직전의 출력값에 대한 의존이 너무 크다라는 점이다.  데이터의 경우에 따라서는 n세대 이전의 입력이 결정적인 역할을 할 수 있음에도 불구하고 n번의 state 변화과정을 거치면서 초기 입력의 영향에 대한 평가가 거의 희석되어버리기 때문에 복잡한 패턴의 시계열 데이터에는 좋은 성능을 내지 못했다. 이 문제를 해결하기 위해 나온 것이 LSTM이다. \n",
        "\n",
        "이는 마치 사람이 단기, 장기기억을 갖고 있듯이 상태도 장기, 단기 상태로 나누어 처리한다. RNN이 단기기억만을 사용한다고 가정하면 LSTM은 장기기억을 담당하는 cell_state 라는 또하나의 노드군을 유지함으로서 시간이 좀 지난 데이터라도 그것의 영향이 크다면 이를 cell_state 에 포함시켜 오랜시간 입력되도록 유지한다. \n",
        "\n",
        "RNN과 CNN의 작동방식의 차이를 다음 그림을 통해 한번 이해해보자. \n",
        "\n",
        "**RNN**\n",
        "![출처:https://dgkim5360.tistory.com/entry/understanding-long-short-term-memory-lstm-kr](https://img1.daumcdn.net/thumb/R1280x0/?scode=mtistory2&fname=http%3A%2F%2Fcfile5.uf.tistory.com%2Fimage%2F99893B375ACB86A035DE41)\n",
        "\n",
        "<br>\n",
        "<br>\n",
        "\n",
        "**LSTM**\n",
        "![대체 텍스트](https://img1.daumcdn.net/thumb/R1280x0/?scode=mtistory2&fname=http%3A%2F%2Fcfile30.uf.tistory.com%2Fimage%2F999F603E5ACB86A00550F0)\n",
        "\n",
        "\n",
        "LSTM은 구조가 좀 복잡하지만 그 원리상으로는 RNN의 확장개념이기 때문에 RNN을 사용하는 대부분의 레이어를 바로 대체 가능하다. 문제의 복잡도에 따라서 LSTM과 RNN을 잘 혼용하는 경우도 있다. "
      ]
    },
    {
      "cell_type": "markdown",
      "metadata": {
        "colab_type": "text",
        "id": "QHAxjez-UBoh"
      },
      "source": [
        "<br><br>\n",
        "\n",
        "<hr style=\"height:2px\" >\n",
        "\n",
        "\n",
        "## RNN 으로 IMDB 리뷰 문제 적용\n",
        "\n",
        "다음은 좀 다른 실용적인 적용사례를 살펴보기로 하겠다.  이전에 한번 다뤘던 IMDB 의 리뷰 데이터를 이번엔 RNN을 사용해 처리해보도록 한다. "
      ]
    },
    {
      "cell_type": "code",
      "metadata": {
        "colab_type": "code",
        "id": "PYYWBkOyonCS",
        "colab": {
          "base_uri": "https://localhost:8080/",
          "height": 127
        },
        "outputId": "c4124c0f-defa-4294-b4ec-4d6ec8de3991"
      },
      "source": [
        "from keras.datasets import imdb \n",
        "from keras.preprocessing import sequence \n",
        "import numpy as np \n",
        "\n",
        "\n",
        "# modify the default parameters of np.load\n",
        "np_load_old = np.load\n",
        "np.load = lambda *a,**k: np_load_old(*a, allow_pickle=True)\n",
        "\n",
        "max_words = 10000\n",
        "maxlen = 500\n",
        "batch_size = 32 \n",
        "\n",
        "print('데이터 로딩...')\n",
        "\n",
        "(tr_x, tr_y), (tt_x, tty ) = imdb.load_data(num_words = max_words)\n",
        "print(len(tr_x), 'training data')\n",
        "print(len(tt_x), 'test data')\n",
        "\n",
        "print( tr_x[0])"
      ],
      "execution_count": 1,
      "outputs": [
        {
          "output_type": "stream",
          "text": [
            "Using TensorFlow backend.\n"
          ],
          "name": "stderr"
        },
        {
          "output_type": "stream",
          "text": [
            "데이터 로딩...\n",
            "25000 training data\n",
            "25000 test data\n",
            "[1, 14, 22, 16, 43, 530, 973, 1622, 1385, 65, 458, 4468, 66, 3941, 4, 173, 36, 256, 5, 25, 100, 43, 838, 112, 50, 670, 2, 9, 35, 480, 284, 5, 150, 4, 172, 112, 167, 2, 336, 385, 39, 4, 172, 4536, 1111, 17, 546, 38, 13, 447, 4, 192, 50, 16, 6, 147, 2025, 19, 14, 22, 4, 1920, 4613, 469, 4, 22, 71, 87, 12, 16, 43, 530, 38, 76, 15, 13, 1247, 4, 22, 17, 515, 17, 12, 16, 626, 18, 2, 5, 62, 386, 12, 8, 316, 8, 106, 5, 4, 2223, 5244, 16, 480, 66, 3785, 33, 4, 130, 12, 16, 38, 619, 5, 25, 124, 51, 36, 135, 48, 25, 1415, 33, 6, 22, 12, 215, 28, 77, 52, 5, 14, 407, 16, 82, 2, 8, 4, 107, 117, 5952, 15, 256, 4, 2, 7, 3766, 5, 723, 36, 71, 43, 530, 476, 26, 400, 317, 46, 7, 4, 2, 1029, 13, 104, 88, 4, 381, 15, 297, 98, 32, 2071, 56, 26, 141, 6, 194, 7486, 18, 4, 226, 22, 21, 134, 476, 26, 480, 5, 144, 30, 5535, 18, 51, 36, 28, 224, 92, 25, 104, 4, 226, 65, 16, 38, 1334, 88, 12, 16, 283, 5, 16, 4472, 113, 103, 32, 15, 16, 5345, 19, 178, 32]\n"
          ],
          "name": "stdout"
        }
      ]
    },
    {
      "cell_type": "code",
      "metadata": {
        "colab_type": "code",
        "id": "p6B4zJftFPz9",
        "colab": {
          "base_uri": "https://localhost:8080/",
          "height": 35
        },
        "outputId": "2a0d97e5-95cc-4155-eefe-872fde2598d0"
      },
      "source": [
        "print(tr_x.shape, tr_y.shape)"
      ],
      "execution_count": 2,
      "outputs": [
        {
          "output_type": "stream",
          "text": [
            "(25000,) (25000,)\n"
          ],
          "name": "stdout"
        }
      ]
    },
    {
      "cell_type": "markdown",
      "metadata": {
        "colab_type": "text",
        "id": "Nuami-ZttXlA"
      },
      "source": [
        "리뷰데이터는 자주 등장하는 만개의 단어에 대해 코드를 부여해 이 코드리스트의 배열로 표현된 구조이다. 이들은 각각 가변배열이나 설사 rnn이라 할지라도 이를 대량으로 입력하기 위해서는 길이를 맞출 필요가 있다. 다음은 짧은 리뷰 앞에 padding code 인 0 을 넣어줌으로서 최대 길이(maxlen)에 맞춰 변환해준다. "
      ]
    },
    {
      "cell_type": "code",
      "metadata": {
        "colab_type": "code",
        "id": "7IPj-ZYVExol",
        "colab": {
          "base_uri": "https://localhost:8080/",
          "height": 161
        },
        "outputId": "e0cf78f1-355b-431e-e52b-3ba99caa55c4"
      },
      "source": [
        "x = sequence.pad_sequences(tr_x, maxlen=maxlen)\n",
        "print(x.shape)\n",
        "print(x)"
      ],
      "execution_count": 3,
      "outputs": [
        {
          "output_type": "stream",
          "text": [
            "(25000, 500)\n",
            "[[   0    0    0 ...   19  178   32]\n",
            " [   0    0    0 ...   16  145   95]\n",
            " [   0    0    0 ...    7  129  113]\n",
            " ...\n",
            " [   0    0    0 ...    4 3586    2]\n",
            " [   0    0    0 ...   12    9   23]\n",
            " [   0    0    0 ...  204  131    9]]\n"
          ],
          "name": "stdout"
        }
      ]
    },
    {
      "cell_type": "markdown",
      "metadata": {
        "colab_type": "text",
        "id": "Eu9fQPAAvgpJ"
      },
      "source": [
        "이제 이를 입력화 시키는데.. 단어를 19, 18같은 수치로 표현하는 것은 신경망의 입력으로 적합하지 안다. \n",
        "19,18 번 단어와 19, 1800번 단어는 단지 서로 다른 두 단어일 뿐임에도 이를 바로 입력으로 넣으면 19와 18은 거의 유사한 단어로 취급되고 19와 1800은 극단적으로 먼 단어로 취급된다. 이런 문제를 해결하기 위해 텍스트 단어의 입력시에는 Embedding 이라는 레이어를 사용한다. \n",
        "\n",
        "이는 각 단어들을 n개 비트의조합 코드로 변환하여 신경망의 입력에 적합하게 재조정해주는 레이어이다. 그 변환방식은 텍스트 프로세싱분야에서 오랫동안 개발되어온 방식이고 수학적인 개념이 좀 복잡하므로 자세한 사항은 여기선 생략도록 하겠다. \n",
        "\n"
      ]
    },
    {
      "cell_type": "code",
      "metadata": {
        "colab_type": "code",
        "id": "bBpek-TuLvGW",
        "colab": {}
      },
      "source": [
        "import keras\n",
        "from keras.models import Sequential\n",
        "from keras.layers import Embedding, SimpleRNN, Dense, LSTM, Dropout\n",
        "\n",
        "keras.backend.clear_session()\n",
        "model = Sequential()\n",
        "model.add(Embedding(max_words, 32))\n",
        "model.add(LSTM(32))\n",
        "model.add(Dropout(0.5))\n",
        "model.add(Dense(1, activation='sigmoid'))\n",
        "\n",
        "model.compile(optimizer='rmsprop', loss = 'binary_crossentropy', metrics=['acc'])"
      ],
      "execution_count": 7,
      "outputs": []
    },
    {
      "cell_type": "markdown",
      "metadata": {
        "colab_type": "text",
        "id": "Rxwaa3CywL-Y"
      },
      "source": [
        "이제 이를 작동시켜보면 다음과 같은 결과를 얻을 수 있다.  이 방식은 단어들의 순서를 고려하므로 단순 단어의 출현여부만 갖고 처리하던 단순신경망에 비해 더 나은 적합도를 보인다. "
      ]
    },
    {
      "cell_type": "code",
      "metadata": {
        "colab_type": "code",
        "id": "DWDh11hOMYAH",
        "colab": {
          "base_uri": "https://localhost:8080/",
          "height": 451
        },
        "outputId": "c5cb573a-0b97-4f23-ac55-99741731c0b8"
      },
      "source": [
        "history = model.fit(x, tr_y, epochs = 10, batch_size = 1024, validation_split=0.2 ).history"
      ],
      "execution_count": 8,
      "outputs": [
        {
          "output_type": "stream",
          "text": [
            "/usr/local/lib/python3.6/dist-packages/tensorflow/python/framework/indexed_slices.py:434: UserWarning: Converting sparse IndexedSlices to a dense Tensor of unknown shape. This may consume a large amount of memory.\n",
            "  \"Converting sparse IndexedSlices to a dense Tensor of unknown shape. \"\n"
          ],
          "name": "stderr"
        },
        {
          "output_type": "stream",
          "text": [
            "Train on 20000 samples, validate on 5000 samples\n",
            "Epoch 1/10\n",
            "20000/20000 [==============================] - 16s 781us/step - loss: 0.6645 - acc: 0.6338 - val_loss: 0.5778 - val_acc: 0.6810\n",
            "Epoch 2/10\n",
            "20000/20000 [==============================] - 16s 776us/step - loss: 0.5547 - acc: 0.7529 - val_loss: 0.5321 - val_acc: 0.8096\n",
            "Epoch 3/10\n",
            "20000/20000 [==============================] - 15s 768us/step - loss: 0.4328 - acc: 0.8478 - val_loss: 0.4294 - val_acc: 0.8564\n",
            "Epoch 4/10\n",
            "20000/20000 [==============================] - 15s 765us/step - loss: 0.3689 - acc: 0.8730 - val_loss: 0.3498 - val_acc: 0.8670\n",
            "Epoch 5/10\n",
            "20000/20000 [==============================] - 15s 768us/step - loss: 0.3265 - acc: 0.8846 - val_loss: 0.3889 - val_acc: 0.8228\n",
            "Epoch 6/10\n",
            "20000/20000 [==============================] - 16s 776us/step - loss: 0.2881 - acc: 0.8967 - val_loss: 0.3061 - val_acc: 0.8776\n",
            "Epoch 7/10\n",
            "20000/20000 [==============================] - 16s 778us/step - loss: 0.2517 - acc: 0.9132 - val_loss: 0.3403 - val_acc: 0.8568\n",
            "Epoch 8/10\n",
            "20000/20000 [==============================] - 15s 760us/step - loss: 0.2369 - acc: 0.9181 - val_loss: 0.3137 - val_acc: 0.8764\n",
            "Epoch 9/10\n",
            "20000/20000 [==============================] - 15s 764us/step - loss: 0.2187 - acc: 0.9241 - val_loss: 0.3626 - val_acc: 0.8492\n",
            "Epoch 10/10\n",
            "20000/20000 [==============================] - 15s 767us/step - loss: 0.1978 - acc: 0.9325 - val_loss: 0.3271 - val_acc: 0.8672\n"
          ],
          "name": "stdout"
        }
      ]
    },
    {
      "cell_type": "code",
      "metadata": {
        "colab_type": "code",
        "id": "TW0oPnUROzoU",
        "colab": {
          "base_uri": "https://localhost:8080/",
          "height": 513
        },
        "outputId": "59709d0d-04d1-45dd-f943-a68b45690477"
      },
      "source": [
        "import matplotlib.pyplot as plt\n",
        "plt.plot(history['loss'], label = 'loss')            \n",
        "plt.plot(history['val_loss'], label = 'val_loss')\n",
        "plt.legend()\n",
        "plt.show()\n",
        "\n",
        "plt.plot(history['acc'], label = 'acc')            \n",
        "plt.plot(history['val_acc'], label = 'val_acc')\n",
        "plt.legend()\n",
        "plt.show()\n"
      ],
      "execution_count": 6,
      "outputs": [
        {
          "output_type": "display_data",
          "data": {
            "image/png": "[encoded data removed]",
            "text/plain": [
              "<Figure size 432x288 with 1 Axes>"
            ]
          },
          "metadata": {
            "tags": [],
            "needs_background": "light"
          }
        },
        {
          "output_type": "display_data",
          "data": {
            "image/png": "[encoded data removed]",
            "text/plain": [
              "<Figure size 432x288 with 1 Axes>"
            ]
          },
          "metadata": {
            "tags": [],
            "needs_background": "light"
          }
        }
      ]
    },
    {
      "cell_type": "markdown",
      "metadata": {
        "colab_type": "text",
        "id": "8U41iOKNwm2a"
      },
      "source": [
        "RNN과 LSTM으로 처리방식에는 차이가 있지만 기본적으로 순환신경망구조를 지녔기 때문에 거의 1:1  로 바꿀 수 있다. 단순히 \n",
        "\n",
        "``` \n",
        "SimpleRNN( .. \n",
        "-> \n",
        "LSTM(..\n",
        "```\n",
        "단순히 사용할때는 이렇게 바꿔주기만 하면 되기때문에 바로 적용이 가능하다. \n",
        "\n",
        "\n",
        "### <font color = 'red'> 연습문제 7-2 : LSTM 으로 IMDB 다루기\n",
        "위의 예제 노드를 LSTM으로 변경하여 처리하고 그 결과를 비교해보자. \n",
        "\n"
      ]
    },
    {
      "cell_type": "code",
      "metadata": {
        "colab_type": "code",
        "id": "_fPsgZh_w1Lx",
        "colab": {}
      },
      "source": [
        ""
      ],
      "execution_count": null,
      "outputs": []
    }
  ]
}
