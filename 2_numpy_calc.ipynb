{
  "nbformat": 4,
  "nbformat_minor": 0,
  "metadata": {
    "colab": {
      "name": "2.numpy_calc.ipynb",
      "provenance": [],
      "collapsed_sections": [],
      "toc_visible": true,
      "authorship_tag": "ABX9TyNiiqEPCdKg9ubwy/qHv2H8",
      "include_colab_link": true
    },
    "kernelspec": {
      "name": "python3",
      "display_name": "Python 3"
    }
  },
  "cells": [
    {
      "cell_type": "markdown",
      "metadata": {
        "id": "view-in-github",
        "colab_type": "text"
      },
      "source": [
        "<a href=\"https://colab.research.google.com/github/decoz/mlclass/blob/master/2_numpy_calc.ipynb\" target=\"_parent\"><img src=\"https://colab.research.google.com/assets/colab-badge.svg\" alt=\"Open In Colab\"/></a>"
      ]
    },
    {
      "cell_type": "markdown",
      "metadata": {
        "id": "PKXlmmqy7wEL"
      },
      "source": [
        "# Numpy 활용하기\n"
      ]
    },
    {
      "cell_type": "code",
      "metadata": {
        "id": "YItA3rQm7wEO"
      },
      "source": [
        "import numpy as np\n",
        "import matplotlib.pyplot as plt"
      ],
      "execution_count": null,
      "outputs": []
    },
    {
      "cell_type": "markdown",
      "metadata": {
        "id": "li1LbPQh7wEW"
      },
      "source": [
        "\n",
        "<hr style=\"height:3px\">\n",
        "\n",
        "# NumPy 연산\n",
        "\n",
        "\n"
      ]
    },
    {
      "cell_type": "markdown",
      "metadata": {
        "id": "u0cUeBA44ltG"
      },
      "source": [
        "## 숫자 연산\n",
        "\n",
        "배열에 딘일 변수를 적용하여 연산시 모든 배열 값에 적용이 되며 그 결과값도 배열의 형태를 유지한다. \n",
        "\n"
      ]
    },
    {
      "cell_type": "code",
      "metadata": {
        "id": "2WYDXtlU5BaI"
      },
      "source": [
        "narr = np.array([[1,2],[3,4]])\n",
        "print(narr + 2)\n",
        "print(narr * 2)\n",
        "print(narr / 2)\n"
      ],
      "execution_count": null,
      "outputs": []
    },
    {
      "cell_type": "markdown",
      "metadata": {
        "id": "2qgapXIM7wEY"
      },
      "source": [
        "\n",
        "## 수학 연산\n",
        "\n",
        "Numpy 는 사칙연산 외에도 여러 수학함수를 배열 전체에 대해 사용할 수 있도록 여러 수학적 함수를 지원한다. \n",
        "\n",
        "- np.log : 로그 연산\n",
        "- np.exp : 지수 연산 \n",
        "- np.sqrt : 루트 연산\n",
        "    \n",
        "\n",
        "    \n"
      ]
    },
    {
      "cell_type": "code",
      "metadata": {
        "id": "Lnl8Ect07wEb"
      },
      "source": [
        "# 0 ~ 2π 사이에 100개의 값을 생성\n",
        "arr = np.linspace(0.1,1,10) \n",
        "\n",
        "# sin graph 생성\n",
        "plt.plot( np.log( arr ), label = 'log' )\n",
        "plt.plot( np.exp( arr ), label = 'exp')\n",
        "plt.plot( np.sqrt(arr ), label = 'sqrt')\n",
        "plt.legend()\n",
        "plt.show()\n",
        "\n"
      ],
      "execution_count": null,
      "outputs": []
    },
    {
      "cell_type": "markdown",
      "metadata": {
        "id": "YXA7jQW47wEp"
      },
      "source": [
        "\n",
        "- np.sin : 사인 연산\n",
        "- np.cos : 코사인 연산\n",
        "- np.tan : 탄젠트 연산\n",
        "\n",
        "컴퓨터상에서 삼각함수가 필요하냐고 생각할 수 있지만.. 삼각함수는 어떤 주기성을 가진 데이터를 표현하는 방법으로 널리 사용된다. \n",
        "삼각 함수는 cos, sin, tan 로 이뤄진다. 이때 입력값은 일반적인 360도 수치가 아니라 파이(π = 3.14... ) 를 기준으로 표현된다. \n",
        "물론 이를 위해 직접 3.14... 를 입력할 필요는 없다. np.pi 라는 라이브러리 내장 상수를 이용해 이를 표현할 수 있다. \n",
        "\n",
        "#### 예 : 삼각 함수 그래프 그리기  "
      ]
    },
    {
      "cell_type": "code",
      "metadata": {
        "id": "cwMa5bbY7wEp"
      },
      "source": [
        "# 0 ~ 2π 사이에 100개의 값을 생성\n",
        "arr = np.linspace(0,np.pi * 2,100) \n",
        "\n",
        "# sin graph 생성\n",
        "plt.title(\"sin cos\")\n",
        "plt.plot( np.sin( arr ), label = 'sin' )\n",
        "plt.plot( np.cos( arr ), label = 'cos')\n",
        "plt.legend()\n",
        "plt.show()\n",
        "\n",
        "print() \n",
        "plt.title(\"tan\")\n",
        "plt.plot( np.tan( arr ) )\n",
        "plt.show()\n",
        "\n"
      ],
      "execution_count": null,
      "outputs": []
    },
    {
      "cell_type": "markdown",
      "metadata": {
        "id": "5fNsWyST7wEv"
      },
      "source": [
        "### <font color = 'red'> 연습문제 2-1 : sin 을 이용해 다음과 같은 그래프를 그리는 방법을 생각해봅시다. \n",
        "\n",
        "![image.png](data:image/png;base64,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)"
      ]
    },
    {
      "cell_type": "code",
      "metadata": {
        "id": "iDfIz-nv7wEy"
      },
      "source": [
        "# 연습 2-1 의 코드를 여기에 작성해봅시다. \n",
        "\n"
      ],
      "execution_count": null,
      "outputs": []
    },
    {
      "cell_type": "markdown",
      "metadata": {
        "id": "Q-6YJa3q2JnH"
      },
      "source": [
        "## 조건 연산\n",
        "\n",
        "배열을 단일 값과 비교시 그 결과는 일반 연산과 마찬가지로 각각의 값에 대해 비교결과를 True 와 False 형태로 리턴한다. \n",
        "\n"
      ]
    },
    {
      "cell_type": "code",
      "metadata": {
        "id": "wST4ZUBZ2JnJ"
      },
      "source": [
        "narr = np.array([1,2,3,4,5])\n",
        "print( narr > 2 ) \n",
        "narr = np.array([[1,2],[3,4]])\n",
        "print( narr % 2 == 0 ) "
      ],
      "execution_count": null,
      "outputs": []
    },
    {
      "cell_type": "markdown",
      "metadata": {
        "id": "Icz26IQTHk6R"
      },
      "source": [
        "## 배열연산\n",
        "\n",
        "Numpy는 배열끼리의 연산을 지원한다.  언뜻 보면 규칙이 복잡하지만 잘만 사용하면 상당히 복잡한 기능도 배열끼리의 연산으로 간단히 구현가능하다. "
      ]
    },
    {
      "cell_type": "code",
      "metadata": {
        "id": "NosEk5cIbaGq"
      },
      "source": [
        "\n",
        "na1 = np.array( [[1,2],[3,4]] )  # shape : (2,2)\n",
        "na2 = np.array( [[1,2]] ) # shape : (1,2)\n",
        "na3 = np.array( [[1],[2]]) # shape : (2,1)\n",
        "\n",
        "print( na1 + na2 ) \n",
        "print( na1 + na3 ) "
      ],
      "execution_count": null,
      "outputs": []
    },
    {
      "cell_type": "markdown",
      "metadata": {
        "id": "868Q0XA5VfRt"
      },
      "source": [
        "\n",
        "Numpy 의 배열끼리의 연산은 같은 동일 차원(x축, y축등.. )  길이가 같거나 또는 한쪽이 1일때 허용된다. 단 차원의 크기다 다를때는 앞의 차원은 1로 간주된다. 아래에는 서로 연산이 가능한 쉐이프의 예가 나와있다. \n",
        "\n",
        "\n",
        "예\n",
        "```\n",
        "(2,2) + (2,)\n",
        "(2,2) + (1,2) \n",
        "(2,2) + (2,1)\n",
        "\n",
        "(3,1) + (1,2)\n",
        "\n",
        "(1,2,3) + (1,2,1)\n",
        "(1,2,3) + (1,1,3)\n",
        "(1,2,3) + (1,2,3)\n",
        "(1,2,3) + (2,3)\n",
        "(1,2,3) + (1,3)\n",
        "(1,2,3) + (3,)\n",
        "\n",
        "```\n",
        "\n",
        "\n",
        "\n",
        "예 간단한 행렬연산의 예\n"
      ]
    },
    {
      "cell_type": "markdown",
      "metadata": {
        "id": "xI99LWS0f2oe"
      },
      "source": [
        "이는 3차원 이상의 배열에서도 유효하다.  차원의 크기가 다를 경우 앞쪽은 1로 계산한다. \n",
        "\n",
        "```\n",
        "예 : \n",
        "(4,3,2) + (3,1)  = (4,3,2) + (1,3,1)\n",
        "```"
      ]
    },
    {
      "cell_type": "code",
      "metadata": {
        "id": "hCTcpxbAZD1f"
      },
      "source": [
        "na1 = np.full((4,3,2),2)\n",
        "na2 = np.full((1,2),2)\n",
        "\n",
        "print( na1 + na2 ) "
      ],
      "execution_count": null,
      "outputs": []
    },
    {
      "cell_type": "markdown",
      "metadata": {
        "id": "HAOka5gae-5P"
      },
      "source": [
        "특히 (n,1) 과 (1,m) 같이 서로 1 대 n 을 엇갈려 연산할 경우 n x m 의 행렬이 생성된다. \n"
      ]
    },
    {
      "cell_type": "code",
      "metadata": {
        "id": "xNUQiDAPfUD2"
      },
      "source": [
        "x1,x2 = np.array([0,1,2]), np.array([[1],[2],[3],[4]]) \n",
        "print(x1)\n",
        "print(x2)\n",
        "print(x1 + x2)\n"
      ],
      "execution_count": null,
      "outputs": []
    },
    {
      "cell_type": "markdown",
      "metadata": {
        "id": "c41Cu2xQgm-u"
      },
      "source": [
        "### <font color = 'red'> 연습문제 2-2 : 99단 행렬 만들기  \n",
        "arange 와 행렬 연산을 이용해 다음 99단의 결과 행렬을 만드세요\n",
        " </font>\n",
        "```\n",
        "[[ 2  4  6  8 10 12 14 16 18]\n",
        " [ 3  6  9 12 15 18 21 24 27]\n",
        " [ 4  8 12 16 20 24 28 32 36]\n",
        " [ 5 10 15 20 25 30 35 40 45]\n",
        " [ 6 12 18 24 30 36 42 48 54]\n",
        " [ 7 14 21 28 35 42 49 56 63]\n",
        " [ 8 16 24 32 40 48 56 64 72]\n",
        " [ 9 18 27 36 45 54 63 72 81]]\n",
        "```\n",
        "\n"
      ]
    },
    {
      "cell_type": "code",
      "metadata": {
        "id": "qvzW-OqQgm-4"
      },
      "source": [
        "# 연습문제 2-2 의 해법을 작성해보세요\n",
        "\n"
      ],
      "execution_count": null,
      "outputs": []
    },
    {
      "cell_type": "markdown",
      "metadata": {
        "id": "_H5hXLq0fHwh"
      },
      "source": [
        "### <font color = 'red'> 연습문제 2-3 : (n,) 두개를 (n,2) 로 합치기 \n",
        "같은 n의 길이를 갖는 두개의 1차원 배열이 있다고 가정할때 두 배열을 각각의 열로 갖는 (n,2) 형태의 배열을 배열 연산을 이용해 만들어보자 \n",
        " </font>\n",
        "\n",
        "```\n",
        "arr1,arr2 = [1,2,3,4,5,6], [0,10,20,30,40,50]\n",
        "->\n",
        "[[ 1  0]\n",
        " [ 2 10]\n",
        " [ 3 20]\n",
        " [ 4 30]\n",
        " [ 5 40]\n",
        " [ 6 50]]\n",
        "```\n",
        "\n"
      ]
    },
    {
      "cell_type": "code",
      "metadata": {
        "id": "X-hNHglAevbV"
      },
      "source": [
        "# 연습문제 2-3의 해법을 작성해보세요\n",
        "\n",
        "\n",
        "\n"
      ],
      "execution_count": null,
      "outputs": []
    },
    {
      "cell_type": "markdown",
      "metadata": {
        "id": "PehJOGKrkTGW"
      },
      "source": [
        "### <font color = 'red'> 연습문제 2-4: 컬러 그라데이션 배열\n",
        "np.linspace 를 사용해서 다음과 같은 (100,100,3) 이미지를 갖는 배열을 생성해보자\n",
        " </font>\n",
        "\n",
        " ![image.png](data:image/png;base64,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)"
      ]
    },
    {
      "cell_type": "code",
      "metadata": {
        "id": "Bxsxly6WkTGm"
      },
      "source": [
        "narr = np.zeros((100,100,3))\n",
        "# 연습문제 2-4 의 해법을 풀어보세요\n",
        "\n",
        "plt.imshow(narr)\n",
        "\n"
      ],
      "execution_count": null,
      "outputs": []
    },
    {
      "cell_type": "markdown",
      "metadata": {
        "id": "eHl7tKQRXHWS"
      },
      "source": [
        "\n",
        "\n",
        "### <font color = 'red'> 연습문제 2-5 : sin 그래프의 2차원화 \n",
        "다음 0부터 np.pi까지의 sin 곡선과 같은 비율로 밝기가 변화하는 (100,100) 의 2차원 흑백이미지를 생성해보자. \n",
        "</font>\n",
        "\n",
        "![image.png](data:image/png;base64,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)"
      ]
    },
    {
      "cell_type": "code",
      "metadata": {
        "id": "gbnjEIGvTOoa"
      },
      "source": [
        "# 100개의 점으로 이뤄진 1차원 sin 곡선\n",
        "x = np.sin(np.linspace(0,np.pi,100))\n",
        "plt.plot(x)\n",
        "plt.show() \n",
        "\n",
        "# 연습문제 2-5 의 답안을 작성하세요\n",
        "\n",
        "\n",
        "\n"
      ],
      "execution_count": null,
      "outputs": []
    },
    {
      "cell_type": "markdown",
      "metadata": {
        "id": "A1XGrWlo7wHM"
      },
      "source": [
        "\n",
        "## 랜덤 생성\n",
        "\n",
        "numpy는 몇몇 난수 발생 루틴을 제공한다. 다음은 난수발생 루틴의 종류이다. \n"
      ]
    },
    {
      "cell_type": "markdown",
      "metadata": {
        "id": "6_82VUpB8D7s"
      },
      "source": [
        "\n",
        "- random.normal : 정규분포\n",
        "- random.rand   : \n",
        "- random.randn\n",
        "- random.randint\n",
        "- random.random\n"
      ]
    },
    {
      "cell_type": "markdown",
      "metadata": {
        "id": "Jq9qRn937wHN"
      },
      "source": [
        "### random.rand\n",
        "\n",
        "0~1 까지의 실수 난수 발생\n",
        "- random.rand( shape ) \n"
      ]
    },
    {
      "cell_type": "code",
      "metadata": {
        "id": "SJhOCMXm7wHO"
      },
      "source": [
        "x = np.random.rand(3,2)\n",
        "print(x)"
      ],
      "execution_count": null,
      "outputs": []
    },
    {
      "cell_type": "code",
      "metadata": {
        "id": "2UUWSO7lk-jq"
      },
      "source": [
        "x =  np.random.rand(1000) \n",
        "plt.hist( x, 100)\n",
        "plt.show()"
      ],
      "execution_count": null,
      "outputs": []
    },
    {
      "cell_type": "markdown",
      "metadata": {
        "id": "L6uyMBaY7wHS"
      },
      "source": [
        "###  random.randn\n",
        "\n",
        "평균이 0 , 편차가 1인 정규분포로 난수를 발생시킴\n",
        "- random.randn( shape ) "
      ]
    },
    {
      "cell_type": "code",
      "metadata": {
        "id": "qdsjUo3f7wHU"
      },
      "source": [
        "x =   np.random.randn(1000) \n",
        "plt.hist( x, 100)\n",
        "plt.show()"
      ],
      "execution_count": null,
      "outputs": []
    },
    {
      "cell_type": "markdown",
      "metadata": {
        "id": "WCwCGNdY7wHW"
      },
      "source": [
        "\n",
        "### random.normal\n",
        "\n",
        "정규분포를 기반으로 랜덤 넘버 배열생성, 초기화\n",
        "\n",
        "- rand.random( 평균, 표준편차, 배열크기 ) "
      ]
    },
    {
      "cell_type": "code",
      "metadata": {
        "id": "d3ZniH6f7wHY"
      },
      "source": [
        "# 100개의 0을 기준으로 표준편차가 0.5 인 정규분포\n",
        "x = np.random.normal(0, 0.5, 1000)\n",
        "\n",
        "plt.plot(x, '.')\n",
        "plt.show()"
      ],
      "execution_count": null,
      "outputs": []
    },
    {
      "cell_type": "code",
      "metadata": {
        "id": "ZzUUIU0Q7wHe"
      },
      "source": [
        "# 히스토 그램으로 보기 \n",
        "plt.hist( x, 100)\n",
        "plt.show()"
      ],
      "execution_count": null,
      "outputs": []
    },
    {
      "cell_type": "markdown",
      "metadata": {
        "id": "Jp13frn98d5a"
      },
      "source": [
        "## 랜덤 데이터 활용\n",
        "\n",
        "다음은 간단한 직선식의 그래프이다. "
      ]
    },
    {
      "cell_type": "code",
      "metadata": {
        "id": "SORwQxCz9ZjR"
      },
      "source": [
        "x = np.arange(100)\n",
        "y = x * 2\n",
        "plt.plot(x,y, '.')\n",
        "plt.show()"
      ],
      "execution_count": null,
      "outputs": []
    },
    {
      "cell_type": "markdown",
      "metadata": {
        "id": "-B_C_SgXDHiR"
      },
      "source": [
        "여기에 랜덤값의 배열을 더해주면 x * 2 + 오차 가 되어 분산된 형태의 직선이 나오게 된다. "
      ]
    },
    {
      "cell_type": "code",
      "metadata": {
        "id": "78wbNLiG9tu3"
      },
      "source": [
        "x = np.arange(100)\n",
        "y = x * 2 + np.random.normal(0,10,100)\n",
        "plt.plot(x,y, '.')\n",
        "plt.show()"
      ],
      "execution_count": null,
      "outputs": []
    },
    {
      "cell_type": "markdown",
      "metadata": {
        "id": "BzZ0HRKO-1HG"
      },
      "source": [
        "### <font color = 'red'> 연습문제 : 확산 직선 그리기 \n",
        "다음과 같은 점의 분포를 생성해서 그려보자\n",
        "</font>\n",
        "\n",
        "![image.png](data:image/png;base64,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)"
      ]
    },
    {
      "cell_type": "code",
      "metadata": {
        "id": "ZX7khu7S-Miq"
      },
      "source": [
        "# 연습문제의 코드를 작성해보세요      "
      ],
      "execution_count": null,
      "outputs": []
    },
    {
      "cell_type": "markdown",
      "metadata": {
        "id": "pNKxC0-99Cjs"
      },
      "source": [
        "### 군집데이터 \n",
        "\n",
        "다음은 간단한 군집 데이터 생성 방법이 나와있다"
      ]
    },
    {
      "cell_type": "code",
      "metadata": {
        "id": "Cpxy2evn7Uk8"
      },
      "source": [
        "x,y = np.random.normal(50,10,100), np.random.normal(50,10,100)\n",
        "plt.xlim(0,100)  # 도표의 x 축 범위를 0 ~ 100 까지로 \n",
        "plt.ylim(0,100)  # 도표의 y 축 범위를 0 ~ 100 까지로 \n",
        "plt.plot(x,y, '.')\n",
        "plt.show()"
      ],
      "execution_count": null,
      "outputs": []
    },
    {
      "cell_type": "markdown",
      "metadata": {
        "id": "a7dOzOPVC_lm"
      },
      "source": [
        "### <font color = 'red'> 연습문제 : 비스듬한 군집 그리기\n",
        "다음과 같은 점의 분포를 생성해서 그려보자\n",
        "</font>\n",
        "\n",
        "![image.png](data:image/png;base64,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)"
      ]
    },
    {
      "cell_type": "code",
      "metadata": {
        "id": "zQxV601HC-Lf"
      },
      "source": [
        ""
      ],
      "execution_count": null,
      "outputs": []
    },
    {
      "cell_type": "code",
      "metadata": {
        "id": "XuQpq3Cq_2KX"
      },
      "source": [
        "# 연습문제의 코드를 작성하세요"
      ],
      "execution_count": null,
      "outputs": []
    }
  ]
}