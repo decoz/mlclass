{
  "nbformat": 4,
  "nbformat_minor": 0,
  "metadata": {
    "colab": {
      "name": "2021_인공지능 기말고사_A반.ipynb",
      "provenance": [],
      "collapsed_sections": [],
      "include_colab_link": true
    },
    "kernelspec": {
      "name": "python3",
      "display_name": "Python 3"
    },
    "language_info": {
      "name": "python"
    }
  },
  "cells": [
    {
      "cell_type": "markdown",
      "metadata": {
        "id": "view-in-github",
        "colab_type": "text"
      },
      "source": [
        "<a href=\"https://colab.research.google.com/github/decoz/mlclass/blob/master/2021_%EC%9D%B8%EA%B3%B5%EC%A7%80%EB%8A%A5_%EA%B8%B0%EB%A7%90%EA%B3%A0%EC%82%AC_A%EB%B0%98.ipynb\" target=\"_parent\"><img src=\"https://colab.research.google.com/assets/colab-badge.svg\" alt=\"Open In Colab\"/></a>"
      ]
    },
    {
      "cell_type": "markdown",
      "metadata": {
        "id": "H4iSXaD3INl3"
      },
      "source": [
        "\n",
        "# 2021 학년도 인공지능 기말고사 (A반)\n",
        "\n",
        "\n",
        "\n",
        "#### 푸시기 전에 .. \n",
        "\n",
        "```\n",
        "#### 중간고사 규칙:\n",
        "- 중간고사는 오픈북 형태로서 수업시간 자료와 외부 자료를 모두 조회, 참고 가능합니다. \n",
        "- 인터넷 검색도 가능하지만 타인과의 정보교환은 엄격히 금합니다. 적발시 바로 부정행위로 조치합니다. \n",
        "- 수험 시간은 시작 이후 1시간 20분까지입니다. \n",
        "- 점수는 작성하신 프로그램중에 가장 난이도가 높은 프로그램으로 반영됩니다. 그러므로 가장 난이도가 높은 프로그램 하나만 정확히 작성하셔도 만점입니다. \n",
        "- 쉬운 프로그램을 채점 받은 후에 다시 난이도 높은 프로그램을 재 채점 받으셔도 됩니다.\n",
        "```\n",
        "\n",
        "<br>\n",
        "\n",
        "다음은 편의를 위해 제공되는 문제에 사용되는 라이브러리들의 import 구문입니다. \n"
      ]
    },
    {
      "cell_type": "code",
      "metadata": {
        "id": "2OvCkQPFNNxc"
      },
      "source": [
        "import numpy as np \n",
        "import torch as tc\n",
        "import torch.nn as nn \n",
        "import torch.optim as optim\n",
        "import matplotlib.pyplot as plt \n",
        "import pandas as pd "
      ],
      "execution_count": 1,
      "outputs": []
    },
    {
      "cell_type": "markdown",
      "metadata": {
        "id": "gbs21zbzDXG2"
      },
      "source": [
        "\n",
        "\n",
        "<Br><Br>\n",
        "\n",
        "---\n",
        "\n",
        "#### 문제 1: \n",
        "\n",
        "0부터 99 까지 홀수와 짝수가 2열로 배치된 텐서를 생성하고 출력하세요  [30점]\n",
        "\n",
        "출력 :\n",
        "```\n",
        "tensor([[ 1,  0],\n",
        "        [ 3,  2],\n",
        "        [ 5,  4],\n",
        "        ...\n",
        "        [99, 98]])\n",
        "\n",
        "```"
      ]
    },
    {
      "cell_type": "code",
      "metadata": {
        "id": "hPTeESBhDKi8"
      },
      "source": [
        "#위와 같은 출력이 나올 수 있도록 코드를 작성하세요\n",
        "\n"
      ],
      "execution_count": null,
      "outputs": []
    },
    {
      "cell_type": "markdown",
      "metadata": {
        "id": "JOs6k1PgEGCl"
      },
      "source": [
        "<Br><Br><Br>\n",
        "\n",
        "---\n",
        "#### 문제 2:\n",
        "pytorch 에서 다음의  입력 x 에 대해 출력 y 를 mse 0.1 이내로 학습하는 신경망을 작성하고 오차값을 그래프로 출력하세요   [45점]\n"
      ]
    },
    {
      "cell_type": "code",
      "metadata": {
        "id": "FISlsBJbEGCm"
      },
      "source": [
        "\n",
        "xn = np.array([[0],[1],[2],[3],[4],[5],[6],[7],[8],[9]])\n",
        "yn = np.array([ \n",
        "      [-4.027047  ],\n",
        "      [ 5.98710915],\n",
        "      [15.96500401],\n",
        "      [25.93952224],\n",
        "      [35.90297576],\n",
        "      [45.775711  ],\n",
        "      [56.05035573],\n",
        "      [66.07052376],\n",
        "      [75.98303501],\n",
        "      [85.96016033]])\n",
        "\n",
        "x = tc.FloatTensor(xn)\n",
        "y = tc.FloatTensor(yn)\n",
        "\n",
        "## 위의 데이터를 학습하는 신경망을 작성하세요\n",
        "\n",
        "\n"
      ],
      "execution_count": 10,
      "outputs": []
    },
    {
      "cell_type": "code",
      "metadata": {
        "colab": {
          "base_uri": "https://localhost:8080/"
        },
        "id": "vAQIWRIeenZ_",
        "outputId": "b8ec17c3-61fd-48e7-e220-d29eac5f663c"
      },
      "source": [
        "\n",
        "xn = np.array([[0],[1],[2],[3],[4],[5],[6],[7],[8],[9]])\n",
        "yn = xn * 10 - 4 + np.random.normal(0,0.1,10).reshape(-1,1)\n",
        "yn.reshape(-1,1)"
      ],
      "execution_count": 8,
      "outputs": [
        {
          "output_type": "execute_result",
          "data": {
            "text/plain": [
              "array([[-4.027047  ],\n",
              "       [ 5.98710915],\n",
              "       [15.96500401],\n",
              "       [25.93952224],\n",
              "       [35.90297576],\n",
              "       [45.775711  ],\n",
              "       [56.05035573],\n",
              "       [66.07052376],\n",
              "       [75.98303501],\n",
              "       [85.96016033]])"
            ]
          },
          "metadata": {
            "tags": []
          },
          "execution_count": 8
        }
      ]
    },
    {
      "cell_type": "markdown",
      "metadata": {
        "id": "MUHuRKXeEF4Q"
      },
      "source": [
        "\n",
        "\n",
        "<Br><Br><Br>\n",
        "\n",
        "---\n",
        "#### 문제 3:\n",
        "다음 pandas 로 읽은 데이터에서 화요일 (day of the week = 2 ) 의   'Banking orders (1)' 의 데이터를 그래프를 그래보세요 [40점]\n",
        "\n"
      ]
    },
    {
      "cell_type": "code",
      "metadata": {
        "id": "GMj0YJN569Yu"
      },
      "source": [
        "import pandas as pd\n",
        "import torch as tc\n",
        "\n",
        "df = pd.read_csv('https://archive.ics.uci.edu/ml/machine-learning-databases/00409/Daily_Demand_Forecasting_Orders.csv', sep = ';')\n",
        "df\n",
        "\n"
      ],
      "execution_count": null,
      "outputs": []
    },
    {
      "cell_type": "markdown",
      "metadata": {
        "id": "UDA6EzW0YHei"
      },
      "source": [
        "\n",
        "<Br><Br><Br>\n",
        "\n",
        "---\n",
        "#### 문제 4:\n",
        "pytorch 에서 다음 x,y 를 학습해서 모델의 출력값의 반올림이 y값과 동일하도록  만드세요 [50점]\n",
        "\n",
        "출력코드 예:\n",
        "```\n",
        "print( np.round(o.detach().numpy()) )\n",
        "->\n",
        "[[1.]\n",
        " [0.]\n",
        " [1.]\n",
        " [0.]\n",
        " [1.]\n",
        " [0.]\n",
        " [1.]\n",
        " [0.]]\n"
      ]
    },
    {
      "cell_type": "code",
      "metadata": {
        "id": "oT5DkkWaYHex"
      },
      "source": [
        "xn = np.array( [[0,0,0],[0,0,1],[0,1,0],[0,1,1],[1,0,0],[1,0,1],[1,1,0],[1,1,1]] )\n",
        "yn = np.array( [[1],[0],[1],[0],[1],[0],[1],[0]] )\n",
        "\n",
        "## 위의 데이터를 학습하는 신경망을 작성하세요\n",
        "\n",
        "\n",
        "\n",
        "# 출력코드\n",
        "print( np.round(o.detach().numpy()) )\n"
      ],
      "execution_count": null,
      "outputs": []
    },
    {
      "cell_type": "markdown",
      "metadata": {
        "id": "HX6stY8nNdvv"
      },
      "source": [
        "\n",
        "<Br><Br><Br>\n",
        "\n",
        "---\n",
        "#### 문제 5:  \n",
        "\n",
        "2진수 3자리를 10진수로 변환할 수 있도록 학습시켜 torch 를 사용해 신경망을 구성하고 학습시켜보세요  [60점]\n",
        "\n",
        "```\n",
        "[0,0,1] -> 1\n",
        "[1,0,1] -> 5\n",
        "[1,1,1] -> 7\n",
        "```\n",
        "모델 테스트 예:\n",
        "```\n",
        "tx = tc.FlaotTensor([1,0,1])\n",
        "print( model(tx).argmax() )\n",
        "-> \n",
        "tensor(5)\n",
        "```\n"
      ]
    },
    {
      "cell_type": "code",
      "metadata": {
        "id": "0Wqs_8XkFghF",
        "colab": {
          "base_uri": "https://localhost:8080/"
        },
        "outputId": "01a71a7b-deff-44f8-fefe-afa4a261ef71"
      },
      "source": [
        "# 2진수 입력과 10진수 출력\n",
        "x = tc.FloatTensor( [[0,0,0],[0,0,1],[0,1,0],[0,1,1],[1,0,0],[1,0,1],[1,1,0],[1,1,1]] )\n",
        "y = tc.tensor( [[0],[1],[2],[3],[4],[5],[6],[7]] ).view(-1,)\n",
        "\n",
        "# 위의 케이스를 학습할 수 있는 신경망을 구성해 학습시켜보세요\n",
        "\n",
        "\n",
        "\n",
        "\n",
        "### 아래 테스트 코드의 입력을 바꾸며 테스트해보세요\n",
        "tx = tc.FloatTensor([1,1,1])\n",
        "print( model(tx).argmax() )\n",
        "\n"
      ],
      "execution_count": 67,
      "outputs": [
        {
          "output_type": "stream",
          "text": [
            "tensor(7)\n"
          ],
          "name": "stdout"
        }
      ]
    }
  ]
}