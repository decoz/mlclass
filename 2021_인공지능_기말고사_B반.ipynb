{
  "nbformat": 4,
  "nbformat_minor": 0,
  "metadata": {
    "colab": {
      "name": "2021_인공지능 기말고사_B반.ipynb",
      "provenance": [],
      "collapsed_sections": [],
      "include_colab_link": true
    },
    "kernelspec": {
      "name": "python3",
      "display_name": "Python 3"
    },
    "language_info": {
      "name": "python"
    }
  },
  "cells": [
    {
      "cell_type": "markdown",
      "metadata": {
        "id": "view-in-github",
        "colab_type": "text"
      },
      "source": [
        "<a href=\"https://colab.research.google.com/github/decoz/mlclass/blob/master/2021_%EC%9D%B8%EA%B3%B5%EC%A7%80%EB%8A%A5_%EA%B8%B0%EB%A7%90%EA%B3%A0%EC%82%AC_B%EB%B0%98.ipynb\" target=\"_parent\"><img src=\"https://colab.research.google.com/assets/colab-badge.svg\" alt=\"Open In Colab\"/></a>"
      ]
    },
    {
      "cell_type": "markdown",
      "metadata": {
        "id": "H4iSXaD3INl3"
      },
      "source": [
        "\n",
        "# 2021 학년도 인공지능 기말고사 (B반)\n",
        "\n",
        "\n",
        "\n",
        "#### 푸시기 전에 .. \n",
        "\n",
        "```\n",
        "#### 중간고사 규칙:\n",
        "- 중간고사는 오픈북 형태로서 수업시간 자료와 외부 자료를 모두 조회, 참고 가능합니다. \n",
        "- 인터넷 검색도 가능하지만 타인과의 정보교환은 엄격히 금합니다. 적발시 바로 부정행위로 조치합니다. \n",
        "- 수험 시간은 시작 이후 1시간 20분까지입니다. \n",
        "- 점수는 작성하신 프로그램중에 가장 난이도가 높은 프로그램으로 반영됩니다. 그러므로 가장 난이도가 높은 프로그램 하나만 정확히 작성하셔도 만점입니다. \n",
        "- 쉬운 프로그램을 채점 받은 후에 다시 난이도 높은 프로그램을 재 채점 받으셔도 됩니다.\n",
        "```\n",
        "\n",
        "<br>\n",
        "\n",
        "다음은 편의를 위해 제공되는 문제에 사용되는 라이브러리들의 import 구문입니다. \n"
      ]
    },
    {
      "cell_type": "code",
      "metadata": {
        "id": "2OvCkQPFNNxc"
      },
      "source": [
        "import numpy as np \n",
        "import torch as tc\n",
        "import torch.nn as nn \n",
        "import torch.optim as optim\n",
        "import matplotlib.pyplot as plt \n",
        "import pandas as pd "
      ],
      "execution_count": null,
      "outputs": []
    },
    {
      "cell_type": "markdown",
      "metadata": {
        "id": "gbs21zbzDXG2"
      },
      "source": [
        "\n",
        "\n",
        "<Br><Br>\n",
        "\n",
        "---\n",
        "\n",
        "#### 문제 1: \n",
        "\n",
        "0부터 10까지 20개의 값으로 이뤄진 텐서를 만들고 출력하세요 [30점]\n",
        "\n",
        "출력 :\n",
        "```\n",
        "tensor([ 0.0000,  0.5263,  1.0526,  1.5789,  2.1053,  2.6316,  3.1579,  3.6842,\n",
        "         4.2105,  4.7368,  5.2632,  5.7895,  6.3158,  6.8421,  7.3684,  7.8947,\n",
        "         8.4211,  8.9474,  9.4737, 10.0000], dtype=torch.float64)\n",
        "```"
      ]
    },
    {
      "cell_type": "code",
      "metadata": {
        "id": "hPTeESBhDKi8",
        "colab": {
          "base_uri": "https://localhost:8080/"
        },
        "outputId": "638fe468-8b9d-4c67-aaaf-e50929af2403"
      },
      "source": [
        "#위와 같은 출력이 나올 수 있도록 코드를 작성하세요"
      ],
      "execution_count": null,
      "outputs": [
        {
          "output_type": "stream",
          "text": [
            "tensor([ 0.0000,  0.5263,  1.0526,  1.5789,  2.1053,  2.6316,  3.1579,  3.6842,\n",
            "         4.2105,  4.7368,  5.2632,  5.7895,  6.3158,  6.8421,  7.3684,  7.8947,\n",
            "         8.4211,  8.9474,  9.4737, 10.0000], dtype=torch.float64)\n"
          ],
          "name": "stdout"
        }
      ]
    },
    {
      "cell_type": "markdown",
      "metadata": {
        "id": "JOs6k1PgEGCl"
      },
      "source": [
        "<Br><Br><Br>\n",
        "\n",
        "---\n",
        "#### 문제 2:\n",
        "pytorch 에서 다음의  입력 x 에 대해 출력 y 를 mse 0.1 이내로 학습하는 신경망을 작성하고 오차값을 그래프로 출력하세요   [45점]\n"
      ]
    },
    {
      "cell_type": "code",
      "metadata": {
        "id": "FISlsBJbEGCm"
      },
      "source": [
        "\n",
        "xn = np.array([[0],[1],[2],[3],[4],[5],[6],[7],[8],[9]])\n",
        "yn = np.array([ \n",
        "      [2.73746326],\n",
        "      [ -0.30994038],\n",
        "      [ -2.76215329],\n",
        "      [ -6.2039017 ],\n",
        "      [ -8.85804221],\n",
        "      [-11.53346984],\n",
        "      [-14.92804427],\n",
        "      [-18.38099883],\n",
        "      [-20.69690337],\n",
        "      [-24.05931202]])\n",
        "\n",
        "x = tc.FloatTensor(xn)\n",
        "y = tc.FloatTensor(yn)\n",
        "\n",
        "## 위의 데이터를 학습하는 신경망을 작성하세요\n"
      ],
      "execution_count": null,
      "outputs": []
    },
    {
      "cell_type": "markdown",
      "metadata": {
        "id": "UDA6EzW0YHei"
      },
      "source": [
        "\n",
        "<Br><Br><Br>\n",
        "\n",
        "---\n",
        "#### 문제 3:\n",
        "pytorch 에서 다음과 같은 x, y 에 대해 mse 0.01 이내로 학습하시키고 오차의 그래프를 출력하세요 [50점]\n"
      ]
    },
    {
      "cell_type": "code",
      "metadata": {
        "colab": {
          "base_uri": "https://localhost:8080/"
        },
        "id": "oT5DkkWaYHex",
        "outputId": "0e0fac8d-533a-4b78-b355-62d53fbf8de1"
      },
      "source": [
        "import numpy as np \n",
        "x1 = np.random.rand(10)\n",
        "x2 = np.random.rand(10)\n",
        "\n",
        "yn = x1 * 4 + x2 * 3.8 + 3\n",
        "\n",
        "## 위의 데이터를 학습하는 신경망을 작성하세요\n"
      ],
      "execution_count": null,
      "outputs": [
        {
          "output_type": "stream",
          "text": [
            "torch.Size([10, 2]) torch.Size([10, 1])\n"
          ],
          "name": "stdout"
        }
      ]
    },
    {
      "cell_type": "markdown",
      "metadata": {
        "id": "MUHuRKXeEF4Q"
      },
      "source": [
        "\n",
        "\n",
        "<Br><Br><Br>\n",
        "\n",
        "---\n",
        "#### 문제 4:\n",
        "다음 pandas 로 읽은 데이터 중에 'Views' 칼럼의 의 값을 numpy 로 변환하고 Views의 최대값으로 나눈 0~1 까지의 수치로 출력하세요  [40점]\n",
        "\n",
        "출력:\n",
        "```\n",
        "print(x.round(3))\n",
        "-> \n",
        "[0.101 0.018 0.009 0.014 0.096 0.003 0.092 .. ] \n",
        "```\n",
        "\n",
        "(참고: np 배열의 max값  arr.max() or np.max(arr) ) \n"
      ]
    },
    {
      "cell_type": "code",
      "metadata": {
        "id": "GMj0YJN569Yu"
      },
      "source": [
        "import pandas as pd\n",
        "import torch as tc\n",
        "\n",
        "df = pd.read_excel('https://archive.ics.uci.edu/ml/machine-learning-databases/00424/2014%20and%202015%20CSM%20dataset.xlsx')\n",
        "df\n",
        "\n"
      ],
      "execution_count": null,
      "outputs": []
    },
    {
      "cell_type": "markdown",
      "metadata": {
        "id": "HX6stY8nNdvv"
      },
      "source": [
        "\n",
        "<Br><Br><Br>\n",
        "\n",
        "---\n",
        "#### 문제 5:  \n",
        "\n",
        "문제 4번과 마찬가지 방식으로 View,Likes,Dislikes,Comments 수치를 0~1 로 변환 후에  View,Likes,Dislikes 로부터 Comments 수치를 예측하는 모델을 만들고 0.01 이하의 mse 로 학습시켜보세요 (mse 그래프 출력)  [60점]\n"
      ]
    },
    {
      "cell_type": "code",
      "metadata": {
        "id": "0Wqs_8XkFghF"
      },
      "source": [
        "# 문제 5의 코드를 작성하세요"
      ],
      "execution_count": null,
      "outputs": []
    }
  ]
}