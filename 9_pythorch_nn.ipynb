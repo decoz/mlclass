{
  "nbformat": 4,
  "nbformat_minor": 0,
  "metadata": {
    "colab": {
      "name": "9_pythorch_nn.ipynb",
      "provenance": [],
      "collapsed_sections": [],
      "authorship_tag": "ABX9TyMR19aRfL28bT5ViHi8HWQW",
      "include_colab_link": true
    },
    "kernelspec": {
      "name": "python3",
      "display_name": "Python 3"
    },
    "language_info": {
      "name": "python"
    }
  },
  "cells": [
    {
      "cell_type": "markdown",
      "metadata": {
        "id": "view-in-github",
        "colab_type": "text"
      },
      "source": [
        "<a href=\"https://colab.research.google.com/github/decoz/mlclass/blob/master/9_pythorch_nn.ipynb\" target=\"_parent\"><img src=\"https://colab.research.google.com/assets/colab-badge.svg\" alt=\"Open In Colab\"/></a>"
      ]
    },
    {
      "cell_type": "code",
      "metadata": {
        "id": "F93k2IjJl3Pr"
      },
      "source": [
        "import torch as tc"
      ],
      "execution_count": null,
      "outputs": []
    },
    {
      "cell_type": "markdown",
      "metadata": {
        "id": "GwTqjKtp5Rl3"
      },
      "source": [
        "# NN 모듈 \n",
        "\n",
        "앞에서는 Autograd 와 Optimizer 를 활용해 간단한 회귀문제를 해결하는 방법을 보았다.  Optimizer 를 사용하면 일일이 웨이트와 바이어스 값을 업데이트 해야하는 과정이 단순화되지만 그럼에도 다층 신경망처럼 복잡한 구조의 신경망에서는 다차원 배열로 전파과정을 만들어주는 것이 초보자에겐 쉽지 안다. \n",
        "\n",
        "이런 번거로움을 줄이기 위해서 입력값-> 출력값의 계산과정을 단순화 시켜줄 수 있게 많이 사용하는 신경망의 구조와 계산을 클래스화 시켜둔 것이 nn 라이브러리이다. \n",
        "\n",
        "\n",
        "\n"
      ]
    },
    {
      "cell_type": "code",
      "metadata": {
        "id": "06yXUtZE6pwg"
      },
      "source": [
        "import torch.nn as nn"
      ],
      "execution_count": 81,
      "outputs": []
    },
    {
      "cell_type": "markdown",
      "metadata": {
        "id": "jRZoIixs6vkH"
      },
      "source": [
        "## NN 모듈로 단순 선형회귀 제작\n",
        "\n",
        "그러면 이제 nn모듈이 어떤 식으로 이 과정을 단순화 시켰는지 한번 알아보자. 단순 선형회귀 문제를 bias 까지 포함해 한번 보도록 하겠다. \n",
        "\n"
      ]
    },
    {
      "cell_type": "code",
      "metadata": {
        "id": "_uIXVmQ96ueO"
      },
      "source": [
        "# 데이터 초기화 \n",
        "xn = np.arange(10).reshape(-1,1)\n",
        "yn = xn * 2 + 4 + np.random.normal(0,0.3,10)\n",
        "\n",
        "x = tc.FloatTensor(xn)\n",
        "y = tc.FloatTensor(yn)\n"
      ],
      "execution_count": 93,
      "outputs": []
    },
    {
      "cell_type": "markdown",
      "metadata": {
        "id": "Jh6bq01J7d6Y"
      },
      "source": [
        "### 기존의 선형회귀 방식 \n",
        "\n",
        "먼저 이를 위해 이전챕터에서 구현한 단순 선형회귀 모델을 먼저 보도록 하겠다. "
      ]
    },
    {
      "cell_type": "code",
      "metadata": {
        "colab": {
          "base_uri": "https://localhost:8080/"
        },
        "id": "Q_OSR2KH7aiy",
        "outputId": "8a336692-2e4e-45a6-8ddf-7230bdc19c84"
      },
      "source": [
        "# 파라미터 생성\n",
        "w = tc.rand(1, requires_grad = True)\n",
        "b = tc.rand(1, requires_grad = True)\n",
        "\n",
        "# 옵티마이저 생성\n",
        "optimizer = optim.SGD([w,b], lr = 0.01)\n",
        "\n",
        "for step in range(1000):\n",
        "  o = w * x + b  # 출력 계산\n",
        "  d = ( y - o ).pow(2).mean() # 에러 계산\n",
        "\n",
        "  optimizer.zero_grad()\n",
        "  d.backward()\n",
        "  optimizer.step() \n",
        "\n",
        "  if step % 100 == 0 : \n",
        "    print(\"w:{:.3f} err:{:.3f}\".format(w.item(), d.item()) )\n",
        "\n"
      ],
      "execution_count": 88,
      "outputs": [
        {
          "output_type": "stream",
          "text": [
            "w:1.741 err:91.382\n",
            "w:2.254 err:0.892\n",
            "w:2.139 err:0.339\n",
            "w:2.073 err:0.161\n",
            "w:2.036 err:0.103\n",
            "w:2.015 err:0.085\n",
            "w:2.003 err:0.079\n",
            "w:1.996 err:0.077\n",
            "w:1.993 err:0.077\n",
            "w:1.990 err:0.076\n"
          ],
          "name": "stdout"
        }
      ]
    },
    {
      "cell_type": "markdown",
      "metadata": {
        "id": "JOjCWofL7y9i"
      },
      "source": [
        "### NN 모듈을 이용한 선형회귀\n",
        "\n",
        "NN 모듈은 다음의 세가지를 지원해준다. \n",
        "\n",
        "> - weight 및 bias 생성\n",
        "> - output 계산과정\n",
        "> - 오차값(d) 계산 \n"
      ]
    },
    {
      "cell_type": "markdown",
      "metadata": {
        "id": "0oF6750X9isT"
      },
      "source": [
        "\n",
        "\n",
        "#### 모델 생성\n",
        "\n",
        "위의 코드가 어떻게 바뀌는 지 보도록 한다. 우선 네트워크의 형태를 모델로 정의한다. \n"
      ]
    },
    {
      "cell_type": "code",
      "metadata": {
        "id": "9oAoKFsA9oID"
      },
      "source": [
        "model = nn.Linear(1,1)\n"
      ],
      "execution_count": 94,
      "outputs": []
    },
    {
      "cell_type": "markdown",
      "metadata": {
        "id": "mqvfzCDo9tEL"
      },
      "source": [
        "이 과정을 통해 weight 값과 bias 값이 생성된다.  다음 코드는 model 이 자동생성해준 weight 와 bias 값을 보여준다. "
      ]
    },
    {
      "cell_type": "code",
      "metadata": {
        "colab": {
          "base_uri": "https://localhost:8080/"
        },
        "id": "R11sY33i95Jy",
        "outputId": "7eb24572-946f-43b1-c766-04704a47ff9d"
      },
      "source": [
        "print( list( model.parameters()) )"
      ],
      "execution_count": 95,
      "outputs": [
        {
          "output_type": "stream",
          "text": [
            "[Parameter containing:\n",
            "tensor([[-0.4548]], requires_grad=True), Parameter containing:\n",
            "tensor([-0.1508], requires_grad=True)]\n"
          ],
          "name": "stdout"
        }
      ]
    },
    {
      "cell_type": "markdown",
      "metadata": {
        "id": "N8PiZmIoAu5k"
      },
      "source": [
        "#### 파라미터 등록\n",
        "\n",
        "예전에 w,b 를 직접 만든 경우는  \n",
        "```\n",
        "optimizer = optim.SGD([w,b], lr = 0.1)\n",
        "```\n",
        "이런 식으로 w,b 를 등록해서 사용했다. nn.model 도 마찬가지로 model.parameters() 값을 등록해주면 된다. \n"
      ]
    },
    {
      "cell_type": "code",
      "metadata": {
        "id": "nckmP0nXBaoz"
      },
      "source": [
        "optimzer = optim.SGD( model.parameters(), lr = 0.1)"
      ],
      "execution_count": 103,
      "outputs": []
    },
    {
      "cell_type": "markdown",
      "metadata": {
        "id": "SNMmO0q3-Eak"
      },
      "source": [
        "#### 출력값 계산 \n",
        "\n",
        "이제 다음과정을 통해 간단히 출력값을 계산할 수 있다. "
      ]
    },
    {
      "cell_type": "code",
      "metadata": {
        "colab": {
          "base_uri": "https://localhost:8080/"
        },
        "id": "sXbvn3Bp-Q2b",
        "outputId": "7f5f17ab-37a3-4066-9ea1-0b66e54d5bf1"
      },
      "source": [
        "o = model(x)\n",
        "print(o)"
      ],
      "execution_count": 96,
      "outputs": [
        {
          "output_type": "stream",
          "text": [
            "tensor([[-0.1508],\n",
            "        [-0.6056],\n",
            "        [-1.0604],\n",
            "        [-1.5153],\n",
            "        [-1.9701],\n",
            "        [-2.4249],\n",
            "        [-2.8797],\n",
            "        [-3.3346],\n",
            "        [-3.7894],\n",
            "        [-4.2442]], grad_fn=<AddmmBackward>)\n"
          ],
          "name": "stdout"
        }
      ]
    },
    {
      "cell_type": "markdown",
      "metadata": {
        "id": "5woQoKBv-SAu"
      },
      "source": [
        "\n",
        "#### 에러(코스트) 계산 \n",
        "\n",
        "이전에 (y-o).pow(2).mean() 구문을 기억하는가? 차이값을 제곱해서 평균을 냈었다. 이것을 nn모듈에선 mean square error 라고 하며 다음과 같이 d 값을 계산한다. \n"
      ]
    },
    {
      "cell_type": "code",
      "metadata": {
        "colab": {
          "base_uri": "https://localhost:8080/"
        },
        "id": "G5VhX4Sy_Z9b",
        "outputId": "0a7d8240-bca0-4059-e3bb-b2e358298ef2"
      },
      "source": [
        "d = nn.functional.mse_loss(o, y)\n",
        "print(d)"
      ],
      "execution_count": 101,
      "outputs": [
        {
          "output_type": "stream",
          "text": [
            "tensor(280.7339, grad_fn=<MseLossBackward>)\n"
          ],
          "name": "stdout"
        },
        {
          "output_type": "stream",
          "text": [
            "/usr/local/lib/python3.7/dist-packages/ipykernel_launcher.py:1: UserWarning: Using a target size (torch.Size([10, 10])) that is different to the input size (torch.Size([10, 1])). This will likely lead to incorrect results due to broadcasting. Please ensure they have the same size.\n",
            "  \"\"\"Entry point for launching an IPython kernel.\n"
          ],
          "name": "stderr"
        }
      ]
    },
    {
      "cell_type": "markdown",
      "metadata": {
        "id": "xd-Iwnca_55u"
      },
      "source": [
        "보면 텐서 연산이 필요한 부분을 대부분 감추고 함수화시켜둔 것을 알 수 있다. 이제 위의 내용을 적용해 전체 선형회귀 과정을 보도록 하자. \n",
        "\n",
        "\n",
        "#### 전체 과정\n"
      ]
    },
    {
      "cell_type": "code",
      "metadata": {
        "colab": {
          "base_uri": "https://localhost:8080/"
        },
        "id": "cLaTiadGAYT_",
        "outputId": "b78ce391-32f5-4c0c-8ab7-8f8d9927bd08"
      },
      "source": [
        "# 모델 생성\n",
        "model = nn.Linear(1,1)\n",
        "\n",
        "# 옵티마이저 생성\n",
        "optimizer = optim.SGD(model.parameters(), lr = 0.01)\n",
        "\n",
        "for step in range(1000):\n",
        "  o = model(x)   # 출력 계산\n",
        "  d = nn.functional.mse_loss(o,y) # 에러 계산\n",
        "\n",
        "  optimizer.zero_grad()\n",
        "  d.backward()\n",
        "  optimizer.step() \n",
        "\n",
        "  if step % 100 == 0 : \n",
        "    print(\"w:{:.3f} err:{:.3f}\".format(w.item(), d.item()) )\n"
      ],
      "execution_count": 105,
      "outputs": [
        {
          "output_type": "stream",
          "text": [
            "/usr/local/lib/python3.7/dist-packages/ipykernel_launcher.py:9: UserWarning: Using a target size (torch.Size([10, 10])) that is different to the input size (torch.Size([10, 1])). This will likely lead to incorrect results due to broadcasting. Please ensure they have the same size.\n",
            "  if __name__ == '__main__':\n"
          ],
          "name": "stderr"
        },
        {
          "output_type": "stream",
          "text": [
            "w:1.989 err:173.395\n",
            "w:1.989 err:1.020\n",
            "w:1.989 err:0.373\n",
            "w:1.989 err:0.164\n",
            "w:1.989 err:0.097\n",
            "w:1.989 err:0.075\n",
            "w:1.989 err:0.068\n",
            "w:1.989 err:0.066\n",
            "w:1.989 err:0.066\n",
            "w:1.989 err:0.065\n"
          ],
          "name": "stdout"
        }
      ]
    },
    {
      "cell_type": "markdown",
      "metadata": {
        "id": "8mBpnyIxtvE1"
      },
      "source": [
        "## 다중 선형 회귀\n",
        "\n",
        "이번에는 다중 선형회귀 모델을 직접 구현한 것과 NN 모델을 사용한 것을 비교해보도록 하겠다.  먼저 다중선형회귀 문제를 정의한다. \n",
        "\n"
      ]
    },
    {
      "cell_type": "code",
      "metadata": {
        "id": "Ohj_oFvcCZQN"
      },
      "source": [
        "x1 = np.random.random(10)\n",
        "x2 = np.random.random(10)\n",
        "\n",
        "yn = 4 * x1 + 2 * x2 + 7\n",
        "\n",
        "x = tc.FloatTensor(np.c_[x1,x2])\n",
        "y = tc.FloatTensor(yn.reshape(-1,1))"
      ],
      "execution_count": 144,
      "outputs": []
    },
    {
      "cell_type": "markdown",
      "metadata": {
        "id": "uRA-Zt-aCyPa"
      },
      "source": [
        "### Optimizer 만 사용\n",
        "\n",
        "다중 선형회귀의 경우 다른것은 크게 신경쓰지 안아도 된다. 다만 \n",
        "```\n",
        "o  = ( x * w ).sum(dim=1) + b \n",
        "```\n",
        "는 결과가 1차원이 나온다. 이 경우 위의 y 값은 2차원 (-1,1) 형태이므로 이를 다음과 같이 세워준다. \n",
        "```\n",
        "o  = (( x * w ).sum(dim=1) + b).view(-1,1)\n",
        "```\n",
        "그러면 이제 코드를 보도록 하자. "
      ]
    },
    {
      "cell_type": "code",
      "metadata": {
        "colab": {
          "base_uri": "https://localhost:8080/"
        },
        "id": "t5OEPvSMl5TD",
        "outputId": "77a604b0-97bd-434f-bbd7-18010d570770"
      },
      "source": [
        "w = tc.rand(2, requires_grad = True )\n",
        "b = tc.rand(1, requires_grad = True )\n",
        "\n",
        "op = optim.SGD([w, b], lr = 0.05)\n",
        "\n",
        "ds = []\n",
        "for step in range(1000):\n",
        "  o = ((x * w).sum(dim = 1) + b).view(-1,1)\n",
        "  d = (y - o).pow(2).mean()\n",
        "\n",
        "  op.zero_grad()\n",
        "  d.backward()\n",
        "  op.step()\n",
        "  \n",
        "  if step % 100 == 0 :\n",
        "    ds += [d] \n",
        "    print( \"w:{}, b:{:.3f} \\t err:{:.3f}\".format( w.detach().numpy(), b.item() , d ) )\n",
        "\n"
      ],
      "execution_count": 145,
      "outputs": [
        {
          "output_type": "stream",
          "text": [
            "w:[1.2208909  0.76178956], b:1.418 \t err:65.035\n",
            "w:[3.3061008 2.650201 ], b:6.874 \t err:0.063\n",
            "w:[3.607381  2.2986987], b:6.964 \t err:0.016\n",
            "w:[3.7805674 2.14083  ], b:6.994 \t err:0.004\n",
            "w:[3.878385  2.0680768], b:7.002 \t err:0.001\n",
            "w:[3.932989  2.0336673], b:7.003 \t err:0.000\n",
            "w:[3.963228 2.016987], b:7.002 \t err:0.000\n",
            "w:[3.979879  2.0087135], b:7.002 \t err:0.000\n",
            "w:[3.9890127 2.0045311], b:7.001 \t err:0.000\n",
            "w:[3.9940093 2.0023806], b:7.001 \t err:0.000\n"
          ],
          "name": "stdout"
        }
      ]
    },
    {
      "cell_type": "markdown",
      "metadata": {
        "id": "cDtlvAStGYzY"
      },
      "source": [
        "### nn을 사용\n",
        "\n",
        "nn의 경우는 단지 입력값의 차원만 다음과 같이 바꿔주면 된다 \n",
        "```\n",
        "model = nn.Linear(2,1) \n",
        "```\n",
        "이렇게 하면 나머지 출력계산이 자동화된다. 단순 선형회귀가 사실 nn모델을 사용하는데 크게 편리함을 느끼기 어려웠던 것에 비해 이런 부분은 확실히 그 편리함을 느낄 수 있다. "
      ]
    },
    {
      "cell_type": "code",
      "metadata": {
        "colab": {
          "base_uri": "https://localhost:8080/"
        },
        "id": "L0tXLSNLE3Vh",
        "outputId": "dc8e5650-c9b9-488f-8052-ae76db9cee70"
      },
      "source": [
        "\n",
        "model = nn.Linear( 2, 1 )\n",
        "\n",
        "optimizer = optim.SGD(model.parameters(), lr = 0.01)\n",
        "\n",
        "ds = []\n",
        "for step in range(1000):\n",
        "  o = model(x)\n",
        "  d = nn.functional.mse_loss(o, y)\n",
        "\n",
        "  optimizer.zero_grad()\n",
        "  d.backward()\n",
        "  optimizer.step()\n",
        "  \n",
        "\n",
        "  if step % 50 == 0 :\n",
        "    ds += [d.item()]\n",
        "    print(\"err:\", d.item())\n",
        "\n",
        "print(list( model.parameters()) )"
      ],
      "execution_count": 146,
      "outputs": [
        {
          "output_type": "stream",
          "text": [
            "err: 70.05973815917969\n",
            "err: 4.999509334564209\n",
            "err: 0.5519677996635437\n",
            "err: 0.2220471352338791\n",
            "err: 0.17540141940116882\n",
            "err: 0.1512843668460846\n",
            "err: 0.13153450191020966\n",
            "err: 0.11451970040798187\n",
            "err: 0.09978832304477692\n",
            "err: 0.08701812475919724\n",
            "err: 0.07593761384487152\n",
            "err: 0.06631498783826828\n",
            "err: 0.05795113369822502\n",
            "err: 0.0506754033267498\n",
            "err: 0.0443408265709877\n",
            "err: 0.03882177546620369\n",
            "err: 0.03400922194123268\n",
            "err: 0.02980991080403328\n",
            "err: 0.02614297904074192\n",
            "err: 0.022938739508390427\n",
            "[Parameter containing:\n",
            "tensor([[3.5377, 2.3192]], requires_grad=True), Parameter containing:\n",
            "tensor([6.9749], requires_grad=True)]\n"
          ],
          "name": "stdout"
        }
      ]
    },
    {
      "cell_type": "markdown",
      "metadata": {
        "id": "TND-PHL1HTDk"
      },
      "source": [
        "## 로지스틱 회귀\n",
        "\n",
        "이번에는 and 문제를 optimizer 만 사용해 구현한 후에 이것이 nn 에선 어떻게 구현되는 지를 비교해보도록 하겠다. 우선 and 문제를 정의하자. \n",
        "\n",
        "\n"
      ]
    },
    {
      "cell_type": "code",
      "metadata": {
        "id": "bjCb9ThIIdQD"
      },
      "source": [
        "x = tc.FloatTensor( [[0,0],[0,1],[1,0],[1,1]] )\n",
        "y = tc.FloatTensor( [[0],[0],[0],[1]])\n"
      ],
      "execution_count": 147,
      "outputs": []
    },
    {
      "cell_type": "markdown",
      "metadata": {
        "id": "4Px5tozmIn1s"
      },
      "source": [
        "\n",
        "### Optimizer 만 사용\n",
        "\n",
        "0과 1의 범주형 데이터를 예측하는 로지스틱 회귀문제는 Optimizer 없이 구현시 직접 sigp() 라는 시그모이드의 미분 함수를 제작해서 오차값에 적용시켰다. 하지만 Optimizer 와 autograd 는 이러한 함수에 대한 미분이 자동계산 되므로 이런 과정이 필요없다. \n",
        "\n",
        "로지스틱 회귀의 경우 위에 사용된 다중회귀에 sigmoid만 작용시켜면 간단히 해결된다. "
      ]
    },
    {
      "cell_type": "code",
      "metadata": {
        "colab": {
          "base_uri": "https://localhost:8080/"
        },
        "id": "MFXkXI_aIzrc",
        "outputId": "5b9a2710-4bc7-4111-df8d-a1c12d1cfdf5"
      },
      "source": [
        "w = tc.rand(2, requires_grad = True )\n",
        "b = tc.rand(1, requires_grad = True )\n",
        "\n",
        "op = optim.SGD([w, b], lr = 0.1)\n",
        "\n",
        "ds = []\n",
        "for step in range(10000):\n",
        "  o = ((x * w).sum(dim = 1) + b).sigmoid().view(-1,1)\n",
        "  d = (y - o).pow(2).mean()\n",
        "\n",
        "  op.zero_grad()\n",
        "  d.backward()\n",
        "  op.step()\n",
        "  \n",
        "  if step % 1000 == 0 :\n",
        "    ds += [d] \n",
        "    print( \"err:{:.3f}\".format( d ) )\n",
        "\n",
        "print(np.round( o.detach().numpy(), 3) )"
      ],
      "execution_count": 162,
      "outputs": [
        {
          "output_type": "stream",
          "text": [
            "err:0.480\n",
            "err:0.059\n",
            "err:0.032\n",
            "err:0.022\n",
            "err:0.016\n",
            "err:0.012\n",
            "err:0.010\n",
            "err:0.009\n",
            "err:0.007\n",
            "err:0.006\n",
            "[[0.001]\n",
            " [0.082]\n",
            " [0.082]\n",
            " [0.902]]\n"
          ],
          "name": "stdout"
        }
      ]
    },
    {
      "cell_type": "markdown",
      "metadata": {
        "id": "5hLB_OPfKgma"
      },
      "source": [
        "### nn 모델을 사용 \n",
        "\n",
        "nn모델의 경우 sigmoid 도 하나의 layer 로 정의한다. 그렇기 때문에 model.Linear 에 추가로 하나의 층을 붙여줘야한다. 이를 위해서 여러 층을 하나의 모델로 합치기 위해서는위해 nn.Sequential() 이라는 모델을 사용한다. \n",
        "\n",
        "```\n",
        "model = nn.Sequential(\n",
        "  nn.Linear(2,1),\n",
        "  nn.Sigmoid()\n",
        ")\n",
        "```\n",
        "\n",
        "이 점만 신경쓰면 nn 모델 역시 다른 부분의 수정 없이 구현이 가능하다. "
      ]
    },
    {
      "cell_type": "code",
      "metadata": {
        "colab": {
          "base_uri": "https://localhost:8080/"
        },
        "id": "6Q7qw9VvMyDo",
        "outputId": "4c64875b-df30-4061-9bf8-2c41ab5cb73f"
      },
      "source": [
        "model = nn.Sequential(\n",
        "     nn.Linear(2,1),\n",
        "     nn.Sigmoid()\n",
        ")\n",
        "\n",
        "optimizer = optim.SGD(model.parameters(), lr = 0.5)\n",
        "\n",
        "for step in range(10000):\n",
        "  o = model(x)\n",
        "\n",
        "  d = nn.functional.mse_loss(o, y)\n",
        "  optimizer.zero_grad() \n",
        "  d.backward()\n",
        "  optimizer.step() \n",
        "\n",
        "  if step % 500 == 0 :\n",
        "    print(\"err:\", d.item())\n",
        "\n",
        "\n",
        "print( np.round(o.detach().numpy(), 3) )\n"
      ],
      "execution_count": 163,
      "outputs": [
        {
          "output_type": "stream",
          "text": [
            "[Parameter containing:\n",
            "tensor([[0.5166, 0.0166]], requires_grad=True), Parameter containing:\n",
            "tensor([0.4703], requires_grad=True)]\n",
            "err: 0.34126701951026917\n",
            "err: 0.026026133447885513\n",
            "err: 0.01240517757833004\n",
            "err: 0.007894625887274742\n",
            "err: 0.005720104090869427\n",
            "err: 0.00445788586512208\n",
            "err: 0.0036393660120666027\n",
            "err: 0.00306803360581398\n",
            "err: 0.002647782675921917\n",
            "err: 0.0023263031616806984\n",
            "err: 0.0020727980881929398\n",
            "err: 0.0018679799977689981\n",
            "err: 0.0016991941956803203\n",
            "err: 0.0015577899757772684\n",
            "err: 0.0014376681065186858\n",
            "err: 0.0013344006147235632\n",
            "err: 0.001244708662852645\n",
            "err: 0.0011660999152809381\n",
            "err: 0.0010966607369482517\n",
            "err: 0.001034886110574007\n",
            "[[0.   ]\n",
            " [0.034]\n",
            " [0.034]\n",
            " [0.96 ]]\n"
          ],
          "name": "stdout"
        }
      ]
    },
    {
      "cell_type": "markdown",
      "metadata": {
        "id": "uS9u3ATuuBK2"
      },
      "source": [
        "## 다층 신경망\n",
        "\n",
        "이제 xor 문제를 풀기 위한 다층 신경망을 구현해보자. 우선 문제 정의는 다음과 같다. "
      ]
    },
    {
      "cell_type": "code",
      "metadata": {
        "id": "ZnLGdKXiOBoB"
      },
      "source": [
        "\n",
        "x = tc.FloatTensor( [[0,0],[0,1],[1,0],[1,1]] )\n",
        "y = tc.FloatTensor( [[0],[1],[1],[0]])\n"
      ],
      "execution_count": 180,
      "outputs": []
    },
    {
      "cell_type": "markdown",
      "metadata": {
        "id": "qNs2EJ2SOIl7"
      },
      "source": [
        "### Optimizer만 사용\n",
        "\n",
        "Optimizer 만 사용하더라도 다층 신경망의 경우 여러개의 다차원 웨이트와 히든을 바이어스를 갖기 때문에 그 계산이 상당히 복잡하다. 일단 히든 노드는 2개만 사용하도록 하겠다. 이 경우 구조는 2 x 2 x 1 이 되며 \n",
        "```\n",
        "w1 -> 2 x 2 \n",
        "b1 -> 2 \n",
        "w2 -> 2\n",
        "b2 -> 1\n",
        "```\n",
        "이렇게 구성된다. \n",
        "\n",
        "히든에서 출력까지는 위에서 했던 단층 로지스틱회귀와 유사하므로 크게 신경쓰지 안아도 되나 2 x 2 의 w1 을 이용해 h 를 계산하는 부분이 상당히 복잡한데 결론부터 이야기하면 \n",
        "\n",
        "```\n",
        "h = ( (x.view(4,1,2) * w1).sum(dim = 2) + b1 ).sigmoid()\n",
        "```\n",
        "로 계산된다.  그리고 xor 문제는 평균적으로 많은 스탭을 필요로 하는 것으로 알려져 있지만 대신 학습률(lr)을 상당히 높여도 발산하지 안으므로 lr 은 1 로 주도록 하겠다.  하지만 그럼에도 불구하고 상당히 많은 스탭을 필요로 하는 것을 알 수 있을 것이다. \n",
        "\n",
        "\n",
        "\n"
      ]
    },
    {
      "cell_type": "code",
      "metadata": {
        "colab": {
          "base_uri": "https://localhost:8080/"
        },
        "id": "inN0mx_1O20V",
        "outputId": "c151757c-fb40-4867-8e7f-62d872049852"
      },
      "source": [
        "w1 = tc.rand([2,2], requires_grad = True)\n",
        "w2 = tc.rand(2, requires_grad = True)\n",
        "\n",
        "b1 = tc.rand(2, requires_grad = True)\n",
        "b2 = tc.rand(1, requires_grad = True)\n",
        "\n",
        "op = optim.SGD([w1, w2, b1, b2], lr = 1)\n",
        "ds = []\n",
        "for step in range(10000):     \n",
        "  h = ( (x.view(4,1,2) * w1).sum(dim = 2) + b1 ).sigmoid()\n",
        " \n",
        "  o = ( (h * w2).sum( dim = 1) + b2 ).sigmoid().view(-1,1)\n",
        "  d = (y - o ).pow(2).mean()\n",
        "\n",
        "  op.zero_grad() \n",
        "  d.backward() \n",
        "  op.step() \n",
        "    \n",
        "  if step % 100 == 0 :    \n",
        "    print(\"err:\", d.item())\n",
        "\n",
        "    ds += [d.item()]\n",
        "    \n",
        "    \n",
        "print( \"o:{}, \\t err:{:.3f}\".format( o.detach().numpy(), d ) )\n"
      ],
      "execution_count": 187,
      "outputs": [
        {
          "output_type": "stream",
          "text": [
            "err: 0.3167257010936737\n",
            "err: 0.24885056912899017\n",
            "err: 0.24660149216651917\n",
            "err: 0.24000650644302368\n",
            "err: 0.22517642378807068\n",
            "err: 0.2053285837173462\n",
            "err: 0.19069835543632507\n",
            "err: 0.18067558109760284\n",
            "err: 0.16999578475952148\n",
            "err: 0.15209625661373138\n",
            "err: 0.11709535121917725\n",
            "err: 0.07413457334041595\n",
            "err: 0.045340441167354584\n",
            "err: 0.03000437095761299\n",
            "err: 0.021550791338086128\n",
            "err: 0.016470063477754593\n",
            "err: 0.013169577345252037\n",
            "err: 0.010888993740081787\n",
            "err: 0.009235197678208351\n",
            "err: 0.007989284582436085\n",
            "err: 0.007021475117653608\n",
            "err: 0.006250652484595776\n",
            "err: 0.005623889155685902\n",
            "err: 0.005105284973978996\n",
            "err: 0.004669790156185627\n",
            "err: 0.004299373831599951\n",
            "err: 0.003980806563049555\n",
            "err: 0.0037041716277599335\n",
            "err: 0.003461873158812523\n",
            "err: 0.0032480342779308558\n",
            "err: 0.003058014437556267\n",
            "err: 0.0028881344478577375\n",
            "err: 0.0027354236226528883\n",
            "err: 0.002597440965473652\n",
            "err: 0.002472200896590948\n",
            "err: 0.0023580524139106274\n",
            "err: 0.002253602957352996\n",
            "err: 0.0021576974540948868\n",
            "err: 0.0020693400874733925\n",
            "err: 0.001987691270187497\n",
            "err: 0.001912032370455563\n",
            "err: 0.0018417327664792538\n",
            "err: 0.0017762533389031887\n",
            "err: 0.0017151241190731525\n",
            "err: 0.001657932880334556\n",
            "err: 0.0016043137293308973\n",
            "err: 0.0015539481537416577\n",
            "err: 0.0015065567567944527\n",
            "err: 0.0014618863351643085\n",
            "err: 0.0014197067357599735\n",
            "err: 0.001379828667268157\n",
            "err: 0.001342062489129603\n",
            "err: 0.0013062504585832357\n",
            "err: 0.0012722467072308064\n",
            "err: 0.0012399203842505813\n",
            "err: 0.0012091536773368716\n",
            "err: 0.0011798302875831723\n",
            "err: 0.0011518634855747223\n",
            "err: 0.0011251562973484397\n",
            "err: 0.001099626300856471\n",
            "err: 0.001075197709724307\n",
            "err: 0.001051805098541081\n",
            "err: 0.0010293793166056275\n",
            "err: 0.0010078689083456993\n",
            "err: 0.000987216830253601\n",
            "err: 0.0009673720924183726\n",
            "err: 0.000948292319662869\n",
            "err: 0.0009299288503825665\n",
            "err: 0.0009122468763962388\n",
            "err: 0.0008952098432928324\n",
            "err: 0.0008787818951532245\n",
            "err: 0.0008629325311630964\n",
            "err: 0.000847632298246026\n",
            "err: 0.0008328488911502063\n",
            "err: 0.0008185638580471277\n",
            "err: 0.0008047478622756898\n",
            "err: 0.0007913816953077912\n",
            "err: 0.0007784415502101183\n",
            "err: 0.0007659060647711158\n",
            "err: 0.0007537606870755553\n",
            "err: 0.0007419880712404847\n",
            "err: 0.0007305655162781477\n",
            "err: 0.0007194839417934418\n",
            "err: 0.000708727864548564\n",
            "err: 0.0006982794729992747\n",
            "err: 0.0006881284061819315\n",
            "err: 0.0006782637210562825\n",
            "err: 0.0006686680717393756\n",
            "err: 0.0006593368598259985\n",
            "err: 0.000650256872177124\n",
            "err: 0.0006414225790649652\n",
            "err: 0.0006328159943223\n",
            "err: 0.000624430482275784\n",
            "err: 0.0006162635982036591\n",
            "err: 0.0006083017797209322\n",
            "err: 0.0006005385657772422\n",
            "err: 0.0005929674953222275\n",
            "err: 0.0005855817580595613\n",
            "err: 0.0005783732049167156\n",
            "err: 0.0005713377031497657\n",
            "o:[[0.02490852]\n",
            " [0.9781633 ]\n",
            " [0.97815984]\n",
            " [0.02615086]], \t err:0.001\n"
          ],
          "name": "stdout"
        }
      ]
    },
    {
      "cell_type": "markdown",
      "metadata": {
        "id": "YCcjUQb-Rmju"
      },
      "source": [
        "도식화 시켜보면 상당히 인상적인 곡선을 볼 수 있는데 일반적인 학습과 달리 에러의 하강이 느슨해지다가 일정시점에서 급격히 떨어지는 폭포수 형태를 볼 수 있을 것이다. "
      ]
    },
    {
      "cell_type": "code",
      "metadata": {
        "colab": {
          "base_uri": "https://localhost:8080/",
          "height": 283
        },
        "id": "VmgWWqKZRlvv",
        "outputId": "b4f2142d-5873-4948-b170-43c339ae0c98"
      },
      "source": [
        "\n",
        "import matplotlib.pyplot as plt \n",
        "plt.plot(ds)"
      ],
      "execution_count": 188,
      "outputs": [
        {
          "output_type": "execute_result",
          "data": {
            "text/plain": [
              "[<matplotlib.lines.Line2D at 0x7f05aa715450>]"
            ]
          },
          "metadata": {
            "tags": []
          },
          "execution_count": 188
        },
        {
          "output_type": "display_data",
          "data": {
            "image/png": "[encoded data removed]",
            "text/plain": [
              "<Figure size 432x288 with 1 Axes>"
            ]
          },
          "metadata": {
            "tags": [],
            "needs_background": "light"
          }
        }
      ]
    },
    {
      "cell_type": "markdown",
      "metadata": {
        "id": "rRnC7VFsR-HO"
      },
      "source": [
        "### nn 모델을 사용\n",
        "\n",
        "위의 방법과 달리 nn모델을 사용하면 위의 복잡한 웨이트 초기화와 계산과정은 다 자동화된다. 단지 다음과 같이 모델을 구성할때 2개의 층만 더 추가해주면 된다. \n",
        "```\n",
        "model = nn.Sequential(\n",
        "     nn.Linear(2,2),\n",
        "     nn.Sigmoid(),\n",
        "     nn.Linear(2,1),\n",
        "     nn.Sigmoid()\n",
        ")\n",
        "\n",
        "```\n",
        "이를 이용한 웨이트와 바이어스 생성, 출력 계산등은 다 자동화 되므로 사실상 이 부분을 제외하면 나머지는 단층 신경망과 동일하다.\n"
      ]
    },
    {
      "cell_type": "code",
      "metadata": {
        "id": "Qybt3pwIm2ha",
        "colab": {
          "base_uri": "https://localhost:8080/"
        },
        "outputId": "2f57ccd6-2b24-4382-e169-f794e19456f6"
      },
      "source": [
        "model = nn.Sequential(\n",
        "     nn.Linear(2,2),\n",
        "     nn.Sigmoid(),\n",
        "     nn.Linear(2,1),\n",
        "     nn.Sigmoid()\n",
        ")\n",
        " \n",
        "\n",
        "optimizer = optim.SGD(model.parameters(), lr = 1)\n",
        " \n",
        "ds = []\n",
        "for step in range(10000):\n",
        "  o = model(x)\n",
        "\n",
        "  d = nn.functional.mse_loss(o, y)\n",
        "  optimizer.zero_grad() \n",
        "  d.backward()\n",
        "  optimizer.step() \n",
        "\n",
        "\n",
        "  if step % 100 == 0 :\n",
        "    ds += [d.item()]\n",
        "    print(\"err:\", d.item())\n",
        "\n",
        "\n",
        "print( np.round(o.detach().numpy(), 3) )\n",
        "\n",
        "\n"
      ],
      "execution_count": 189,
      "outputs": [
        {
          "output_type": "stream",
          "text": [
            "err: 0.26125481724739075\n",
            "err: 0.24957376718521118\n",
            "err: 0.24914570152759552\n",
            "err: 0.248040571808815\n",
            "err: 0.24459823966026306\n",
            "err: 0.23366297781467438\n",
            "err: 0.21155884861946106\n",
            "err: 0.18704096972942352\n",
            "err: 0.14411164820194244\n",
            "err: 0.06783607602119446\n",
            "err: 0.030713152140378952\n",
            "err: 0.017709234729409218\n",
            "err: 0.011953971348702908\n",
            "err: 0.008859161287546158\n",
            "err: 0.006968081463128328\n",
            "err: 0.005707951728254557\n",
            "err: 0.004814734682440758\n",
            "err: 0.004151804838329554\n",
            "err: 0.0036420286633074284\n",
            "err: 0.003238857723772526\n",
            "err: 0.00291265151463449\n",
            "err: 0.0026436815969645977\n",
            "err: 0.0024183797650039196\n",
            "err: 0.0022270968183875084\n",
            "err: 0.0020627963822335005\n",
            "err: 0.0019202433759346604\n",
            "err: 0.0017954586073756218\n",
            "err: 0.0016853694105520844\n",
            "err: 0.0015875614481046796\n",
            "err: 0.0015001248102635145\n",
            "err: 0.0014215154806151986\n",
            "err: 0.001350484904833138\n",
            "err: 0.0012859979178756475\n",
            "err: 0.00122720783110708\n",
            "err: 0.0011733982246369123\n",
            "err: 0.0011239750310778618\n",
            "err: 0.00107842858415097\n",
            "err: 0.001036326284520328\n",
            "err: 0.0009972968837246299\n",
            "err: 0.0009610196575522423\n",
            "err: 0.000927216315176338\n",
            "err: 0.0008956483798101544\n",
            "err: 0.0008661036845296621\n",
            "err: 0.0008383943350054324\n",
            "err: 0.000812356942333281\n",
            "err: 0.0007878473261371255\n",
            "err: 0.0007647349848411977\n",
            "err: 0.000742907403036952\n",
            "err: 0.0007222623680718243\n",
            "err: 0.0007027014507912099\n",
            "err: 0.0006841488648205996\n",
            "err: 0.0006665281252935529\n",
            "err: 0.0006497717113234103\n",
            "err: 0.0006338151288218796\n",
            "err: 0.0006186061655171216\n",
            "err: 0.0006040929583832622\n",
            "err: 0.0005902301636524498\n",
            "err: 0.0005769734852947295\n",
            "err: 0.0005642889882437885\n",
            "err: 0.0005521333077922463\n",
            "err: 0.000540482229553163\n",
            "err: 0.0005292997811920941\n",
            "err: 0.000518561399076134\n",
            "err: 0.0005082417046651244\n",
            "err: 0.0004983128746971488\n",
            "err: 0.0004887605318799615\n",
            "err: 0.0004795560089405626\n",
            "err: 0.0004706875479314476\n",
            "err: 0.0004621330590452999\n",
            "err: 0.0004538766806945205\n",
            "err: 0.0004459049378056079\n",
            "err: 0.0004382012411952019\n",
            "err: 0.00043075604480691254\n",
            "err: 0.00042355427285656333\n",
            "err: 0.000416584312915802\n",
            "err: 0.0004098338831681758\n",
            "err: 0.0004032959113828838\n",
            "err: 0.00039695907616987824\n",
            "err: 0.0003908131620846689\n",
            "err: 0.0003848523192573339\n",
            "err: 0.0003790660994127393\n",
            "err: 0.0003734480415005237\n",
            "err: 0.0003679920337162912\n",
            "err: 0.0003626886464189738\n",
            "err: 0.0003575344744604081\n",
            "err: 0.00035252218367531896\n",
            "err: 0.00034764473093673587\n",
            "err: 0.000342898623785004\n",
            "err: 0.0003382769355084747\n",
            "err: 0.00033377629006281495\n",
            "err: 0.0003293926711194217\n",
            "err: 0.00032511967583559453\n",
            "err: 0.0003209541901014745\n",
            "err: 0.00031689164461568\n",
            "err: 0.00031293026404455304\n",
            "err: 0.00030906361644156277\n",
            "err: 0.00030529047944583\n",
            "err: 0.000301607622532174\n",
            "err: 0.00029800768243148923\n",
            "err: 0.00029449348221533\n",
            "[[0.017]\n",
            " [0.98 ]\n",
            " [0.984]\n",
            " [0.015]]\n"
          ],
          "name": "stdout"
        }
      ]
    },
    {
      "cell_type": "code",
      "metadata": {
        "colab": {
          "base_uri": "https://localhost:8080/",
          "height": 283
        },
        "id": "GrbU8VlaTR5-",
        "outputId": "cd72c084-371d-4ede-c1ad-f5ddf5f2c63d"
      },
      "source": [
        "\n",
        "import matplotlib.pyplot as plt \n",
        "plt.plot(ds)"
      ],
      "execution_count": 190,
      "outputs": [
        {
          "output_type": "execute_result",
          "data": {
            "text/plain": [
              "[<matplotlib.lines.Line2D at 0x7f05aa488f50>]"
            ]
          },
          "metadata": {
            "tags": []
          },
          "execution_count": 190
        },
        {
          "output_type": "display_data",
          "data": {
            "image/png": "[encoded data removed]",
            "text/plain": [
              "<Figure size 432x288 with 1 Axes>"
            ]
          },
          "metadata": {
            "tags": [],
            "needs_background": "light"
          }
        }
      ]
    }
  ]
}