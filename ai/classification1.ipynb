{
 "cells": [
  {
   "cell_type": "markdown",
   "metadata": {},
   "source": [
    "# 분류(classification)\n",
    "\n",
    "감독학습의 큰 두 줄기는 회귀와 분류이다. 회귀는 데이터의 상관관계를 기반으로 하여 출력 데이터의 연속적인 값을 예측하는 것이다. 이와는 달리 그 결과가 수치화되기 어려운 데이터가 존재한다. 예를 들어 여러 기상조건을 기준으로 비가 올것인가 안올것인가를 예측하는 문제들은 이를 수치화시키기 어렵다. \n",
    "\n",
    "이런 불연속적이고 유한적인 결과를 예측하는 문제를 분류(classification)이라고 표현한다. \n"
   ]
  },
  {
   "cell_type": "markdown",
   "metadata": {},
   "source": [
    "<br><br>\n",
    "<hr style=\"height:3px\">\n",
    "\n",
    "\n",
    "# decision tree\n",
    "\n",
    "\n",
    "결정 트리는 케이스 데이터의 경우의 수를 분석하여 이것을 가장 효율적으로 예측하는 의사결정 트리를 만드는 것이다. 간단한 예로 다음과 같은 데이터를 보자. \n",
    "\n",
    "<pre>\n",
    "a: 1, 2, 2, 3  \n",
    "R: 1, 0, 0, 1\n",
    "</pre>\n",
    "\n",
    "이 데이터에서 R은 A를 통해 유추가 가능하다. 규칙은 다음과 같다. \n",
    "\n",
    "<pre>\n",
    "a -> 1 : 1\n",
    "a -> 2 : 0 \n",
    "a -> 3 : 1\n",
    "</pre>\n",
    "\n",
    "\n",
    "하지만 다음 데이터는 어떨까? \n",
    "\n",
    "<pre>\n",
    "a : 1, 1, 1, 0, 0 \n",
    "b : 0, 2, 1, 1, 2 \n",
    "R : 0, 0, 0, 2, 1\n",
    "</pre>\n",
    "\n",
    "\n",
    "물론 이것을 다음과 같이 표현할 수 있을것이다. \n",
    "\n",
    "<pre>\n",
    "a,b -> 1,0 : 1\n",
    "a,b -> 0,1 : 0\n",
    "a,b -> 2,0 : 1\n",
    "a,b -> 1,1 : 1\n",
    "a,b -> 1,1 : 1\n",
    "</pre>\n",
    "\n",
    "하지만 변수가 많아지고 데이터가 많아지면 이 방법은 사실상 학습이 아닌 검색에 가까워지며 그 효율이 극단적으로 저하된다. 위의 경우를 이렇게 표현하면 어떨까? \n",
    "\n",
    "<pre>\n",
    "a -> 1 : 0\n",
    "a -> 0 :    \n",
    "    b -> 1 : 2 \n",
    "    b -> 2 : 1     \n",
    "</pre>    \n",
    "    \n",
    "검색의 비교횟수가 많이 줄어든 것을 알 수 있을 것이다. 데이터가 복잡해져도 이런 데이터의 경우를 잘 분류하여 트리로 표현하면 데이터에 대한 빠른 판단이 가능하다. 이렇게 어떤 상황에 대한 케이스들을 판단할 수 있는 효율적인 트리를 구성한 것을 의사결정트리(decision tree)라고 한다. \n",
    "\n",
    "그런데 과연 이것을 학습이라고 할 수 있을까? 이것은 사실상 데이터 압축이나 검색 효율화에 가까운 것이 아닐까? 이것이 학습적인 효과를 지니려면 기존에 존재하지 안는 경우에 대한 예측이 가능해야 하지 안을까? 이 것을 논하기 전에 우선 위의 트리에서 먼저 b를 검사하는 경우는 어떻게 될 지 생각해보자. \n",
    "\n",
    "<pre>\n",
    "b -> 0 : 0   \n",
    "b -> 1 : \n",
    "    a -> 1 : 0 \n",
    "    a -> 0 : 2\n",
    "b-> 2 : \n",
    "    a -> 1 : 0 \n",
    "    a -> 0 : 1\n",
    "</pre>\n",
    "    \n",
    "트리가 조금더 복잡해 진것을 볼 수 있을것이다. 이것은 트리를 구성할때 두 데이터의 효율이 다르다는 의미로 인식된다. 왜 이런 차이가 생겼을까? \n",
    "\n",
    "만일 당신이 도박을 한다고 가정해보자. 당신의 R을 예측하기 위해 a와 b중에 하나의 값만 볼  수 있다고 할때 과연 어떤 값을 보는게 유리할까? 데이터를 가만히 보면 어렵지 않게 a를 보는 쪽이 훨씬 더 유리함을 알 수 있다. 만일 a의 값이 1이면 당신은 무조건 R 이 0 임을 알게 되는데 이 확률이 무려 3/5 나 된다.  그에 비해 b 는 R 값을 확정지을 수 있는 경우가 0 밖에 없으며 이는 1/5 밖에 되지 안는다. \n",
    "\n",
    "이는 a 가 R 값과 더 높은 연관성을 갖기때문이다. 만일 제일 처음 나온 예처럼 a 값만으로 R 값이 예측이 된다면 다른 데이터는 볼 필요조차 없게도니다. 그러면 우리는 과연 어떻게 a 와 같은 높은 연관성을 지닌 값을 알게 될까? \n",
    "\n"
   ]
  },
  {
   "cell_type": "markdown",
   "metadata": {},
   "source": [
    "<hr>\n",
    "\n",
    "\n",
    "## 정보량 함수\n",
    "\n",
    "어떤 복잡성을 측정하는 기준으로 정보량 함수라는것이 등장하였다. 이 함수는 각 경우의 발생확률을 $P(x)$ 라고 할때  $ -P(x)\\log{P(x)} $ 를 더한 것이다.  어렵게 느껴질 수 있지만 요컨데 이 값은 경우가 한쪽으로 몰릴수록 0 에 가까워진다. 이를 수학적으로는 다음과 같이 표현한다. \n",
    "\n",
    "$$\\large -\\sum_{i=1}^{n}{Px\\log(Px)} $$\n",
    "\n"
   ]
  },
  {
   "cell_type": "markdown",
   "metadata": {},
   "source": [
    "요컨데 위의 예제에서 a 의 엔트로피는  1일때 모든 R 이 1 이므로  0인경우 -> 0/3 , 1인 경우 3/3 이 되어 0 log 0 + 1 log 1 = 0 이 되고 0 인 경우는 1이 하나 0 이 하나이므로 0.5 log(0.5) + 0.5 log(0.5)가 되어 log(0.5)가 된다. 한마디로 낮을수록 그만큼  R 의 데이터값을 잘 표현한다는 의미로 받아들이면 된다. \n",
    "\n",
    "이제 이를 이용해 정보량을 직접 프로그래밍으로 구해보도록 하겠다. 먼저 위의 예제의 데이터를 데이터 프레임으로 만들어보자."
   ]
  },
  {
   "cell_type": "code",
   "execution_count": 3,
   "metadata": {},
   "outputs": [
    {
     "data": {
      "text/html": [
       "<div>\n",
       "<style scoped>\n",
       "    .dataframe tbody tr th:only-of-type {\n",
       "        vertical-align: middle;\n",
       "    }\n",
       "\n",
       "    .dataframe tbody tr th {\n",
       "        vertical-align: top;\n",
       "    }\n",
       "\n",
       "    .dataframe thead th {\n",
       "        text-align: right;\n",
       "    }\n",
       "</style>\n",
       "<table border=\"1\" class=\"dataframe\">\n",
       "  <thead>\n",
       "    <tr style=\"text-align: right;\">\n",
       "      <th></th>\n",
       "      <th>R</th>\n",
       "      <th>a</th>\n",
       "      <th>b</th>\n",
       "    </tr>\n",
       "  </thead>\n",
       "  <tbody>\n",
       "    <tr>\n",
       "      <th>0</th>\n",
       "      <td>0</td>\n",
       "      <td>1</td>\n",
       "      <td>0</td>\n",
       "    </tr>\n",
       "    <tr>\n",
       "      <th>1</th>\n",
       "      <td>0</td>\n",
       "      <td>1</td>\n",
       "      <td>2</td>\n",
       "    </tr>\n",
       "    <tr>\n",
       "      <th>2</th>\n",
       "      <td>0</td>\n",
       "      <td>1</td>\n",
       "      <td>1</td>\n",
       "    </tr>\n",
       "    <tr>\n",
       "      <th>3</th>\n",
       "      <td>2</td>\n",
       "      <td>0</td>\n",
       "      <td>1</td>\n",
       "    </tr>\n",
       "    <tr>\n",
       "      <th>4</th>\n",
       "      <td>1</td>\n",
       "      <td>0</td>\n",
       "      <td>2</td>\n",
       "    </tr>\n",
       "  </tbody>\n",
       "</table>\n",
       "</div>"
      ],
      "text/plain": [
       "   R  a  b\n",
       "0  0  1  0\n",
       "1  0  1  2\n",
       "2  0  1  1\n",
       "3  2  0  1\n",
       "4  1  0  2"
      ]
     },
     "execution_count": 3,
     "metadata": {},
     "output_type": "execute_result"
    }
   ],
   "source": [
    "import pandas as pd \n",
    "df = pd.DataFrame( {        \n",
    "    'a' : [1,1,1,0,0],\n",
    "    'b' : [0,2,1,1,2],    \n",
    "    'R' : [0,0,0,2,1]    \n",
    "})\n",
    "\n",
    "df\n"
   ]
  },
  {
   "cell_type": "markdown",
   "metadata": {},
   "source": [
    "예를 들어 a = 0 인 경우에 대한 정보량을 구한다고 해보자. 먼저 이 데이터 a 의 값이 0인 경우를 추출하도록 해보겠다. "
   ]
  },
  {
   "cell_type": "code",
   "execution_count": 24,
   "metadata": {},
   "outputs": [
    {
     "name": "stdout",
     "output_type": "stream",
     "text": [
      "   R  a  b\n",
      "3  2  0  1\n",
      "4  1  0  2\n"
     ]
    }
   ],
   "source": [
    "df_a0 = df.loc[df['a'] == 0]\n",
    "print(df_a0)\n"
   ]
  },
  {
   "cell_type": "markdown",
   "metadata": {},
   "source": [
    "이제 이 중에 R값을 추려서 각각의 갯수를 얻어내도록 한다. 이때 R이 갖는 값의 범위를 다음과 같이 구할 수 있다. "
   ]
  },
  {
   "cell_type": "code",
   "execution_count": 34,
   "metadata": {},
   "outputs": [
    {
     "name": "stdout",
     "output_type": "stream",
     "text": [
      "[2 1]\n"
     ]
    }
   ],
   "source": [
    "rvalues = df_a0['R'].unique() \n",
    "print(rvalues)\n"
   ]
  },
  {
   "cell_type": "markdown",
   "metadata": {},
   "source": [
    "이제 엔트로피 게산을 위해 각각의 R의 발생빈도를 얻어야 할 차례이다. \n",
    "\n",
    "이 경우 for 문을 돌려도 되겠지만 코드의 편의를 위해 다음 함수를 사용하도록 하겠다. \n",
    "\n",
    "<pre  style  = \"background-color:#EEEEEE; margin:20px; padding:10px\">\n",
    "pd.Series.value_counts() : 값들의 발생 빈도를 리턴 \n",
    "</pre>\n",
    "\n",
    "이것을 사용하는 방법은 다음과 같다. \n"
   ]
  },
  {
   "cell_type": "code",
   "execution_count": 28,
   "metadata": {},
   "outputs": [
    {
     "name": "stdout",
     "output_type": "stream",
     "text": [
      "2    1\n",
      "1    1\n",
      "Name: R, dtype: int64\n"
     ]
    }
   ],
   "source": [
    "counts = df_a0['R'].value_counts()\n",
    "print(counts)"
   ]
  },
  {
   "cell_type": "markdown",
   "metadata": {},
   "source": [
    "위의 결과는 R값이 2와 1이 1회씩 나왔음을 의미한다. 이제 이것을 np 로 바꿔서 간단히 n log n 계산을 해보도록 하자. "
   ]
  },
  {
   "cell_type": "code",
   "execution_count": 48,
   "metadata": {},
   "outputs": [
    {
     "name": "stdout",
     "output_type": "stream",
     "text": [
      "entropy array: [0.69314718 0.69314718]\n",
      "sum : 1.3862943611198906\n"
     ]
    }
   ],
   "source": [
    "import numpy as np\n",
    "\n",
    "cv = counts.values # numpy 배열로 변환 \n",
    "n = np.sum(cv)\n",
    "print(\"entropy array:\", -np.log( cv / n ) * cv ) #경우별 엔트로피\n",
    "print(\"sum :\", np.sum(-np.log( cv / n ) * cv )) # 엔트로피 합산 \n"
   ]
  },
  {
   "cell_type": "markdown",
   "metadata": {},
   "source": [
    "위에서 얻어진 합산값이 a=0 인 경우에 대한 정보량이라고 할 수 있다. \n",
    "\n",
    "위의 예제를 정리하면 어떤 데이터 셋의 타겟 항목의 정보량을 얻는 함수는 다음과 같이 정의할 수 있다. "
   ]
  },
  {
   "cell_type": "code",
   "execution_count": 49,
   "metadata": {},
   "outputs": [
    {
     "name": "stdout",
     "output_type": "stream",
     "text": [
      "4.7513526961661725\n"
     ]
    }
   ],
   "source": [
    "def entropy(df, target):    \n",
    "    cv  = df[target].value_counts().values\n",
    "    n = np.sum(cv)\n",
    "    return  np.sum(-np.log( cv / n ) * cv)\n",
    "                   \n",
    "print( entropy(df, 'R') ) \n"
   ]
  },
  {
   "cell_type": "markdown",
   "metadata": {},
   "source": [
    "위의 테스트로 출력한 것은 전체 데이터셋에 대한 정보량이다. \n",
    "\n",
    "### <font color = 'red'> 연습문제 6-1 : 엔트로피 함수를 활용해 항목값 정보량 축정\n",
    "\n",
    "이제 위의 엔트로피 함수를 이용해 b 의 값들에 대한 정보량들을 측정해보자. \n"
   ]
  },
  {
   "cell_type": "code",
   "execution_count": 50,
   "metadata": {},
   "outputs": [],
   "source": [
    "#연습문제 6-1 코드를 작성해보자. "
   ]
  },
  {
   "cell_type": "markdown",
   "metadata": {},
   "source": [
    "<hr>\n",
    "\n",
    "## GAIN 과 최적의 항목 선정\n",
    "\n",
    "위에서는 각 경우의 수마다 정보량의 측정방법을 알아보았다. 이제 이것을 이용해 트리를 생성하는 방법을 알아보자. 이를 위해서는 위의 정보량과 유사한 개념인 Gain 에대한 이해가 필요하다. Gain 은 그 항목을 선택했을때 정보량의 변화를 의미한다. 예를 들어 위의 경우에서 전체 데이터셋의 정보량이 1이라고 했을때 a = 0 의 정보량이 0.3 이고 a = 1 의 정보량이 0.2라고 하면 a를 선택함으로서 얻는 이익은 0.5 라고 계산한다.  \n",
    "\n",
    "이는 트리에서 그 항목을 배치함으로서 얻어지는 이익을 의미하며 이를 수식으로는 다음과 같이 표현한다. \n",
    "\n",
    "\n",
    "$$ \\large Gain(T, X) = Entropy(T) - Entropy(T, X) $$\n",
    "\n",
    "$$ \\large  Entropy(T, X) = \\sum{P(i)E(i)} $$\n",
    "\n",
    "여기서 Entropy(T) 는 전체 정보량을 의미하고 Entropy(T,X) 는 X의 값이 각각 i인 경우들의 정보량의 합산을 의미한다.\n",
    "\n",
    "\n",
    "### <font color = 'red'> 연습문제 6-2 : GAIN 함수를 작성해보자\n",
    "\n",
    "Gain 함수의 정의는 다음과 같다. \n",
    "\n",
    "<pre  style  = \"background-color:#EEEEEE; margin:20px; padding:10px\">\n",
    "def gain(df, attr, target) : \n",
    "</pre>\n",
    "\n",
    "여기서 df 는 전체 데이터를 의미하며 attr 은 해당 항목,  target 은 정보량 산정 기준항목이다. 이 함수를 작성하여 a와 b의 R 에 대한 gain 값을 얻어보자. "
   ]
  },
  {
   "cell_type": "code",
   "execution_count": 51,
   "metadata": {},
   "outputs": [],
   "source": [
    "def gain(df, attr, target) : \n",
    "    _# 연습문제 6-2  gain 함수의 내용을 작성해보자. \n",
    "    return _ \n",
    "\n"
   ]
  },
  {
   "cell_type": "markdown",
   "metadata": {},
   "source": [
    "<hr>\n",
    "\n",
    "## 결정트리 만들기\n",
    "\n",
    "결정트리를 만드는 법은 다음과 같은 작업을 반복적으로 수행함으로서 이뤄진다. \n",
    "\n",
    "<br>\n",
    "<b>\n",
    "    \n",
    "    1. 전체 항목중 가장 큰 Gain을 갖는 항목을 선정하여 트리노드를 생성한다. \n",
    "    \n",
    "    2. 항목의 각각의 값들을 갖는 경우를 추출하여 부분데이터를 생성한다. \n",
    "    \n",
    "    3. 각각의 부분데이터에 대해 엔트로피가 0이 되거나 GAIN이 일정 값 이하로 떨어질때까지 1~2 를 반복한다.\n",
    "</b>\n",
    "<br>\n",
    "\n",
    "이때 Gain 이 좋은 항목은 트리를 간소하게 만드는 효과를 지닌다. 하지만 우리가 최초에 든 예제들처럼 전체 R값을 완전히 예측 가능한 트리가 항상 만들어지는 것은 아니다. 또한 현실의 데이터는 기존의 데이터에 존재하지 안는 .. 트리에 노드가 존재하지 안는 경우가 발생할 수도 있다. 이런 다양한 경우에 대한 처리방법은 결정트리를 다루는 경우에 따라 조금씩 다르지만 그럼에도 불구하고 이러한 Gain의 존재는 그 데이터에 개략적인 경향을 예측하게 만들어준다. \n",
    "\n",
    "만일 트리가 세분화되다가 데이터의 R값이 99개의 0과 1개의 1로 구성되었다고 가정해보자. 그리고 그 어떤 항목도 이 경우에 대해 충분한 gain을 얻지 못한다고 가정해보자. 이러한 경우는 1개를 노이즈로 취급하는 것이 더 적절하며 이런 경우트리는 더이상 항목을 생성하지 안고  0값으로 잠정짓는다.  사실 많은 경우 1:9 정도의 비율만 나와도 이를 더이상 세분화하는 것이 오히려 과적합을 불러일으킬 수도 있다.  위에서 언급한 Gain의 임계값의 설정에 따라 완벽한 트리를 만들기도 하지만 어느정도 경향성만 있는 트리를 생성할 수도 있다.  오히려 이런 트리가 노이즈가 있는 데이터에 강한 경우가 많기 때문에 결과적으로 이런 과정을 통해 결정트리는 학습의 효과를 지닌다. \n",
    "\n",
    "\n"
   ]
  },
  {
   "cell_type": "markdown",
   "metadata": {},
   "source": [
    "\n",
    "### <font color = 'red'> 연습문제 6-3 : 결정트리의 생성\n",
    "\n",
    "위의 엔트로피와 게인 함수를 통해 결정트리를 만들어보자. \n",
    "\n",
    "<pre  style  = \"background-color:#EEEEEE; margin:20px; padding:10px\">\n",
    "def decision_tree(df, target) : \n",
    "</pre>\n",
    "\n",
    "트리의 구성은 dict 로 간단히 구성하며 예를 들어 위의 예제의 데이터 프레임의 경우 다음과 같은 모양이 나오도록 해보자. \n",
    "\n",
    "<pre  style  = \"background-color:#EEEEEE; margin:20px; padding:10px\">\n",
    "df = pd.DataFrame( {        \n",
    "    'a' : [1,1,1,0,0],\n",
    "    'b' : [0,2,1,1,2],    \n",
    "    'R' : [0,0,0,2,1]    \n",
    "})\n",
    "\n",
    "print(decision_tree(df, 'R) ) \n",
    "</pre>\n",
    "\n",
    "결과 \n",
    "<pre> \n",
    "{'a': {0: {'b': {1: 2, 2: 1}}, 1: 0}}\n",
    "</pre>\n",
    "\n",
    "\n",
    "\n",
    "\n"
   ]
  },
  {
   "cell_type": "code",
   "execution_count": null,
   "metadata": {},
   "outputs": [],
   "source": []
  }
 ],
 "metadata": {
  "kernelspec": {
   "display_name": "Python 3",
   "language": "python",
   "name": "python3"
  },
  "language_info": {
   "codemirror_mode": {
    "name": "ipython",
    "version": 3
   },
   "file_extension": ".py",
   "mimetype": "text/x-python",
   "name": "python",
   "nbconvert_exporter": "python",
   "pygments_lexer": "ipython3",
   "version": "3.5.2"
  }
 },
 "nbformat": 4,
 "nbformat_minor": 2
}
