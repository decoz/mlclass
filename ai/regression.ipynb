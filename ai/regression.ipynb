{
 "cells": [
  {
   "cell_type": "markdown",
   "metadata": {},
   "source": [
    "# 회귀분석\n",
    "\n",
    "회귀 분석은 데이터간의 상관관계 모형을 구해서 데이터를 해석하거나 예측하는 기법을 의미한다. \n",
    "간단한 예로는 들어 다음과 같은 데이터를 통과하는 직선을 찾는 기법이 있다. \n",
    "\n",
    "    a = np.array([1,3,5,7,9])\n",
    "\n",
    "<img src = \"f2_1.png\" align = left>\n"
   ]
  },
  {
   "cell_type": "markdown",
   "metadata": {},
   "source": [
    "물론 점들이 정확히 직선에 위치되어있다면 이는 매우 쉬운 문제일 것이다. 하지만 실제 데이터는 노이즈를 포함하여 복잡한 형태를 띄고 있기 때문에 이러한 데이터의 경향성을 파악하는 것은 결코 쉬운 일이 아니다.  \n",
    "\n",
    "다음과 같은 데이터를 생각해보자 \n",
    "\n",
    "    b = a + np.random.normal(0,1,5)\n",
    "\n",
    "<img src = \"f2_2.png\" align = left>\n"
   ]
  },
  {
   "cell_type": "markdown",
   "metadata": {},
   "source": [
    "위의 데이터에 정규분포 평균0, 편차1의 노이즈를 포함한 데이터를 포함한 경우이다.  위에서 다룬 직선은 분명 이번 데이터의 경향성도 어느정도 잘 다루고 있다. 하지만 이것이 얼마나 잘 표현한다고 볼 수 있는가? \n",
    "\n",
    "위의 경우는 직선을 통해 표현된 모델과 실제 데이터의 오차를 통해 측정한다. \n",
    "특히 이와 같이 데이터간의 상관관계를 연속된 선형관계로 해석하는 기법을 선형회귀분석이라고 한다.  \n"
   ]
  },
  {
   "cell_type": "code",
   "execution_count": 1,
   "metadata": {
    "scrolled": true
   },
   "outputs": [
    {
     "ename": "NameError",
     "evalue": "name 'np' is not defined",
     "output_type": "error",
     "traceback": [
      "\u001b[0;31m---------------------------------------------------------------------------\u001b[0m",
      "\u001b[0;31mNameError\u001b[0m                                 Traceback (most recent call last)",
      "\u001b[0;32m<ipython-input-1-60da86912a4e>\u001b[0m in \u001b[0;36m<module>\u001b[0;34m\u001b[0m\n\u001b[0;32m----> 1\u001b[0;31m \u001b[0ma\u001b[0m \u001b[0;34m=\u001b[0m \u001b[0mnp\u001b[0m\u001b[0;34m.\u001b[0m\u001b[0marray\u001b[0m\u001b[0;34m(\u001b[0m\u001b[0;34m[\u001b[0m\u001b[0;36m1\u001b[0m\u001b[0;34m,\u001b[0m\u001b[0;36m3\u001b[0m\u001b[0;34m,\u001b[0m\u001b[0;36m5\u001b[0m\u001b[0;34m,\u001b[0m\u001b[0;36m7\u001b[0m\u001b[0;34m,\u001b[0m\u001b[0;36m9\u001b[0m\u001b[0;34m]\u001b[0m\u001b[0;34m)\u001b[0m\u001b[0;34m\u001b[0m\u001b[0m\n\u001b[0m\u001b[1;32m      2\u001b[0m \u001b[0mb\u001b[0m \u001b[0;34m=\u001b[0m \u001b[0ma\u001b[0m \u001b[0;34m+\u001b[0m \u001b[0mnp\u001b[0m\u001b[0;34m.\u001b[0m\u001b[0mrandom\u001b[0m\u001b[0;34m.\u001b[0m\u001b[0mnormal\u001b[0m\u001b[0;34m(\u001b[0m\u001b[0;36m0\u001b[0m\u001b[0;34m,\u001b[0m\u001b[0;36m1\u001b[0m\u001b[0;34m,\u001b[0m\u001b[0;36m5\u001b[0m\u001b[0;34m)\u001b[0m\u001b[0;34m\u001b[0m\u001b[0m\n\u001b[1;32m      3\u001b[0m \u001b[0mplt\u001b[0m\u001b[0;34m.\u001b[0m\u001b[0mplot\u001b[0m\u001b[0;34m(\u001b[0m\u001b[0mb\u001b[0m\u001b[0;34m,\u001b[0m\u001b[0;34m'o'\u001b[0m\u001b[0;34m)\u001b[0m\u001b[0;34m\u001b[0m\u001b[0m\n\u001b[1;32m      4\u001b[0m \u001b[0mplt\u001b[0m\u001b[0;34m.\u001b[0m\u001b[0mplot\u001b[0m\u001b[0;34m(\u001b[0m\u001b[0ma\u001b[0m\u001b[0;34m)\u001b[0m\u001b[0;34m\u001b[0m\u001b[0m\n\u001b[1;32m      5\u001b[0m \u001b[0mplt\u001b[0m\u001b[0;34m.\u001b[0m\u001b[0mshow\u001b[0m\u001b[0;34m(\u001b[0m\u001b[0;34m)\u001b[0m\u001b[0;34m\u001b[0m\u001b[0m\n",
      "\u001b[0;31mNameError\u001b[0m: name 'np' is not defined"
     ]
    }
   ],
   "source": [
    "a = np.array([1,3,5,7,9])\n",
    "b = a + np.random.normal(0,1,5)\n",
    "plt.plot(b,'o')\n",
    "plt.plot(a)\n",
    "plt.show()\n"
   ]
  },
  {
   "cell_type": "markdown",
   "metadata": {},
   "source": [
    "<hr style=\"height:3px\">\n",
    "\n",
    "#  회귀분석의 기초 \n",
    "\n",
    "\n",
    "앞선 예제의 경우는 가장 오차가 적은 직선을 찾은 경우로서 이러한 직선은 x 의 1차항만을 ( x 제곱 이상은 무시  ) \n",
    "포함한 모델을 의미한다. (2차항이 끼면 구부러지기 시작 ) 이러한 경우를 선형 단순 회귀분석이라 칭한다. \n",
    "\n",
    "먼저 회귀분석을 위한 가장 단순한 형태의 데이터를 생성해보자 \n",
    "\n"
   ]
  },
  {
   "cell_type": "code",
   "execution_count": null,
   "metadata": {},
   "outputs": [],
   "source": [
    "import numpy as np\n",
    "import matplotlib.pyplot as plt\n",
    "\n",
    "x = np.array([1,2,3])\n",
    "y = np.array([2,4,6])\n",
    "\n",
    "plt.plot(x,y,'o')\n",
    "plt.show()\n"
   ]
  },
  {
   "cell_type": "markdown",
   "metadata": {},
   "source": [
    "이는 y = x * 2 의 가장 단순한 형태의 데이터 배치이며이때 오차를 최소화하는 직선 모델은 y = x * 2 이다. 이를 얻기 위해서 여기서는 sklearn 라이브러리의 linear_model 을 사용하도록 하겠다. \n",
    "\n",
    "## sklearn.linear_model 사용법\n"
   ]
  },
  {
   "cell_type": "code",
   "execution_count": null,
   "metadata": {},
   "outputs": [],
   "source": [
    "from sklearn import linear_model \n",
    "regr = linear_model.LinearRegression()"
   ]
  },
  {
   "cell_type": "markdown",
   "metadata": {},
   "source": [
    "위의 모델은 regr 은 선형 회귀분석을 수행할 수 있는 객체이며 fit 이라는 메소드를 통해 회귀분석을 수행한다. 그러면 이를 수행해보자 "
   ]
  },
  {
   "cell_type": "code",
   "execution_count": null,
   "metadata": {},
   "outputs": [],
   "source": [
    "regr.fit(x,y)"
   ]
  },
  {
   "cell_type": "markdown",
   "metadata": {},
   "source": [
    "아마 기나긴 에러를 보고 당황했을 것이다.  \n",
    "회귀분석에서 x 는 하나이상의 변수를 가정한다. 변수가 하나인 [1,2,3] 이라면 이 형태로도 괜찮겠지만 [3,4,5] 가 포함될 경우 [[1,2], [2,4], [3,5]] 이런 식으로 입력되는 경우를 가정해서 설계되어있다. \n",
    "\n",
    "그러므로 [1,2.3] 이 아니라 \n",
    "\n",
    "    [[1],\n",
    "     [2],\n",
    "     [3]] \n",
    " \n",
    "의 형태가 되어야 하며 이는 (1,3) 의 배열을 (3,1) 로 바꾸어주어야만 함을 의미한다. 이 경우 reshape 를 사용하면 쉽게 변환이 가능하다. \n",
    "\n"
   ]
  },
  {
   "cell_type": "code",
   "execution_count": null,
   "metadata": {},
   "outputs": [],
   "source": [
    "regr.fit(x.reshape(3,1),y)"
   ]
  },
  {
   "cell_type": "markdown",
   "metadata": {},
   "source": [
    "이제 regr.coef_ 값을 통해 상관 계수 2를 추출할 수 있다.\n",
    "\n",
    "## coef_ : 상관계수"
   ]
  },
  {
   "cell_type": "code",
   "execution_count": null,
   "metadata": {},
   "outputs": [],
   "source": [
    "print(regr.coef_)"
   ]
  },
  {
   "cell_type": "markdown",
   "metadata": {},
   "source": [
    "이를 그래프로 표현하면 다음과 같다. "
   ]
  },
  {
   "cell_type": "code",
   "execution_count": null,
   "metadata": {},
   "outputs": [],
   "source": [
    "plt.plot(x,y, 'o')\n",
    "plt.plot(x, x * regr.coef_)"
   ]
  },
  {
   "cell_type": "markdown",
   "metadata": {},
   "source": [
    "이번엔 다음과 같은 데이터를 보자 "
   ]
  },
  {
   "cell_type": "code",
   "execution_count": null,
   "metadata": {},
   "outputs": [],
   "source": [
    "x = np.array([1,2,3])\n",
    "y = np.array([3,5,7])\n",
    "plt.plot(x,y,'o')\n",
    "plt.show()"
   ]
  },
  {
   "cell_type": "markdown",
   "metadata": {},
   "source": [
    "위의 예제와 같이 기울기.. 즉 상관계수는 2 지만 위의 2,4,6 대신 1을 더한 3,5,7 값을 지닌다. 위의 데이터에 최적화된 직선은 다음과 같은 상수항 1을 지닌다. \n",
    "\n",
    "    y = x * 2 + 1 \n",
    " \n",
    "이 상수항은 regr.intercept_ 를 통해 얻을 수 있다.  그러면 이제 이 데이터를 회귀분석 해보겠다.  "
   ]
  },
  {
   "cell_type": "code",
   "execution_count": null,
   "metadata": {},
   "outputs": [],
   "source": [
    "x = np.array([1,2,3])\n",
    "y = np.array([3,5,7])\n",
    "regr.fit(x.reshape(3,1), y)\n",
    "plt.plot(x, y, 'o')\n",
    "plt.plot(x, x * regr.coef_, label = 'no intercept')\n",
    "plt.plot(x, x * regr.coef_ + regr.intercept_, label = 'with intercept')\n",
    "plt.legend()"
   ]
  },
  {
   "cell_type": "markdown",
   "metadata": {},
   "source": [
    "이번엔 노이즈를 포함한 3 * x + 2 데이터 50개를 생성해서 선형 단순회귀분석을 수행해보자 \n",
    "노이즈는 편차 5의 정규분포로 생성한다. "
   ]
  },
  {
   "cell_type": "code",
   "execution_count": null,
   "metadata": {},
   "outputs": [],
   "source": [
    "n = 50\n",
    "x = np.arange(0,n,1)\n",
    "y = x * 3 + 2 + np.random.normal(0,5,n)\n",
    "plt.plot(x,y, 'o')\n",
    "regr.fit(x.reshape(n,1),y)\n",
    "plt.plot(x, x * regr.coef_ + regr.intercept_)\n",
    "plt.show()\n",
    "print(regr.score(x.reshape(n,1),y))"
   ]
  },
  {
   "cell_type": "markdown",
   "metadata": {},
   "source": [
    "## score : 결정계수\n",
    "\n",
    "위에서 회귀분석으로 생성된 모델은 최적화된 직선을 만든다. 그러나 과연 이 직선이 이 데이터를 표현하는데 충분한 모델일까?  위처럼 눈으로 분명히 보인다면 문제가 없지만 3,4차원의 복잡한 데이터는 이렇게 시각화 시키기가 어렵다. 그래서  생성된 회귀모델이 얼마나 데이터를 잘 표현하는지지를 알기 위해서는 직선과 실제 데이터의 오차값의 비율을 측정함으로서 이를 확인할 수 있다. 이러한 수치를 결정계수라고 하며 다음과 같이 계산한다. \n",
    "\n",
    "<b> \n",
    "    - ( Y 오차 / Y 편차 ) ^ 2 \n",
    "</b>\n",
    "\n",
    "Y 오차는 실제 데이터와 모델의 데이터와의 차이값이고 편차는 Y 평균과 Y값의 차이값을 의미한다.. 편차값으로 나누는 이유는 데이터의 규모를 반영하기 위함이다. 다음과 같은 두 경우를 생각해보자 \n",
    "<b>\n",
    "    - y값이 평균 1억단위의 편차가 있는데 평균 1000 정도의 오차로 예측\n",
    "\n",
    "    - y값이 평균 1000 단위의 편차가 있는데 평균 500 정도의 오차로 예측 \n",
    "</b>\n",
    "이 두 경우 전자의 경우가 평균오차가 크지만 데이터의 크기와 평균 편차를 생각하면 오히려 후자쪽의 모델보다 이쪽이 더 정확한 모델임을 알 수 있다. 그러므로 편차값을 나눠줌으로서 데이터유 규모를 반영해서 모델의 정확도를 평가하기 위함이다. \n",
    "\n",
    "물론 수동으로 이를 작성할 수도 있겠지만 regr 은 자체적으로 이런 메소드를 지원한다.\n",
    "\n",
    "- score( x, y ) \n",
    "\n",
    "x 는 x 데이터와 y 데이터이며 반드시 회귀분석을 수행하던 데이터와 일치하지 안아도 됩니다. 즉 테스트용 데이터를 따로 측정할 수도 있다. (왜 그것이 필요한지는 나중에 언급한다.) \n",
    "\n",
    "위의 모델의 적합도 즉, 결정계수를 알기 위해서는 다음과 같이 출력하면 된다. "
   ]
  },
  {
   "cell_type": "code",
   "execution_count": null,
   "metadata": {},
   "outputs": [],
   "source": [
    "print( regr.score(x.reshape(n,1), y ))"
   ]
  },
  {
   "cell_type": "markdown",
   "metadata": {},
   "source": [
    "### <font color = 'red'> 연습 2-1 : 다음 데이터를 회귀분석 해보세요\n",
    "    "
   ]
  },
  {
   "cell_type": "code",
   "execution_count": null,
   "metadata": {},
   "outputs": [],
   "source": [
    "# 데이터 로딩 \n",
    "ld = np.load('e2_1.npz')\n",
    "x,y = ld['x'], ld['y']\n",
    "plt.plot(x,y,'o')"
   ]
  },
  {
   "cell_type": "code",
   "execution_count": null,
   "metadata": {},
   "outputs": [],
   "source": [
    "# 여기에 연습문제 2-1 의 회귀분석 코드를 작성하고 그 직선을 그린 후에 적합도를 출력하세요"
   ]
  },
  {
   "cell_type": "markdown",
   "metadata": {},
   "source": [
    "\n",
    "\n",
    "\n",
    "\n",
    "<hr style=\"height:3px\">\n",
    "\n",
    "\n",
    "#  다항 회귀분석\n",
    "\n",
    "다음과 같은 데이터를 회귀분석한다고 가정하자 아마 numpy 에서 보던 모양과 상당히 유사할 것이다. \n",
    "\n",
    "## 2차항 회귀분석"
   ]
  },
  {
   "cell_type": "code",
   "execution_count": null,
   "metadata": {},
   "outputs": [],
   "source": [
    "n = 100\n",
    "x = np.linspace(-30,30,n)\n",
    "y = x * x * 5 + np.random.normal(0,300,n)\n",
    "plt.plot(x,y, 'o')\n",
    "plt.show()"
   ]
  },
  {
   "cell_type": "markdown",
   "metadata": {},
   "source": [
    "단순 1차원 항만 가진 회귀분석으로 구하는 것은 매우 어렵다.  결국 다음과 같은 결과를 얻게 된다"
   ]
  },
  {
   "cell_type": "code",
   "execution_count": null,
   "metadata": {},
   "outputs": [],
   "source": [
    "regr.fit( x.reshape(n,1), y ) \n",
    "plt.plot(x, y, 'o')\n",
    "plt.plot(x, x * regr.coef_ + regr.intercept_ )\n",
    "plt.show()\n",
    "print( \"R2:\", regr.score( x.reshape(n,1), y))"
   ]
  },
  {
   "cell_type": "markdown",
   "metadata": {},
   "source": [
    "결정계수가 0.001 도 안되는 처참한 모델이 탄생한다.  이는 적합한 모델이 아님을 의미한다. \n",
    "그렇다면 이런 문제는 회귀분석으로 처리가 불가능한 문제일까?  아니면 이를 위한 새로운 모델이 있을까? \n",
    "\n",
    "결론부터 이야기 하면 Linear_Regression 은 기본적으로 모든 선형 구조의 데이터 모델을 대상으로 한다. 즉, 직선이 아닌 곡선도 처리 가능하다는 의미이다.  또한 이를 위해 다른 메소드를 요구하지도 안는다.  \n",
    "\n",
    "이 데이터의 모델을 위해 다음의 코드를 보자. \n"
   ]
  },
  {
   "cell_type": "code",
   "execution_count": null,
   "metadata": {},
   "outputs": [],
   "source": [
    "cx = x.reshape(n,1)\n",
    "regr.fit( cx * cx , y ) \n",
    "plt.plot(x , y, 'o')\n",
    "plt.plot(x , x * x * regr.coef_ + regr.intercept_ )\n",
    "plt.show()\n",
    "print( \"R2:\", regr.score( cx*cx, y))"
   ]
  },
  {
   "cell_type": "markdown",
   "metadata": {},
   "source": [
    "어떤가? x 대신 x*x 를 모델의 입력값으로 사용함으로서  \n",
    "\n",
    "    x * x * regr.coef_ + regr.intercept_\n",
    "    \n",
    "형태로 구성하여 0.9 이상의 결정계수를 지닌 모델을 생성하였다. "
   ]
  },
  {
   "cell_type": "markdown",
   "metadata": {},
   "source": [
    "### <font color = 'red'> 연습 2-2: 다음 데이터를 회귀분석 해보세요\n",
    "\n",
    "위의 예를 잘 이해하면 쉽게 풀 수 있을것이다. "
   ]
  },
  {
   "cell_type": "code",
   "execution_count": null,
   "metadata": {},
   "outputs": [],
   "source": [
    "# 데이터 로딩 \n",
    "ld = np.load('e2_2.npz')\n",
    "x,y = ld['x'], ld['y']\n",
    "plt.plot(x,y,'o')\n",
    "plt.show() "
   ]
  },
  {
   "cell_type": "code",
   "execution_count": null,
   "metadata": {},
   "outputs": [],
   "source": [
    "# 여기에 연습문제 2-2의 회귀분석 코드를 작성하고 그 직선을 그린 후에 적합도를 출력하세요"
   ]
  },
  {
   "cell_type": "markdown",
   "metadata": {},
   "source": [
    "### <font color = 'red'> 연습 2-3: 다음 데이터를 회귀분석 해보세요\n",
    "\n",
    "아마 다음과 같은 형태도 익숙할 것이다. 이것을 회귀곡선으로 생성해보자. "
   ]
  },
  {
   "cell_type": "code",
   "execution_count": null,
   "metadata": {},
   "outputs": [],
   "source": [
    "# 데이터 로딩 \n",
    "ld = np.load('e2_3.npz')\n",
    "x,y = ld['x'], ld['y']\n",
    "plt.plot(x,y,'o')\n",
    "plt.show() "
   ]
  },
  {
   "cell_type": "code",
   "execution_count": null,
   "metadata": {},
   "outputs": [],
   "source": [
    "# 여기에 연습문제 2-3의 회귀분석 코드를 작성하고 그 직선을 그린 후에 적합도를 출력하세요\n"
   ]
  },
  {
   "cell_type": "markdown",
   "metadata": {},
   "source": [
    "<hr>\n",
    "\n",
    "## 다항 회귀분석\n",
    "\n",
    "이번엔 독특한 형태를 같이 풀어보도록 하자. 다음과 같은 데이터가 있다고 하자. \n",
    "이게 연습문제로 나오면 아마 머리를 싸맬 사람들도 있겠지만 눈치 빠른 사람은 이것이 \n",
    "x 와 sin(x) 의 합으로 이뤄진 구조임을 눈치 챘을것이다. \n",
    "\n",
    "<img src = 'f2_3.png' align = left> "
   ]
  },
  {
   "cell_type": "markdown",
   "metadata": {},
   "source": [
    "이 데이터의 생성 식은 다음과 같다. "
   ]
  },
  {
   "cell_type": "code",
   "execution_count": null,
   "metadata": {},
   "outputs": [],
   "source": [
    "n = 100\n",
    "x = np.linspace(0, np.pi * 4 ,  n) \n",
    "y = np.sin(x) * 3 + x + np.random.normal(0,0.2,n)"
   ]
  },
  {
   "cell_type": "markdown",
   "metadata": {},
   "source": [
    "이런 모델도 회귀분석에서 분석될 수 있을까? 이런 경우를 위해서 회귀분석에서는 다항 회귀분석을 사용하게 된다. \n",
    "요컨데 x1, x2, y 를 \n",
    "\n",
    "    w1 * x1 + w2 + x2 + w0 = y \n",
    "    \n",
    "라는 모델로 입력이 가능하다는 의미이다. 위의 경우 입력이 sin(x) , x  두가지 값을 이용하여 분석이 가능하다. 단 이를 위해서는 각 배열의 요소들을 하나의 열로 묶어주어야 한다. 예를 들어 다음의 두 배열을 입력으로 넣기 위해서는 \n",
    "\n",
    "    x1 = [1,2,3]\n",
    "    x2 = [3,4,5]  \n",
    "\n",
    "    => [[1,3],\n",
    "        [2,4],\n",
    "        [3,5]]\n",
    " \n",
    " 로 묶어줘야한다는 것인데.. 이는 다음과 concatenate 를 사용해도 되지만 다음과 같은 명령으로 좀더 간단히 가능하다. \n",
    "        "
   ]
  },
  {
   "cell_type": "code",
   "execution_count": null,
   "metadata": {},
   "outputs": [],
   "source": [
    "x1 = np.array([1,2,3])\n",
    "x2 = np.array([4,5,6])\n",
    "x12 = np.c_[x1,x2]\n",
    "print(x12)"
   ]
  },
  {
   "cell_type": "markdown",
   "metadata": {},
   "source": [
    "이제 이를 이용해 위의 예제의 x 와 sin(x) 를 model 의 입력에 맞게 바꿔 넣어준다. "
   ]
  },
  {
   "cell_type": "code",
   "execution_count": null,
   "metadata": {},
   "outputs": [],
   "source": [
    "regr.fit( np.c_[x, np.sin(x)], y ) "
   ]
  },
  {
   "cell_type": "markdown",
   "metadata": {},
   "source": [
    "그런데 이전과 달리 이번엔 우리는 x 와 sin(x) 양쪽의 계수가 필요하며 이 경우 coef_ 는 배열값으로 계수를 생성한다. \n",
    "\n",
    "- x 의 계수    : coef_[0]\n",
    "- sinx 의 계수 : coef_[1]\n",
    "\n",
    "이제 준비가 되었으니 생성된 모델을 도식화하고 그 적합도를 출력하는 코드를 보자."
   ]
  },
  {
   "cell_type": "code",
   "execution_count": null,
   "metadata": {},
   "outputs": [],
   "source": [
    "plt.plot(x,y,'o')\n",
    "plt.plot(x, x * regr.coef_[0] + np.sin(x) * regr.coef_[1] + regr.intercept_ ) \n",
    "plt.show() \n",
    "print( \"R2:\", regr.score( np.c_[x, np.sin(x)], y ) )"
   ]
  },
  {
   "cell_type": "markdown",
   "metadata": {},
   "source": [
    "다항 회귀분석은 매우 중요하기때문에 위의 코드를 다시 모아서 아래에 적어두었다. 이해가 안가는 부분이 없도록 잘 살펴보도록하자. "
   ]
  },
  {
   "cell_type": "code",
   "execution_count": null,
   "metadata": {},
   "outputs": [],
   "source": [
    "n = 100\n",
    "x = np.linspace(0, np.pi * 4 ,  n) \n",
    "y = np.sin(x) * 3 + x + np.random.normal(0,0.2,n)\n",
    "\n",
    "regr.fit( np.c_[x, np.sin(x)], y ) \n",
    "\n",
    "plt.plot(x,y,'o')\n",
    "plt.plot(x, x * regr.coef_[0] + np.sin(x) * regr.coef_[1] + regr.intercept_ ) \n",
    "plt.show() \n",
    "print( \"R2:\", regr.score( np.c_[x, np.sin(x)], y ) )\n"
   ]
  },
  {
   "cell_type": "markdown",
   "metadata": {},
   "source": [
    "### <font color = 'red'> 연습 2-4: 다음 다항 데이터를 회귀분석해보세요\n",
    "\n",
    "참고로 x 는 -8 * 파이 ~ 8 * 파이의 범위를 갖는 데이터이다. 어떤 조합인지 잘 생각해보고 위의 예제를 응용해서 정확도(결정계수) 0.9 이상의 모델을 찾아보자"
   ]
  },
  {
   "cell_type": "code",
   "execution_count": null,
   "metadata": {
    "scrolled": true
   },
   "outputs": [],
   "source": [
    "# 데이터 로딩 \n",
    "ld = np.load('e2_4.npz')\n",
    "x,y = ld['x'], ld['y']\n",
    "plt.plot(x,y,'o')\n",
    "plt.show() "
   ]
  },
  {
   "cell_type": "code",
   "execution_count": null,
   "metadata": {},
   "outputs": [],
   "source": [
    "# 여기에 연습 2-4 의 회귀분석 코드를 작성하세요\n"
   ]
  },
  {
   "cell_type": "markdown",
   "metadata": {},
   "source": [
    "<hr>\n",
    "\n",
    "## 다차항 회기분석\n",
    "\n",
    "x 대신 x제곱 의 계수를 구하는 그래프를 '2차항 회귀분석' 에서 언급하였다. 이는 기본적으로 \n",
    "\n",
    "    w*x*x + b\n",
    "\n",
    "같은 형태로 x = 0 일때 최소값을 같는 그래프이다. 그러나 만일 다음과 같은 형태는 어떻게 해야할까? \n",
    "\n",
    "<img src = 'f2_4.png' align = left>\n"
   ]
  },
  {
   "cell_type": "markdown",
   "metadata": {},
   "source": [
    "언뜻 똑같다고 느낄 수도 있겠지만 이 그래프의 x 는 -6 ~ 14 의 범위를 갖고 4 에서 최소값을 지닌다. \n",
    "이는 y = x * x 의 그래프를 4만큼 이동시킨 형태이다.  즉\n",
    "\n",
    "    (x -4) * (x - 4) \n",
    "\n",
    "의 구조를 갖는다. 이는 언뜻 w * x * x + b 처럼 보이지만 실제로는 x * x - 8 * x + 16 의 2차 다항식이다. \n",
    "다행히 우리는 이런 다항식을 다루는 방법을 위에서 다뤘다. \n",
    "\n",
    "이제 실제로 이런 모델을 갖는 데이터를 생성하고 이를 회귀분석하도록 해보자. "
   ]
  },
  {
   "cell_type": "code",
   "execution_count": null,
   "metadata": {},
   "outputs": [],
   "source": [
    "n = 100\n",
    "x = np.linspace(-6, 14, n)\n",
    "y = (x - 4) * (x - 4) + np.random.normal(0,5,n)\n",
    "plt.plot(x,y,'o')\n",
    "\n",
    "regr.fit( np.c_[x,x*x], y)\n",
    "w,b = regr.coef_, regr.intercept_\n",
    "\n",
    "plt.plot(x, x*w[0] + x*x*w[1] + b)\n",
    "plt.show()"
   ]
  },
  {
   "cell_type": "markdown",
   "metadata": {},
   "source": [
    "여기까지 잘 따라왔다면 문득 갑갑한 생각이 들 것이다. \n",
    "\n",
    "<br>\n",
    "<b>\n",
    "    \"매번 이렇게 데이터의 특성을 이해하고 모델을 작성해야 하는 것일까?\"\n",
    "</b>\n",
    "\n",
    "실생활의 문제들은 변수가 x 하나로 해결되는 경우도 많지 안으며 또한 매우 불규칙하고 복잡한 형태를 가진다. 이런 경우 데이터의 특성을 정확하게 파악하는 것은 매우 어렵다.  x 가 1차항으로 이뤄진 모델인지 아니면 2차, 3차항을 지녔는지 모르는 경우에는 어떻게 해야할까? \n",
    "\n",
    "답은 가능한 항들을 모두 포함시키는 것이다. 다음 예제를 보자. "
   ]
  },
  {
   "cell_type": "code",
   "execution_count": null,
   "metadata": {},
   "outputs": [],
   "source": [
    "n = 100\n",
    "x = np.linspace(0,10,n)\n",
    "x2 = x * x\n",
    "x3 = x2 * x\n",
    "xs = np.c_[x3,x2,x] \n",
    "\n",
    "# 데이터 1\n",
    "y1 = x2 * 4 + 3 + np.random.normal(x,10,n)\n",
    "regr.fit(xs, y1)\n",
    "w,b = regr.coef_, regr.intercept_\n",
    "plt.plot(x,y1, 'o')\n",
    "plt.plot(x, x3 * w[0] + x2 * w[1] + x * w[2] + b)\n",
    "print(w,b)\n",
    "plt.show() \n",
    "\n",
    "# 데이터 2\n",
    "y2 = x * -5 + 2 + np.random.normal(x,1,n)\n",
    "regr.fit(xs, y2)\n",
    "w,b = regr.coef_, regr.intercept_\n",
    "plt.plot(x, y2, 'o')\n",
    "plt.plot(x, x3 * w[0] + x2 * w[1] + x * w[2] + b)\n",
    "print(w,b)\n",
    "plt.show() "
   ]
  },
  {
   "cell_type": "markdown",
   "metadata": {},
   "source": [
    "위 두 데이터는 서로 다른 성격을 지녔지만 x의 3차 다항식으로 모두 만족스러운 회귀분석이 가능한 것을 볼 수 있을 것이다. 대부분의 데이터는 최고 차수를 늘릴 경우 상당히 복잡한 데이터도 표현이 가능하다. 삼각함수와 같은 주기함수의 경우도 일정범위내에서는 다차항 방정식으로도 표현이 가능하다. "
   ]
  },
  {
   "cell_type": "code",
   "execution_count": null,
   "metadata": {},
   "outputs": [],
   "source": [
    "n = 100\n",
    "x = np.linspace(0,np.pi*2,n)\n",
    "x2 = x * x\n",
    "x3 = x2 * x\n",
    "x4 = x3 * x\n",
    "xs = np.c_[x4,x3,x2,x] \n",
    "\n",
    "y = np.sin(x) + np.random.normal(0,0.1,n)\n",
    "regr.fit(xs, y)\n",
    "w,b = regr.coef_, regr.intercept_\n",
    "plt.plot(x,y, 'o')\n",
    "plt.plot(x, x4 * w[0] + x3 * w[1] + x2 * w[2] + x * w[3] + b)\n",
    "print(w,b)\n",
    "plt.show() "
   ]
  },
  {
   "cell_type": "markdown",
   "metadata": {},
   "source": [
    "### <font color = 'red'> 연습 2-5: 2주기 함수 회귀분석\n",
    "\n",
    "위의 데이터의 그래프를 4주기로 확장하면 다음과 같은 형태를 이룬다. 이 그래프를 결정계수 0.85 이상이 되도록 x의 다차항으로 회귀분석을 해보자. "
   ]
  },
  {
   "cell_type": "code",
   "execution_count": null,
   "metadata": {},
   "outputs": [],
   "source": [
    "n = 100\n",
    "x = np.linspace(0,np.pi*4,n)\n",
    "y = np.sin(x) + np.random.normal(0,0.05,n)\n",
    "plt.plot(x,y, 'o')\n",
    "plt.show()"
   ]
  },
  {
   "cell_type": "code",
   "execution_count": null,
   "metadata": {},
   "outputs": [],
   "source": []
  },
  {
   "cell_type": "markdown",
   "metadata": {},
   "source": [
    "\n",
    "## 다차항 회귀분석을 함수로 만들기\n",
    "\n",
    "x 를 x 차원까지 n차항 회귀분석을 다음과 같은 형태로 만들 수 있으면 편리할 것이다. \n",
    "\n",
    "- polyRegression(x, y, n) \n",
    "\n",
    "이를 작성해보자 \n",
    "\n",
    "먼저 다차항 회귀분석을 위한 입력 np.c_[x, x*x, x*x*x ... ] 을 n 에 의해 생성되게 만들어 보자"
   ]
  },
  {
   "cell_type": "code",
   "execution_count": 4,
   "metadata": {},
   "outputs": [
    {
     "name": "stdout",
     "output_type": "stream",
     "text": [
      "[[  1   1   1]\n",
      " [  2   4   8]\n",
      " [  3   9  27]\n",
      " [  4  16  64]\n",
      " [  5  25 125]]\n"
     ]
    }
   ],
   "source": [
    "import numpy as np\n",
    "x,n = np.array([1,2,3,4,5]), 3\n",
    "\n",
    "ax = x.reshape(len(x), 1)\n",
    "ax = np.c_[x]\n",
    "for i in range(1,n) :\n",
    "    ax = np.c_[ax, ax[:,-1] * x]      \n",
    "    \n",
    "print(ax)"
   ]
  },
  {
   "cell_type": "markdown",
   "metadata": {},
   "source": [
    "ax[:, -1] 은 매트릭스의 가장 마지막 열을 의미하며 (numpy 문서의 다차원배열 나누기 부분 참조) , 계속 마지막열에 x 를 곱해서 추가하는 방식으로 x^n 붙여가게 된다. \n",
    "\n",
    "이제 입력을 위한 이를 이용해 다음과 같이 다차항 회귀분석을 만들 수 있다. \n",
    "\n"
   ]
  },
  {
   "cell_type": "code",
   "execution_count": 5,
   "metadata": {},
   "outputs": [],
   "source": [
    "from sklearn import linear_model\n",
    "import numpy as np \n",
    "\n",
    "def polyRegression(x,y,n): \n",
    "    \n",
    "    tregr = linear_model.LinearRegression() \n",
    "    ax = x.reshape(len(x), 1)\n",
    "    ax = np.c_[x]\n",
    "    for i in range(1,n) :\n",
    "        ax = np.c_[ax, ax[:,-1] * x]            \n",
    "    tregr.fit(ax,y)    \n",
    "    r2 = tregr.score(ax,y)\n",
    "    \n",
    "    return tregr, r2"
   ]
  },
  {
   "cell_type": "markdown",
   "metadata": {},
   "source": [
    "이제 위의 함수를 호출해보자. "
   ]
  },
  {
   "cell_type": "code",
   "execution_count": 6,
   "metadata": {},
   "outputs": [
    {
     "name": "stdout",
     "output_type": "stream",
     "text": [
      "R2: 0.9999580537444263\n"
     ]
    }
   ],
   "source": [
    "x = np.linspace(0, np.pi * 2, 100 )\n",
    "y = np.sin(x)\n",
    "regr,r2 = polyRegression( x, y, 6 )\n",
    "print(\"R2:\", r2)\n"
   ]
  },
  {
   "cell_type": "markdown",
   "metadata": {},
   "source": [
    "### <font color = 'red'> 연습 2-6: 위의 회귀분석에 그래프 출력부분을 추가해보자 </font>"
   ]
  },
  {
   "cell_type": "code",
   "execution_count": 7,
   "metadata": {},
   "outputs": [
    {
     "name": "stdout",
     "output_type": "stream",
     "text": [
      "R2: 0.9999580537444263\n"
     ]
    }
   ],
   "source": [
    "# 여기에 위의 함수를 그래프 출력을 추가하여 정의해보세요\n",
    "from sklearn import linear_model\n",
    "import numpy as np \n",
    "import matplotlib.pyplot as plt\n",
    "\n",
    "def polyRegression(x,y,n): \n",
    "    \n",
    "    tregr = linear_model.LinearRegression() \n",
    "    ax = x.reshape(len(x), 1)\n",
    "    ax = np.c_[x]\n",
    "    for i in range(1,n) :\n",
    "        ax = np.c_[ax, ax[:,-1] * x]            \n",
    "    tregr.fit(ax,y)    \n",
    "    r2 = tregr.score(ax,y)\n",
    "    \n",
    "    return tregr, r2\n",
    "\n",
    "x = np.linspace(0, np.pi * 2, 100 )\n",
    "y = np.sin(x)\n",
    "regr,r2 = polyRegression( x, y, 6 )\n",
    "print(\"R2:\", r2)"
   ]
  },
  {
   "cell_type": "markdown",
   "metadata": {},
   "source": [
    "\n",
    "## 다차항 회귀분석 클래스 만들기\n",
    "\n",
    "위의 다항 회귀분석은 트레이닝셋과 테스트셋이 반드시 동일해야 한다는 단점을 가지고 있다. 만일 linearRegression() 처럼 score 나 plot 을 각각 다른 데이터로 검증할 수 있다면 상당히 편리할 것이다. 그래서 이번엔 polyRegression 을 클래스로 만들고 다음과 같은 메소드를 지원하도록 하겠다 \n",
    "\n",
    "class : polyRegression(x,y,n) \n",
    "\n",
    "- score(x,y)\n",
    "- plot(x,y,mark)\n"
   ]
  },
  {
   "cell_type": "code",
   "execution_count": 8,
   "metadata": {},
   "outputs": [],
   "source": [
    "from sklearn import linear_model\n",
    "import numpy as np \n",
    "import matplotlib.pyplot as plt\n",
    "\n",
    "class polyRegression :\n",
    "    \n",
    "    def createPx(self, x):\n",
    "        ax = x.reshape(len(x), 1)\n",
    "        ax = np.c_[x]\n",
    "        for i in range(1,self.n) :\n",
    "            ax = np.c_[ax, ax[:,-1] * x]            \n",
    "        return ax     \n",
    "            \n",
    "    def __init__(self, x, y, n) : # 생성자 \n",
    "        self.x , self.y, self.n = x, y, n\n",
    "        self.ax = self.createPx(x)\n",
    "        self.regr = linear_model.LinearRegression() \n",
    "        self.regr.fit(self.ax,y)    \n",
    "    \n",
    "    def score(self, x=[], y=[] ) :\n",
    "        if not len(x): \n",
    "            x = self.x\n",
    "        if not len(y): \n",
    "            y = self.y\n",
    "        ax = self.createPx(x)\n",
    "        \n",
    "        return self.regr.score(ax, y)\n",
    "    \n",
    "    def plot(self, x=[], y=[], mark = '') :\n",
    "        if not len(x): \n",
    "            x = self.x\n",
    "        if not len(y): \n",
    "            y = self.y\n",
    "        ax = self.createPx(x)\n",
    "        plt.plot(x,y,'.')   \n",
    "        ep = self.regr.coef_[0] * ax[:,0]\n",
    "        for i in range(1,self.n) :        \n",
    "            ep += ax[:,i] * self.regr.coef_[i] \n",
    "        ep += self.regr.intercept_    \n",
    "        plt.plot(x,ep )\n"
   ]
  },
  {
   "cell_type": "markdown",
   "metadata": {},
   "source": [
    "이제 이 클래스를 써서 sin 두가지 sin 데이터를 만들어서 첫번째 데이터로 학습을 하고 두번째 데이터로 스코어와 결과를 그려보도록 하겠다 "
   ]
  },
  {
   "cell_type": "code",
   "execution_count": 21,
   "metadata": {},
   "outputs": [
    {
     "name": "stdout",
     "output_type": "stream",
     "text": [
      "R2: 0.9775837016328299\n"
     ]
    },
    {
     "data": {
      "text/plain": [
       "[<matplotlib.lines.Line2D at 0x7f1a5dd8ad30>]"
      ]
     },
     "execution_count": 21,
     "metadata": {},
     "output_type": "execute_result"
    },
    {
     "data": {
      "image/png": "[encoded data removed]",
      "text/plain": [
       "<Figure size 432x288 with 1 Axes>"
      ]
     },
     "metadata": {
      "needs_background": "light"
     },
     "output_type": "display_data"
    }
   ],
   "source": [
    "x = np.linspace(0, np.pi * 2, 20) \n",
    "y = np.sin(x) + np.random.normal(0, 0.1, 20)\n",
    "\n",
    "x2 = np.linspace(0, np.pi * 2, 100)\n",
    "y2 = np.sin(x2) + np.random.normal(0, 0.1, 100)\n",
    "\n",
    "pr = polyRegression(x,y, 6) # x의 6차 함수까지\n",
    "print(\"R2:\",pr.score(x2,y2))\n",
    "pr.plot(x2,y2)\n",
    "plt.plot(x,y,'o')\n"
   ]
  },
  {
   "cell_type": "markdown",
   "metadata": {},
   "source": [
    "<hr style=\"height:3px\">\n",
    "\n",
    "#  참고: 3차원 이상의 데이터 도식화하기\n",
    "\n",
    "변수가 2개인 데이터의 경우 2차원보다 분석이 어렵지만 그래도 이를 3차원으로 도식화 시키면 데이터의 성격을 파악하는데 도움이 된다. 이러한 데이터의 분석은 matplotlib 의 확장 라이브러리인 mpl_toolkits.mplot3d 에서 Axes3D 를 사용한다. "
   ]
  },
  {
   "cell_type": "code",
   "execution_count": 23,
   "metadata": {},
   "outputs": [],
   "source": [
    "from mpl_toolkits.mplot3d import Axes3D\n",
    "%matplotlib notebook\n"
   ]
  },
  {
   "cell_type": "markdown",
   "metadata": {},
   "source": [
    "이제 간단한 3d 데이터를 그려보자. "
   ]
  },
  {
   "cell_type": "code",
   "execution_count": 24,
   "metadata": {},
   "outputs": [
    {
     "data": {
      "application/javascript": [
       "/* Put everything inside the global mpl namespace */\n",
       "window.mpl = {};\n",
       "\n",
       "\n",
       "mpl.get_websocket_type = function() {\n",
       "    if (typeof(WebSocket) !== 'undefined') {\n",
       "        return WebSocket;\n",
       "    } else if (typeof(MozWebSocket) !== 'undefined') {\n",
       "        return MozWebSocket;\n",
       "    } else {\n",
       "        alert('Your browser does not have WebSocket support.' +\n",
       "              'Please try Chrome, Safari or Firefox ≥ 6. ' +\n",
       "              'Firefox 4 and 5 are also supported but you ' +\n",
       "              'have to enable WebSockets in about:config.');\n",
       "    };\n",
       "}\n",
       "\n",
       "mpl.figure = function(figure_id, websocket, ondownload, parent_element) {\n",
       "    this.id = figure_id;\n",
       "\n",
       "    this.ws = websocket;\n",
       "\n",
       "    this.supports_binary = (this.ws.binaryType != undefined);\n",
       "\n",
       "    if (!this.supports_binary) {\n",
       "        var warnings = document.getElementById(\"mpl-warnings\");\n",
       "        if (warnings) {\n",
       "            warnings.style.display = 'block';\n",
       "            warnings.textContent = (\n",
       "                \"This browser does not support binary websocket messages. \" +\n",
       "                    \"Performance may be slow.\");\n",
       "        }\n",
       "    }\n",
       "\n",
       "    this.imageObj = new Image();\n",
       "\n",
       "    this.context = undefined;\n",
       "    this.message = undefined;\n",
       "    this.canvas = undefined;\n",
       "    this.rubberband_canvas = undefined;\n",
       "    this.rubberband_context = undefined;\n",
       "    this.format_dropdown = undefined;\n",
       "\n",
       "    this.image_mode = 'full';\n",
       "\n",
       "    this.root = $('<div/>');\n",
       "    this._root_extra_style(this.root)\n",
       "    this.root.attr('style', 'display: inline-block');\n",
       "\n",
       "    $(parent_element).append(this.root);\n",
       "\n",
       "    this._init_header(this);\n",
       "    this._init_canvas(this);\n",
       "    this._init_toolbar(this);\n",
       "\n",
       "    var fig = this;\n",
       "\n",
       "    this.waiting = false;\n",
       "\n",
       "    this.ws.onopen =  function () {\n",
       "            fig.send_message(\"supports_binary\", {value: fig.supports_binary});\n",
       "            fig.send_message(\"send_image_mode\", {});\n",
       "            if (mpl.ratio != 1) {\n",
       "                fig.send_message(\"set_dpi_ratio\", {'dpi_ratio': mpl.ratio});\n",
       "            }\n",
       "            fig.send_message(\"refresh\", {});\n",
       "        }\n",
       "\n",
       "    this.imageObj.onload = function() {\n",
       "            if (fig.image_mode == 'full') {\n",
       "                // Full images could contain transparency (where diff images\n",
       "                // almost always do), so we need to clear the canvas so that\n",
       "                // there is no ghosting.\n",
       "                fig.context.clearRect(0, 0, fig.canvas.width, fig.canvas.height);\n",
       "            }\n",
       "            fig.context.drawImage(fig.imageObj, 0, 0);\n",
       "        };\n",
       "\n",
       "    this.imageObj.onunload = function() {\n",
       "        fig.ws.close();\n",
       "    }\n",
       "\n",
       "    this.ws.onmessage = this._make_on_message_function(this);\n",
       "\n",
       "    this.ondownload = ondownload;\n",
       "}\n",
       "\n",
       "mpl.figure.prototype._init_header = function() {\n",
       "    var titlebar = $(\n",
       "        '<div class=\"ui-dialog-titlebar ui-widget-header ui-corner-all ' +\n",
       "        'ui-helper-clearfix\"/>');\n",
       "    var titletext = $(\n",
       "        '<div class=\"ui-dialog-title\" style=\"width: 100%; ' +\n",
       "        'text-align: center; padding: 3px;\"/>');\n",
       "    titlebar.append(titletext)\n",
       "    this.root.append(titlebar);\n",
       "    this.header = titletext[0];\n",
       "}\n",
       "\n",
       "\n",
       "\n",
       "mpl.figure.prototype._canvas_extra_style = function(canvas_div) {\n",
       "\n",
       "}\n",
       "\n",
       "\n",
       "mpl.figure.prototype._root_extra_style = function(canvas_div) {\n",
       "\n",
       "}\n",
       "\n",
       "mpl.figure.prototype._init_canvas = function() {\n",
       "    var fig = this;\n",
       "\n",
       "    var canvas_div = $('<div/>');\n",
       "\n",
       "    canvas_div.attr('style', 'position: relative; clear: both; outline: 0');\n",
       "\n",
       "    function canvas_keyboard_event(event) {\n",
       "        return fig.key_event(event, event['data']);\n",
       "    }\n",
       "\n",
       "    canvas_div.keydown('key_press', canvas_keyboard_event);\n",
       "    canvas_div.keyup('key_release', canvas_keyboard_event);\n",
       "    this.canvas_div = canvas_div\n",
       "    this._canvas_extra_style(canvas_div)\n",
       "    this.root.append(canvas_div);\n",
       "\n",
       "    var canvas = $('<canvas/>');\n",
       "    canvas.addClass('mpl-canvas');\n",
       "    canvas.attr('style', \"left: 0; top: 0; z-index: 0; outline: 0\")\n",
       "\n",
       "    this.canvas = canvas[0];\n",
       "    this.context = canvas[0].getContext(\"2d\");\n",
       "\n",
       "    var backingStore = this.context.backingStorePixelRatio ||\n",
       "\tthis.context.webkitBackingStorePixelRatio ||\n",
       "\tthis.context.mozBackingStorePixelRatio ||\n",
       "\tthis.context.msBackingStorePixelRatio ||\n",
       "\tthis.context.oBackingStorePixelRatio ||\n",
       "\tthis.context.backingStorePixelRatio || 1;\n",
       "\n",
       "    mpl.ratio = (window.devicePixelRatio || 1) / backingStore;\n",
       "\n",
       "    var rubberband = $('<canvas/>');\n",
       "    rubberband.attr('style', \"position: absolute; left: 0; top: 0; z-index: 1;\")\n",
       "\n",
       "    var pass_mouse_events = true;\n",
       "\n",
       "    canvas_div.resizable({\n",
       "        start: function(event, ui) {\n",
       "            pass_mouse_events = false;\n",
       "        },\n",
       "        resize: function(event, ui) {\n",
       "            fig.request_resize(ui.size.width, ui.size.height);\n",
       "        },\n",
       "        stop: function(event, ui) {\n",
       "            pass_mouse_events = true;\n",
       "            fig.request_resize(ui.size.width, ui.size.height);\n",
       "        },\n",
       "    });\n",
       "\n",
       "    function mouse_event_fn(event) {\n",
       "        if (pass_mouse_events)\n",
       "            return fig.mouse_event(event, event['data']);\n",
       "    }\n",
       "\n",
       "    rubberband.mousedown('button_press', mouse_event_fn);\n",
       "    rubberband.mouseup('button_release', mouse_event_fn);\n",
       "    // Throttle sequential mouse events to 1 every 20ms.\n",
       "    rubberband.mousemove('motion_notify', mouse_event_fn);\n",
       "\n",
       "    rubberband.mouseenter('figure_enter', mouse_event_fn);\n",
       "    rubberband.mouseleave('figure_leave', mouse_event_fn);\n",
       "\n",
       "    canvas_div.on(\"wheel\", function (event) {\n",
       "        event = event.originalEvent;\n",
       "        event['data'] = 'scroll'\n",
       "        if (event.deltaY < 0) {\n",
       "            event.step = 1;\n",
       "        } else {\n",
       "            event.step = -1;\n",
       "        }\n",
       "        mouse_event_fn(event);\n",
       "    });\n",
       "\n",
       "    canvas_div.append(canvas);\n",
       "    canvas_div.append(rubberband);\n",
       "\n",
       "    this.rubberband = rubberband;\n",
       "    this.rubberband_canvas = rubberband[0];\n",
       "    this.rubberband_context = rubberband[0].getContext(\"2d\");\n",
       "    this.rubberband_context.strokeStyle = \"#000000\";\n",
       "\n",
       "    this._resize_canvas = function(width, height) {\n",
       "        // Keep the size of the canvas, canvas container, and rubber band\n",
       "        // canvas in synch.\n",
       "        canvas_div.css('width', width)\n",
       "        canvas_div.css('height', height)\n",
       "\n",
       "        canvas.attr('width', width * mpl.ratio);\n",
       "        canvas.attr('height', height * mpl.ratio);\n",
       "        canvas.attr('style', 'width: ' + width + 'px; height: ' + height + 'px;');\n",
       "\n",
       "        rubberband.attr('width', width);\n",
       "        rubberband.attr('height', height);\n",
       "    }\n",
       "\n",
       "    // Set the figure to an initial 600x600px, this will subsequently be updated\n",
       "    // upon first draw.\n",
       "    this._resize_canvas(600, 600);\n",
       "\n",
       "    // Disable right mouse context menu.\n",
       "    $(this.rubberband_canvas).bind(\"contextmenu\",function(e){\n",
       "        return false;\n",
       "    });\n",
       "\n",
       "    function set_focus () {\n",
       "        canvas.focus();\n",
       "        canvas_div.focus();\n",
       "    }\n",
       "\n",
       "    window.setTimeout(set_focus, 100);\n",
       "}\n",
       "\n",
       "mpl.figure.prototype._init_toolbar = function() {\n",
       "    var fig = this;\n",
       "\n",
       "    var nav_element = $('<div/>')\n",
       "    nav_element.attr('style', 'width: 100%');\n",
       "    this.root.append(nav_element);\n",
       "\n",
       "    // Define a callback function for later on.\n",
       "    function toolbar_event(event) {\n",
       "        return fig.toolbar_button_onclick(event['data']);\n",
       "    }\n",
       "    function toolbar_mouse_event(event) {\n",
       "        return fig.toolbar_button_onmouseover(event['data']);\n",
       "    }\n",
       "\n",
       "    for(var toolbar_ind in mpl.toolbar_items) {\n",
       "        var name = mpl.toolbar_items[toolbar_ind][0];\n",
       "        var tooltip = mpl.toolbar_items[toolbar_ind][1];\n",
       "        var image = mpl.toolbar_items[toolbar_ind][2];\n",
       "        var method_name = mpl.toolbar_items[toolbar_ind][3];\n",
       "\n",
       "        if (!name) {\n",
       "            // put a spacer in here.\n",
       "            continue;\n",
       "        }\n",
       "        var button = $('<button/>');\n",
       "        button.addClass('ui-button ui-widget ui-state-default ui-corner-all ' +\n",
       "                        'ui-button-icon-only');\n",
       "        button.attr('role', 'button');\n",
       "        button.attr('aria-disabled', 'false');\n",
       "        button.click(method_name, toolbar_event);\n",
       "        button.mouseover(tooltip, toolbar_mouse_event);\n",
       "\n",
       "        var icon_img = $('<span/>');\n",
       "        icon_img.addClass('ui-button-icon-primary ui-icon');\n",
       "        icon_img.addClass(image);\n",
       "        icon_img.addClass('ui-corner-all');\n",
       "\n",
       "        var tooltip_span = $('<span/>');\n",
       "        tooltip_span.addClass('ui-button-text');\n",
       "        tooltip_span.html(tooltip);\n",
       "\n",
       "        button.append(icon_img);\n",
       "        button.append(tooltip_span);\n",
       "\n",
       "        nav_element.append(button);\n",
       "    }\n",
       "\n",
       "    var fmt_picker_span = $('<span/>');\n",
       "\n",
       "    var fmt_picker = $('<select/>');\n",
       "    fmt_picker.addClass('mpl-toolbar-option ui-widget ui-widget-content');\n",
       "    fmt_picker_span.append(fmt_picker);\n",
       "    nav_element.append(fmt_picker_span);\n",
       "    this.format_dropdown = fmt_picker[0];\n",
       "\n",
       "    for (var ind in mpl.extensions) {\n",
       "        var fmt = mpl.extensions[ind];\n",
       "        var option = $(\n",
       "            '<option/>', {selected: fmt === mpl.default_extension}).html(fmt);\n",
       "        fmt_picker.append(option)\n",
       "    }\n",
       "\n",
       "    // Add hover states to the ui-buttons\n",
       "    $( \".ui-button\" ).hover(\n",
       "        function() { $(this).addClass(\"ui-state-hover\");},\n",
       "        function() { $(this).removeClass(\"ui-state-hover\");}\n",
       "    );\n",
       "\n",
       "    var status_bar = $('<span class=\"mpl-message\"/>');\n",
       "    nav_element.append(status_bar);\n",
       "    this.message = status_bar[0];\n",
       "}\n",
       "\n",
       "mpl.figure.prototype.request_resize = function(x_pixels, y_pixels) {\n",
       "    // Request matplotlib to resize the figure. Matplotlib will then trigger a resize in the client,\n",
       "    // which will in turn request a refresh of the image.\n",
       "    this.send_message('resize', {'width': x_pixels, 'height': y_pixels});\n",
       "}\n",
       "\n",
       "mpl.figure.prototype.send_message = function(type, properties) {\n",
       "    properties['type'] = type;\n",
       "    properties['figure_id'] = this.id;\n",
       "    this.ws.send(JSON.stringify(properties));\n",
       "}\n",
       "\n",
       "mpl.figure.prototype.send_draw_message = function() {\n",
       "    if (!this.waiting) {\n",
       "        this.waiting = true;\n",
       "        this.ws.send(JSON.stringify({type: \"draw\", figure_id: this.id}));\n",
       "    }\n",
       "}\n",
       "\n",
       "\n",
       "mpl.figure.prototype.handle_save = function(fig, msg) {\n",
       "    var format_dropdown = fig.format_dropdown;\n",
       "    var format = format_dropdown.options[format_dropdown.selectedIndex].value;\n",
       "    fig.ondownload(fig, format);\n",
       "}\n",
       "\n",
       "\n",
       "mpl.figure.prototype.handle_resize = function(fig, msg) {\n",
       "    var size = msg['size'];\n",
       "    if (size[0] != fig.canvas.width || size[1] != fig.canvas.height) {\n",
       "        fig._resize_canvas(size[0], size[1]);\n",
       "        fig.send_message(\"refresh\", {});\n",
       "    };\n",
       "}\n",
       "\n",
       "mpl.figure.prototype.handle_rubberband = function(fig, msg) {\n",
       "    var x0 = msg['x0'] / mpl.ratio;\n",
       "    var y0 = (fig.canvas.height - msg['y0']) / mpl.ratio;\n",
       "    var x1 = msg['x1'] / mpl.ratio;\n",
       "    var y1 = (fig.canvas.height - msg['y1']) / mpl.ratio;\n",
       "    x0 = Math.floor(x0) + 0.5;\n",
       "    y0 = Math.floor(y0) + 0.5;\n",
       "    x1 = Math.floor(x1) + 0.5;\n",
       "    y1 = Math.floor(y1) + 0.5;\n",
       "    var min_x = Math.min(x0, x1);\n",
       "    var min_y = Math.min(y0, y1);\n",
       "    var width = Math.abs(x1 - x0);\n",
       "    var height = Math.abs(y1 - y0);\n",
       "\n",
       "    fig.rubberband_context.clearRect(\n",
       "        0, 0, fig.canvas.width, fig.canvas.height);\n",
       "\n",
       "    fig.rubberband_context.strokeRect(min_x, min_y, width, height);\n",
       "}\n",
       "\n",
       "mpl.figure.prototype.handle_figure_label = function(fig, msg) {\n",
       "    // Updates the figure title.\n",
       "    fig.header.textContent = msg['label'];\n",
       "}\n",
       "\n",
       "mpl.figure.prototype.handle_cursor = function(fig, msg) {\n",
       "    var cursor = msg['cursor'];\n",
       "    switch(cursor)\n",
       "    {\n",
       "    case 0:\n",
       "        cursor = 'pointer';\n",
       "        break;\n",
       "    case 1:\n",
       "        cursor = 'default';\n",
       "        break;\n",
       "    case 2:\n",
       "        cursor = 'crosshair';\n",
       "        break;\n",
       "    case 3:\n",
       "        cursor = 'move';\n",
       "        break;\n",
       "    }\n",
       "    fig.rubberband_canvas.style.cursor = cursor;\n",
       "}\n",
       "\n",
       "mpl.figure.prototype.handle_message = function(fig, msg) {\n",
       "    fig.message.textContent = msg['message'];\n",
       "}\n",
       "\n",
       "mpl.figure.prototype.handle_draw = function(fig, msg) {\n",
       "    // Request the server to send over a new figure.\n",
       "    fig.send_draw_message();\n",
       "}\n",
       "\n",
       "mpl.figure.prototype.handle_image_mode = function(fig, msg) {\n",
       "    fig.image_mode = msg['mode'];\n",
       "}\n",
       "\n",
       "mpl.figure.prototype.updated_canvas_event = function() {\n",
       "    // Called whenever the canvas gets updated.\n",
       "    this.send_message(\"ack\", {});\n",
       "}\n",
       "\n",
       "// A function to construct a web socket function for onmessage handling.\n",
       "// Called in the figure constructor.\n",
       "mpl.figure.prototype._make_on_message_function = function(fig) {\n",
       "    return function socket_on_message(evt) {\n",
       "        if (evt.data instanceof Blob) {\n",
       "            /* FIXME: We get \"Resource interpreted as Image but\n",
       "             * transferred with MIME type text/plain:\" errors on\n",
       "             * Chrome.  But how to set the MIME type?  It doesn't seem\n",
       "             * to be part of the websocket stream */\n",
       "            evt.data.type = \"image/png\";\n",
       "\n",
       "            /* Free the memory for the previous frames */\n",
       "            if (fig.imageObj.src) {\n",
       "                (window.URL || window.webkitURL).revokeObjectURL(\n",
       "                    fig.imageObj.src);\n",
       "            }\n",
       "\n",
       "            fig.imageObj.src = (window.URL || window.webkitURL).createObjectURL(\n",
       "                evt.data);\n",
       "            fig.updated_canvas_event();\n",
       "            fig.waiting = false;\n",
       "            return;\n",
       "        }\n",
       "        else if (typeof evt.data === 'string' && evt.data.slice(0, 21) == \"data:image/png;base64\") {\n",
       "            fig.imageObj.src = evt.data;\n",
       "            fig.updated_canvas_event();\n",
       "            fig.waiting = false;\n",
       "            return;\n",
       "        }\n",
       "\n",
       "        var msg = JSON.parse(evt.data);\n",
       "        var msg_type = msg['type'];\n",
       "\n",
       "        // Call the  \"handle_{type}\" callback, which takes\n",
       "        // the figure and JSON message as its only arguments.\n",
       "        try {\n",
       "            var callback = fig[\"handle_\" + msg_type];\n",
       "        } catch (e) {\n",
       "            console.log(\"No handler for the '\" + msg_type + \"' message type: \", msg);\n",
       "            return;\n",
       "        }\n",
       "\n",
       "        if (callback) {\n",
       "            try {\n",
       "                // console.log(\"Handling '\" + msg_type + \"' message: \", msg);\n",
       "                callback(fig, msg);\n",
       "            } catch (e) {\n",
       "                console.log(\"Exception inside the 'handler_\" + msg_type + \"' callback:\", e, e.stack, msg);\n",
       "            }\n",
       "        }\n",
       "    };\n",
       "}\n",
       "\n",
       "// from http://stackoverflow.com/questions/1114465/getting-mouse-location-in-canvas\n",
       "mpl.findpos = function(e) {\n",
       "    //this section is from http://www.quirksmode.org/js/events_properties.html\n",
       "    var targ;\n",
       "    if (!e)\n",
       "        e = window.event;\n",
       "    if (e.target)\n",
       "        targ = e.target;\n",
       "    else if (e.srcElement)\n",
       "        targ = e.srcElement;\n",
       "    if (targ.nodeType == 3) // defeat Safari bug\n",
       "        targ = targ.parentNode;\n",
       "\n",
       "    // jQuery normalizes the pageX and pageY\n",
       "    // pageX,Y are the mouse positions relative to the document\n",
       "    // offset() returns the position of the element relative to the document\n",
       "    var x = e.pageX - $(targ).offset().left;\n",
       "    var y = e.pageY - $(targ).offset().top;\n",
       "\n",
       "    return {\"x\": x, \"y\": y};\n",
       "};\n",
       "\n",
       "/*\n",
       " * return a copy of an object with only non-object keys\n",
       " * we need this to avoid circular references\n",
       " * http://stackoverflow.com/a/24161582/3208463\n",
       " */\n",
       "function simpleKeys (original) {\n",
       "  return Object.keys(original).reduce(function (obj, key) {\n",
       "    if (typeof original[key] !== 'object')\n",
       "        obj[key] = original[key]\n",
       "    return obj;\n",
       "  }, {});\n",
       "}\n",
       "\n",
       "mpl.figure.prototype.mouse_event = function(event, name) {\n",
       "    var canvas_pos = mpl.findpos(event)\n",
       "\n",
       "    if (name === 'button_press')\n",
       "    {\n",
       "        this.canvas.focus();\n",
       "        this.canvas_div.focus();\n",
       "    }\n",
       "\n",
       "    var x = canvas_pos.x * mpl.ratio;\n",
       "    var y = canvas_pos.y * mpl.ratio;\n",
       "\n",
       "    this.send_message(name, {x: x, y: y, button: event.button,\n",
       "                             step: event.step,\n",
       "                             guiEvent: simpleKeys(event)});\n",
       "\n",
       "    /* This prevents the web browser from automatically changing to\n",
       "     * the text insertion cursor when the button is pressed.  We want\n",
       "     * to control all of the cursor setting manually through the\n",
       "     * 'cursor' event from matplotlib */\n",
       "    event.preventDefault();\n",
       "    return false;\n",
       "}\n",
       "\n",
       "mpl.figure.prototype._key_event_extra = function(event, name) {\n",
       "    // Handle any extra behaviour associated with a key event\n",
       "}\n",
       "\n",
       "mpl.figure.prototype.key_event = function(event, name) {\n",
       "\n",
       "    // Prevent repeat events\n",
       "    if (name == 'key_press')\n",
       "    {\n",
       "        if (event.which === this._key)\n",
       "            return;\n",
       "        else\n",
       "            this._key = event.which;\n",
       "    }\n",
       "    if (name == 'key_release')\n",
       "        this._key = null;\n",
       "\n",
       "    var value = '';\n",
       "    if (event.ctrlKey && event.which != 17)\n",
       "        value += \"ctrl+\";\n",
       "    if (event.altKey && event.which != 18)\n",
       "        value += \"alt+\";\n",
       "    if (event.shiftKey && event.which != 16)\n",
       "        value += \"shift+\";\n",
       "\n",
       "    value += 'k';\n",
       "    value += event.which.toString();\n",
       "\n",
       "    this._key_event_extra(event, name);\n",
       "\n",
       "    this.send_message(name, {key: value,\n",
       "                             guiEvent: simpleKeys(event)});\n",
       "    return false;\n",
       "}\n",
       "\n",
       "mpl.figure.prototype.toolbar_button_onclick = function(name) {\n",
       "    if (name == 'download') {\n",
       "        this.handle_save(this, null);\n",
       "    } else {\n",
       "        this.send_message(\"toolbar_button\", {name: name});\n",
       "    }\n",
       "};\n",
       "\n",
       "mpl.figure.prototype.toolbar_button_onmouseover = function(tooltip) {\n",
       "    this.message.textContent = tooltip;\n",
       "};\n",
       "mpl.toolbar_items = [[\"Home\", \"Reset original view\", \"fa fa-home icon-home\", \"home\"], [\"Back\", \"Back to previous view\", \"fa fa-arrow-left icon-arrow-left\", \"back\"], [\"Forward\", \"Forward to next view\", \"fa fa-arrow-right icon-arrow-right\", \"forward\"], [\"\", \"\", \"\", \"\"], [\"Pan\", \"Pan axes with left mouse, zoom with right\", \"fa fa-arrows icon-move\", \"pan\"], [\"Zoom\", \"Zoom to rectangle\", \"fa fa-square-o icon-check-empty\", \"zoom\"], [\"\", \"\", \"\", \"\"], [\"Download\", \"Download plot\", \"fa fa-floppy-o icon-save\", \"download\"]];\n",
       "\n",
       "mpl.extensions = [\"eps\", \"pdf\", \"png\", \"ps\", \"raw\", \"svg\"];\n",
       "\n",
       "mpl.default_extension = \"png\";var comm_websocket_adapter = function(comm) {\n",
       "    // Create a \"websocket\"-like object which calls the given IPython comm\n",
       "    // object with the appropriate methods. Currently this is a non binary\n",
       "    // socket, so there is still some room for performance tuning.\n",
       "    var ws = {};\n",
       "\n",
       "    ws.close = function() {\n",
       "        comm.close()\n",
       "    };\n",
       "    ws.send = function(m) {\n",
       "        //console.log('sending', m);\n",
       "        comm.send(m);\n",
       "    };\n",
       "    // Register the callback with on_msg.\n",
       "    comm.on_msg(function(msg) {\n",
       "        //console.log('receiving', msg['content']['data'], msg);\n",
       "        // Pass the mpl event to the overridden (by mpl) onmessage function.\n",
       "        ws.onmessage(msg['content']['data'])\n",
       "    });\n",
       "    return ws;\n",
       "}\n",
       "\n",
       "mpl.mpl_figure_comm = function(comm, msg) {\n",
       "    // This is the function which gets called when the mpl process\n",
       "    // starts-up an IPython Comm through the \"matplotlib\" channel.\n",
       "\n",
       "    var id = msg.content.data.id;\n",
       "    // Get hold of the div created by the display call when the Comm\n",
       "    // socket was opened in Python.\n",
       "    var element = $(\"#\" + id);\n",
       "    var ws_proxy = comm_websocket_adapter(comm)\n",
       "\n",
       "    function ondownload(figure, format) {\n",
       "        window.open(figure.imageObj.src);\n",
       "    }\n",
       "\n",
       "    var fig = new mpl.figure(id, ws_proxy,\n",
       "                           ondownload,\n",
       "                           element.get(0));\n",
       "\n",
       "    // Call onopen now - mpl needs it, as it is assuming we've passed it a real\n",
       "    // web socket which is closed, not our websocket->open comm proxy.\n",
       "    ws_proxy.onopen();\n",
       "\n",
       "    fig.parent_element = element.get(0);\n",
       "    fig.cell_info = mpl.find_output_cell(\"<div id='\" + id + \"'></div>\");\n",
       "    if (!fig.cell_info) {\n",
       "        console.error(\"Failed to find cell for figure\", id, fig);\n",
       "        return;\n",
       "    }\n",
       "\n",
       "    var output_index = fig.cell_info[2]\n",
       "    var cell = fig.cell_info[0];\n",
       "\n",
       "};\n",
       "\n",
       "mpl.figure.prototype.handle_close = function(fig, msg) {\n",
       "    var width = fig.canvas.width/mpl.ratio\n",
       "    fig.root.unbind('remove')\n",
       "\n",
       "    // Update the output cell to use the data from the current canvas.\n",
       "    fig.push_to_output();\n",
       "    var dataURL = fig.canvas.toDataURL();\n",
       "    // Re-enable the keyboard manager in IPython - without this line, in FF,\n",
       "    // the notebook keyboard shortcuts fail.\n",
       "    IPython.keyboard_manager.enable()\n",
       "    $(fig.parent_element).html('<img src=\"' + dataURL + '\" width=\"' + width + '\">');\n",
       "    fig.close_ws(fig, msg);\n",
       "}\n",
       "\n",
       "mpl.figure.prototype.close_ws = function(fig, msg){\n",
       "    fig.send_message('closing', msg);\n",
       "    // fig.ws.close()\n",
       "}\n",
       "\n",
       "mpl.figure.prototype.push_to_output = function(remove_interactive) {\n",
       "    // Turn the data on the canvas into data in the output cell.\n",
       "    var width = this.canvas.width/mpl.ratio\n",
       "    var dataURL = this.canvas.toDataURL();\n",
       "    this.cell_info[1]['text/html'] = '<img src=\"' + dataURL + '\" width=\"' + width + '\">';\n",
       "}\n",
       "\n",
       "mpl.figure.prototype.updated_canvas_event = function() {\n",
       "    // Tell IPython that the notebook contents must change.\n",
       "    IPython.notebook.set_dirty(true);\n",
       "    this.send_message(\"ack\", {});\n",
       "    var fig = this;\n",
       "    // Wait a second, then push the new image to the DOM so\n",
       "    // that it is saved nicely (might be nice to debounce this).\n",
       "    setTimeout(function () { fig.push_to_output() }, 1000);\n",
       "}\n",
       "\n",
       "mpl.figure.prototype._init_toolbar = function() {\n",
       "    var fig = this;\n",
       "\n",
       "    var nav_element = $('<div/>')\n",
       "    nav_element.attr('style', 'width: 100%');\n",
       "    this.root.append(nav_element);\n",
       "\n",
       "    // Define a callback function for later on.\n",
       "    function toolbar_event(event) {\n",
       "        return fig.toolbar_button_onclick(event['data']);\n",
       "    }\n",
       "    function toolbar_mouse_event(event) {\n",
       "        return fig.toolbar_button_onmouseover(event['data']);\n",
       "    }\n",
       "\n",
       "    for(var toolbar_ind in mpl.toolbar_items){\n",
       "        var name = mpl.toolbar_items[toolbar_ind][0];\n",
       "        var tooltip = mpl.toolbar_items[toolbar_ind][1];\n",
       "        var image = mpl.toolbar_items[toolbar_ind][2];\n",
       "        var method_name = mpl.toolbar_items[toolbar_ind][3];\n",
       "\n",
       "        if (!name) { continue; };\n",
       "\n",
       "        var button = $('<button class=\"btn btn-default\" href=\"#\" title=\"' + name + '\"><i class=\"fa ' + image + ' fa-lg\"></i></button>');\n",
       "        button.click(method_name, toolbar_event);\n",
       "        button.mouseover(tooltip, toolbar_mouse_event);\n",
       "        nav_element.append(button);\n",
       "    }\n",
       "\n",
       "    // Add the status bar.\n",
       "    var status_bar = $('<span class=\"mpl-message\" style=\"text-align:right; float: right;\"/>');\n",
       "    nav_element.append(status_bar);\n",
       "    this.message = status_bar[0];\n",
       "\n",
       "    // Add the close button to the window.\n",
       "    var buttongrp = $('<div class=\"btn-group inline pull-right\"></div>');\n",
       "    var button = $('<button class=\"btn btn-mini btn-primary\" href=\"#\" title=\"Stop Interaction\"><i class=\"fa fa-power-off icon-remove icon-large\"></i></button>');\n",
       "    button.click(function (evt) { fig.handle_close(fig, {}); } );\n",
       "    button.mouseover('Stop Interaction', toolbar_mouse_event);\n",
       "    buttongrp.append(button);\n",
       "    var titlebar = this.root.find($('.ui-dialog-titlebar'));\n",
       "    titlebar.prepend(buttongrp);\n",
       "}\n",
       "\n",
       "mpl.figure.prototype._root_extra_style = function(el){\n",
       "    var fig = this\n",
       "    el.on(\"remove\", function(){\n",
       "\tfig.close_ws(fig, {});\n",
       "    });\n",
       "}\n",
       "\n",
       "mpl.figure.prototype._canvas_extra_style = function(el){\n",
       "    // this is important to make the div 'focusable\n",
       "    el.attr('tabindex', 0)\n",
       "    // reach out to IPython and tell the keyboard manager to turn it's self\n",
       "    // off when our div gets focus\n",
       "\n",
       "    // location in version 3\n",
       "    if (IPython.notebook.keyboard_manager) {\n",
       "        IPython.notebook.keyboard_manager.register_events(el);\n",
       "    }\n",
       "    else {\n",
       "        // location in version 2\n",
       "        IPython.keyboard_manager.register_events(el);\n",
       "    }\n",
       "\n",
       "}\n",
       "\n",
       "mpl.figure.prototype._key_event_extra = function(event, name) {\n",
       "    var manager = IPython.notebook.keyboard_manager;\n",
       "    if (!manager)\n",
       "        manager = IPython.keyboard_manager;\n",
       "\n",
       "    // Check for shift+enter\n",
       "    if (event.shiftKey && event.which == 13) {\n",
       "        this.canvas_div.blur();\n",
       "        event.shiftKey = false;\n",
       "        // Send a \"J\" for go to next cell\n",
       "        event.which = 74;\n",
       "        event.keyCode = 74;\n",
       "        manager.command_mode();\n",
       "        manager.handle_keydown(event);\n",
       "    }\n",
       "}\n",
       "\n",
       "mpl.figure.prototype.handle_save = function(fig, msg) {\n",
       "    fig.ondownload(fig, null);\n",
       "}\n",
       "\n",
       "\n",
       "mpl.find_output_cell = function(html_output) {\n",
       "    // Return the cell and output element which can be found *uniquely* in the notebook.\n",
       "    // Note - this is a bit hacky, but it is done because the \"notebook_saving.Notebook\"\n",
       "    // IPython event is triggered only after the cells have been serialised, which for\n",
       "    // our purposes (turning an active figure into a static one), is too late.\n",
       "    var cells = IPython.notebook.get_cells();\n",
       "    var ncells = cells.length;\n",
       "    for (var i=0; i<ncells; i++) {\n",
       "        var cell = cells[i];\n",
       "        if (cell.cell_type === 'code'){\n",
       "            for (var j=0; j<cell.output_area.outputs.length; j++) {\n",
       "                var data = cell.output_area.outputs[j];\n",
       "                if (data.data) {\n",
       "                    // IPython >= 3 moved mimebundle to data attribute of output\n",
       "                    data = data.data;\n",
       "                }\n",
       "                if (data['text/html'] == html_output) {\n",
       "                    return [cell, data, j];\n",
       "                }\n",
       "            }\n",
       "        }\n",
       "    }\n",
       "}\n",
       "\n",
       "// Register the function which deals with the matplotlib target/channel.\n",
       "// The kernel may be null if the page has been refreshed.\n",
       "if (IPython.notebook.kernel != null) {\n",
       "    IPython.notebook.kernel.comm_manager.register_target('matplotlib', mpl.mpl_figure_comm);\n",
       "}\n"
      ],
      "text/plain": [
       "<IPython.core.display.Javascript object>"
      ]
     },
     "metadata": {},
     "output_type": "display_data"
    },
    {
     "data": {
      "text/html": [
       "<img src=\"data:image/png;base64,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\" width=\"640\">"
      ],
      "text/plain": [
       "<IPython.core.display.HTML object>"
      ]
     },
     "metadata": {},
     "output_type": "display_data"
    }
   ],
   "source": [
    "fig = plt.figure()\n",
    "ax = fig.gca( projection='3d')\n",
    "\n",
    "n = 10\n",
    "\n",
    "x = np.linspace(0,1,n)\n",
    "y = np.linspace(3,0,n)\n",
    "z = np.log(x + 1) + y \n",
    "ax.plot(x,y,z,'+')\n",
    "\n",
    "\n",
    "plt.show()\n"
   ]
  },
  {
   "cell_type": "code",
   "execution_count": null,
   "metadata": {},
   "outputs": [],
   "source": []
  }
 ],
 "metadata": {
  "kernelspec": {
   "display_name": "Python 3",
   "language": "python",
   "name": "python3"
  },
  "language_info": {
   "codemirror_mode": {
    "name": "ipython",
    "version": 3
   },
   "file_extension": ".py",
   "mimetype": "text/x-python",
   "name": "python",
   "nbconvert_exporter": "python",
   "pygments_lexer": "ipython3",
   "version": "3.5.2"
  }
 },
 "nbformat": 4,
 "nbformat_minor": 2
}
