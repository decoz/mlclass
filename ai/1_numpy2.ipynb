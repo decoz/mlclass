{
  "nbformat": 4,
  "nbformat_minor": 0,
  "metadata": {
    "kernelspec": {
      "display_name": "Python 3",
      "language": "python",
      "name": "python3"
    },
    "language_info": {
      "codemirror_mode": {
        "name": "ipython",
        "version": 3
      },
      "file_extension": ".py",
      "mimetype": "text/x-python",
      "name": "python",
      "nbconvert_exporter": "python",
      "pygments_lexer": "ipython3",
      "version": "3.5.2"
    },
    "colab": {
      "name": "numpy2.ipynb",
      "provenance": [],
      "include_colab_link": true
    }
  },
  "cells": [
    {
      "cell_type": "markdown",
      "metadata": {
        "id": "view-in-github",
        "colab_type": "text"
      },
      "source": [
        "<a href=\"https://colab.research.google.com/github/decoz/mlclass/blob/master/1_numpy2.ipynb\" target=\"_parent\"><img src=\"https://colab.research.google.com/assets/colab-badge.svg\" alt=\"Open In Colab\"/></a>"
      ]
    },
    {
      "cell_type": "markdown",
      "metadata": {
        "id": "PKXlmmqy7wEL",
        "colab_type": "text"
      },
      "source": [
        "# Numpy 활용하기\n"
      ]
    },
    {
      "cell_type": "code",
      "metadata": {
        "id": "YItA3rQm7wEO",
        "colab_type": "code",
        "colab": {}
      },
      "source": [
        "import numpy as np\n",
        "import matplotlib.pyplot as plt"
      ],
      "execution_count": 0,
      "outputs": []
    },
    {
      "cell_type": "markdown",
      "metadata": {
        "id": "li1LbPQh7wEW",
        "colab_type": "text"
      },
      "source": [
        "\n",
        "<hr style=\"height:3px\">\n",
        "\n",
        "# NumPy 연산\n"
      ]
    },
    {
      "cell_type": "markdown",
      "metadata": {
        "id": "2qgapXIM7wEY",
        "colab_type": "text"
      },
      "source": [
        "<hr>\n",
        "\n",
        "## 기본 수학 연산\n",
        "\n",
        "- np.log : 로그 연산\n",
        "- np.exp : 지수 연산 \n",
        "- np.sqrt : 루트 연산\n",
        "    \n",
        "\n",
        "    \n"
      ]
    },
    {
      "cell_type": "code",
      "metadata": {
        "id": "Lnl8Ect07wEb",
        "colab_type": "code",
        "colab": {},
        "outputId": "27b13d84-ef22-452b-a493-7beab3551d92"
      },
      "source": [
        "# 0 ~ 2π 사이에 100개의 값을 생성\n",
        "arr = np.linspace(0.1,10,100) \n",
        "\n",
        "# sin graph 생성\n",
        "plt.title(\"log\")\n",
        "plt.plot( np.log( arr ) )\n",
        "plt.show()\n",
        "\n",
        "plt.title(\"exp\")\n",
        "plt.plot( np.exp( arr ) )\n",
        "plt.show()\n",
        "\n",
        "plt.title(\"sqrt\")\n",
        "plt.plot( np.sqrt( arr ) )\n",
        "plt.show()\n",
        "\n"
      ],
      "execution_count": 0,
      "outputs": [
        {
          "output_type": "display_data",
          "data": {
            "image/png": "[encoded data removed]",
            "text/plain": [
              "<Figure size 432x288 with 1 Axes>"
            ]
          },
          "metadata": {
            "tags": [],
            "needs_background": "light"
          }
        },
        {
          "output_type": "display_data",
          "data": {
            "image/png": "[encoded data removed]",
            "text/plain": [
              "<Figure size 432x288 with 1 Axes>"
            ]
          },
          "metadata": {
            "tags": [],
            "needs_background": "light"
          }
        },
        {
          "output_type": "display_data",
          "data": {
            "image/png": "[encoded data removed]",
            "text/plain": [
              "<Figure size 432x288 with 1 Axes>"
            ]
          },
          "metadata": {
            "tags": [],
            "needs_background": "light"
          }
        }
      ]
    },
    {
      "cell_type": "markdown",
      "metadata": {
        "id": "JWmX-Nri7wEk",
        "colab_type": "text"
      },
      "source": [
        "### <font color = 'red'> 연습문제 2-2 : log 와 랜덤 정규분포를 사용해서 다음과 같은 확산데이터를 생성해보자 </font>\n",
        "\n",
        "점의 숫자는 200 개로 구성된며 log 1 ~ log 10 의 수치를 기반으로 한다. \n",
        "\n",
        "<img src = 'e2_1.png' align = 'left'>"
      ]
    },
    {
      "cell_type": "code",
      "metadata": {
        "id": "Z_XSMMb07wEm",
        "colab_type": "code",
        "colab": {}
      },
      "source": [
        "# 연습 2-1번 풀기 \n",
        "\n",
        "\n"
      ],
      "execution_count": 0,
      "outputs": []
    },
    {
      "cell_type": "markdown",
      "metadata": {
        "id": "YXA7jQW47wEp",
        "colab_type": "text"
      },
      "source": [
        "<hr>\n",
        "\n",
        "## 삼각함수 연산\n",
        "\n",
        "- np.sin : 사인 연산\n",
        "- np.cos : 코사인 연산\n",
        "- np.tan : 탄젠트 연산\n",
        "\n",
        "컴퓨터상에서 삼각함수가 필요하냐고 생각할 수 있지만.. 삼각함수는 어떤 주기성을 가진 데이터를 표현하는 방법으로 널리 사용된다. \n",
        "삼각 함수는 cos, sin, tan 로 이뤄진다. 이때 입력값은 일반적인 360도 수치가 아니라 파이(π = 3.14... ) 를 기준으로 표현된다. \n",
        "물론 이를 위해 직접 3.14... 를 입력할 필요는 없다. np.pi 라는 라이브러리 내장 상수를 이용해 이를 표현할 수 있다. \n",
        "\n",
        "#### 예 : 삼각 함수 그래프 그리기  "
      ]
    },
    {
      "cell_type": "code",
      "metadata": {
        "id": "cwMa5bbY7wEp",
        "colab_type": "code",
        "colab": {},
        "outputId": "e90c9d91-ea47-42b3-9330-26e759a7102d"
      },
      "source": [
        "# 0 ~ 2π 사이에 100개의 값을 생성\n",
        "arr = np.linspace(0,np.pi * 2,100) \n",
        "\n",
        "# sin graph 생성\n",
        "plt.title(\"sin\")\n",
        "plt.plot( np.sin( arr ) )\n",
        "plt.show()\n",
        "\n",
        "plt.title(\"cos\")\n",
        "plt.plot( np.cos( arr ) )\n",
        "plt.show()\n",
        "\n",
        "plt.title(\"tan\")\n",
        "plt.plot( np.tan( arr ) )\n",
        "plt.show()\n",
        "\n"
      ],
      "execution_count": 0,
      "outputs": [
        {
          "output_type": "display_data",
          "data": {
            "image/png": "[encoded data removed]",
            "text/plain": [
              "<Figure size 432x288 with 1 Axes>"
            ]
          },
          "metadata": {
            "tags": [],
            "needs_background": "light"
          }
        },
        {
          "output_type": "display_data",
          "data": {
            "image/png": "[encoded data removed]",
            "text/plain": [
              "<Figure size 432x288 with 1 Axes>"
            ]
          },
          "metadata": {
            "tags": [],
            "needs_background": "light"
          }
        },
        {
          "output_type": "display_data",
          "data": {
            "image/png": "[encoded data removed]",
            "text/plain": [
              "<Figure size 432x288 with 1 Axes>"
            ]
          },
          "metadata": {
            "tags": [],
            "needs_background": "light"
          }
        }
      ]
    },
    {
      "cell_type": "markdown",
      "metadata": {
        "id": "5fNsWyST7wEv",
        "colab_type": "text"
      },
      "source": [
        "### <font color = 'red'> 연습 2-1 : sin 을 이용해 다음과 같은 그래프를 그리는 방법을 생각해봅시다. \n",
        "<img src = 'e2_2.png' align = 'left'>"
      ]
    },
    {
      "cell_type": "code",
      "metadata": {
        "id": "iDfIz-nv7wEy",
        "colab_type": "code",
        "colab": {}
      },
      "source": [
        "# 연습 2-1 의 코드를 여기에 작성해봅시다. \n"
      ],
      "execution_count": 0,
      "outputs": []
    },
    {
      "cell_type": "markdown",
      "metadata": {
        "id": "7J_SwDlR7wE3",
        "colab_type": "text"
      },
      "source": [
        "\n",
        "<hr style=\"height:3px\">\n",
        "\n",
        "# Numpy 입출력 "
      ]
    },
    {
      "cell_type": "markdown",
      "metadata": {
        "id": "QNKFYpi97wE5",
        "colab_type": "text"
      },
      "source": [
        "<hr>\n",
        "\n",
        "## 배열 파일로 저장\n"
      ]
    },
    {
      "cell_type": "code",
      "metadata": {
        "id": "d7YPVqwg7wE-",
        "colab_type": "code",
        "colab": {},
        "outputId": "34a67311-149c-4054-dafe-6982da37e027"
      },
      "source": [
        "import os \n",
        "if not os.path.exists(\"data\") :\n",
        "    os.makedirs(\"data\")  \n",
        "    \n",
        "my_array1  = np.random.normal(10,3,10)\n",
        "print(my_array1)\n",
        "np.save(\"./data/my_array1\", my_array1) \n",
        "\n",
        "listdir(\".\")\n",
        "\n",
        "my_array1 = []\n",
        "print(my_array1)\n",
        "\n",
        "my_array1 = np.load(\"./data/my_array1.npy\")\n",
        "print(my_array1)"
      ],
      "execution_count": 0,
      "outputs": [
        {
          "output_type": "stream",
          "text": [
            "[ 7.49017968 11.79839522  9.37166577  9.19814534  9.5109296  10.06114568\n",
            " 11.21219667 11.63272658  9.07586182  8.50048429]\n",
            "[]\n",
            "[ 7.49017968 11.79839522  9.37166577  9.19814534  9.5109296  10.06114568\n",
            " 11.21219667 11.63272658  9.07586182  8.50048429]\n"
          ],
          "name": "stdout"
        }
      ]
    },
    {
      "cell_type": "markdown",
      "metadata": {
        "id": "W1bFxUGb7wFG",
        "colab_type": "text"
      },
      "source": [
        "파이썬 배열을 넘피 배열로 변환하기 \n"
      ]
    },
    {
      "cell_type": "code",
      "metadata": {
        "id": "cYc6SWSV7wFI",
        "colab_type": "code",
        "colab": {},
        "outputId": "b8d79e08-7c88-46d4-d424-fe72987a6770"
      },
      "source": [
        "arr = [1,3,5]\n",
        "narr = np.array(arr)\n",
        "print(narr)"
      ],
      "execution_count": 0,
      "outputs": [
        {
          "output_type": "stream",
          "text": [
            "[1 3 5]\n"
          ],
          "name": "stdout"
        }
      ]
    },
    {
      "cell_type": "markdown",
      "metadata": {
        "id": "pUyBBFiL7wFS",
        "colab_type": "text"
      },
      "source": [
        "실수 배열 만들기"
      ]
    },
    {
      "cell_type": "code",
      "metadata": {
        "id": "h6WcGHWJ7wFT",
        "colab_type": "code",
        "colab": {},
        "outputId": "ed16608f-0b6f-4cd3-b76a-0d379efac6ab"
      },
      "source": [
        "narr = np.array([3,4,5], dtype = float)\n",
        "print(narr)"
      ],
      "execution_count": 0,
      "outputs": [
        {
          "output_type": "stream",
          "text": [
            "[3. 4. 5.]\n"
          ],
          "name": "stdout"
        }
      ]
    },
    {
      "cell_type": "code",
      "metadata": {
        "id": "t6UpV5Fr7wFb",
        "colab_type": "code",
        "colab": {},
        "outputId": "c2a3efcb-55ed-48be-bbc2-dfdc17144bcc"
      },
      "source": [
        "# 파이썬 배열\n",
        "arr1,arr2 = [1,2,3], [4,5,6]\n",
        "print( \"파이썬 배열 덧셈 :\", arr1 + arr2 )\n",
        "\n",
        "# numpy 배열\n",
        "narr1 = np.array(arr1)\n",
        "narr2 = np.array(arr2)\n",
        "\n",
        "print( \"numpy 배열 덧셈 :\", narr1 + narr2 )\n",
        "print( \"numpy 배열 곱셈 :\", narr1 * narr2 )\n"
      ],
      "execution_count": 0,
      "outputs": [
        {
          "output_type": "stream",
          "text": [
            "파이썬 배열 덧셈 : [1, 2, 3, 4, 5, 6]\n",
            "numpy 배열 덧셈 : [5 7 9]\n",
            "numpy 배열 곱셈 : [ 4 10 18]\n"
          ],
          "name": "stdout"
        }
      ]
    },
    {
      "cell_type": "markdown",
      "metadata": {
        "id": "NY9QNRU_7wFm",
        "colab_type": "text"
      },
      "source": [
        "<hr>\n",
        "\n",
        "## 다차원 Numpy \n",
        "\n",
        "NumPy 배열은 다차원 배열을 기본적으로 지원하며 모든 NumPy 배열은 shape 메소드를 통해 그 차원을 알아볼 수 있다. "
      ]
    },
    {
      "cell_type": "code",
      "metadata": {
        "id": "Vywgcs3K7wFo",
        "colab_type": "code",
        "colab": {},
        "outputId": "df92927b-74cd-402c-9a4f-52bcebc0b46b"
      },
      "source": [
        "narr = np.array([[1,2,3], [4,5,6]])\n",
        "print(narr.shape)\n",
        "print(narr.shape[0], narr.shape[1])"
      ],
      "execution_count": 0,
      "outputs": [
        {
          "output_type": "stream",
          "text": [
            "(2, 3)\n",
            "2 3\n"
          ],
          "name": "stdout"
        }
      ]
    },
    {
      "cell_type": "markdown",
      "metadata": {
        "id": "yXHj54-47wFv",
        "colab_type": "text"
      },
      "source": [
        "<hr>\n",
        "\n",
        "## 배열 초기화 \n",
        "\n",
        "<b> 0 으로 초기화 </b>"
      ]
    },
    {
      "cell_type": "code",
      "metadata": {
        "id": "D9hi1tdZ7wFv",
        "colab_type": "code",
        "colab": {},
        "outputId": "8f35e5e3-b0f6-467d-d2e3-69377ce2c662"
      },
      "source": [
        "# 3 x 2 를 0으로 초기화 \n",
        "narr = np.zeros((3,2))\n",
        "print(narr)"
      ],
      "execution_count": 0,
      "outputs": [
        {
          "output_type": "stream",
          "text": [
            "[[0. 0.]\n",
            " [0. 0.]\n",
            " [0. 0.]]\n"
          ],
          "name": "stdout"
        }
      ]
    },
    {
      "cell_type": "markdown",
      "metadata": {
        "id": "OsnOnKAE7wF1",
        "colab_type": "text"
      },
      "source": [
        "<b> 특정 값으로 초기화 </b>"
      ]
    },
    {
      "cell_type": "code",
      "metadata": {
        "id": "YAOtHhX27wF3",
        "colab_type": "code",
        "colab": {},
        "outputId": "59268030-8b43-4fe7-a582-b4000011f702"
      },
      "source": [
        "# 2 x 4 를 7 초 초기화 \n",
        "narr = np.full((2,4), 7)\n",
        "print(narr)"
      ],
      "execution_count": 0,
      "outputs": [
        {
          "output_type": "stream",
          "text": [
            "[[7 7 7 7]\n",
            " [7 7 7 7]]\n"
          ],
          "name": "stdout"
        }
      ]
    },
    {
      "cell_type": "markdown",
      "metadata": {
        "id": "O8lTeKYs7wF6",
        "colab_type": "text"
      },
      "source": [
        "\n",
        "\n",
        "<b> 초기화 없는 배열생성 </b> \n",
        "\n",
        "\n",
        "후에 들어올 자료를 저장하기 위한 배열은 따로 초기화를 하는 비용 자체가 낭비가 될 수 있다. 이 경우를 위해 값의 초기화 없이 배열의 생성이 가능하다. 이때는 메모리상에 남아있던 쓰레기값들이 들어있게 된다. "
      ]
    },
    {
      "cell_type": "code",
      "metadata": {
        "id": "yu5tOf8F7wF7",
        "colab_type": "code",
        "colab": {},
        "outputId": "12b7669c-441f-42e8-b6e6-b8cdca816533"
      },
      "source": [
        "# 가베지 값 배열 \n",
        "narr = np.empty((3,3), dtype = np.int16)\n",
        "print(narr)"
      ],
      "execution_count": 0,
      "outputs": [
        {
          "output_type": "stream",
          "text": [
            "[[     0      0      0]\n",
            " [     0  21248    691]\n",
            " [     0      0 -10232]]\n"
          ],
          "name": "stdout"
        }
      ]
    },
    {
      "cell_type": "markdown",
      "metadata": {
        "id": "MGF4qVRC7wGF",
        "colab_type": "text"
      },
      "source": [
        "<b> 배열 모양 복사 </b>\n",
        "\n",
        "위의 연습 1-1 처럼 해결하는 방법도 있지만 이전 배열과 똑같은 형태의 배열을 만들기 위한 메소드들이 있습니다. \n"
      ]
    },
    {
      "cell_type": "code",
      "metadata": {
        "id": "vUV-Nam87wGF",
        "colab_type": "code",
        "colab": {},
        "outputId": "383ccac6-5eb5-4163-e696-9cc13113f054"
      },
      "source": [
        "# zeros_like \n",
        "narr = np.array([1,3,5])\n",
        "narr1 = np.zeros_like(narr)\n",
        "print(narr1)"
      ],
      "execution_count": 0,
      "outputs": [
        {
          "output_type": "stream",
          "text": [
            "[0 0 0]\n"
          ],
          "name": "stdout"
        }
      ]
    },
    {
      "cell_type": "markdown",
      "metadata": {
        "id": "JPVNS9OY7wGM",
        "colab_type": "text"
      },
      "source": [
        "zeros_like 와 마찬가지로 full_like , empty_like 도 있습니다만 제 생각엔 shape를 이용하는 쪽이 더 기억하기 쉬울꺼라고 생각합니다. "
      ]
    },
    {
      "cell_type": "markdown",
      "metadata": {
        "id": "bVbPrbVs7wGN",
        "colab_type": "text"
      },
      "source": [
        "<hr>\n",
        "\n",
        "## np 배열 사용법\n",
        "\n",
        "### 배열 값 읽기 "
      ]
    },
    {
      "cell_type": "code",
      "metadata": {
        "id": "cUmM_dFL7wGP",
        "colab_type": "code",
        "colab": {},
        "outputId": "f1c76676-b5e4-4cf6-ebc2-18bf00d103bb"
      },
      "source": [
        "arr = np.array([1,2,3])\n",
        "arr[0:1] = 0\n",
        "print(arr)"
      ],
      "execution_count": 0,
      "outputs": [
        {
          "output_type": "stream",
          "text": [
            "[0 2 3]\n"
          ],
          "name": "stdout"
        }
      ]
    },
    {
      "cell_type": "markdown",
      "metadata": {
        "id": "2ddrDvMC7wGX",
        "colab_type": "text"
      },
      "source": [
        "<hr style = \"height:2px\"> \n",
        "\n",
        "# 데이터 생성\n",
        "\n",
        "\n",
        "\n",
        "## 균일 데이터 생성\n",
        "\n",
        "###  np.linspace \n",
        "\n",
        "일정한 간격을 지닌 배열 생성 \n",
        "\n",
        "- linspace(시작, 끝, 배열크기) "
      ]
    },
    {
      "cell_type": "code",
      "metadata": {
        "id": "pC2i9L0q7wGY",
        "colab_type": "code",
        "colab": {},
        "outputId": "97b1f517-39fb-4521-8271-08cab3b6a0bb"
      },
      "source": [
        "a = np.linspace(1,10,5)\n",
        "print(a)"
      ],
      "execution_count": 0,
      "outputs": [
        {
          "output_type": "stream",
          "text": [
            "[ 1.    3.25  5.5   7.75 10.  ]\n"
          ],
          "name": "stdout"
        }
      ]
    },
    {
      "cell_type": "markdown",
      "metadata": {
        "id": "-7nCtxYj7wGn",
        "colab_type": "text"
      },
      "source": [
        "### np.arange\n",
        "\n",
        "배열을 일정 간격으로 배열하기 (linspace 는 배열의 크기를 지정하지만 arrange 는 배열의 간격에 따라 크기가 바뀜)\n",
        "- arrange(시작, 끝, 간격)"
      ]
    },
    {
      "cell_type": "code",
      "metadata": {
        "id": "WIiL22PC7wGo",
        "colab_type": "code",
        "colab": {},
        "outputId": "4a581f88-726d-4fca-f416-30ee9466fb41"
      },
      "source": [
        "a = np.arange(0,10,3)\n",
        "print(a)"
      ],
      "execution_count": 0,
      "outputs": [
        {
          "output_type": "stream",
          "text": [
            "[0 3 6 9]\n"
          ],
          "name": "stdout"
        }
      ]
    },
    {
      "cell_type": "markdown",
      "metadata": {
        "id": "Oa-MJoIa7wGs",
        "colab_type": "text"
      },
      "source": [
        "### np.logspace\n",
        "\n",
        "log 함수로 증가하는 배열 생성\n",
        "- logspace( 시작, 끝, 배열크기 )"
      ]
    },
    {
      "cell_type": "code",
      "metadata": {
        "id": "VkZMCp5o7wGs",
        "colab_type": "code",
        "colab": {},
        "outputId": "15473de5-8516-44f6-9025-72a5e79f358e"
      },
      "source": [
        "a = np.logspace(0.1,3,10)\n",
        "print(a)\n"
      ],
      "execution_count": 0,
      "outputs": [
        {
          "output_type": "stream",
          "text": [
            "[   1.25892541    2.64376119    5.55193591   11.65914401   24.48436747\n",
            "   51.41751828  107.97751623  226.75431259  476.1872663  1000.        ]\n"
          ],
          "name": "stdout"
        }
      ]
    },
    {
      "cell_type": "markdown",
      "metadata": {
        "id": "JdOzJgA_7wGx",
        "colab_type": "text"
      },
      "source": [
        "## 데이터 시각화 \n",
        "\n",
        "matplotlib.pyplot 을 임포트하여 간단하게 numpy 배열을 도식화 시킬 수 있다. numpy 사용에 있어서 빼놓을 수 없는 부분이지만.. 이번시간에는 간단하게 필요한 몇몇 기능만 익혀 쓰도록 하자. \n",
        "\n",
        "우선 다음과 같이 plt 라는 이름으로 임포트하도록 하겠다. "
      ]
    },
    {
      "cell_type": "code",
      "metadata": {
        "id": "AxQe-s8C7wGy",
        "colab_type": "code",
        "colab": {}
      },
      "source": [
        "# 아래 예제를 실행하기 전에 꼭 실행하세요\n",
        "import matplotlib.pyplot as plt "
      ],
      "execution_count": 0,
      "outputs": []
    },
    {
      "cell_type": "markdown",
      "metadata": {
        "id": "TqOtUgs57wG3",
        "colab_type": "text"
      },
      "source": [
        "### 그래프로 1차원 배열 그래프\n",
        "\n",
        "- plot( 배열 ) \n"
      ]
    },
    {
      "cell_type": "code",
      "metadata": {
        "id": "D22IbhHD7wG3",
        "colab_type": "code",
        "colab": {},
        "outputId": "6635c6c8-a2de-4fa7-bb85-3066a8d8fb9b"
      },
      "source": [
        "# matplotlib 에 대해서는 나중에 더 자세히 다루고 지금은 그냥 써보자\n",
        "plt.plot(a)\n",
        "plt.show()"
      ],
      "execution_count": 0,
      "outputs": [
        {
          "output_type": "display_data",
          "data": {
            "image/png": "[encoded data removed]",
            "text/plain": [
              "<Figure size 432x288 with 1 Axes>"
            ]
          },
          "metadata": {
            "tags": [],
            "needs_background": "light"
          }
        }
      ]
    },
    {
      "cell_type": "markdown",
      "metadata": {
        "id": "MbxxMJh67wG6",
        "colab_type": "text"
      },
      "source": [
        "### 그래프로 데이터 포인트 시각화\n",
        "\n",
        "- plot( 배열1, 'o' )\n",
        "\n",
        "마지막에 'o' 를 넣으면 데이터가 점으로 표현되며 없을 경우 데이터가 연결된 선으로 표시된다. "
      ]
    },
    {
      "cell_type": "code",
      "metadata": {
        "id": "dzHNovKv7wG9",
        "colab_type": "code",
        "colab": {},
        "outputId": "286b86bf-bfbd-43ac-8f6e-1eaae47a81ae"
      },
      "source": [
        "# matplotlib 에 대해서는 나중에 더 자세히 다루고 지금은 그냥 써보자\n",
        "plt.plot([1,2,3,4], [3,2,4,1], 'o')\n",
        "plt.show()"
      ],
      "execution_count": 0,
      "outputs": [
        {
          "output_type": "display_data",
          "data": {
            "image/png": "[encoded data removed]",
            "text/plain": [
              "<Figure size 432x288 with 1 Axes>"
            ]
          },
          "metadata": {
            "tags": [],
            "needs_background": "light"
          }
        }
      ]
    },
    {
      "cell_type": "markdown",
      "metadata": {
        "id": "DXMCwQkA7wHJ",
        "colab_type": "text"
      },
      "source": [
        "### 히스토 그램으로 시각화 \n",
        "\n",
        "- hist( 배열, 간격 ) "
      ]
    },
    {
      "cell_type": "code",
      "metadata": {
        "id": "p2foHgBL7wHJ",
        "colab_type": "code",
        "colab": {},
        "outputId": "8e697478-e507-4df0-d86d-8c0f59a8cce0"
      },
      "source": [
        "plt.hist(a, 10)\n",
        "plt.show()"
      ],
      "execution_count": 0,
      "outputs": [
        {
          "output_type": "display_data",
          "data": {
            "image/png": "[encoded data removed]",
            "text/plain": [
              "<Figure size 432x288 with 1 Axes>"
            ]
          },
          "metadata": {
            "tags": [],
            "needs_background": "light"
          }
        }
      ]
    },
    {
      "cell_type": "markdown",
      "metadata": {
        "id": "A1XGrWlo7wHM",
        "colab_type": "text"
      },
      "source": [
        "<hr>\n",
        "\n",
        "## 랜덤 데이터 생성 \n",
        "\n",
        "- random.normal : 정규분포\n",
        "- random.rand   : \n",
        "- random.randn\n",
        "- random.randint\n",
        "- random.random\n"
      ]
    },
    {
      "cell_type": "markdown",
      "metadata": {
        "id": "Jq9qRn937wHN",
        "colab_type": "text"
      },
      "source": [
        "### random.rand\n",
        "\n",
        "0~1 까지의 실수 난수 발생\n",
        "- random.rand( shape ) \n"
      ]
    },
    {
      "cell_type": "code",
      "metadata": {
        "id": "SJhOCMXm7wHO",
        "colab_type": "code",
        "colab": {},
        "outputId": "9a1d8502-1cb9-4ee3-8daa-3a262f826cae"
      },
      "source": [
        "a = np.random.rand(3,2)\n",
        "print(a)"
      ],
      "execution_count": 0,
      "outputs": [
        {
          "output_type": "stream",
          "text": [
            "[[0.01024814 0.48036698]\n",
            " [0.71310779 0.06802576]\n",
            " [0.03730912 0.70604588]]\n"
          ],
          "name": "stdout"
        }
      ]
    },
    {
      "cell_type": "markdown",
      "metadata": {
        "id": "L6uyMBaY7wHS",
        "colab_type": "text"
      },
      "source": [
        "###  random.randn\n",
        "\n",
        "평균이 0 , 편차가 1인 정규분포로 난수를 발생시킴\n",
        "- random.randn( shape ) "
      ]
    },
    {
      "cell_type": "code",
      "metadata": {
        "id": "qdsjUo3f7wHU",
        "colab_type": "code",
        "colab": {},
        "outputId": "711982ab-4395-46b9-9825-00adb38d5747"
      },
      "source": [
        "a =  ( np.random.randn(1000) / 3 ) + 1\n",
        "plt.hist( a, 100)\n",
        "plt.show()"
      ],
      "execution_count": 0,
      "outputs": [
        {
          "output_type": "display_data",
          "data": {
            "image/png": "[encoded data removed]",
            "text/plain": [
              "<Figure size 432x288 with 1 Axes>"
            ]
          },
          "metadata": {
            "tags": [],
            "needs_background": "light"
          }
        }
      ]
    },
    {
      "cell_type": "markdown",
      "metadata": {
        "id": "WCwCGNdY7wHW",
        "colab_type": "text"
      },
      "source": [
        "\n",
        "### random.normal\n",
        "\n",
        "정규분포를 기반으로 랜덤 넘버 배열생성, 초기화\n",
        "\n",
        "- rand.random( 평균, 표준편차, 배열크기 ) "
      ]
    },
    {
      "cell_type": "code",
      "metadata": {
        "id": "d3ZniH6f7wHY",
        "colab_type": "code",
        "colab": {},
        "outputId": "a374621a-1f11-4a71-db22-a68aa05b531d"
      },
      "source": [
        "# 100개의 0을 기준으로 표준편차가 0.5 인 정규분포\n",
        "a = np.random.normal(0, 0.5, 1000)\n",
        "\n",
        "plt.plot(a, 'o')\n",
        "plt.show()"
      ],
      "execution_count": 0,
      "outputs": [
        {
          "output_type": "display_data",
          "data": {
            "image/png": "[encoded data removed]",
            "text/plain": [
              "<Figure size 432x288 with 1 Axes>"
            ]
          },
          "metadata": {
            "tags": [],
            "needs_background": "light"
          }
        }
      ]
    },
    {
      "cell_type": "code",
      "metadata": {
        "id": "ZzUUIU0Q7wHe",
        "colab_type": "code",
        "colab": {},
        "outputId": "08b5c5ac-82e3-4a40-93a3-fa777125b08e"
      },
      "source": [
        "# 히스토 그램으로 보기 \n",
        "plt.hist( a, 50)\n",
        "plt.show()"
      ],
      "execution_count": 0,
      "outputs": [
        {
          "output_type": "display_data",
          "data": {
            "image/png": "[encoded data removed]",
            "text/plain": [
              "<Figure size 432x288 with 1 Axes>"
            ]
          },
          "metadata": {
            "tags": [],
            "needs_background": "light"
          }
        }
      ]
    },
    {
      "cell_type": "code",
      "metadata": {
        "id": "57RDxwRQ7wHm",
        "colab_type": "code",
        "colab": {},
        "outputId": "a78751ed-b07c-4b8d-be51-d4fc39b59a26"
      },
      "source": [
        "a = np.arange(1,10,1)\n",
        "for i in range(1,9):    \n",
        "    a[i] = 0\n",
        "    \n",
        "plt.plot(a, 'o')\n",
        "plt.show()"
      ],
      "execution_count": 0,
      "outputs": [
        {
          "output_type": "display_data",
          "data": {
            "image/png": "[encoded data removed]",
            "text/plain": [
              "<Figure size 432x288 with 1 Axes>"
            ]
          },
          "metadata": {
            "tags": [],
            "needs_background": "light"
          }
        }
      ]
    },
    {
      "cell_type": "markdown",
      "metadata": {
        "id": "kGX2tTNo7wHq",
        "colab_type": "text"
      },
      "source": [
        "<hr style = \"height:2px\"> \n",
        "\n",
        "# NumPy 배열 다루기\n",
        "\n",
        "## 데이터 재배열\n",
        "\n",
        "reshape 는 데이터의 구조를 바꿔준다. 1차원을 2,3차원으로 바꾸거나 또는 역으로 바꿀 수도 있다. 단 전체 데이터의 숫자는 동일해야한다. \n"
      ]
    },
    {
      "cell_type": "code",
      "metadata": {
        "id": "4ym_iZqh7wHr",
        "colab_type": "code",
        "colab": {},
        "outputId": "856a101a-93c2-407d-c83f-b752ef105cbb"
      },
      "source": [
        "a = np.random.normal(5,3,64)\n",
        "a.reshape(4,4,4)"
      ],
      "execution_count": 0,
      "outputs": [
        {
          "output_type": "execute_result",
          "data": {
            "text/plain": [
              "array([[[ 3.54380608,  0.23248423,  3.16225077, 10.82225291],\n",
              "        [ 4.24205012,  8.54440515,  7.95992256,  6.05770079],\n",
              "        [-0.48181014,  4.9604154 , 10.28981265,  4.10042659],\n",
              "        [ 6.29650584, -0.57226968,  2.86172827,  5.37179775]],\n",
              "\n",
              "       [[ 5.26199267,  1.51086533,  4.41724035,  6.90414226],\n",
              "        [ 9.60434085,  5.26956512,  8.98761198,  4.75647092],\n",
              "        [ 5.20735534,  4.59134965,  5.45603127,  3.25517643],\n",
              "        [ 7.0442082 ,  4.94005802,  7.98865814,  3.52798329]],\n",
              "\n",
              "       [[ 1.68699719,  6.25232741,  1.78371742, 10.0580117 ],\n",
              "        [ 3.46356105,  7.09077082,  7.02815152,  3.04965728],\n",
              "        [ 2.92336405,  9.2413279 , 10.58014924,  6.58367189],\n",
              "        [ 8.82418451, -4.845133  ,  3.79580435,  2.50520076]],\n",
              "\n",
              "       [[ 9.54393088,  5.20447127,  6.01414761,  4.28924879],\n",
              "        [ 1.10254268,  3.40307939,  3.66936671,  8.16732295],\n",
              "        [ 8.35529466,  6.09454486,  3.50592771,  3.90332754],\n",
              "        [ 6.80426014,  4.40408752,  1.30941378,  5.03650044]]])"
            ]
          },
          "metadata": {
            "tags": []
          },
          "execution_count": 193
        }
      ]
    },
    {
      "cell_type": "code",
      "metadata": {
        "id": "305Ezmvr7wHu",
        "colab_type": "code",
        "colab": {},
        "outputId": "e821dd2a-fade-452d-cf68-4b4e70e16617"
      },
      "source": [
        "a.reshape(8,8)"
      ],
      "execution_count": 0,
      "outputs": [
        {
          "output_type": "execute_result",
          "data": {
            "text/plain": [
              "array([[ 7.88993363,  6.69763689,  5.58823782,  5.48240638,  4.82651408,\n",
              "         2.54930262,  7.63972971,  9.58984371],\n",
              "       [ 5.83485087,  1.18622477,  5.13977679,  0.42376192,  8.61412491,\n",
              "         2.69817258,  9.57633475,  8.58975848],\n",
              "       [ 7.20441433,  6.71896926,  3.72436184,  8.83513665,  7.37815943,\n",
              "         1.8023299 ,  5.89618775,  7.39182096],\n",
              "       [ 4.92668477,  6.53280813,  2.95130269,  6.48512989,  7.83646161,\n",
              "         1.01132429, 12.12225063,  0.90825605],\n",
              "       [ 5.88813088,  2.39309297,  2.24116354,  4.35923293,  3.84212376,\n",
              "         1.79401453,  1.74589519,  4.67502356],\n",
              "       [ 2.91394737,  2.79856547,  8.02587015,  9.94071181,  7.25900426,\n",
              "         3.31913327,  9.32024741,  6.3638864 ],\n",
              "       [ 0.48643121,  5.51818986, -0.577602  , 10.84288392,  3.91460015,\n",
              "         2.48094824,  4.36814587,  6.8734978 ],\n",
              "       [ 1.66508928, 10.12525462,  6.44247165,  5.48894518,  5.35511296,\n",
              "         0.76764872,  2.23095173, -1.67425504]])"
            ]
          },
          "metadata": {
            "tags": []
          },
          "execution_count": 150
        }
      ]
    },
    {
      "cell_type": "markdown",
      "metadata": {
        "id": "4s-TQK1H7wHy",
        "colab_type": "text"
      },
      "source": [
        "### <font color = 'red'> 연습문제 1-2 : 다음과 같은 형태가 출력되도록 고안해보자  </font>\n",
        "\n",
        "점의 숫자는 1000 개로 구성된다. \n",
        "\n",
        "<img src = 'e1_2.png' align = 'left'>"
      ]
    },
    {
      "cell_type": "code",
      "metadata": {
        "id": "IKOo0jFw7wHy",
        "colab_type": "code",
        "colab": {}
      },
      "source": [
        "# 연습문제 2번을 여기에 풀어보세요"
      ],
      "execution_count": 0,
      "outputs": []
    },
    {
      "cell_type": "markdown",
      "metadata": {
        "id": "wtPOFYfO7wH1",
        "colab_type": "text"
      },
      "source": [
        "<hr>\n",
        "\n",
        "## 배열 합치기 , 나누기\n",
        "\n",
        "### 1차원 배열 합치기 \n",
        "\n",
        "np.append 는 두개의 1차원 배열을 합칠 수 있다. \n",
        "\n",
        "- np.append( 배열1, 배열2 ) \n",
        "\n",
        "다차원 배열의 경우 append 는 이를 모두 1차원 배열로 변형하여 합친다. "
      ]
    },
    {
      "cell_type": "code",
      "metadata": {
        "id": "3bOqeKbl7wH2",
        "colab_type": "code",
        "colab": {},
        "outputId": "303cc73b-d791-4feb-95dd-33552f544369"
      },
      "source": [
        "narr1 = np.array([1,2,3])\n",
        "narr2 = np.array([4,5])\n",
        "print( np.append(narr1, narr2) )"
      ],
      "execution_count": 0,
      "outputs": [
        {
          "output_type": "stream",
          "text": [
            "[1 2 3 4 5]\n"
          ],
          "name": "stdout"
        }
      ]
    },
    {
      "cell_type": "code",
      "metadata": {
        "id": "bGqR6qNo7wH_",
        "colab_type": "code",
        "colab": {},
        "outputId": "7a03a471-dad2-4694-a40b-92743fe373e3"
      },
      "source": [
        "narr1 = np.array([[1,2],[3,4]])\n",
        "narr2 = np.array([[5,6,7]])\n",
        "print( np.append(narr1, narr2 ) )"
      ],
      "execution_count": 0,
      "outputs": [
        {
          "output_type": "stream",
          "text": [
            "[1 2 3 4 5 6 7]\n"
          ],
          "name": "stdout"
        }
      ]
    },
    {
      "cell_type": "markdown",
      "metadata": {
        "id": "wKWzwxDC7wIG",
        "colab_type": "text"
      },
      "source": [
        "### 다차원 배열 합치기 \n",
        "\n",
        "np 는 concatenate 를 이용하여 다차원 배열의 병합이 가능하다. \n",
        "\n",
        "- concatenate( (배열1, 배열2, ..  ) , axis=병합차원 ) \n",
        "\n",
        "axis 는  [[1,2]] 과 [[3,4]] 의 병합시\n",
        "\n",
        "0 일때 [[1,2], [3,4]] 가 되며 \n",
        "\n",
        "1 일때 [[1,2,3,4]] 가 된다. \n"
      ]
    },
    {
      "cell_type": "code",
      "metadata": {
        "id": "J1bdC4rS7wII",
        "colab_type": "code",
        "colab": {},
        "outputId": "cb7177da-01e6-43a7-ac25-d52f75becaf4"
      },
      "source": [
        "# 아래의 예제의 결과를 통해 axis 가 어떻게 영향을 주는지 잘 생각해보자. \n",
        "narr1 = np.array([[1,2],[3,4]])\n",
        "narr2 = np.array([[5,6],[7,8]])\n",
        "print( \"axis = 0 : \\n\", np.concatenate( ( narr1, narr2),  axis=0) )\n",
        "print( \"axis = 1 : \\n\", np.concatenate( ( narr1, narr2),  axis=1) )"
      ],
      "execution_count": 0,
      "outputs": [
        {
          "output_type": "stream",
          "text": [
            "axis = 0 : \n",
            " [[1 2]\n",
            " [3 4]\n",
            " [5 6]\n",
            " [7 8]]\n",
            "axis = 1 : \n",
            " [[1 2 5 6]\n",
            " [3 4 7 8]]\n"
          ],
          "name": "stdout"
        }
      ]
    },
    {
      "cell_type": "markdown",
      "metadata": {
        "id": "1BY4no6F7wIQ",
        "colab_type": "text"
      },
      "source": [
        "편의를 위해 axis = 0 인경우를 대신해 vstack 이라는 함수를 axis = 1 인 경우에는 hstack 이라는 함수를 사용하기도 한다. 하지만 3차원 이상에서는 어차피 concatenate 를 써야 하기 때문에 axis 의 사용법을 익혀두는게 좋다. "
      ]
    },
    {
      "cell_type": "markdown",
      "metadata": {
        "id": "Qcam3z3Q7wIU",
        "colab_type": "text"
      },
      "source": [
        "\n",
        "### 1차원 배열 나누기 \n",
        "\n",
        "배열을 나누는 방법은 다음과 같은 서브슬라이싱을 사용하는 것이다. \n",
        "\n",
        "- 배열이름[시작인덱스:끝인덱스]\n"
      ]
    },
    {
      "cell_type": "code",
      "metadata": {
        "id": "0NpB_dLh7wIW",
        "colab_type": "code",
        "colab": {},
        "outputId": "1e959d1c-3a04-4a37-9409-d3b653ce3f74"
      },
      "source": [
        "# 배열 서브슬라이스 사용 예 \n",
        "a = np.array([1,2,3,4,5])\n",
        "print( \"0:3->\", a[0:3] )\n",
        "print( \"1:2->\", a[1:2] )\n",
        "print( \" :4->\", a[:4] )\n",
        "print( \"3: ->\", a[3:] )\n",
        "print( \":-1->\", a[:-1] )"
      ],
      "execution_count": 0,
      "outputs": [
        {
          "output_type": "stream",
          "text": [
            "0:3-> [1 2 3]\n",
            "1:2-> [2]\n",
            " :4-> [1 2 3 4]\n",
            "3: -> [4 5]\n",
            ":-1-> [1 2 3 4]\n"
          ],
          "name": "stdout"
        }
      ]
    },
    {
      "cell_type": "markdown",
      "metadata": {
        "id": "B9OnyMiP7wIa",
        "colab_type": "text"
      },
      "source": [
        "정확히는 시작 인덱스값부터 끝 인덱스값의 이전까지가 포함되니 주의하자"
      ]
    },
    {
      "cell_type": "markdown",
      "metadata": {
        "id": "HC1aDgjO7wIa",
        "colab_type": "text"
      },
      "source": [
        "\n",
        "### 다차원 배열 나누기 \n",
        "\n",
        "다차원을 나누는 방법도 원리는 간단하다. \n",
        "\n",
        "- 배열이름[y축시작: y축끝,x축시작: x축 끝]\n",
        "\n",
        "<pre>\n",
        "[[ 1, 2, 3, 4],\n",
        " [ 5, 6, 7, 8],\n",
        " [ 9,10,11,11],\n",
        " [12,13,14,15]] \n",
        "\n",
        "인 배열의 a 의 a[0:2,0:2] 는 \n",
        "\n",
        "[[1,2],\n",
        " [5,6]] \n",
        " \n",
        "이 되는 원리이다. "
      ]
    },
    {
      "cell_type": "code",
      "metadata": {
        "id": "KKaBRaea7wIc",
        "colab_type": "code",
        "colab": {},
        "outputId": "47c2cae4-7d21-4291-f222-4b1292d51f4f"
      },
      "source": [
        "# 다차원 배열 서브슬라이스 사용 예 \n",
        "a = np.arange(1,17,1).reshape(4,4)\n",
        "print(a)\n",
        "print(a[1:3,1:3])\n"
      ],
      "execution_count": 0,
      "outputs": [
        {
          "output_type": "stream",
          "text": [
            "[[ 1  2  3  4]\n",
            " [ 5  6  7  8]\n",
            " [ 9 10 11 12]\n",
            " [13 14 15 16]]\n",
            "[[ 6  7]\n",
            " [10 11]]\n"
          ],
          "name": "stdout"
        }
      ]
    },
    {
      "cell_type": "markdown",
      "metadata": {
        "id": "MEbTe1D-7wIk",
        "colab_type": "text"
      },
      "source": [
        "### <font color = 'red'> 연습문제 1-3 : 다음과 같이 두개의 군집이 생성되게 고안해보자  </font>\n",
        "\n",
        "각각 1,1 과 3,3 을 중심으로 0.5 의 표준오차를 갖는 군집이며 점의 숫자는 전체 1000 개로 구성된다. \n",
        "\n",
        "<img src = \"e1_3.png\" align = 'left'>"
      ]
    },
    {
      "cell_type": "code",
      "metadata": {
        "id": "hSjwNr037wIl",
        "colab_type": "code",
        "colab": {}
      },
      "source": [
        "#연습문제 1-3 을 여기에 작성해보세요\n",
        "\n",
        "\n"
      ],
      "execution_count": 0,
      "outputs": []
    },
    {
      "cell_type": "code",
      "metadata": {
        "id": "WfnBqSL77wIw",
        "colab_type": "code",
        "colab": {}
      },
      "source": [
        ""
      ],
      "execution_count": 0,
      "outputs": []
    }
  ]
}