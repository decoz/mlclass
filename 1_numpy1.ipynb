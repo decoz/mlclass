{
  "nbformat": 4,
  "nbformat_minor": 0,
  "metadata": {
    "kernelspec": {
      "display_name": "Python 3",
      "language": "python",
      "name": "python3"
    },
    "language_info": {
      "codemirror_mode": {
        "name": "ipython",
        "version": 3
      },
      "file_extension": ".py",
      "mimetype": "text/x-python",
      "name": "python",
      "nbconvert_exporter": "python",
      "pygments_lexer": "ipython3",
      "version": "3.5.2"
    },
    "colab": {
      "name": "numpy.ipynb",
      "provenance": [],
      "toc_visible": true,
      "include_colab_link": true
    }
  },
  "cells": [
    {
      "cell_type": "markdown",
      "metadata": {
        "id": "view-in-github",
        "colab_type": "text"
      },
      "source": [
        "<a href=\"https://colab.research.google.com/github/decoz/mlclass/blob/master/1_numpy1.ipynb\" target=\"_parent\"><img src=\"https://colab.research.google.com/assets/colab-badge.svg\" alt=\"Open In Colab\"/></a>"
      ]
    },
    {
      "cell_type": "markdown",
      "metadata": {
        "id": "V2Rz6Xpb7P-H"
      },
      "source": [
        "# About NumPy\n",
        "\n",
        "NumPy : \n",
        "\n",
        "데이터 사이언스등 대규모의 배열데이터를 처리하기 위해서 다차원 배열 처리에 최적화되어있는 라이브러리\n",
        "파이썬 배열에 비해 더 빠른 처리를 수행가능\n"
      ]
    },
    {
      "cell_type": "code",
      "metadata": {
        "id": "9dAEs-Jf7P-I"
      },
      "source": [
        "import numpy as np"
      ],
      "execution_count": null,
      "outputs": []
    },
    {
      "cell_type": "markdown",
      "metadata": {
        "id": "ZOR58k4a7P-Y"
      },
      "source": [
        "위 구문은 numpy 라이브러리를 np라는 이름으로 로딩한다. \n",
        "\n",
        "\n",
        "\n",
        "\n",
        "<hr style=\"height:3px\">\n",
        "\n",
        "# NumPy 의 기초 \n",
        "\n",
        "\n",
        "## NumPy 배열 생성\n"
      ]
    },
    {
      "cell_type": "code",
      "metadata": {
        "id": "sM2sGYQq7P-Z"
      },
      "source": [
        "narr = np.array([1,2,3,4])\n",
        "print(narr)"
      ],
      "execution_count": null,
      "outputs": []
    },
    {
      "cell_type": "markdown",
      "metadata": {
        "id": "6xHeWlYH7P-h"
      },
      "source": [
        "파이썬 배열을 넘피 배열로 변환하기 \n"
      ]
    },
    {
      "cell_type": "code",
      "metadata": {
        "id": "iL2dDe277P-h"
      },
      "source": [
        "arr = [1,3,5]\n",
        "narr = np.array(arr)\n",
        "print(narr)"
      ],
      "execution_count": null,
      "outputs": []
    },
    {
      "cell_type": "markdown",
      "metadata": {
        "id": "PkzQtmvZ7P-m"
      },
      "source": [
        "실수 배열 만들기"
      ]
    },
    {
      "cell_type": "code",
      "metadata": {
        "id": "mEPNhEh_7P-p"
      },
      "source": [
        "narr = np.array([3,4,5], dtype = float)\n",
        "print(narr)"
      ],
      "execution_count": null,
      "outputs": []
    },
    {
      "cell_type": "markdown",
      "metadata": {
        "id": "wvKNdYMX7P-v"
      },
      "source": [
        "<hr>\n",
        "\n",
        "## NumPy 배열과 파이썬 배열의 차이 \n"
      ]
    },
    {
      "cell_type": "code",
      "metadata": {
        "id": "Dke9Q0wu7P-z"
      },
      "source": [
        "# 파이썬 배열\n",
        "arr1,arr2 = [1,2,3], [4,5,6]\n",
        "print( \"파이썬 배열 덧셈 :\", arr1 + arr2 )\n",
        "\n",
        "# numpy 배열\n",
        "narr1 = np.array(arr1)\n",
        "narr2 = np.array(arr2)\n",
        "\n",
        "print( \"numpy 배열 덧셈 :\", narr1 + narr2 )\n",
        "print( \"numpy 배열 곱셈 :\", narr1 * narr2 )\n"
      ],
      "execution_count": null,
      "outputs": []
    },
    {
      "cell_type": "markdown",
      "metadata": {
        "id": "pkHDrhTY7P_A"
      },
      "source": [
        "<hr>\n",
        "\n",
        "## 다차원 Numpy \n",
        "\n",
        "NumPy 배열은 다차원 배열을 기본적으로 지원하며 모든 NumPy 배열은 shape 메소드를 통해 그 차원을 알아볼 수 있다. "
      ]
    },
    {
      "cell_type": "code",
      "metadata": {
        "id": "XBZI4JFk7P_B"
      },
      "source": [
        "narr = np.array([[1,2,3], [4,5,6]])\n",
        "print(narr.shape)\n",
        "print(narr.shape[0], narr.shape[1])"
      ],
      "execution_count": null,
      "outputs": []
    },
    {
      "cell_type": "markdown",
      "metadata": {
        "id": "gaIZ0AW-7P_M"
      },
      "source": [
        "<hr>\n",
        "\n",
        "## 배열 초기화 \n",
        "\n",
        "<b> 0 으로 초기화 </b>"
      ]
    },
    {
      "cell_type": "code",
      "metadata": {
        "id": "5Pk7omfZ7P_N"
      },
      "source": [
        "# 3 x 2 를 0으로 초기화 \n",
        "narr = np.zeros((3,2))\n",
        "print(narr)"
      ],
      "execution_count": null,
      "outputs": []
    },
    {
      "cell_type": "markdown",
      "metadata": {
        "id": "vwIff-i47P_d"
      },
      "source": [
        "<b> 특정 값으로 초기화 </b>"
      ]
    },
    {
      "cell_type": "code",
      "metadata": {
        "id": "KjwTtI1o7P_h"
      },
      "source": [
        "# 2 x 4 를 7 초 초기화 \n",
        "narr = np.full((2,4), 7)\n",
        "print(narr)"
      ],
      "execution_count": null,
      "outputs": []
    },
    {
      "cell_type": "markdown",
      "metadata": {
        "id": "aZlF6egU7P_o"
      },
      "source": [
        "### <font color = 'red'> 연습 1-1 : array 의 모양에 상관없이 모든 값을 0 으로 체울 수 있을까요? </font>"
      ]
    },
    {
      "cell_type": "code",
      "metadata": {
        "id": "FjTOK6G57P_r"
      },
      "source": [
        "narr = np.array([[1,2,3],[4,5,6]])\n",
        "# narr 의 배열의 모양이 바뀌어도 모든 값을 0으로 체울 수 있는 코드를 생각해봅시다. \n"
      ],
      "execution_count": null,
      "outputs": []
    },
    {
      "cell_type": "markdown",
      "metadata": {
        "id": "RaAVL7cD7P_w"
      },
      "source": [
        "\n",
        "\n",
        "<b> 초기화 없는 배열생성 </b> \n",
        "\n",
        "\n",
        "후에 들어올 자료를 저장하기 위한 배열은 따로 초기화를 하는 비용 자체가 낭비가 될 수 있다. 이 경우를 위해 값의 초기화 없이 배열의 생성이 가능하다. 이때는 메모리상에 남아있던 쓰레기값들이 들어있게 된다. "
      ]
    },
    {
      "cell_type": "code",
      "metadata": {
        "id": "N3588RTf7P_x"
      },
      "source": [
        "# 가베지 값 배열 \n",
        "narr = np.empty((3,3), dtype = np.int16)\n",
        "print(narr)"
      ],
      "execution_count": null,
      "outputs": []
    },
    {
      "cell_type": "markdown",
      "metadata": {
        "id": "1HJz4URg7P_-"
      },
      "source": [
        "<b> 배열 모양 복사 </b>\n",
        "\n",
        "위의 연습 1-1 처럼 해결하는 방법도 있지만 이전 배열과 똑같은 형태의 배열을 만들기 위한 메소드들이 있습니다. \n"
      ]
    },
    {
      "cell_type": "code",
      "metadata": {
        "id": "yanoD-sX7P_-"
      },
      "source": [
        "# zeros_like \n",
        "narr = np.array([1,3,5])\n",
        "narr1 = np.zeros_like(narr)\n",
        "print(narr1)"
      ],
      "execution_count": null,
      "outputs": []
    },
    {
      "cell_type": "markdown",
      "metadata": {
        "id": "IAJpxhkm7QAC"
      },
      "source": [
        "zeros_like 와 마찬가지로 full_like , empty_like 도 있습니다만 제 생각엔 shape를 이용하는 쪽이 더 기억하기 쉬울꺼라고 생각합니다. "
      ]
    },
    {
      "cell_type": "markdown",
      "metadata": {
        "id": "gqX5pm817QAD"
      },
      "source": [
        "<hr>\n",
        "\n",
        "## np 배열 사용법\n",
        "\n",
        "### 배열 값 읽기 "
      ]
    },
    {
      "cell_type": "code",
      "metadata": {
        "id": "Vf7Ra4oI7QAE"
      },
      "source": [
        "arr = np.array([1,2,3])\n",
        "arr[0:1] = 0\n",
        "print(arr)"
      ],
      "execution_count": null,
      "outputs": []
    },
    {
      "cell_type": "markdown",
      "metadata": {
        "id": "WRTBzYzt7QAL"
      },
      "source": [
        "<hr style = \"height:2px\"> \n",
        "\n",
        "# 데이터 생성\n",
        "\n",
        "\n",
        "\n",
        "## 균일 데이터 생성\n",
        "\n",
        "###  np.linspace \n",
        "\n",
        "일정한 간격을 지닌 배열 생성 \n",
        "\n",
        "- linspace(시작, 끝, 배열크기) "
      ]
    },
    {
      "cell_type": "code",
      "metadata": {
        "id": "foIshSVY7QAN"
      },
      "source": [
        "a = np.linspace(1,10,5)\n",
        "print(a)"
      ],
      "execution_count": null,
      "outputs": []
    },
    {
      "cell_type": "markdown",
      "metadata": {
        "id": "BQtM5UmW7QAT"
      },
      "source": [
        "### np.arange\n",
        "\n",
        "배열을 일정 간격으로 배열하기 (linspace 는 배열의 크기를 지정하지만 arrange 는 배열의 간격에 따라 크기가 바뀜)\n",
        "- arrange(시작, 끝, 간격)"
      ]
    },
    {
      "cell_type": "code",
      "metadata": {
        "id": "NLAs_X1u7QAU"
      },
      "source": [
        "a = np.arange(0,10,3)\n",
        "print(a)"
      ],
      "execution_count": null,
      "outputs": []
    },
    {
      "cell_type": "markdown",
      "metadata": {
        "id": "t62wO0hM7QAh"
      },
      "source": [
        "### np.logspace\n",
        "\n",
        "log 함수로 증가하는 배열 생성\n",
        "- logspace( 시작, 끝, 배열크기 )"
      ]
    },
    {
      "cell_type": "code",
      "metadata": {
        "id": "HZjmptB87QAh"
      },
      "source": [
        "a = np.logspace(0.1,3,10)\n",
        "print(a)\n"
      ],
      "execution_count": null,
      "outputs": []
    },
    {
      "cell_type": "markdown",
      "metadata": {
        "id": "UPRuvQhW7QAm"
      },
      "source": [
        "## 데이터 시각화 \n",
        "\n",
        "matplotlib.pyplot 을 임포트하여 간단하게 numpy 배열을 도식화 시킬 수 있다. numpy 사용에 있어서 빼놓을 수 없는 부분이지만.. 이번시간에는 간단하게 필요한 몇몇 기능만 익혀 쓰도록 하자. \n",
        "\n",
        "우선 다음과 같이 plt 라는 이름으로 임포트하도록 하겠다. "
      ]
    },
    {
      "cell_type": "code",
      "metadata": {
        "id": "C_SYNppv7QAo"
      },
      "source": [
        "# 아래 예제를 실행하기 전에 꼭 실행하세요\n",
        "import matplotlib.pyplot as plt "
      ],
      "execution_count": null,
      "outputs": []
    },
    {
      "cell_type": "markdown",
      "metadata": {
        "id": "PPhnXoZL7QAs"
      },
      "source": [
        "### 그래프로 1차원 배열 그래프\n",
        "\n",
        "- plot( 배열 ) \n"
      ]
    },
    {
      "cell_type": "code",
      "metadata": {
        "id": "0Vtq74Bq7QAt"
      },
      "source": [
        "# matplotlib 에 대해서는 나중에 더 자세히 다루고 지금은 그냥 써보자\n",
        "plt.plot(a)\n",
        "plt.show()"
      ],
      "execution_count": null,
      "outputs": []
    },
    {
      "cell_type": "markdown",
      "metadata": {
        "id": "ea4hYnbO7QA1"
      },
      "source": [
        "### 그래프로 데이터 포인트 시각화\n",
        "\n",
        "- plot( 배열1, 'o' )\n",
        "\n",
        "마지막에 'o' 를 넣으면 데이터가 점으로 표현되며 없을 경우 데이터가 연결된 선으로 표시된다. "
      ]
    },
    {
      "cell_type": "code",
      "metadata": {
        "id": "BMppQKjT7QA1"
      },
      "source": [
        "# matplotlib 에 대해서는 나중에 더 자세히 다루고 지금은 그냥 써보자\n",
        "plt.plot([1,2,3,4], [3,2,4,1], 'o')\n",
        "plt.show()"
      ],
      "execution_count": null,
      "outputs": []
    },
    {
      "cell_type": "markdown",
      "metadata": {
        "id": "7lim4kDS7QBB"
      },
      "source": [
        "### 히스토 그램으로 시각화 \n",
        "\n",
        "- hist( 배열, 간격 ) "
      ]
    },
    {
      "cell_type": "code",
      "metadata": {
        "id": "SBdc3h8r7QBC"
      },
      "source": [
        "plt.hist(a, 10)\n",
        "plt.show()"
      ],
      "execution_count": null,
      "outputs": []
    },
    {
      "cell_type": "markdown",
      "metadata": {
        "id": "y_8FFWep7QBG"
      },
      "source": [
        "<hr>\n",
        "\n",
        "## 랜덤 데이터 생성 \n",
        "\n",
        "- random.normal : 정규분포\n",
        "- random.rand   : \n",
        "- random.randn\n",
        "- random.randint\n",
        "- random.random\n"
      ]
    },
    {
      "cell_type": "markdown",
      "metadata": {
        "id": "2yo0xtNq7QBI"
      },
      "source": [
        "### random.rand\n",
        "\n",
        "0~1 까지의 실수 난수 발생\n",
        "- random.rand( shape ) \n"
      ]
    },
    {
      "cell_type": "code",
      "metadata": {
        "id": "JRBZs2YC7QBJ"
      },
      "source": [
        "a = np.random.rand(3,2)\n",
        "print(a)"
      ],
      "execution_count": null,
      "outputs": []
    },
    {
      "cell_type": "markdown",
      "metadata": {
        "id": "MdRMZYBr7QBN"
      },
      "source": [
        "###  random.randn\n",
        "\n",
        "평균이 0 , 편차가 1인 정규분포로 난수를 발생시킴\n",
        "- random.randn( shape ) "
      ]
    },
    {
      "cell_type": "code",
      "metadata": {
        "id": "4bMSai1o7QBP"
      },
      "source": [
        "a =  ( np.random.randn(1000) / 3 ) + 1\n",
        "plt.hist( a, 100)\n",
        "plt.show()"
      ],
      "execution_count": null,
      "outputs": []
    },
    {
      "cell_type": "markdown",
      "metadata": {
        "id": "QKhEJaVs7QBV"
      },
      "source": [
        "\n",
        "### random.normal\n",
        "\n",
        "정규분포를 기반으로 랜덤 넘버 배열생성, 초기화\n",
        "\n",
        "- rand.random( 평균, 표준편차, 배열크기 ) "
      ]
    },
    {
      "cell_type": "code",
      "metadata": {
        "id": "4dZaXqUU7QBX"
      },
      "source": [
        "# 100개의 0을 기준으로 표준편차가 0.5 인 정규분포\n",
        "a = np.random.normal(0, 0.5, 1000)\n",
        "\n",
        "plt.plot(a, 'o')\n",
        "plt.show()"
      ],
      "execution_count": null,
      "outputs": []
    },
    {
      "cell_type": "code",
      "metadata": {
        "id": "VHPE4jSE7QBj"
      },
      "source": [
        "# 히스토 그램으로 보기 \n",
        "plt.hist( a, 50)\n",
        "plt.show()"
      ],
      "execution_count": null,
      "outputs": []
    },
    {
      "cell_type": "markdown",
      "metadata": {
        "id": "b-T-hxb87QBn"
      },
      "source": [
        "\n",
        "### random.randint\n",
        "\n",
        "정수 랜덤넘버로 해당배열을 만든다. \n",
        "\n",
        "- rand.randint(최소, 최대, shape) "
      ]
    },
    {
      "cell_type": "code",
      "metadata": {
        "id": "xOBbaAJ47QBo"
      },
      "source": [
        "a = np.random.randint(0, 100, 1000)\n",
        "\n",
        "plt.plot(a, 'o')\n",
        "plt.show()"
      ],
      "execution_count": null,
      "outputs": []
    },
    {
      "cell_type": "code",
      "metadata": {
        "id": "JjVJty2k7QBu"
      },
      "source": [
        "# 히스토 그램으로 보기 \n",
        "plt.hist( a, 50)\n",
        "plt.show()"
      ],
      "execution_count": null,
      "outputs": []
    },
    {
      "cell_type": "code",
      "metadata": {
        "id": "3lU0-JDF7QB4"
      },
      "source": [
        "# 히스토 그램으로 보기 \n",
        "plt.hist( a, 50)\n",
        "plt.show()"
      ],
      "execution_count": null,
      "outputs": []
    },
    {
      "cell_type": "markdown",
      "metadata": {
        "id": "odvBbfDW7QCF"
      },
      "source": [
        "<hr style = \"height:2px\"> \n",
        "\n",
        "# NumPy 배열 다루기\n",
        "\n",
        "## 데이터 재배열\n",
        "\n",
        "reshape 는 데이터의 구조를 바꿔준다. 1차원을 2,3차원으로 바꾸거나 또는 역으로 바꿀 수도 있다. 단 전체 데이터의 숫자는 동일해야한다. \n"
      ]
    },
    {
      "cell_type": "code",
      "metadata": {
        "id": "YsmJYaI17QCG"
      },
      "source": [
        "a = np.random.rand(100) \n",
        "plt.plot(a, 'o')\n",
        "plt.show()"
      ],
      "execution_count": null,
      "outputs": []
    },
    {
      "cell_type": "code",
      "metadata": {
        "id": "YYQ1D80a7QCI"
      },
      "source": [
        "a = np.random.normal(5,3,64)\n",
        "a.reshape(4,4,4)"
      ],
      "execution_count": null,
      "outputs": []
    },
    {
      "cell_type": "code",
      "metadata": {
        "id": "ZUbuC1PC7QCQ"
      },
      "source": [
        "a.reshape(8,8)"
      ],
      "execution_count": null,
      "outputs": []
    },
    {
      "cell_type": "markdown",
      "metadata": {
        "id": "lulFbTaZ7QCZ"
      },
      "source": [
        "### <font color = 'red'> 연습문제 1-2 : 다음과 같은 형태가 출력되도록 고안해보자  </font>\n",
        "\n",
        "점의 숫자는 1000 개로 구성된다. \n",
        "\n",
        "<img src = 'https://raw.githubusercontent.com/decoz/mlclass/master/images/e1_2.png' align = 'left'>"
      ]
    },
    {
      "cell_type": "code",
      "metadata": {
        "id": "teWXim3V7QCZ"
      },
      "source": [
        "# 연습문제 2번을 여기에 풀어보세요"
      ],
      "execution_count": null,
      "outputs": []
    },
    {
      "cell_type": "markdown",
      "metadata": {
        "id": "XZNreRxs7QCe"
      },
      "source": [
        "<hr>\n",
        "\n",
        "## 배열 합치기 , 나누기\n",
        "\n",
        "### 1차원 배열 합치기 \n",
        "\n",
        "np.append 는 두개의 1차원 배열을 합칠 수 있다. \n",
        "\n",
        "- np.append( 배열1, 배열2 ) \n",
        "\n",
        "다차원 배열의 경우 append 는 이를 모두 1차원 배열로 변형하여 합친다. "
      ]
    },
    {
      "cell_type": "code",
      "metadata": {
        "id": "2Zffsdmz7QCi"
      },
      "source": [
        "narr1 = np.array([1,2,3])\n",
        "narr2 = np.array([4,5])\n",
        "print( np.append(narr1, narr2) )"
      ],
      "execution_count": null,
      "outputs": []
    },
    {
      "cell_type": "code",
      "metadata": {
        "id": "HxT3Ny_q7QCp"
      },
      "source": [
        "narr1 = np.array([[1,2],[3,4]])\n",
        "narr2 = np.array([[5,6,7]])\n",
        "print( np.append(narr1, narr2 ) )"
      ],
      "execution_count": null,
      "outputs": []
    },
    {
      "cell_type": "markdown",
      "metadata": {
        "id": "znX92_f-7QCt"
      },
      "source": [
        "### 다차원 배열 합치기 \n",
        "\n",
        "np 는 concatenate 를 이용하여 다차원 배열의 병합이 가능하다. \n",
        "\n",
        "- concatenate( (배열1, 배열2, ..  ) , axis=병합차원 ) \n",
        "\n",
        "axis 는  [[1,2]] 과 [[3,4]] 의 병합시\n",
        "\n",
        "0 일때 [[1,2], [3,4]] 가 되며 \n",
        "\n",
        "1 일때 [[1,2,3,4]] 가 된다. \n"
      ]
    },
    {
      "cell_type": "code",
      "metadata": {
        "id": "GRRPdtt47QCu"
      },
      "source": [
        "# 아래의 예제의 결과를 통해 axis 가 어떻게 영향을 주는지 잘 생각해보자. \n",
        "narr1 = np.array([[1,2],[3,4]])\n",
        "narr2 = np.array([[5,6],[7,8]])\n",
        "print( \"axis = 0 : \\n\", np.concatenate( ( narr1, narr2),  axis=0) )\n",
        "print( \"axis = 1 : \\n\", np.concatenate( ( narr1, narr2),  axis=1) )"
      ],
      "execution_count": null,
      "outputs": []
    },
    {
      "cell_type": "markdown",
      "metadata": {
        "id": "d2O9Vpfy7QCy"
      },
      "source": [
        "편의를 위해 axis = 0 인경우를 대신해 vstack 이라는 함수를 axis = 1 인 경우에는 hstack 이라는 함수를 사용하기도 한다. 하지만 3차원 이상에서는 어차피 concatenate 를 써야 하기 때문에 axis 의 사용법을 익혀두는게 좋다. "
      ]
    },
    {
      "cell_type": "markdown",
      "metadata": {
        "id": "wZB_HGPS7QCz"
      },
      "source": [
        "\n",
        "### 1차원 배열 나누기 \n",
        "\n",
        "배열을 나누는 방법은 다음과 같은 서브슬라이싱을 사용하는 것이다. \n",
        "\n",
        "- 배열이름[시작인덱스:끝인덱스]\n"
      ]
    },
    {
      "cell_type": "code",
      "metadata": {
        "id": "C8YkdeCg7QCz"
      },
      "source": [
        "# 배열 서브슬라이스 사용 예 \n",
        "a = np.array([1,2,3,4,5])\n",
        "print( \"0:3->\", a[0:3] )\n",
        "print( \"1:2->\", a[1:2] )\n",
        "print( \" :4->\", a[:4] )\n",
        "print( \"3: ->\", a[3:] )\n",
        "print( \":-1->\", a[:-1] )"
      ],
      "execution_count": null,
      "outputs": []
    },
    {
      "cell_type": "markdown",
      "metadata": {
        "id": "rxfBh5mH7QC6"
      },
      "source": [
        "정확히는 시작 인덱스값부터 끝 인덱스값의 이전까지가 포함되니 주의하자"
      ]
    },
    {
      "cell_type": "markdown",
      "metadata": {
        "id": "ausxVuau7QC7"
      },
      "source": [
        "\n",
        "### 다차원 배열 나누기 \n",
        "\n",
        "다차원을 나누는 방법도 원리는 간단하다. \n",
        "\n",
        "- 배열이름[y축시작: y축끝,x축시작: x축 끝]\n",
        "\n",
        "<pre>\n",
        "[[ 1, 2, 3, 4],\n",
        " [ 5, 6, 7, 8],\n",
        " [ 9,10,11,11],\n",
        " [12,13,14,15]] \n",
        "\n",
        "인 배열의 a 의 a[0:2,0:2] 는 \n",
        "\n",
        "[[1,2],\n",
        " [5,6]] \n",
        " \n",
        "이 되는 원리이다. "
      ]
    },
    {
      "cell_type": "code",
      "metadata": {
        "id": "zWRDRevC7QC_"
      },
      "source": [
        "# 다차원 배열 서브슬라이스 사용 예 \n",
        "a = np.arange(1,17,1).reshape(4,4)\n",
        "print(a)\n",
        "print(a[1:3,1:3])\n"
      ],
      "execution_count": null,
      "outputs": []
    },
    {
      "cell_type": "markdown",
      "metadata": {
        "id": "VxSX1aio7QDL"
      },
      "source": [
        "### <font color = 'red'> 연습문제 1-3 : 다음과 같이 두개의 군집이 생성되게 고안해보자  </font>\n",
        "\n",
        "각각 1,1 과 3,3 을 중심으로 0.5 의 표준오차를 갖는 군집이며 점의 숫자는 전체 1000 개로 구성된다. \n",
        "\n",
        "<img src = \"https://raw.githubusercontent.com/decoz/mlclass/master/images/e1_3.png\" align = 'left'>"
      ]
    },
    {
      "cell_type": "code",
      "metadata": {
        "id": "EyTtM0Nf7QDL"
      },
      "source": [
        "#연습문제 1-3 을 여기에 작성해보세요\n",
        "\n",
        "\n"
      ],
      "execution_count": null,
      "outputs": []
    },
    {
      "cell_type": "markdown",
      "metadata": {
        "id": "laxLnv7Y7QDb"
      },
      "source": [
        "### <font color = 'red'> 연습문제 1-4 : 다음과 같이 위로 증가하는 군집이 생성되게 고안해보자  </font>\n",
        "\n",
        "500개의 점으로 구성되며 0부터 100까지 증가하는 경향과 함께 10정도의 상하 표준편차를 지닌다. \n",
        "\n",
        "<img src = \"https://github.com/decoz/mlclass/blob/master/images/e1_4.png?raw=true\" align = 'left'>"
      ]
    },
    {
      "cell_type": "code",
      "metadata": {
        "id": "9yIAgO7H7QDc"
      },
      "source": [
        "#연습문제 1-4 을 여기에 작성해보세요\n"
      ],
      "execution_count": null,
      "outputs": []
    },
    {
      "cell_type": "code",
      "metadata": {
        "id": "7NcYKnN47QDq"
      },
      "source": [
        ""
      ],
      "execution_count": null,
      "outputs": []
    },
    {
      "cell_type": "markdown",
      "metadata": {
        "id": "mYKGR7eS7QDu"
      },
      "source": [
        "\n",
        "<hr style=\"height:3px\">\n",
        "\n",
        "# NumPy 연산\n"
      ]
    },
    {
      "cell_type": "markdown",
      "metadata": {
        "id": "aT7ijzF77QDu"
      },
      "source": [
        "<hr>\n",
        "\n",
        "## 기본 수학 연산\n",
        "\n",
        "- np.log : 로그 연산\n",
        "- np.exp : 지수 연산 \n",
        "- np.sqrt : 루트 연산\n",
        "    \n",
        "\n",
        "    \n"
      ]
    },
    {
      "cell_type": "code",
      "metadata": {
        "id": "nVAMq0LP7QDv"
      },
      "source": [
        "# 0 ~ 2π 사이에 100개의 값을 생성\n",
        "arr = np.linspace(0.1,10,100) \n",
        "\n",
        "# sin graph 생성\n",
        "plt.title(\"log\")\n",
        "plt.plot( np.log( arr ) )\n",
        "plt.show()\n",
        "\n",
        "plt.title(\"exp\")\n",
        "plt.plot( np.exp( arr ) )\n",
        "plt.show()\n",
        "\n",
        "plt.title(\"sqrt\")\n",
        "plt.plot( np.sqrt( arr ) )\n",
        "plt.show()\n",
        "\n"
      ],
      "execution_count": null,
      "outputs": []
    },
    {
      "cell_type": "markdown",
      "metadata": {
        "id": "v_JYUU9U7QD0"
      },
      "source": [
        "### <font color = 'red'> 연습문제 1-5 : log 와 랜덤 정규분포를 사용해서 다음과 같은 확산데이터를 생성해보자 </font>\n",
        "\n",
        "점의 숫자는 200 개로 구성된며 log 1 ~ log 10 의 수치를 기반으로 한다. \n",
        "\n",
        "<img src = 'https://github.com/decoz/mlclass/blob/master/images/e1_5.png?raw=true' align = 'left'>"
      ]
    },
    {
      "cell_type": "code",
      "metadata": {
        "id": "3LFqOFW27QD0"
      },
      "source": [
        "# 연습 2-1번 풀기 \n",
        "\n",
        "\n"
      ],
      "execution_count": null,
      "outputs": []
    },
    {
      "cell_type": "markdown",
      "metadata": {
        "id": "cRCFERO07QD4"
      },
      "source": [
        "<hr>\n",
        "\n",
        "## 삼각함수 연산\n",
        "\n",
        "- np.sin : 사인 연산\n",
        "- np.cos : 코사인 연산\n",
        "- np.tan : 탄젠트 연산\n",
        "\n",
        "컴퓨터상에서 삼각함수가 필요하냐고 생각할 수 있지만.. 삼각함수는 어떤 주기성을 가진 데이터를 표현하는 방법으로 널리 사용된다. \n",
        "삼각 함수는 cos, sin, tan 로 이뤄진다. 이때 입력값은 일반적인 360도 수치가 아니라 파이(π = 3.14... ) 를 기준으로 표현된다. \n",
        "물론 이를 위해 직접 3.14... 를 입력할 필요는 없다. np.pi 라는 라이브러리 내장 상수를 이용해 이를 표현할 수 있다. \n",
        "\n",
        "#### 예 : 삼각 함수 그래프 그리기  "
      ]
    },
    {
      "cell_type": "code",
      "metadata": {
        "id": "W0ZgdvqZ7QD5"
      },
      "source": [
        "# 0 ~ 2π 사이에 100개의 값을 생성\n",
        "arr = np.linspace(0,np.pi * 2,100) \n",
        "\n",
        "# sin graph 생성\n",
        "plt.title(\"sin\")\n",
        "plt.plot( np.sin( arr ) )\n",
        "plt.show()\n",
        "\n",
        "plt.title(\"cos\")\n",
        "plt.plot( np.cos( arr ) )\n",
        "plt.show()\n",
        "\n",
        "plt.title(\"tan\")\n",
        "plt.plot( np.tan( arr ) )\n",
        "plt.show()\n",
        "\n"
      ],
      "execution_count": null,
      "outputs": []
    },
    {
      "cell_type": "markdown",
      "metadata": {
        "id": "pJatyhyn7QD_"
      },
      "source": [
        "### <font color = 'red'> 연습 1-6 : sin 을 이용해 다음과 같은 그래프를 그리는 방법을 생각해봅시다. \n",
        "<img src = 'https://github.com/decoz/mlclass/blob/master/images/e1_6.png?raw=true' align = 'left'>"
      ]
    },
    {
      "cell_type": "code",
      "metadata": {
        "id": "_MlaHP9e7QEA"
      },
      "source": [
        "# 연습 2-1 의 코드를 여기에 작성해봅시다. \n"
      ],
      "execution_count": null,
      "outputs": []
    },
    {
      "cell_type": "markdown",
      "metadata": {
        "id": "6OXsOAhl7QEO"
      },
      "source": [
        "\n",
        "<hr style=\"height:3px\">\n",
        "\n",
        "# Numpy 입출력 "
      ]
    },
    {
      "cell_type": "markdown",
      "metadata": {
        "id": "Eu_QoT-27QEP"
      },
      "source": [
        "<hr>\n",
        "\n",
        "## 배열을 파일로 저장\n",
        "\n",
        "\n",
        "배열을 파일로 저장하는 방법은 다음과 같다. \n",
        "\n",
        "- np.save( 경로+파일명, 배열 )\n",
        "\n",
        "이때 파일명에 따로 확장자는 필요 없으며 자동으로 npy 라는 확장자로 저장된다.\n",
        "\n",
        "예를 들어 아래의 예제는 data.npy 라는 파일을 생성한다.  "
      ]
    },
    {
      "cell_type": "code",
      "metadata": {
        "id": "u2uVohj57QEP"
      },
      "source": [
        "svarr = [1,2,3,4,5]\n",
        "np.save(\"data\", arr)"
      ],
      "execution_count": null,
      "outputs": []
    },
    {
      "cell_type": "markdown",
      "metadata": {
        "id": "eNHbNez37QEW"
      },
      "source": [
        "직접 디렉토리에서 확인하면 data.npy 라는 파일을 볼 수 있을 것이다. \n",
        "원격접속으로 작업하는 경우 다음과 타은 코드를 통해 파일리스트틀 확인할 수 있다. \n",
        "\n",
        "다음은 이를 다시 arr 로 불러 들이는 코드이다. 읽을때는 확장자까지 지정해두어야한다. \n"
      ]
    },
    {
      "cell_type": "code",
      "metadata": {
        "id": "cnI3XHTn7QEX"
      },
      "source": [
        "ldarr = np.load(\"data.npy\")\n",
        "print(ldarr)"
      ],
      "execution_count": null,
      "outputs": []
    },
    {
      "cell_type": "markdown",
      "metadata": {
        "id": "agOPvMDa7QEs"
      },
      "source": [
        "직접 디렉토리에서 확인하면 data.npy 라는 파일을 볼 수 있을 것이다. \n",
        "원격접속으로 작업하는 경우 다음과 타은 코드를 통해 파일리스트틀 확인할 수 있다. \n"
      ]
    },
    {
      "cell_type": "code",
      "metadata": {
        "id": "C3p4BduN7QEw"
      },
      "source": [
        "import os\n",
        "os.listdir(\".\")"
      ],
      "execution_count": null,
      "outputs": []
    },
    {
      "cell_type": "markdown",
      "metadata": {
        "id": "5fjBcek_7QE1"
      },
      "source": [
        "<hr>\n",
        "\n",
        "## 여러 배열을 파일로 저장\n",
        "\n",
        "다수의 배열을 저장할 경우 배열마다 이름을 지정하여 저장이 가능하다. 단 이경우에는 압축형식을 사용하는 savez 를 사용하여야 한다. \n",
        "\n",
        "- np.savez( 경로+파일명, 배열이름1=배열1, 배열이름2=배열2, ...  )\n",
        "\n",
        "이때 생성되는 파일은 .npz 라는 확장자를 가지게 된다. \n",
        "\n",
        "만일 x 와 y 라는 두가지 배열을 저장하고 싶을 경우 다음과 같이 저장한다. "
      ]
    },
    {
      "cell_type": "code",
      "metadata": {
        "id": "VrL_7AH17QE2"
      },
      "source": [
        "sx = [1,2,3,4,5]\n",
        "sy = [10,9,8,7,6]\n",
        "np.savez(\"data\", x=sx, y=sy)"
      ],
      "execution_count": null,
      "outputs": []
    },
    {
      "cell_type": "markdown",
      "metadata": {
        "id": "8E3MLTPr7QFE"
      },
      "source": [
        "이제 이것을 다시 읽어들여보자. 이때 데이터는 딕셔너리 형식으로 데이터를 저장하게 된다. 이 경우 각각은 저장했던 이름 x, y를 이용해 각각을 호출할 수 있다.  다음은 위에 저장된 x,y 배열을 읽어서 화면에 도표로 표현한다. "
      ]
    },
    {
      "cell_type": "code",
      "metadata": {
        "id": "25OBYgbM7QFJ"
      },
      "source": [
        "ld = np.load(\"data.npz\")\n",
        "plt.plot(ld[\"x\"], ld[\"y\"], 'o')\n",
        "plt.show()"
      ],
      "execution_count": null,
      "outputs": []
    },
    {
      "cell_type": "markdown",
      "metadata": {
        "id": "kJKxNzEL7QFT"
      },
      "source": [
        "### <font color = 'red'> 연습 1-7: 자신만의 데이터 패턴을 만들어서 저장해보자 \n",
        "\n",
        "위의 연습문제들 처럼 다양한 형태의 데이터 패턴을 도식화시킬 수 있다. 이제 직접 자신만의 데이터를 생성해서 저장해보자.\n",
        "\n",
        "하지만 현재 폴더에 다수의 인원이 데이터파일을 저장하는 것은 지저분해지니 다음과 같이 data 라는 디렉토리를 만들도록 하겠다. \n",
        "\n"
      ]
    },
    {
      "cell_type": "code",
      "metadata": {
        "id": "SmDf940X7QFU"
      },
      "source": [
        "# data 라는 디렉토리가 없으면 data 디렉토리를 만드는 코드\n",
        "import os \n",
        "\n",
        "if not os.path.exists(\"data\") :\n",
        "    os.makedirs(\"data\")  \n"
      ],
      "execution_count": null,
      "outputs": []
    },
    {
      "cell_type": "markdown",
      "metadata": {
        "id": "-hLdcT237QFZ"
      },
      "source": [
        "이제 생성된 밑에 저장을 하는데 규칙은 다음과 같다. \n",
        "\n",
        "- 파일명은 \"data/학번\" 으로 저장한다. (당연히 savez로 저장) \n",
        "- 데이터의 x축,y축의 이름은 위의 예제처럼 'x', 'y' 로 통일한다. "
      ]
    },
    {
      "cell_type": "markdown",
      "metadata": {
        "id": "L0B-ZNyO7QFa"
      },
      "source": [
        "이제 10개의 정규분포난수를 저장하고 그것을 다시 읽어들이는 코드를 작성해보도록 하겠다."
      ]
    }
  ]
}