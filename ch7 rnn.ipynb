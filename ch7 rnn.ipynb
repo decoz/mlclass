{
 "cells": [
  {
   "cell_type": "markdown",
   "metadata": {
    "colab_type": "text",
    "id": "MCst6NYVkZY6"
   },
   "source": [
    "<hr style = \"height:2px\">\n",
    "\n",
    "# **RNN** \n",
    "\n",
    "rnn 이란 매번 입력값을 독립적으로 처리하는 일반 신경망과 달리 데이터의 시간적인 순서를 고려하여 학습하기 위해 개발되었다.\n",
    "\n",
    "\n",
    "## RNN 전파과정\n",
    "\n",
    "\n",
    "이것은 '이전의 결과가 그 후의 학습에 영향을 미친다' 라는 발상으로부터 시간적으로 보면 다음과 같은 연산과정을 거친다. \n",
    "\n",
    "![대체 텍스트](https://drive.google.com/uc?id=1fe-oK42UPdEW5AJ1Rqt1kXTFsZXCw2v3)\n",
    "\n",
    "실제로는 어떤 레이어의 출력이 다시 다음 입력과 함께 입력되므로 인해 일종의 재귀 순환 구조를 거침으로서 Recurrent Neural Network 라고 표현한다.  이를 간단한 슈도코드로 작성해 보면 다음과 같은 연산과정을 거친다. \n",
    "\n"
   ]
  },
  {
   "cell_type": "code",
   "execution_count": 9,
   "metadata": {
    "colab": {
     "base_uri": "https://localhost:8080/",
     "height": 143
    },
    "colab_type": "code",
    "executionInfo": {
     "elapsed": 1060,
     "status": "ok",
     "timestamp": 1574820656917,
     "user": {
      "displayName": "곽주현",
      "photoUrl": "https://lh3.googleusercontent.com/a-/AAuE7mDKADRkjAue22jQZ0tbpT8CTigoe6Q2x8tAwiX_vw=s64",
      "userId": "06858660176960210174"
     },
     "user_tz": -540
    },
    "id": "xzSJFrFJdRq4",
    "outputId": "30a327ba-fcef-457c-c785-53d9e485de95"
   },
   "outputs": [
    {
     "name": "stdout",
     "output_type": "stream",
     "text": [
      "[[0.35185863 0.83626421 0.44259982 0.38113122]\n",
      " [0.80377753 0.81763545 0.86327594 0.06880811]] \n",
      "\n",
      " [[0.43777808 0.93140559]\n",
      " [0.95458857 0.66124088]] \n",
      "\n",
      " [0.10615505 0.58537292]\n"
     ]
    }
   ],
   "source": [
    "import numpy as np\n",
    "output_features, input_features = 2,4 \n",
    "inputs, outputs = [[0,1,1,1],[1,1,0,0]], []\n",
    "state_t = [0,0]\n",
    "\n",
    "W = np.random.random((output_features, input_features))\n",
    "U = np.random.random((output_features, output_features))\n",
    "b = np.random.random((output_features,))\n",
    "print(W, \"\\n\\n\", U, \"\\n\\n\", b )"
   ]
  },
  {
   "cell_type": "code",
   "execution_count": 10,
   "metadata": {
    "colab": {
     "base_uri": "https://localhost:8080/",
     "height": 269
    },
    "colab_type": "code",
    "executionInfo": {
     "elapsed": 1039,
     "status": "ok",
     "timestamp": 1574820660983,
     "user": {
      "displayName": "곽주현",
      "photoUrl": "https://lh3.googleusercontent.com/a-/AAuE7mDKADRkjAue22jQZ0tbpT8CTigoe6Q2x8tAwiX_vw=s64",
      "userId": "06858660176960210174"
     },
     "user_tz": -540
    },
    "id": "Cx7yX37Fd2ma",
    "outputId": "15794097-9fc3-4864-f485-320832d8d683"
   },
   "outputs": [
    {
     "name": "stdout",
     "output_type": "stream",
     "text": [
      "iw:\n",
      " [1.65999525 1.7497195 ] \n",
      "us:\n",
      " [0. 0.] \n",
      "out_t:\n",
      " [0.94318596 0.98143291] \n",
      "\n",
      "iw:\n",
      " [1.18812284 1.62141297] \n",
      "us:\n",
      " [1.32701823 1.54931809] \n",
      "out_t:\n",
      " [0.98948253 0.99890785] \n",
      "\n"
     ]
    }
   ],
   "source": [
    "\n",
    "for input_t in inputs : \n",
    "  iw = np.dot(W, input_t)\n",
    "  us = np.dot(U, state_t)\n",
    "  \n",
    "  out_t = np.tanh( iw + us + b)\n",
    "  print(\"iw:\\n\",iw,\"\\nus:\\n\",us, \"\\nout_t:\\n\", out_t, \"\\n\")\n",
    "\n",
    "  outputs.append(out_t)\n",
    "  state_t = out_t\n"
   ]
  },
  {
   "cell_type": "code",
   "execution_count": 0,
   "metadata": {
    "colab": {
     "base_uri": "https://localhost:8080/",
     "height": 71
    },
    "colab_type": "code",
    "executionInfo": {
     "elapsed": 1365,
     "status": "ok",
     "timestamp": 1574690825863,
     "user": {
      "displayName": "곽주현",
      "photoUrl": "https://lh3.googleusercontent.com/a-/AAuE7mDKADRkjAue22jQZ0tbpT8CTigoe6Q2x8tAwiX_vw=s64",
      "userId": "06858660176960210174"
     },
     "user_tz": -540
    },
    "id": "5bYVl4ZDgZxP",
    "outputId": "ebb386e4-5eab-4a5e-d071-a882234fe808"
   },
   "outputs": [
    {
     "name": "stdout",
     "output_type": "stream",
     "text": [
      "[[0.73010601 0.74151561]\n",
      " [0.93388332 0.9678555 ]\n",
      " [0.97612968 0.99548766]]\n"
     ]
    }
   ],
   "source": [
    "final = np.stack(outputs, axis=0)\n",
    "print(final)"
   ]
  },
  {
   "cell_type": "markdown",
   "metadata": {
    "colab_type": "text",
    "id": "NBjlUcpsRGp8"
   },
   "source": [
    "## RNN 피드백\n",
    "\n",
    "### BPTT\n",
    "\n",
    "RNN의 피드백 과정은 그 원리는 일반 신경망과 유사하지만 모든 과정상에서 책임을 묻기 위해서 시간을 거슬러 지속적으로 이뤄진다. 이는 첫 입력 데이터는 한번의 피드백이 발생하지만 2번째 데이터는 2번, 3번째 데이터에 대해서는 3번.. 이런식으로 지속적으로 피드백 과정이 증가한다.  이를 Backpropagation Through Time (BPTT) 라고 명명한다. \n",
    "\n",
    "![대체 텍스트](https://img1.daumcdn.net/thumb/R1280x0/?scode=mtistory2&fname=http%3A%2F%2Fcfile23.uf.tistory.com%2Fimage%2F99DB59465BD2ACC420D345)\n",
    "\n",
    "\n",
    "\n",
    "\n",
    "### Truncated BPTT\n",
    "\n",
    "BPTT 는 연속적인 입력값이 매우 거대할 경우 그 피드백과정이 기하급수적으로 증가하기 때문에 한계를 갖고 있었다. 그래서 절충으로 과거의 n 단계까지만 피드백을 수행하는 방법이 나왔는데 이를 Truncated BPTT 라고 칭하며 실제로는 이 경우를 더 자주 사용한다.  다음의 그림은 2단계까지만 피드백을 지속하는 Truncated BPTT 의 예이다. \n",
    "\n",
    "![대체 텍스트](https://img1.daumcdn.net/thumb/R1280x0/?scode=mtistory2&fname=http%3A%2F%2Fcfile9.uf.tistory.com%2Fimage%2F99C0F9475BD2ACDB23A93B)"
   ]
  },
  {
   "cell_type": "markdown",
   "metadata": {
    "colab_type": "text",
    "id": "U6vZzoJpS0BS"
   },
   "source": [
    "## RNN in Keras\n",
    "\n",
    "RNN 이라고 해도 그 출력이 다음 학습에 입력으로 영향을 미친다는 것을 제외하면 일반적인 Dense 레이어와 크게 다르지 안다. 그러므로 케라스에서 이를 사용하는 것도 Dense layer 와 유사하게 사용된다. "
   ]
  },
  {
   "cell_type": "code",
   "execution_count": 17,
   "metadata": {
    "colab": {
     "base_uri": "https://localhost:8080/",
     "height": 233
    },
    "colab_type": "code",
    "executionInfo": {
     "elapsed": 1020,
     "status": "ok",
     "timestamp": 1574821491593,
     "user": {
      "displayName": "곽주현",
      "photoUrl": "https://lh3.googleusercontent.com/a-/AAuE7mDKADRkjAue22jQZ0tbpT8CTigoe6Q2x8tAwiX_vw=s64",
      "userId": "06858660176960210174"
     },
     "user_tz": -540
    },
    "id": "d1O8q4HshE0I",
    "outputId": "0557f019-66f3-4e33-df31-f2f6ea53d2ca"
   },
   "outputs": [
    {
     "name": "stdout",
     "output_type": "stream",
     "text": [
      "Model: \"sequential_6\"\n",
      "_________________________________________________________________\n",
      "Layer (type)                 Output Shape              Param #   \n",
      "=================================================================\n",
      "simple_rnn_6 (SimpleRNN)     (None, 2)                 8         \n",
      "_________________________________________________________________\n",
      "dense_3 (Dense)              (None, 1)                 3         \n",
      "=================================================================\n",
      "Total params: 11\n",
      "Trainable params: 11\n",
      "Non-trainable params: 0\n",
      "_________________________________________________________________\n"
     ]
    }
   ],
   "source": [
    "from keras.models import Sequential\n",
    "from keras.layers import Dense, SimpleRNN\n",
    "\n",
    "model = Sequential()\n",
    "model.add(SimpleRNN(2, input_shape = (1,1)))\n",
    "model.add(Dense(1, activation = \"linear\"))\n",
    "model.summary()\n"
   ]
  },
  {
   "cell_type": "markdown",
   "metadata": {
    "colab_type": "text",
    "id": "g7hdwgLRS8eI"
   },
   "source": [
    "## RNN 으로 시계열 예측 예제\n",
    "\n",
    "이제 가장 기초적인 RNN 하나를 작성해보도록 하자.  시계열 데이터를 위해서 회귀 분석에서 사용하던 간단한 그래프 하나를 사용하도록 하겠다.\n",
    "\n",
    "RNN의 입력은 기본적으로 2차원 구조로 지원된다. 그러므로 아무리 간단한 1차원 입력이라도 (1,1) 형태가 되어야 하며 이들의 연속입력은 (n,1,1) 구조가 되어야 한다. "
   ]
  },
  {
   "cell_type": "code",
   "execution_count": 3,
   "metadata": {
    "colab": {
     "base_uri": "https://localhost:8080/",
     "height": 301
    },
    "colab_type": "code",
    "executionInfo": {
     "elapsed": 1080,
     "status": "ok",
     "timestamp": 1574821747624,
     "user": {
      "displayName": "곽주현",
      "photoUrl": "https://lh3.googleusercontent.com/a-/AAuE7mDKADRkjAue22jQZ0tbpT8CTigoe6Q2x8tAwiX_vw=s64",
      "userId": "06858660176960210174"
     },
     "user_tz": -540
    },
    "id": "VSxFUZPtTFFi",
    "outputId": "e3f5ad06-8382-4a97-81bf-a77e3cfa85fe"
   },
   "outputs": [
    {
     "name": "stdout",
     "output_type": "stream",
     "text": [
      "(99, 1, 1) (99,)\n",
      "[0.13628121] [0.71925682 0.99496469 1.59120261 2.06692125 2.59833753]\n"
     ]
    }
   ],
   "source": [
    "import numpy as np \n",
    "import matplotlib.pyplot as plt \n",
    "\n",
    "n = 100\n",
    "x = np.linspace(0, np.pi * 4 ,  n) \n",
    "y = np.sin(x) * 3 + x + np.random.normal(0,0.2,n)\n",
    "\n",
    "plt.plot(x,y,'.')\n",
    "\n",
    "x = y[ :99, np.newaxis, np.newaxis]\n",
    "y = y[1:]\n",
    "print(x.shape, y.shape)\n",
    "print( x[0][0][:5], y[:5])"
   ]
  },
  {
   "cell_type": "markdown",
   "metadata": {
    "colab_type": "text",
    "id": "LxqpQCL9rjwj"
   },
   "source": [
    "모델은 가장 원시적인 형태의 노드 1개짜리 RNN 으로 구성해 보았다. 이를 900회 반복시행하면 다음과 같은 결과가 나온다. "
   ]
  },
  {
   "cell_type": "code",
   "execution_count": 4,
   "metadata": {
    "colab": {
     "base_uri": "https://localhost:8080/",
     "height": 341
    },
    "colab_type": "code",
    "executionInfo": {
     "elapsed": 1005,
     "status": "ok",
     "timestamp": 1574821735104,
     "user": {
      "displayName": "곽주현",
      "photoUrl": "https://lh3.googleusercontent.com/a-/AAuE7mDKADRkjAue22jQZ0tbpT8CTigoe6Q2x8tAwiX_vw=s64",
      "userId": "06858660176960210174"
     },
     "user_tz": -540
    },
    "id": "aOSWtVbRUAQI",
    "outputId": "7c0a6bb6-379c-42fb-969e-03ef80e6c374"
   },
   "outputs": [
    {
     "name": "stdout",
     "output_type": "stream",
     "text": [
      "_________________________________________________________________\n",
      "Layer (type)                 Output Shape              Param #   \n",
      "=================================================================\n",
      "simple_rnn_1 (SimpleRNN)     (None, 3)                 15        \n",
      "_________________________________________________________________\n",
      "dense_1 (Dense)              (None, 1)                 4         \n",
      "=================================================================\n",
      "Total params: 19\n",
      "Trainable params: 19\n",
      "Non-trainable params: 0\n",
      "_________________________________________________________________\n"
     ]
    }
   ],
   "source": [
    "import keras\n",
    "from keras.models import Sequential\n",
    "from keras.layers import  SimpleRNN, Dense\n",
    "keras.backend.clear_session()\n",
    "model = Sequential()\n",
    "model.add(SimpleRNN(3, input_shape = (1,1)))\n",
    "model.add(Dense(1, activation=\"linear\"))\n",
    "model.compile(loss='mse', optimizer='sgd')\n",
    "model.summary()\n"
   ]
  },
  {
   "cell_type": "code",
   "execution_count": 7,
   "metadata": {
    "colab": {
     "base_uri": "https://localhost:8080/",
     "height": 1000
    },
    "colab_type": "code",
    "executionInfo": {
     "elapsed": 9872,
     "status": "ok",
     "timestamp": 1574821762567,
     "user": {
      "displayName": "곽주현",
      "photoUrl": "https://lh3.googleusercontent.com/a-/AAuE7mDKADRkjAue22jQZ0tbpT8CTigoe6Q2x8tAwiX_vw=s64",
      "userId": "06858660176960210174"
     },
     "user_tz": -540
    },
    "id": "HNBmz4pGcwDy",
    "outputId": "6e8d0cea-bf76-4c27-d030-82a1adb5c870"
   },
   "outputs": [
    {
     "name": "stdout",
     "output_type": "stream",
     "text": [
      "Epoch 1/30\n",
      "30/30 [==============================] - 0s 3ms/step - loss: 0.5272\n",
      "Epoch 2/30\n",
      "30/30 [==============================] - 0s 4ms/step - loss: 0.5392\n",
      "Epoch 3/30\n",
      "30/30 [==============================] - 0s 5ms/step - loss: 0.5220\n",
      "Epoch 4/30\n",
      "30/30 [==============================] - 0s 4ms/step - loss: 0.5341\n",
      "Epoch 5/30\n",
      "30/30 [==============================] - 0s 4ms/step - loss: 0.5171\n",
      "Epoch 6/30\n",
      "30/30 [==============================] - 0s 5ms/step - loss: 0.5293\n",
      "Epoch 7/30\n",
      "30/30 [==============================] - 0s 4ms/step - loss: 0.5126\n",
      "Epoch 8/30\n",
      "30/30 [==============================] - 0s 4ms/step - loss: 0.5248\n",
      "Epoch 9/30\n",
      "30/30 [==============================] - 0s 5ms/step - loss: 0.5084\n",
      "Epoch 10/30\n",
      "30/30 [==============================] - 0s 4ms/step - loss: 0.5204\n",
      "Epoch 11/30\n",
      "30/30 [==============================] - 0s 4ms/step - loss: 0.5044\n",
      "Epoch 12/30\n",
      "30/30 [==============================] - 0s 4ms/step - loss: 0.5163\n",
      "Epoch 13/30\n",
      "30/30 [==============================] - 0s 8ms/step - loss: 0.5007\n",
      "Epoch 14/30\n",
      "30/30 [==============================] - 0s 7ms/step - loss: 0.5123\n",
      "Epoch 15/30\n",
      "30/30 [==============================] - 0s 7ms/step - loss: 0.4972\n",
      "Epoch 16/30\n",
      "30/30 [==============================] - 0s 6ms/step - loss: 0.5085\n",
      "Epoch 17/30\n",
      "30/30 [==============================] - 0s 5ms/step - loss: 0.4938\n",
      "Epoch 18/30\n",
      "30/30 [==============================] - 0s 6ms/step - loss: 0.5048\n",
      "Epoch 19/30\n",
      "30/30 [==============================] - 0s 5ms/step - loss: 0.4906\n",
      "Epoch 20/30\n",
      "30/30 [==============================] - 0s 5ms/step - loss: 0.5012\n",
      "Epoch 21/30\n",
      "30/30 [==============================] - 0s 6ms/step - loss: 0.4876\n",
      "Epoch 22/30\n",
      "30/30 [==============================] - 0s 6ms/step - loss: 0.4978\n",
      "Epoch 23/30\n",
      "30/30 [==============================] - 0s 7ms/step - loss: 0.4848\n",
      "Epoch 24/30\n",
      "30/30 [==============================] - 0s 4ms/step - loss: 0.4944\n",
      "Epoch 25/30\n",
      "30/30 [==============================] - 0s 5ms/step - loss: 0.4821\n",
      "Epoch 26/30\n",
      "30/30 [==============================] - 0s 4ms/step - loss: 0.4911\n",
      "Epoch 27/30\n",
      "30/30 [==============================] - 0s 5ms/step - loss: 0.4796\n",
      "Epoch 28/30\n",
      "30/30 [==============================] - 0s 5ms/step - loss: 0.4879\n",
      "Epoch 29/30\n",
      "30/30 [==============================] - 0s 5ms/step - loss: 0.4772\n",
      "Epoch 30/30\n",
      "30/30 [==============================] - 0s 5ms/step - loss: 0.4848\n"
     ]
    }
   ],
   "source": [
    "history = model.fit(x, y, steps_per_epoch = 30, epochs = 30).history"
   ]
  },
  {
   "cell_type": "code",
   "execution_count": 8,
   "metadata": {
    "colab": {
     "base_uri": "https://localhost:8080/",
     "height": 281
    },
    "colab_type": "code",
    "executionInfo": {
     "elapsed": 1021,
     "status": "ok",
     "timestamp": 1574821766133,
     "user": {
      "displayName": "곽주현",
      "photoUrl": "https://lh3.googleusercontent.com/a-/AAuE7mDKADRkjAue22jQZ0tbpT8CTigoe6Q2x8tAwiX_vw=s64",
      "userId": "06858660176960210174"
     },
     "user_tz": -540
    },
    "id": "aeSZqX6MfOT3",
    "outputId": "795f4f75-ed59-4c97-bb09-0d72dc2a9b47"
   },
   "outputs": [
    {
     "data": {
      "image/png": "[encoded data removed]",
      "text/plain": [
       "<Figure size 432x288 with 1 Axes>"
      ]
     },
     "metadata": {
      "needs_background": "light"
     },
     "output_type": "display_data"
    }
   ],
   "source": [
    "plt.plot(history[\"loss\"])\n",
    "plt.title(\"Loss\")\n",
    "plt.show()"
   ]
  },
  {
   "cell_type": "code",
   "execution_count": 24,
   "metadata": {
    "colab": {
     "base_uri": "https://localhost:8080/",
     "height": 265
    },
    "colab_type": "code",
    "executionInfo": {
     "elapsed": 1101,
     "status": "ok",
     "timestamp": 1574821796618,
     "user": {
      "displayName": "곽주현",
      "photoUrl": "https://lh3.googleusercontent.com/a-/AAuE7mDKADRkjAue22jQZ0tbpT8CTigoe6Q2x8tAwiX_vw=s64",
      "userId": "06858660176960210174"
     },
     "user_tz": -540
    },
    "id": "qNREMb16kJVa",
    "outputId": "a500a487-577f-4898-aad3-6aef1f6ff9fe"
   },
   "outputs": [
    {
     "data": {
      "image/png": "[encoded data removed]",
      "text/plain": [
       "<Figure size 432x288 with 1 Axes>"
      ]
     },
     "metadata": {
      "tags": []
     },
     "output_type": "display_data"
    }
   ],
   "source": [
    "plt.plot(model.predict(x),'.')\n",
    "plt.plot(y,'.')\n",
    "plt.show()"
   ]
  },
  {
   "cell_type": "markdown",
   "metadata": {
    "colab_type": "text",
    "id": "kmU8oWBpsl_P"
   },
   "source": [
    "### <font color = 'red'> 연습문제 7-1 : RNN 조작해보기\n",
    "\n",
    "위의 예제는 학습시 로스의 수렴값이나 출력 그래프를 보면 입력데이터의 예측오차가 좀 발생하고 있음을 알 수 있다. 위의 네트워크를 조작해서 정확도를 높이는 방법이 있는지 찾아보자"
   ]
  },
  {
   "cell_type": "markdown",
   "metadata": {
    "colab_type": "text",
    "id": "leEWES-Dyc6q"
   },
   "source": [
    "<hr style=\"height:2px\" >\n",
    "\n",
    "# LSTM \n",
    "\n",
    "RNN의 문제는 바로 직전의 출력값에 대한 의존이 너무 크다라는 점이다.  데이터의 경우에 따라서는 n세대 이전의 입력이 결정적인 역할을 할 수 있음에도 불구하고 n번의 state 변화과정을 거치면서 초기 입력의 영향에 대한 평가가 거의 희석되어버리기 때문에 복잡한 패턴의 시계열 데이터에는 좋은 성능을 내지 못했다. 이 문제를 해결하기 위해 나온 것이 LSTM이다. \n",
    "\n",
    "이는 마치 사람이 단기, 장기기억을 갖고 있듯이 상태도 장기, 단기 상태로 나누어 처리한다. RNN이 단기기억만을 사용한다고 가정하면 LSTM은 장기기억을 담당하는 cell_state 라는 또하나의 노드군을 유지함으로서 시간이 좀 지난 데이터라도 그것의 영향이 크다면 이를 cell_state 에 포함시켜 오랜시간 입력되도록 유지한다. \n",
    "\n",
    "RNN과 CNN의 작동방식의 차이를 다음 그림을 통해 한번 이해해보자. \n",
    "\n",
    "**RNN**\n",
    "![출처:https://dgkim5360.tistory.com/entry/understanding-long-short-term-memory-lstm-kr](https://img1.daumcdn.net/thumb/R1280x0/?scode=mtistory2&fname=http%3A%2F%2Fcfile5.uf.tistory.com%2Fimage%2F99893B375ACB86A035DE41)\n",
    "\n",
    "<br>\n",
    "<br>\n",
    "\n",
    "**LSTM**\n",
    "![대체 텍스트](https://img1.daumcdn.net/thumb/R1280x0/?scode=mtistory2&fname=http%3A%2F%2Fcfile30.uf.tistory.com%2Fimage%2F999F603E5ACB86A00550F0)\n",
    "\n",
    "\n",
    "LSTM은 구조가 좀 복잡하지만 그 원리상으로는 RNN의 확장개념이기 때문에 RNN을 사용하는 대부분의 레이어를 바로 대체 가능하다. 문제의 복잡도에 따라서 LSTM과 RNN을 잘 혼용하는 경우도 있다. "
   ]
  },
  {
   "cell_type": "markdown",
   "metadata": {
    "colab_type": "text",
    "id": "QHAxjez-UBoh"
   },
   "source": [
    "<br><br>\n",
    "\n",
    "<hr style=\"height:2px\" >\n",
    "\n",
    "\n",
    "## RNN 으로 IMDB 리뷰 문제 적용\n",
    "\n",
    "다음은 좀 다른 실용적인 적용사례를 살펴보기로 하겠다.  이전에 한번 다뤘던 IMDB 의 리뷰 데이터를 이번엔 RNN을 사용해 처리해보도록 한다. "
   ]
  },
  {
   "cell_type": "code",
   "execution_count": 13,
   "metadata": {
    "colab": {
     "base_uri": "https://localhost:8080/",
     "height": 109
    },
    "colab_type": "code",
    "executionInfo": {
     "elapsed": 6025,
     "status": "ok",
     "timestamp": 1574822325223,
     "user": {
      "displayName": "곽주현",
      "photoUrl": "https://lh3.googleusercontent.com/a-/AAuE7mDKADRkjAue22jQZ0tbpT8CTigoe6Q2x8tAwiX_vw=s64",
      "userId": "06858660176960210174"
     },
     "user_tz": -540
    },
    "id": "PYYWBkOyonCS",
    "outputId": "32b3a2c7-1332-4cea-8fd4-f7d87c77c858"
   },
   "outputs": [
    {
     "name": "stdout",
     "output_type": "stream",
     "text": [
      "데이터 로딩...\n"
     ]
    },
    {
     "ename": "TypeError",
     "evalue": "<lambda>() got multiple values for keyword argument 'allow_pickle'",
     "output_type": "error",
     "traceback": [
      "\u001b[0;31m---------------------------------------------------------------------------\u001b[0m",
      "\u001b[0;31mTypeError\u001b[0m                                 Traceback (most recent call last)",
      "\u001b[0;32m<ipython-input-13-9c93694cd40f>\u001b[0m in \u001b[0;36m<module>\u001b[0;34m\u001b[0m\n\u001b[1;32m     13\u001b[0m \u001b[0mprint\u001b[0m\u001b[0;34m(\u001b[0m\u001b[0;34m'데이터 로딩...'\u001b[0m\u001b[0;34m)\u001b[0m\u001b[0;34m\u001b[0m\u001b[0m\n\u001b[1;32m     14\u001b[0m \u001b[0;34m\u001b[0m\u001b[0m\n\u001b[0;32m---> 15\u001b[0;31m \u001b[0;34m(\u001b[0m\u001b[0mtr_x\u001b[0m\u001b[0;34m,\u001b[0m \u001b[0mtr_y\u001b[0m\u001b[0;34m)\u001b[0m\u001b[0;34m,\u001b[0m \u001b[0;34m(\u001b[0m\u001b[0mtt_x\u001b[0m\u001b[0;34m,\u001b[0m \u001b[0mtty\u001b[0m \u001b[0;34m)\u001b[0m \u001b[0;34m=\u001b[0m \u001b[0mimdb\u001b[0m\u001b[0;34m.\u001b[0m\u001b[0mload_data\u001b[0m\u001b[0;34m(\u001b[0m\u001b[0mnum_words\u001b[0m \u001b[0;34m=\u001b[0m \u001b[0mmax_words\u001b[0m\u001b[0;34m)\u001b[0m\u001b[0;34m\u001b[0m\u001b[0m\n\u001b[0m\u001b[1;32m     16\u001b[0m \u001b[0mprint\u001b[0m\u001b[0;34m(\u001b[0m\u001b[0mlen\u001b[0m\u001b[0;34m(\u001b[0m\u001b[0mtr_x\u001b[0m\u001b[0;34m)\u001b[0m\u001b[0;34m,\u001b[0m \u001b[0;34m'training data'\u001b[0m\u001b[0;34m)\u001b[0m\u001b[0;34m\u001b[0m\u001b[0m\n\u001b[1;32m     17\u001b[0m \u001b[0mprint\u001b[0m\u001b[0;34m(\u001b[0m\u001b[0mlen\u001b[0m\u001b[0;34m(\u001b[0m\u001b[0mtt_x\u001b[0m\u001b[0;34m)\u001b[0m\u001b[0;34m,\u001b[0m \u001b[0;34m'test data'\u001b[0m\u001b[0;34m)\u001b[0m\u001b[0;34m\u001b[0m\u001b[0m\n",
      "\u001b[0;32m/usr/local/lib/python3.5/dist-packages/keras/datasets/imdb.py\u001b[0m in \u001b[0;36mload_data\u001b[0;34m(path, num_words, skip_top, maxlen, seed, start_char, oov_char, index_from, **kwargs)\u001b[0m\n\u001b[1;32m     56\u001b[0m                     \u001b[0morigin\u001b[0m\u001b[0;34m=\u001b[0m\u001b[0;34m'https://s3.amazonaws.com/text-datasets/imdb.npz'\u001b[0m\u001b[0;34m,\u001b[0m\u001b[0;34m\u001b[0m\u001b[0m\n\u001b[1;32m     57\u001b[0m                     file_hash='599dadb1135973df5b59232a0e9a887c')\n\u001b[0;32m---> 58\u001b[0;31m     \u001b[0;32mwith\u001b[0m \u001b[0mnp\u001b[0m\u001b[0;34m.\u001b[0m\u001b[0mload\u001b[0m\u001b[0;34m(\u001b[0m\u001b[0mpath\u001b[0m\u001b[0;34m)\u001b[0m \u001b[0;32mas\u001b[0m \u001b[0mf\u001b[0m\u001b[0;34m:\u001b[0m\u001b[0;34m\u001b[0m\u001b[0m\n\u001b[0m\u001b[1;32m     59\u001b[0m         \u001b[0mx_train\u001b[0m\u001b[0;34m,\u001b[0m \u001b[0mlabels_train\u001b[0m \u001b[0;34m=\u001b[0m \u001b[0mf\u001b[0m\u001b[0;34m[\u001b[0m\u001b[0;34m'x_train'\u001b[0m\u001b[0;34m]\u001b[0m\u001b[0;34m,\u001b[0m \u001b[0mf\u001b[0m\u001b[0;34m[\u001b[0m\u001b[0;34m'y_train'\u001b[0m\u001b[0;34m]\u001b[0m\u001b[0;34m\u001b[0m\u001b[0m\n\u001b[1;32m     60\u001b[0m         \u001b[0mx_test\u001b[0m\u001b[0;34m,\u001b[0m \u001b[0mlabels_test\u001b[0m \u001b[0;34m=\u001b[0m \u001b[0mf\u001b[0m\u001b[0;34m[\u001b[0m\u001b[0;34m'x_test'\u001b[0m\u001b[0;34m]\u001b[0m\u001b[0;34m,\u001b[0m \u001b[0mf\u001b[0m\u001b[0;34m[\u001b[0m\u001b[0;34m'y_test'\u001b[0m\u001b[0;34m]\u001b[0m\u001b[0;34m\u001b[0m\u001b[0m\n",
      "\u001b[0;32m<ipython-input-13-9c93694cd40f>\u001b[0m in \u001b[0;36m<lambda>\u001b[0;34m(*a, **k)\u001b[0m\n\u001b[1;32m      5\u001b[0m \u001b[0;34m\u001b[0m\u001b[0m\n\u001b[1;32m      6\u001b[0m \u001b[0;31m# modify the default parameters of np.load\u001b[0m\u001b[0;34m\u001b[0m\u001b[0;34m\u001b[0m\u001b[0m\n\u001b[0;32m----> 7\u001b[0;31m \u001b[0mnp\u001b[0m\u001b[0;34m.\u001b[0m\u001b[0mload\u001b[0m \u001b[0;34m=\u001b[0m \u001b[0;32mlambda\u001b[0m \u001b[0;34m*\u001b[0m\u001b[0ma\u001b[0m\u001b[0;34m,\u001b[0m\u001b[0;34m**\u001b[0m\u001b[0mk\u001b[0m\u001b[0;34m:\u001b[0m \u001b[0mnp_load_old\u001b[0m\u001b[0;34m(\u001b[0m\u001b[0;34m*\u001b[0m\u001b[0ma\u001b[0m\u001b[0;34m,\u001b[0m \u001b[0mallow_pickle\u001b[0m\u001b[0;34m=\u001b[0m\u001b[0;32mTrue\u001b[0m\u001b[0;34m,\u001b[0m \u001b[0;34m**\u001b[0m\u001b[0mk\u001b[0m\u001b[0;34m)\u001b[0m\u001b[0;34m\u001b[0m\u001b[0m\n\u001b[0m\u001b[1;32m      8\u001b[0m \u001b[0;34m\u001b[0m\u001b[0m\n\u001b[1;32m      9\u001b[0m \u001b[0mmax_words\u001b[0m \u001b[0;34m=\u001b[0m \u001b[0;36m10000\u001b[0m\u001b[0;34m\u001b[0m\u001b[0m\n",
      "\u001b[0;32m<ipython-input-12-0b459a95c5fc>\u001b[0m in \u001b[0;36m<lambda>\u001b[0;34m(*a, **k)\u001b[0m\n\u001b[1;32m      5\u001b[0m \u001b[0;34m\u001b[0m\u001b[0m\n\u001b[1;32m      6\u001b[0m \u001b[0;31m# modify the default parameters of np.load\u001b[0m\u001b[0;34m\u001b[0m\u001b[0;34m\u001b[0m\u001b[0m\n\u001b[0;32m----> 7\u001b[0;31m \u001b[0mnp\u001b[0m\u001b[0;34m.\u001b[0m\u001b[0mload\u001b[0m \u001b[0;34m=\u001b[0m \u001b[0;32mlambda\u001b[0m \u001b[0;34m*\u001b[0m\u001b[0ma\u001b[0m\u001b[0;34m,\u001b[0m\u001b[0;34m**\u001b[0m\u001b[0mk\u001b[0m\u001b[0;34m:\u001b[0m \u001b[0mnp_load_old\u001b[0m\u001b[0;34m(\u001b[0m\u001b[0;34m*\u001b[0m\u001b[0ma\u001b[0m\u001b[0;34m,\u001b[0m \u001b[0mallow_pickle\u001b[0m\u001b[0;34m=\u001b[0m\u001b[0;32mFalse\u001b[0m\u001b[0;34m,\u001b[0m \u001b[0;34m**\u001b[0m\u001b[0mk\u001b[0m\u001b[0;34m)\u001b[0m\u001b[0;34m\u001b[0m\u001b[0m\n\u001b[0m\u001b[1;32m      8\u001b[0m \u001b[0;34m\u001b[0m\u001b[0m\n\u001b[1;32m      9\u001b[0m \u001b[0mmax_words\u001b[0m \u001b[0;34m=\u001b[0m \u001b[0;36m10000\u001b[0m\u001b[0;34m\u001b[0m\u001b[0m\n",
      "\u001b[0;31mTypeError\u001b[0m: <lambda>() got multiple values for keyword argument 'allow_pickle'"
     ]
    }
   ],
   "source": [
    "from keras.datasets import imdb \n",
    "from keras.preprocessing import sequence \n",
    "import numpy as np \n",
    "np_load_old = np.load\n",
    "\n",
    "# modify the default parameters of np.load\n",
    "np.load = lambda *a,**k: np_load_old(*a, allow_pickle=True, **k)\n",
    "\n",
    "max_words = 10000\n",
    "maxlen = 500\n",
    "batch_size = 32 \n",
    "\n",
    "print('데이터 로딩...')\n",
    "\n",
    "(tr_x, tr_y), (tt_x, tty ) = imdb.load_data(num_words = max_words)\n",
    "print(len(tr_x), 'training data')\n",
    "print(len(tt_x), 'test data')\n",
    "\n",
    "print( tr_x[0])"
   ]
  },
  {
   "cell_type": "code",
   "execution_count": 11,
   "metadata": {
    "colab": {
     "base_uri": "https://localhost:8080/",
     "height": 35
    },
    "colab_type": "code",
    "executionInfo": {
     "elapsed": 1040,
     "status": "ok",
     "timestamp": 1574360750728,
     "user": {
      "displayName": "곽주현",
      "photoUrl": "https://lh3.googleusercontent.com/a-/AAuE7mDKADRkjAue22jQZ0tbpT8CTigoe6Q2x8tAwiX_vw=s64",
      "userId": "06858660176960210174"
     },
     "user_tz": -540
    },
    "id": "p6B4zJftFPz9",
    "outputId": "ec94c58f-5f27-47b0-b72b-e89df8b7dd3a"
   },
   "outputs": [
    {
     "name": "stdout",
     "output_type": "stream",
     "text": [
      "(25000,) (25000,)\n"
     ]
    }
   ],
   "source": [
    "print(tr_x.shape, tr_y.shape)"
   ]
  },
  {
   "cell_type": "markdown",
   "metadata": {
    "colab_type": "text",
    "id": "Nuami-ZttXlA"
   },
   "source": [
    "리뷰데이터는 자주 등장하는 만개의 단어에 대해 코드를 부여해 이 코드리스트의 배열로 표현된 구조이다. 이들은 각각 가변배열이나 설사 rnn이라 할지라도 이를 대량으로 입력하기 위해서는 길이를 맞출 필요가 있다. 다음은 짧은 리뷰 앞에 padding code 인 0 을 넣어줌으로서 최대 길이(maxlen)에 맞춰 변환해준다. "
   ]
  },
  {
   "cell_type": "code",
   "execution_count": 12,
   "metadata": {
    "colab": {
     "base_uri": "https://localhost:8080/",
     "height": 161
    },
    "colab_type": "code",
    "executionInfo": {
     "elapsed": 1361,
     "status": "ok",
     "timestamp": 1574822445443,
     "user": {
      "displayName": "곽주현",
      "photoUrl": "https://lh3.googleusercontent.com/a-/AAuE7mDKADRkjAue22jQZ0tbpT8CTigoe6Q2x8tAwiX_vw=s64",
      "userId": "06858660176960210174"
     },
     "user_tz": -540
    },
    "id": "7IPj-ZYVExol",
    "outputId": "aa74a53a-e0b2-4b32-f776-7104e862bff0"
   },
   "outputs": [
    {
     "name": "stdout",
     "output_type": "stream",
     "text": [
      "(25000, 500)\n",
      "[[   0    0    0 ...   19  178   32]\n",
      " [   0    0    0 ...   16  145   95]\n",
      " [   0    0    0 ...    7  129  113]\n",
      " ...\n",
      " [   0    0    0 ...    4 3586    2]\n",
      " [   0    0    0 ...   12    9   23]\n",
      " [   0    0    0 ...  204  131    9]]\n"
     ]
    }
   ],
   "source": [
    "x = sequence.pad_sequences(tr_x, maxlen=maxlen)\n",
    "print(x.shape)\n",
    "print(x)"
   ]
  },
  {
   "cell_type": "markdown",
   "metadata": {
    "colab_type": "text",
    "id": "Eu9fQPAAvgpJ"
   },
   "source": [
    "이제 이를 입력화 시키는데.. 단어를 19, 18같은 수치로 표현하는 것은 신경망의 입력으로 적합하지 안다. \n",
    "19,18 번 단어와 19, 1800번 단어는 단지 서로 다른 두 단어일 뿐임에도 이를 바로 입력으로 넣으면 19와 18은 거의 유사한 단어로 취급되고 19와 1800은 극단적으로 먼 단어로 취급된다. 이런 문제를 해결하기 위해 텍스트 단어의 입력시에는 Embedding 이라는 레이어를 사용한다. \n",
    "\n",
    "이는 각 단어들을 n개 비트의조합 코드로 변환하여 신경망의 입력에 적합하게 재조정해주는 레이어이다. 그 변환방식은 텍스트 프로세싱분야에서 오랫동안 개발되어온 방식이고 수학적인 개념이 좀 복잡하므로 자세한 사항은 여기선 생략도록 하겠다. \n",
    "\n"
   ]
  },
  {
   "cell_type": "code",
   "execution_count": 2,
   "metadata": {
    "colab": {
     "base_uri": "https://localhost:8080/",
     "height": 107
    },
    "colab_type": "code",
    "executionInfo": {
     "elapsed": 1045,
     "status": "ok",
     "timestamp": 1574822856324,
     "user": {
      "displayName": "곽주현",
      "photoUrl": "https://lh3.googleusercontent.com/a-/AAuE7mDKADRkjAue22jQZ0tbpT8CTigoe6Q2x8tAwiX_vw=s64",
      "userId": "06858660176960210174"
     },
     "user_tz": -540
    },
    "id": "bBpek-TuLvGW",
    "outputId": "842e7e57-7ecb-4e82-8fc3-e7575c0b26ce"
   },
   "outputs": [
    {
     "name": "stderr",
     "output_type": "stream",
     "text": [
      "Using TensorFlow backend.\n",
      "/usr/local/lib/python3.5/dist-packages/tensorflow/python/framework/dtypes.py:519: FutureWarning: Passing (type, 1) or '1type' as a synonym of type is deprecated; in a future version of numpy, it will be understood as (type, (1,)) / '(1,)type'.\n",
      "  _np_qint8 = np.dtype([(\"qint8\", np.int8, 1)])\n",
      "/usr/local/lib/python3.5/dist-packages/tensorflow/python/framework/dtypes.py:520: FutureWarning: Passing (type, 1) or '1type' as a synonym of type is deprecated; in a future version of numpy, it will be understood as (type, (1,)) / '(1,)type'.\n",
      "  _np_quint8 = np.dtype([(\"quint8\", np.uint8, 1)])\n",
      "/usr/local/lib/python3.5/dist-packages/tensorflow/python/framework/dtypes.py:521: FutureWarning: Passing (type, 1) or '1type' as a synonym of type is deprecated; in a future version of numpy, it will be understood as (type, (1,)) / '(1,)type'.\n",
      "  _np_qint16 = np.dtype([(\"qint16\", np.int16, 1)])\n",
      "/usr/local/lib/python3.5/dist-packages/tensorflow/python/framework/dtypes.py:522: FutureWarning: Passing (type, 1) or '1type' as a synonym of type is deprecated; in a future version of numpy, it will be understood as (type, (1,)) / '(1,)type'.\n",
      "  _np_quint16 = np.dtype([(\"quint16\", np.uint16, 1)])\n",
      "/usr/local/lib/python3.5/dist-packages/tensorflow/python/framework/dtypes.py:523: FutureWarning: Passing (type, 1) or '1type' as a synonym of type is deprecated; in a future version of numpy, it will be understood as (type, (1,)) / '(1,)type'.\n",
      "  _np_qint32 = np.dtype([(\"qint32\", np.int32, 1)])\n",
      "/usr/local/lib/python3.5/dist-packages/tensorflow/python/framework/dtypes.py:528: FutureWarning: Passing (type, 1) or '1type' as a synonym of type is deprecated; in a future version of numpy, it will be understood as (type, (1,)) / '(1,)type'.\n",
      "  np_resource = np.dtype([(\"resource\", np.ubyte, 1)])\n"
     ]
    },
    {
     "ename": "NameError",
     "evalue": "name 'max_words' is not defined",
     "output_type": "error",
     "traceback": [
      "\u001b[0;31m---------------------------------------------------------------------------\u001b[0m",
      "\u001b[0;31mNameError\u001b[0m                                 Traceback (most recent call last)",
      "\u001b[0;32m<ipython-input-2-d9ce86d942cb>\u001b[0m in \u001b[0;36m<module>\u001b[0;34m\u001b[0m\n\u001b[1;32m      5\u001b[0m \u001b[0mkeras\u001b[0m\u001b[0;34m.\u001b[0m\u001b[0mbackend\u001b[0m\u001b[0;34m.\u001b[0m\u001b[0mclear_session\u001b[0m\u001b[0;34m(\u001b[0m\u001b[0;34m)\u001b[0m\u001b[0;34m\u001b[0m\u001b[0m\n\u001b[1;32m      6\u001b[0m \u001b[0mmodel\u001b[0m \u001b[0;34m=\u001b[0m \u001b[0mSequential\u001b[0m\u001b[0;34m(\u001b[0m\u001b[0;34m)\u001b[0m\u001b[0;34m\u001b[0m\u001b[0m\n\u001b[0;32m----> 7\u001b[0;31m \u001b[0mmodel\u001b[0m\u001b[0;34m.\u001b[0m\u001b[0madd\u001b[0m\u001b[0;34m(\u001b[0m\u001b[0mEmbedding\u001b[0m\u001b[0;34m(\u001b[0m\u001b[0mmax_words\u001b[0m\u001b[0;34m,\u001b[0m \u001b[0;36m32\u001b[0m\u001b[0;34m)\u001b[0m\u001b[0;34m)\u001b[0m\u001b[0;34m\u001b[0m\u001b[0m\n\u001b[0m\u001b[1;32m      8\u001b[0m \u001b[0mmodel\u001b[0m\u001b[0;34m.\u001b[0m\u001b[0madd\u001b[0m\u001b[0;34m(\u001b[0m\u001b[0mSimpleRNN\u001b[0m\u001b[0;34m(\u001b[0m\u001b[0;36m32\u001b[0m\u001b[0;34m)\u001b[0m\u001b[0;34m)\u001b[0m\u001b[0;34m\u001b[0m\u001b[0m\n\u001b[1;32m      9\u001b[0m \u001b[0mmodel\u001b[0m\u001b[0;34m.\u001b[0m\u001b[0madd\u001b[0m\u001b[0;34m(\u001b[0m\u001b[0mDropout\u001b[0m\u001b[0;34m(\u001b[0m\u001b[0;36m0.5\u001b[0m\u001b[0;34m)\u001b[0m\u001b[0;34m)\u001b[0m\u001b[0;34m\u001b[0m\u001b[0m\n",
      "\u001b[0;31mNameError\u001b[0m: name 'max_words' is not defined"
     ]
    }
   ],
   "source": [
    "import keras\n",
    "from keras.models import Sequential\n",
    "from keras.layers import Embedding, SimpleRNN, Dense, LSTM, Dropout\n",
    "\n",
    "keras.backend.clear_session()\n",
    "model = Sequential()\n",
    "model.add(Embedding(max_words, 32))\n",
    "model.add(SimpleRNN(32))\n",
    "model.add(Dropout(0.5))\n",
    "model.add(Dense(1, activation='sigmoid'))\n",
    "\n",
    "model.compile(optimizer='rmsprop', loss = 'binary_crossentropy', metrics=['acc'])"
   ]
  },
  {
   "cell_type": "markdown",
   "metadata": {
    "colab_type": "text",
    "id": "Rxwaa3CywL-Y"
   },
   "source": [
    "이제 이를 작동시켜보면 다음과 같은 결과를 얻을 수 있다.  이 방식은 단어들의 순서를 고려하므로 단순 단어의 출현여부만 갖고 처리하던 단순신경망에 비해 더 나은 적합도를 보인다. "
   ]
  },
  {
   "cell_type": "code",
   "execution_count": 1,
   "metadata": {
    "colab": {
     "base_uri": "https://localhost:8080/",
     "height": 395
    },
    "colab_type": "code",
    "executionInfo": {
     "elapsed": 353227,
     "status": "ok",
     "timestamp": 1574823212221,
     "user": {
      "displayName": "곽주현",
      "photoUrl": "https://lh3.googleusercontent.com/a-/AAuE7mDKADRkjAue22jQZ0tbpT8CTigoe6Q2x8tAwiX_vw=s64",
      "userId": "06858660176960210174"
     },
     "user_tz": -540
    },
    "id": "DWDh11hOMYAH",
    "outputId": "7aec85e9-f24b-48a2-85e8-60b1edc47ac3"
   },
   "outputs": [
    {
     "ename": "NameError",
     "evalue": "name 'model' is not defined",
     "output_type": "error",
     "traceback": [
      "\u001b[0;31m---------------------------------------------------------------------------\u001b[0m",
      "\u001b[0;31mNameError\u001b[0m                                 Traceback (most recent call last)",
      "\u001b[0;32m<ipython-input-1-b914b78ab0f9>\u001b[0m in \u001b[0;36m<module>\u001b[0;34m\u001b[0m\n\u001b[0;32m----> 1\u001b[0;31m \u001b[0mhistory\u001b[0m \u001b[0;34m=\u001b[0m \u001b[0mmodel\u001b[0m\u001b[0;34m.\u001b[0m\u001b[0mfit\u001b[0m\u001b[0;34m(\u001b[0m\u001b[0mx\u001b[0m\u001b[0;34m,\u001b[0m \u001b[0mtr_y\u001b[0m\u001b[0;34m,\u001b[0m \u001b[0mepochs\u001b[0m \u001b[0;34m=\u001b[0m \u001b[0;36m10\u001b[0m\u001b[0;34m,\u001b[0m \u001b[0mbatch_size\u001b[0m \u001b[0;34m=\u001b[0m \u001b[0;36m1024\u001b[0m\u001b[0;34m,\u001b[0m \u001b[0mvalidation_split\u001b[0m\u001b[0;34m=\u001b[0m\u001b[0;36m0.2\u001b[0m \u001b[0;34m)\u001b[0m\u001b[0;34m.\u001b[0m\u001b[0mhistory\u001b[0m\u001b[0;34m\u001b[0m\u001b[0m\n\u001b[0m",
      "\u001b[0;31mNameError\u001b[0m: name 'model' is not defined"
     ]
    }
   ],
   "source": [
    "history = model.fit(x, tr_y, epochs = 10, batch_size = 1024, validation_split=0.2 ).history"
   ]
  },
  {
   "cell_type": "code",
   "execution_count": 16,
   "metadata": {
    "colab": {
     "base_uri": "https://localhost:8080/",
     "height": 513
    },
    "colab_type": "code",
    "executionInfo": {
     "elapsed": 1617,
     "status": "ok",
     "timestamp": 1574362697732,
     "user": {
      "displayName": "곽주현",
      "photoUrl": "https://lh3.googleusercontent.com/a-/AAuE7mDKADRkjAue22jQZ0tbpT8CTigoe6Q2x8tAwiX_vw=s64",
      "userId": "06858660176960210174"
     },
     "user_tz": -540
    },
    "id": "TW0oPnUROzoU",
    "outputId": "4cee9290-f7c8-4993-e8e2-9e003e42e83a"
   },
   "outputs": [
    {
     "data": {
      "image/png": "[encoded data removed]",
      "text/plain": [
       "<Figure size 432x288 with 1 Axes>"
      ]
     },
     "metadata": {
      "needs_background": "light"
     },
     "output_type": "display_data"
    },
    {
     "data": {
      "image/png": "[encoded data removed]",
      "text/plain": [
       "<Figure size 432x288 with 1 Axes>"
      ]
     },
     "metadata": {
      "needs_background": "light"
     },
     "output_type": "display_data"
    }
   ],
   "source": [
    "import matplotlib.pyplot as plt\n",
    "plt.plot(history['loss'], label = 'loss')            \n",
    "plt.plot(history['val_loss'], label = 'val_loss')\n",
    "plt.legend()\n",
    "plt.show()\n",
    "\n",
    "plt.plot(history['acc'], label = 'acc')            \n",
    "plt.plot(history['val_acc'], label = 'val_acc')\n",
    "plt.legend()\n",
    "plt.show()\n"
   ]
  },
  {
   "cell_type": "markdown",
   "metadata": {
    "colab_type": "text",
    "id": "8U41iOKNwm2a"
   },
   "source": [
    "### <font color = 'red'> 연습문제 7-2 : LSTM 으로 IMDB 다루기\n",
    "위의 예제 노드를 LSTM으로 변경하여 처리하고 그 결과를 비교해보자. \n",
    "\n"
   ]
  },
  {
   "cell_type": "code",
   "execution_count": 0,
   "metadata": {
    "colab": {},
    "colab_type": "code",
    "id": "_fPsgZh_w1Lx"
   },
   "outputs": [],
   "source": []
  }
 ],
 "metadata": {
  "accelerator": "GPU",
  "colab": {
   "name": "ch7 rnn.ipynb",
   "provenance": []
  },
  "kernelspec": {
   "display_name": "Python 3",
   "language": "python",
   "name": "python3"
  },
  "language_info": {
   "codemirror_mode": {
    "name": "ipython",
    "version": 3
   },
   "file_extension": ".py",
   "mimetype": "text/x-python",
   "name": "python",
   "nbconvert_exporter": "python",
   "pygments_lexer": "ipython3",
   "version": "3.5.2"
  }
 },
 "nbformat": 4,
 "nbformat_minor": 1
}
